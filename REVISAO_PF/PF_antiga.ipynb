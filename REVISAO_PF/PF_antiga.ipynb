{
  "nbformat": 4,
  "nbformat_minor": 0,
  "metadata": {
    "colab": {
      "provenance": [],
      "gpuType": "T4"
    },
    "kernelspec": {
      "name": "python3",
      "display_name": "Python 3"
    },
    "language_info": {
      "name": "python"
    },
    "accelerator": "GPU",
    "gpuClass": "standard"
  },
  "cells": [
    {
      "cell_type": "markdown",
      "source": [
        "Questão nro. 1 (2 pontos):\n",
        "Implemente um programa em C++ que gere n números aleatórios inteiros (entre 1 e 999), populando\n",
        "um vetor. Fazendo uso de OpenMP, calcule a média e desvio padrão dos elementos deste vetor. Você deve\n",
        "testar para n grandes, produzindo um gráfico onde X é o tamanho de n e Y é o tempo de execução. Teste\n",
        "também seu programa para rodar com 2, 3, 5, 7 e 9 threads, avaliando o desempenho.\n",
        "Entregue o código-fonte, o gráfico gerado e comentários sobre o desempenho conforme o número de\n",
        "threads foi sendo modificado."
      ],
      "metadata": {
        "id": "FL4xf2vc9Gdx"
      }
    },
    {
      "cell_type": "code",
      "source": [
        "%%writefile media_desvio.cpp\n",
        "#include <iostream>\n",
        "#include <stdlib.h>\n",
        "#include <chrono>\n",
        "#include <random>\n",
        "#include <vector>\n",
        "#include <omp.h>\n",
        "using namespace std;\n",
        "\n",
        "int main(int argc, char* argv[]) {\n",
        "    int n = atoi(argv[1]);\n",
        "\n",
        "    unsigned seed = chrono::system_clock::now().time_since_epoch().count();\n",
        "    default_random_engine generator(42);\n",
        "\n",
        "    uniform_int_distribution<int> gerador(1, 999);\n",
        "\n",
        "    vector<int> numeros_aleatorios(n);\n",
        "\n",
        "    omp_set_num_threads(9);\n",
        "\n",
        "    for (int i = 0; i < n; i++) {\n",
        "        numeros_aleatorios[i] = gerador(generator);\n",
        "        //cout << \"Aqui: \" << numeros_aleatorios[i] << endl;\n",
        "    }\n",
        "\n",
        "\n",
        "    int total_sum = 0;\n",
        "    //#pragma omp parallel for num_threads(4) reduction(+ : total_sum)\n",
        "    #pragma omp parallel for reduction(+ : total_sum)\n",
        "    for (int i = 0; i < n; i++){\n",
        "      total_sum += numeros_aleatorios[i];\n",
        "    }\n",
        "\n",
        "    double media = total_sum/n;\n",
        "\n",
        "    double soma_local_dp = 0;\n",
        "    #pragma omp parallel for reduction(+ : soma_local_dp)\n",
        "    for (int i = 0; i < n; i++){\n",
        "      double elemento = numeros_aleatorios[i] - media;\n",
        "      soma_local_dp += pow(elemento,2);\n",
        "    }    \n",
        "\n",
        "    double std = std::sqrt(soma_local_dp/n);\n",
        "    cout << \"Desvio: \" << std;\n",
        "\n",
        "    return 0;\n",
        "}"
      ],
      "metadata": {
        "colab": {
          "base_uri": "https://localhost:8080/"
        },
        "id": "rhMpeoHO9Hwc",
        "outputId": "ab244fc6-0e3c-4d16-c140-0429faf1afd8"
      },
      "execution_count": null,
      "outputs": [
        {
          "output_type": "stream",
          "name": "stdout",
          "text": [
            "Writing media_desvio.cpp\n"
          ]
        }
      ]
    },
    {
      "cell_type": "code",
      "source": [
        "!g++ -Wall -O3 -fopenmp -g media_desvio.cpp -o media_desvio"
      ],
      "metadata": {
        "colab": {
          "base_uri": "https://localhost:8080/"
        },
        "id": "w8wqEZRJ-pKr",
        "outputId": "04c17b9a-d3a8-4483-f138-d3e61a47281c"
      },
      "execution_count": null,
      "outputs": [
        {
          "output_type": "stream",
          "name": "stdout",
          "text": [
            "\u001b[01m\u001b[Kmedia_desvio.cpp:\u001b[m\u001b[K In function ‘\u001b[01m\u001b[Kint main(int, char**)\u001b[m\u001b[K’:\n",
            "\u001b[01m\u001b[Kmedia_desvio.cpp:12:14:\u001b[m\u001b[K \u001b[01;35m\u001b[Kwarning: \u001b[m\u001b[Kunused variable ‘\u001b[01m\u001b[Kseed\u001b[m\u001b[K’ [\u001b[01;35m\u001b[K-Wunused-variable\u001b[m\u001b[K]\n",
            "   12 |     unsigned \u001b[01;35m\u001b[Kseed\u001b[m\u001b[K = chrono::system_clock::now().time_since_epoch().count();\n",
            "      |              \u001b[01;35m\u001b[K^~~~\u001b[m\u001b[K\n"
          ]
        }
      ]
    },
    {
      "cell_type": "code",
      "source": [
        "!./media_desvio 100000000000"
      ],
      "metadata": {
        "colab": {
          "base_uri": "https://localhost:8080/"
        },
        "id": "85mguN13_LdH",
        "outputId": "8e85055e-0c59-48c1-af94-12c6d218f33b"
      },
      "execution_count": null,
      "outputs": [
        {
          "output_type": "stream",
          "name": "stdout",
          "text": [
            "Desvio: 578.068"
          ]
        }
      ]
    },
    {
      "cell_type": "code",
      "source": [
        "#35 578.068 sem openmp\n",
        "#32 segundos 100000000000 com open\n",
        "\n",
        "#com 9 threads"
      ],
      "metadata": {
        "id": "KwFBbAUDAPhJ"
      },
      "execution_count": null,
      "outputs": []
    },
    {
      "cell_type": "markdown",
      "source": [
        "Questão nro. 2 (4 pontos): Em nossas aulas tivemos a oportunidade de executar o problema Saxpy com a biblioteca Thrust. Você pode encontrar o código executado em aula neste endereço: https://insper.github.io/supercomp/aulas/16-gpu-customizacao/.\n",
        "\n",
        "Sua tarefa:\n",
        "\n",
        "1. Implemente uma versão do Saxpy com OpenMP (8 threads por padrão). [2 pontos]\n",
        "\n",
        "2. Execute a versão com OpenMP e a versão em GPU. Compare os tempos de execução. No caso da GPU ser mais rápida, busque aumentar o número de threads do OpenMP (até um limite de 32). O tempo de execução do OpenMP melhorou? Justifique também caso OpenMP esteja sendo mais rápido que GPU. Há algo relacionado a movimentação de dados entre CPU e GPU? [2 pontos]"
      ],
      "metadata": {
        "id": "R5pNRDCWD0ba"
      }
    },
    {
      "cell_type": "code",
      "source": [
        "%%writefile saxpy.cpp\n",
        "#include <iostream>\n",
        "#include <stdlib.h>\n",
        "#include <chrono>\n",
        "#include <random>\n",
        "#include <vector>\n",
        "#include <omp.h>\n",
        " #include <cstdlib>\n",
        " #include <algorithm>\n",
        " #include <iomanip>\n",
        "using namespace std;\n",
        "\n",
        "int main(int argc, char* argv[]) {\n",
        "    auto t_start = std::chrono::high_resolution_clock::now();\n",
        "    int n = atoi(argv[1]);\n",
        "    int m = atoi(argv[2]);\n",
        "\n",
        "    unsigned seed = chrono::system_clock::now().time_since_epoch().count();\n",
        "    default_random_engine generator(42);\n",
        "\n",
        "    uniform_int_distribution<int> gerador(1, 999);\n",
        "\n",
        "    vector<int> a(n, 0);\n",
        "    vector<int> b(n, 0);\n",
        "    vector<int> c(n, 0);\n",
        "\n",
        "\n",
        "    omp_set_num_threads(4);\n",
        "\n",
        "    #pragma omp parallel\n",
        "    for (int i = 0; i < n; i++) {\n",
        "        a[i] = rand(); //gerador(generator);\n",
        "        b[i] = rand();\n",
        "        //cout << \"Aqui1: \" << a[i] << endl;\n",
        "        //cout << \"Aqui2: \" << b[i] << endl;\n",
        "    }\n",
        "\n",
        "    int sum = 0;\n",
        "    #pragma omp parallel for reduction(+ : sum)\n",
        "    // pragma omp parallel for shared(c)\n",
        "    for (int i = 0; i < n; i++){\n",
        "      sum = m*(a[i]+b[i]);\n",
        "      c[i] = sum;\n",
        "    }\n",
        "\n",
        "    for (int i = 0; i < n; i++ ){\n",
        "         cout << setw(6) << c[i] << \" = \" \n",
        "          << setw(2) << m\n",
        "          << \"*\" << setw(5) << a[i]\n",
        "          << \"+\" << setw(5) << b[i]\n",
        "          << endl;\n",
        "\n",
        "    }\n",
        "\n",
        "    auto t_end = std::chrono::high_resolution_clock::now();\n",
        "\n",
        "    double elapsed_time_ms = std::chrono::duration<double, std::milli>(t_end-t_start).count();\n",
        "    double elapsed_time_s = elapsed_time_ms/1000;\n",
        "    std::cout << \"Tempo de execução: \" << elapsed_time_s << \" s\" << std::endl;\n",
        "\n",
        "    return 0;\n",
        "}"
      ],
      "metadata": {
        "colab": {
          "base_uri": "https://localhost:8080/"
        },
        "id": "-3EDRUGqD_iK",
        "outputId": "5b490f22-ed9c-4b75-a96e-c488e51c8233"
      },
      "execution_count": null,
      "outputs": [
        {
          "output_type": "stream",
          "name": "stdout",
          "text": [
            "Overwriting saxpy.cpp\n"
          ]
        }
      ]
    },
    {
      "cell_type": "code",
      "source": [
        "!g++ -Wall -O3 -fopenmp -g saxpy.cpp -o saxpy_cpp"
      ],
      "metadata": {
        "colab": {
          "base_uri": "https://localhost:8080/"
        },
        "id": "wc567CU4G0nt",
        "outputId": "9e2d5e0d-d367-4986-bf14-5f39612e7b9a"
      },
      "execution_count": null,
      "outputs": [
        {
          "output_type": "stream",
          "name": "stdout",
          "text": [
            "\u001b[01m\u001b[Ksaxpy.cpp:\u001b[m\u001b[K In function ‘\u001b[01m\u001b[Kint main(int, char**)\u001b[m\u001b[K’:\n",
            "\u001b[01m\u001b[Ksaxpy.cpp:17:14:\u001b[m\u001b[K \u001b[01;35m\u001b[Kwarning: \u001b[m\u001b[Kunused variable ‘\u001b[01m\u001b[Kseed\u001b[m\u001b[K’ [\u001b[01;35m\u001b[K-Wunused-variable\u001b[m\u001b[K]\n",
            "   17 |     unsigned \u001b[01;35m\u001b[Kseed\u001b[m\u001b[K = chrono::system_clock::now().time_since_epoch().count();\n",
            "      |              \u001b[01;35m\u001b[K^~~~\u001b[m\u001b[K\n"
          ]
        }
      ]
    },
    {
      "cell_type": "code",
      "source": [
        "!./saxpy_cpp 3 10"
      ],
      "metadata": {
        "colab": {
          "base_uri": "https://localhost:8080/"
        },
        "id": "larYAgxbG6Zi",
        "outputId": "658e4fb0-adac-400a-b36e-367ec2d4dedd"
      },
      "execution_count": null,
      "outputs": [
        {
          "output_type": "stream",
          "name": "stdout",
          "text": [
            "-1104420104 = 10*304089172+1303455736\n",
            "1271038494 = 10*35005211+521595368\n",
            "-1258246520 = 10*294702567+1726956429\n",
            "Tempo de execução: 0.0033827 s\n"
          ]
        }
      ]
    },
    {
      "cell_type": "markdown",
      "source": [
        "Esperado:\n",
        "\n",
        "```\n",
        "Aqui: 1\n",
        "Aqui: 525\n",
        "Aqui: 735\n",
        "Aqui: 264\n",
        "Aqui: 376\n",
        "Aqui: 197\n",
        "  1578 =  3*    1+  525\n",
        "  2997 =  3*  735+  264\n",
        "  1719 =  3*  376+  197\n",
        "```\n",
        "\n"
      ],
      "metadata": {
        "id": "gCGCva-BHdSV"
      }
    },
    {
      "cell_type": "code",
      "source": [
        "#include <thrust/host_vector.h>\n",
        " #include <thrust/device_vector.h>\n",
        " #include <thrust/generate.h>\n",
        " #include <thrust/functional.h>\n",
        " #include <thrust/copy.h>\n",
        " #include <cstdlib>\n",
        " #include <algorithm>\n",
        " #include <iostream>\n",
        " #include <iomanip>\n",
        "\n",
        " using namespace  std;\n",
        "\n",
        "struct saxpy\n",
        "{\n",
        "    int a;    \n",
        "    saxpy(int a_) : a(a_) {};\n",
        "    __host__ __device__\n",
        "    double operator()(const int& x, const int& y) {\n",
        "           return a * x + y;\n",
        "    }\n",
        "};\n",
        "\n",
        "int main(int argc, char* argv[]) {\n",
        "     if (argc != 3) {\n",
        "         cerr <<\n",
        "          \"***Numero incorreto de argumentos ***\\n\";\n",
        "         return 1;\n",
        "     }\n",
        "\n",
        "     int n = atoi(argv[1]);\n",
        "     int m = atoi(argv[2]);\n",
        "\n",
        "     //gerar numeros aleatorios\n",
        "     thrust::host_vector<int> a(n);\n",
        "     thrust::host_vector<int> b(n);\n",
        "     thrust::host_vector<int> c(n);\n",
        "     thrust::generate(a.begin(), a.end(), rand);\n",
        "     thrust::generate(b.begin(), b.end(), rand);\n",
        "\n",
        "     //transferimos para a GPU\n",
        "     thrust::device_vector<int> d_a = a;\n",
        "     thrust::device_vector<int> d_b = b;\n",
        "\n",
        "     //transformacao\n",
        "\n",
        "     thrust::transform(d_a.begin(), d_a.end(),\n",
        "                       d_b.begin(), d_b.end(),\n",
        "                       saxpy(m));\n",
        "\n",
        "     thrust::copy(d_b.begin(), d_b.end(),\n",
        "     c.begin()); \n",
        "\n",
        "     for (int i = 0; i < n; i++ )\n",
        "         cout << setw(6) << c[i] << \" = \" \n",
        "          << setw(2) << m\n",
        "          << \"*\" << setw(5) << a[i]\n",
        "          << \"+\" << setw(5) << b[i]\n",
        "          << endl;\n",
        "\n",
        "}"
      ],
      "metadata": {
        "colab": {
          "base_uri": "https://localhost:8080/"
        },
        "id": "X4pO2fLCFjii",
        "outputId": "fdca974d-d5b8-4eed-8bfd-13f98be2840c"
      },
      "execution_count": null,
      "outputs": [
        {
          "output_type": "stream",
          "name": "stdout",
          "text": [
            "Overwriting saxpy_cu.cu\n"
          ]
        }
      ]
    },
    {
      "cell_type": "code",
      "source": [
        "!nvcc saxpy_cu.cu -o saxpy_cu"
      ],
      "metadata": {
        "id": "yG6BKaA-FrO9"
      },
      "execution_count": null,
      "outputs": []
    },
    {
      "cell_type": "code",
      "source": [
        "!./saxpy_cu 3 10"
      ],
      "metadata": {
        "colab": {
          "base_uri": "https://localhost:8080/"
        },
        "id": "I5Q-RMGFFu6J",
        "outputId": "13bf4669-b86d-4477-ee78-55f4ed7f0042"
      },
      "execution_count": null,
      "outputs": [
        {
          "output_type": "stream",
          "name": "stdout",
          "text": [
            "1714636915 = 10*1804289383+1714636915\n",
            "1957747793 = 10*846930886+1957747793\n",
            "424238335 = 10*1681692777+424238335\n",
            "Tempo de execução: 0.224654 s\n"
          ]
        }
      ]
    },
    {
      "cell_type": "markdown",
      "source": [
        "Questão nro. 3 (2 pontos): Implemente a versão do código abaixo com Thrust. Atente-se ao tratamento\n",
        "adequado para a geração de números aleatórios. Você deve usar, obrigatoriamente, a implementação\n",
        "transform-reduce da biblioteca Thrust, disponı́vel em https://tinyurl.com/3namnuhv\n",
        "\n",
        "\n",
        "critical - varias threads tentando acessar a posição 2"
      ],
      "metadata": {
        "id": "YHssXcP5NYDW"
      }
    },
    {
      "cell_type": "code",
      "source": [
        " %%writefile pi.cu\n",
        "#include <chrono>\n",
        "#include <random>\n",
        "#include <vector>\n",
        "#include <cstdlib>\n",
        "#include <algorithm>\n",
        "#include <iostream>\n",
        "#include <iomanip>\n",
        "#include <thrust/host_vector.h>\n",
        "#include <thrust/device_vector.h>\n",
        "#include <thrust/generate.h>\n",
        "#include <thrust/functional.h>\n",
        "#include <thrust/copy.h>\n",
        "\n",
        "struct square_sum {\n",
        "    // não tem parametro interno, então não precisa nem de construtor de copia\n",
        "    __host__ __device__\n",
        "    double operator()(const double &x, const double &y)  { // não é o x vetor, é a coordenada do vetor, só um ponto\n",
        "        return x * x + y * y;\n",
        "    }\n",
        "};\n",
        "\n",
        "struct greater_than_one {\n",
        "    // não tem parametro interno, então não precisa nem de construtor de copia\n",
        "    __host__ __device__\n",
        "    double operator()(double num)  { // não é o x vetor, é a coordenada do vetor, só um ponto\n",
        "        return num <= 1 ? 1 : 0;\n",
        "    }\n",
        "};\n",
        "\n",
        "int main(){\n",
        "  long N = 100000000L;\n",
        "  long sum = 0;\n",
        "\n",
        "  thrust::host_vector<double> x(N);\n",
        "  thrust::host_vector<double> y(N);\n",
        "  thrust::generate(x.begin(), x.end(), rand);\n",
        "  thrust::generate(y.begin(), y.end(), rand);\n",
        "\n",
        "  thrust::transform(x.begin(), x.end(), y.begin(), x.begin(),square_sum()); //passa incio do x e end dele, o y, mas o resultado vai ser armazenado no x\n",
        "  double pi = 4.0*thrust::transform_reduce(x.begin(), x.end(), greater_than_one(), 0, thrust::plus<double>())/(double)N;\n",
        "  std::cout << \"Pi is: \" << pi << std::endl;\n",
        "\n",
        "  return 0;\n",
        "}\n",
        "\n"
      ],
      "metadata": {
        "colab": {
          "base_uri": "https://localhost:8080/"
        },
        "id": "hVJxux6wNYk3",
        "outputId": "f054e3d2-f63a-427d-a5a1-6a071aa311db"
      },
      "execution_count": null,
      "outputs": [
        {
          "output_type": "stream",
          "name": "stdout",
          "text": [
            "Overwriting pi.cu\n"
          ]
        }
      ]
    },
    {
      "cell_type": "code",
      "source": [
        "!nvcc pi.cu -o pi"
      ],
      "metadata": {
        "colab": {
          "base_uri": "https://localhost:8080/"
        },
        "id": "Dfb1rKuSTFot",
        "outputId": "b4693964-c63f-4e22-94fa-eb207e5266f1"
      },
      "execution_count": null,
      "outputs": [
        {
          "output_type": "stream",
          "name": "stdout",
          "text": [
            "\u001b[01m\u001b[0m\u001b[01mpi.cu(32)\u001b[0m: \u001b[01;35mwarning\u001b[0m #177-D: variable \u001b[01m\"sum\"\u001b[0m was declared but never referenced\n",
            "\n"
          ]
        }
      ]
    },
    {
      "cell_type": "code",
      "source": [
        "!./pi "
      ],
      "metadata": {
        "colab": {
          "base_uri": "https://localhost:8080/"
        },
        "id": "C9cONuHMTJSi",
        "outputId": "1168cfec-adb9-4fa0-872f-2e411089e875"
      },
      "execution_count": null,
      "outputs": [
        {
          "output_type": "stream",
          "name": "stdout",
          "text": [
            "Pi is: 0\n"
          ]
        }
      ]
    },
    {
      "cell_type": "code",
      "source": [],
      "metadata": {
        "id": "LAhOeSRiToWP"
      },
      "execution_count": null,
      "outputs": []
    }
  ]
}