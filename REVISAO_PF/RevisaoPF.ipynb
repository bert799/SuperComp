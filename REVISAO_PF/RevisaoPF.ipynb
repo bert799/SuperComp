{
  "nbformat": 4,
  "nbformat_minor": 0,
  "metadata": {
    "colab": {
      "provenance": [],
      "gpuType": "T4"
    },
    "kernelspec": {
      "name": "python3",
      "display_name": "Python 3"
    },
    "language_info": {
      "name": "python"
    }
  },
  "cells": [
    {
      "cell_type": "markdown",
      "source": [
        "#REVISÃO DE TODAS AS AULAS APÓS A PF\n",
        "\n",
        "## Índice :\n",
        "\n",
        ">[AULA 10 - PARALELISMO](#scrollTo=XNTT1vU_qIS8)\n",
        "\n",
        ">[AULA 11 - Scheduling e Efeitos Colaterais](#scrollTo=Fszm8Q1Udii5)\n",
        "\n",
        ">[AULA 12 - Efeitos colaterais II](#scrollTo=_nuH9BT8y8sy)\n",
        "\n",
        ">[AULA 13 e 14 - Introdução a GPU e Iteradores](#scrollTo=wOs2F6FC1Dc7)\n",
        "\n",
        ">[AULA 15 - Thrust - Operações customizadas](#scrollTo=U9sOGCBe3JVR)\n",
        "\n",
        ">[AULA 16 - Introdução a MPI (MESSAGE PASSING INTERFACE)](#scrollTo=Gnef8tuUekM4)\n",
        "\n",
        ">[AULA 17 - OPERAÇÕES DE REDUÇÃO EM MPI](#scrollTo=a5QORM3xuqFx)\n",
        "\n",
        ">[AULA 18 - MPI BROADCASTING](#scrollTo=Q4LI2GQOYlgQ)\n"
      ],
      "metadata": {
        "id": "ZeoLF9Js6mr-"
      }
    },
    {
      "cell_type": "markdown",
      "source": [
        "#AULA 10 - PARALELISMO  \n",
        "\n",
        "Soluções de alto desempenho\n",
        "\n",
        "● (1) Algoritmos eficientes\n",
        "\n",
        "● (2) Implementação eficiente (cache, por\n",
        "exemplo - como fizemos com a matriz dinâmica implementada na prova)\n",
        "\n",
        "● (3) Paralelismo\n",
        "\n",
        "Até então não tínhamos feito o 3.\n",
        "\n",
        "**Paralelismo**\n",
        "\n",
        "Consiste no uso de múltiplos\n",
        "processadores, simultaneamente, para\n",
        "resolver um problema.\n",
        "\n",
        "- Tem por objetivo o aumento do\n",
        "desempenho, i.e., a redução do tempo\n",
        "necessário para resolver um problema\n",
        "\n",
        "E ele é normalmente usado por dois motivos:\n",
        "\n",
        "- (1) Problemas cada vez mais complexos\n",
        "e/ou maiores\n",
        "-  (2) Clock dos processadores se\n",
        "aproximando dos limites ditados pela\n",
        "física\n",
        "\n",
        "\n",
        "● **Paralelismo de dados:** a mesma\n",
        "operação\n",
        "(lenta)\n",
        "é executada para\n",
        "todos os elementos de um conjunto\n",
        "de dados (grande\n",
        ")\n",
        "\n",
        "● **Paralelismo de tarefas:** duas ou\n",
        "mais tarefas independentes são\n",
        "executadas em paralelo. Se houver\n",
        "dependências, quebramos o\n",
        "problema em partes independents e\n",
        "rodamos na ordem adequada\n",
        "\n",
        "\n",
        "**Paralelismo - Resumo**\n",
        "\n",
        "1. Paralelizar significa rodar código sem dependências simultaneamente\n",
        "2. Paralelismo de dados: mesma tarefas, dados diferentes\n",
        "3. Paralelismo de tarefas: heterogêneo\n",
        "4. Existem tarefas inerentemente sequenciais\n",
        "5. Ganhos são limitados a partes do programa\n",
        "\n",
        "**Taxonomia de Flynn**\n",
        "\n",
        "A taxonomia de Flynn é uma forma de classificar computadores paralelos, ou seja, computadores que podem executar várias tarefas simultaneamente. Foi proposta por Michael Flynn em 1972 e é amplamente utilizada para descrever a arquitetura e o funcionamento desses sistemas.\n",
        "\n",
        "A taxonomia de Flynn se baseia na ideia de que um computador executa uma sequência de instruções sobre uma sequência de dados. Ela divide os computadores paralelos em quatro categorias principais, com base na presença ou ausência de instruções e dados múltiplos:\n",
        "\n",
        "1. SISD (Single Instruction, Single Data): Nessa categoria, o computador executa uma única instrução em um único conjunto de dados por vez. É o modelo mais comum em computadores convencionais, onde há uma única unidade de processamento (CPU) executando uma sequência de instruções em um único dado por vez.\n",
        "\n",
        "2. SIMD (Single Instruction, Multiple Data): Nessa categoria, o computador executa a mesma instrução em vários conjuntos de dados ao mesmo tempo. Isso é comumente encontrado em processadores vetoriais e GPUs (unidades de processamento gráfico), onde uma única instrução é aplicada a elementos de dados múltiplos em paralelo.\n",
        "\n",
        "3. MISD (Multiple Instruction, Single Data): Nessa categoria, o computador executa várias instruções diferentes em um único conjunto de dados. Embora seja menos comum em sistemas reais, é um modelo teórico que pode ser utilizado em casos específicos, como na verificação de erros em sistemas críticos.\n",
        "\n",
        "4. MIMD (Multiple Instruction, Multiple Data): Nessa categoria, o computador pode executar instruções diferentes em conjuntos de dados diferentes ao mesmo tempo. É o modelo mais flexível e comumente encontrado em computadores paralelos, onde várias unidades de processamento independentes podem executar tarefas diferentes simultaneamente.\n",
        "\n",
        "Essa taxonomia fornece uma maneira simples de classificar e entender as arquiteturas de computadores paralelos, permitindo uma melhor compreensão de como os sistemas podem processar informações de forma eficiente por meio da execução simultânea de instruções e dados.\n",
        "\n",
        "\n",
        "**Multicore: UMA e Non-UMA**\n",
        "\n",
        "**Sistemas Multicore:**\n",
        "Um sistema multicore é aquele que possui múltiplos núcleos de processamento em um único chip. Cada núcleo é como uma pequena \"unidade de processamento\" dentro do chip, capaz de executar instruções e lidar com dados independentemente dos outros núcleos. Imagine que você está trabalhando em um projeto escolar com um colega. Se vocês tiverem apenas um lápis e um caderno, terão que esperar um pelo outro para fazer as tarefas. Agora, se cada um de vocês tiver seu próprio lápis e caderno, poderão trabalhar simultaneamente e completar as tarefas mais rapidamente. Da mesma forma, em um sistema multicore, cada núcleo tem seus próprios recursos de processamento, permitindo que diferentes tarefas sejam executadas ao mesmo tempo, aumentando assim a capacidade de processamento do sistema.\n",
        "\n",
        "**Uniform Memory Access (Acesso Uniforme à Memória):**\n",
        "No contexto de sistemas multicore, o Uniform Memory Access (UMA) refere-se a um design em que todos os núcleos têm acesso igual e uniforme a uma única memória compartilhada. É como se todos os núcleos pudessem acessar a mesma biblioteca, com o mesmo tempo de acesso, para pegar os livros que precisam. Isso significa que, independentemente de qual núcleo esteja executando uma determinada tarefa, todos eles podem acessar a memória principal com a mesma latência (tempo de acesso). Isso facilita a comunicação e o compartilhamento de dados entre os núcleos, tornando o acesso à memória previsível e equitativo.\n",
        "\n",
        "**Non-Uniform Memory Access (Acesso Não Uniforme à Memória):**\n",
        "No caso do Non-Uniform Memory Access (NUMA), o sistema possui várias memórias locais, cada uma associada a um grupo específico de núcleos. É como se cada grupo de núcleos tivesse sua própria biblioteca local, com acesso rápido e direto aos livros nessa biblioteca. No entanto, se um núcleo de um grupo precisar acessar a memória de outro grupo, ele terá que fazer um \"empréstimo\" e aguardar um pouco mais de tempo para obter os dados necessários. Essa diferença de latência ocorre porque a memória está fisicamente mais próxima dos núcleos dentro de cada grupo do que dos núcleos de outros grupos. Portanto, o tempo de acesso à memória pode variar dependendo de qual núcleo está fazendo a solicitação e qual memória está sendo acessada.\n",
        "\n",
        "Em resumo, o sistema multicore envolve a presença de vários núcleos de processamento em um único chip, permitindo a execução simultânea de várias tarefas. O acesso uniforme à memória (UMA) garante que todos os núcleos tenham a mesma latência de acesso à memória compartilhada. Já o acesso não uniforme à memória (NUMA) divide o sistema em grupos de núcleos com memórias locais distintas, resultando em diferenças de latência entre os núcleos que acessam memórias diferentes.\n",
        "\n",
        "**Dependência**\n",
        "- É quando uma iteração depende de\n",
        "resultados calculados em iterações\n",
        "anteriores\n",
        "- Quando não existe nenhuma dependência\n",
        "em um loop, por exemplo, dizemos que\n",
        "ele é ingenuamente paralelizável\n",
        "\n",
        "\n",
        "\n",
        " **OpenMP**\n",
        " \n",
        "● Conjunto de extensões para C/C++ e Fortran\n",
        "\n",
        "● Fornece construções que permitem paralelizar código em ambientes\n",
        "multi-core\n",
        "\n",
        "● Padroniza práticas SMP + SIMD + sistemas heterogêneos (GPU/FPGA)\n",
        "\n",
        "● Idealmente funciona com o mínimo de modificações no código\n",
        "sequência"
      ],
      "metadata": {
        "id": "XNTT1vU_qIS8"
      }
    },
    {
      "cell_type": "markdown",
      "source": [
        "Sintaxe:\n",
        "\n",
        "- Incluir:\n",
        "\n",
        "``` cpp\n",
        "#include <omp.h>\n",
        "```\n",
        "\n",
        "- Retorna o identificador da thread:\n",
        "\n",
        "``` cpp\n",
        "int_omp_get_thread_num();\n",
        "```\n",
        "- Indica o número de threads para executar na região paralela:\n",
        "\n",
        "``` cpp\n",
        "void omp_set_num_threads(int num_threads);\n",
        "```\n",
        "- Retorna o número de threads que estão executando no momento:\n",
        "\n",
        "``` cpp\n",
        "int omp_get_num_threads();\n",
        "```\n",
        "\n",
        "![Captura de tela de 2023-05-28 13-56-18.png](data:image/png;base64,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)"
      ],
      "metadata": {
        "id": "jhQQsbvJRheA"
      }
    },
    {
      "cell_type": "markdown",
      "source": [
        "- Cria a região paralela e define as variáveis privadas e compartilhadas entre as threads.\n",
        "\n",
        "``` cpp\n",
        "#pragma omp parallel private(...) shared(...)\n",
        "{\n",
        "\n",
        "  // Apenas a thread mais rápida\n",
        "  #pragma omp single\n",
        "}\n",
        "```\n",
        "\n",
        "\n",
        "- Exemplo de código sequencial paralelizado por omp:\n",
        "\n",
        "``` cpp \n",
        "\n",
        "// sequencial\n",
        "for (int i = 0; i < N; i++){\n",
        "  a[i] = a[i] + b[i];\n",
        "}\n",
        "\n",
        "// paralelizado\n",
        "#pragma omp parallel\n",
        "{\n",
        "  int id, i, Nthreads, istart, iend;\n",
        "  id = omp_get_thread_num();\n",
        "  Nthreads = omp_get_num_threads();\n",
        "  istart = id*N/N_threads;\n",
        "  iend = (id+1)*N/Nthreads;\n",
        "  if (id == Nthreads - 1) {\n",
        "    iend = N;\n",
        "  }\n",
        "  for (i = istart; i < iend; i++){\n",
        "    a[i] = a[i] + b[i]\n",
        "  }\n",
        "}\n",
        "\n",
        "//também podemos ter:\n",
        "\n",
        "#pragma omp parallel\n",
        "#pragma omp for\n",
        "for (i = 0; i < N; i++){\n",
        "  a[i] = a[i] + b[i];\n",
        "}\n",
        "\n",
        "```"
      ],
      "metadata": {
        "id": "qZuXQvmtTr-b"
      }
    },
    {
      "cell_type": "markdown",
      "source": [
        "Cálculo do PI por meio de uma série infinita de Leibniz¶\n",
        "Você sabia que é possível calcular o valor do PI por meio de uma série infinita de Leibniz? Veja abaixo:\n",
        "\n",
        "![Leibniz Formula](https://latex.codecogs.com/png.latex?%5Cdpi%7B150%7D%20%5Clarge%20%5Csum_%7Bn%3D0%7D%5E%7B%5Cinfty%7D%20%5Cfrac%7B%28-1%29%5En%7D%7B2n+1%7D%20%3D%20%5Cfrac%7B%5Cpi%7D%7B4%7D)\n",
        "\n",
        "Sua tarefa\n",
        "\n",
        "Implemente a versão serial do cálculo do PI a partir da série infinita de Leibniz. Faça n = 1000000000.\n",
        "\n",
        "Após implementar a versão serial e calcular o tempo de sua execução, implemente a versão em openmp. Você deve fazer sua implementação de duas formas:\n",
        "\n",
        "a) A primeira implementação você deve trabalhar com 2 threads e a partir do id da thread, você deve dividir a soma em duas partes, cada thread executando a sua porção.\n",
        "\n",
        "b) A segunda implementação você deve trabalhar com for do openmp e tratar como uma redução do valor de PI. Calcule o tempo de execução."
      ],
      "metadata": {
        "id": "x1ATENg2VPKM"
      }
    },
    {
      "cell_type": "code",
      "source": [
        "%%writefile pi.cpp\n",
        "#include <iostream>\n",
        "#include <unistd.h>\n",
        "#include <omp.h>\n",
        "#include <chrono>\n",
        "\n",
        "double calcula_pi(int n){\n",
        "  double soma = 0;\n",
        "  int multiplicador = -1;\n",
        "\n",
        "  #pragma omp parallel for num_threads(4) reduction(+ : soma)\n",
        "  for (int i = 0; i < n; i++){\n",
        "    //soma+= pow(-1, i)/(2*i + 1);// para que ficar fazendo pow toda hora se é só fazer - par 1 ou - impar -1\n",
        "    multiplicador *= -1;\n",
        "    soma+= (double) multiplicador/(2*i + 1);  // fazer isso pra unidade de processamento não utilizar o ponto flutuante\n",
        "  }\n",
        "\n",
        "  // ouuuu\n",
        "  // if (i%2 == 0){\n",
        "  //     soma+= 1/(2*i + 1);\n",
        "  // }else{\n",
        "  //     soma+= -1/(2*i + 1);\n",
        "  // }\n",
        "\n",
        "  return soma*4;\n",
        "}\n",
        "\n",
        "\n",
        "int main(){\n",
        "    auto t_start = std::chrono::high_resolution_clock::now();\n",
        "    long int n = 10000000000;\n",
        "    double pi = calcula_pi(n);\n",
        "    std::cout << \"Pi = \" << pi << std::endl;\n",
        "\n",
        "    int nthreads = omp_get_max_threads(); // vê todas as que tem disponíveis \n",
        "    std::cout << \"Número de threads: \" <<  nthreads << std::endl;\n",
        "\n",
        "    auto t_end = std::chrono::high_resolution_clock::now();\n",
        "\n",
        "    double elapsed_time_ms = std::chrono::duration<double, std::milli>(t_end-t_start).count();\n",
        "    double elapsed_time_s = elapsed_time_ms/1000;\n",
        "    std::cout << \"Tempo de execução: \" << elapsed_time_s << \" s\" << std::endl;\n",
        "\n",
        "\n",
        "}"
      ],
      "metadata": {
        "colab": {
          "base_uri": "https://localhost:8080/"
        },
        "id": "ch3KomOHV6bv",
        "outputId": "15445e64-3075-497d-9961-d4cce77637ec"
      },
      "execution_count": null,
      "outputs": [
        {
          "output_type": "stream",
          "name": "stdout",
          "text": [
            "Overwriting pi.cpp\n"
          ]
        }
      ]
    },
    {
      "cell_type": "code",
      "source": [
        "!g++ -g -Wall -fopenmp pi.cpp -o pi"
      ],
      "metadata": {
        "id": "jgtagxrYXIjE"
      },
      "execution_count": null,
      "outputs": []
    },
    {
      "cell_type": "code",
      "source": [
        "!./pi"
      ],
      "metadata": {
        "colab": {
          "base_uri": "https://localhost:8080/"
        },
        "id": "YoI4NBVqXgA5",
        "outputId": "345c9795-3faa-4f46-c1d5-63d053b62207"
      },
      "execution_count": null,
      "outputs": [
        {
          "output_type": "stream",
          "name": "stdout",
          "text": [
            "Pi = 3.14232\n",
            "Número de threads: 2\n",
            "Tempo de execução: 12.4192 s\n"
          ]
        }
      ]
    },
    {
      "cell_type": "markdown",
      "source": [
        "**Tasks (tarefas) em OpenMP**\n",
        "\n",
        "Vamos agora criar tarefas que podem ser executadas em paralelo.\n",
        "\n",
        "**Definição**\n",
        "\n",
        "Uma tarefa é um bloco de código que é rodado de maneira paralela usando OpenMP. Tarefas são agendadas para cada uma das threads criadas em um região paralela. Não existe uma associação 1-1 entre threads e tarefas. Posso ter mais tarefas que threads e mais threads que tarefas.\n",
        "\n",
        "Veja abaixo um exemplo de criação de tarefas.\n",
        "\n",
        "\n",
        "```\n",
        "#pragma omp parallel\n",
        "{\n",
        "    #pragma omp task\n",
        "    {\n",
        "        std::cout << \"Estou rodando na tarefa \" << omp_get_thread_num() << \"\\n\";\n",
        "    }\n",
        "}\n",
        "std::cout << \"eu só rodo quanto TODAS tarefas acabarem.\\n\";\n",
        "```"
      ],
      "metadata": {
        "id": "d1g52xpyaBbR"
      }
    },
    {
      "cell_type": "code",
      "source": [
        "%%writefile exemplo.cpp\n",
        "#include <iostream>\n",
        "#include <unistd.h>\n",
        "#include <omp.h>\n",
        "#include <chrono>\n",
        "\n",
        "int main(){\n",
        "  omp_set_num_threads(4);\n",
        "  # pragma omp parallel\n",
        "  {\n",
        "      #pragma omp task\n",
        "      {\n",
        "          std::cout << \"Estou rodando na tarefa \" << omp_get_thread_num() << \"\\n\";\n",
        "      }\n",
        "  }\n",
        "  std::cout << \"eu só rodo quanto TODAS tarefas acabarem.\\n\";\n",
        "\n",
        "  return 0;\n",
        "}"
      ],
      "metadata": {
        "colab": {
          "base_uri": "https://localhost:8080/"
        },
        "id": "tZosvN5YaKSl",
        "outputId": "85926392-f1b2-4e48-e54f-cd14deb8e2ca"
      },
      "execution_count": null,
      "outputs": [
        {
          "output_type": "stream",
          "name": "stdout",
          "text": [
            "Overwriting exemplo.cpp\n"
          ]
        }
      ]
    },
    {
      "cell_type": "code",
      "source": [
        "!g++ -g -Wall -fopenmp exemplo.cpp -o exemplo"
      ],
      "metadata": {
        "id": "ooQvYQh9aVZb"
      },
      "execution_count": null,
      "outputs": []
    },
    {
      "cell_type": "code",
      "source": [
        "!./exemplo"
      ],
      "metadata": {
        "colab": {
          "base_uri": "https://localhost:8080/"
        },
        "id": "Y6XE_HqOaYXS",
        "outputId": "54a36059-c7d4-48f0-bdfe-d901888aac7f"
      },
      "execution_count": null,
      "outputs": [
        {
          "output_type": "stream",
          "name": "stdout",
          "text": [
            "Estou rodando na tarefa 0\n",
            "Estou rodando na tarefa 3\n",
            "Estou rodando na tarefa 2\n",
            "Estou rodando na tarefa 1\n",
            "eu só rodo quanto TODAS tarefas acabarem.\n"
          ]
        }
      ]
    },
    {
      "cell_type": "markdown",
      "source": [
        "\n",
        "### **Questão 1**\n",
        "\n",
        "O exemplo acima cria quantas tarefas, supondo que OMP_NUM_THREADS=4?\n",
        "\n",
        "**R:** 4, uma para cada thread. Como cada thread roda o código da região paralela, cada uma cria exatamente um tarefa."
      ],
      "metadata": {
        "id": "AjnhzehPa4CX"
      }
    },
    {
      "cell_type": "markdown",
      "source": [
        "Para controlar a criação de tarefas em geral usamos a diretiva master, que executa somente na thread de índice 0. Assim conseguimos criar código legível e que deixa bem claro quantas e quais tarefas são criadas."
      ],
      "metadata": {
        "id": "W3kVVgO5a9bV"
      }
    },
    {
      "cell_type": "code",
      "source": [
        "%%writefile exemplo2.cpp\n",
        "#include <iostream>\n",
        "#include <unistd.h>\n",
        "#include <omp.h>\n",
        "#include <chrono>\n",
        "\n",
        "int main(){\n",
        "  omp_set_num_threads(4);\n",
        "  #pragma omp parallel\n",
        "  {\n",
        "      #pragma omp master\n",
        "      {\n",
        "          std::cout << \"só roda uma vez na thread:\" << omp_get_thread_num() << \"\\n\";\n",
        "          #pragma omp task\n",
        "          {\n",
        "              std::cout << \"Estou rodando na thread:\" << omp_get_thread_num() << \"\\n\";\n",
        "          }\n",
        "      }\n",
        "  }\n",
        "  return 0;\n",
        "}"
      ],
      "metadata": {
        "colab": {
          "base_uri": "https://localhost:8080/"
        },
        "id": "N9-rsyaZa-ZX",
        "outputId": "0a53b372-272b-4915-cff4-460e3921e121"
      },
      "execution_count": null,
      "outputs": [
        {
          "output_type": "stream",
          "name": "stdout",
          "text": [
            "Writing exemplo2.cpp\n"
          ]
        }
      ]
    },
    {
      "cell_type": "code",
      "source": [
        "!g++ -g -Wall -fopenmp exemplo2.cpp -o exemplo2"
      ],
      "metadata": {
        "id": "WMBeS7IHbKDb"
      },
      "execution_count": null,
      "outputs": []
    },
    {
      "cell_type": "code",
      "source": [
        "!./exemplo2"
      ],
      "metadata": {
        "colab": {
          "base_uri": "https://localhost:8080/"
        },
        "id": "nFOZyrKWbL8D",
        "outputId": "3cefafef-1515-4529-a631-147f2a4fa368"
      },
      "execution_count": null,
      "outputs": [
        {
          "output_type": "stream",
          "name": "stdout",
          "text": [
            "só roda uma vez na thread:0\n",
            "Estou rodando na thread:0\n"
          ]
        }
      ]
    },
    {
      "cell_type": "markdown",
      "source": [
        "\n",
        "### **Questão 2**\n",
        "\n",
        "Quantas tarefas são criadas no exemplo acima?\n",
        "\n",
        "**R:** 1\n",
        "\n",
        "\n",
        "###**Questão 3**\n",
        "\n",
        "A(s) tarefa(s) criada(s) roda(m) em qual thread?\n",
        "\n",
        "**R:** Impossível dizer. Em cada execução rodará em uma thread diferente."
      ],
      "metadata": {
        "id": "f88QH35KbTo-"
      }
    },
    {
      "cell_type": "markdown",
      "source": [
        "## **Questão 4**\n",
        "\n",
        "Complete exercicio1.cpp criando duas tarefas. A primeira deverá rodar funcao1 e a segunda funcao2. Salve seus resultados nas variáveis indicadas no código."
      ],
      "metadata": {
        "id": "EzlCZNLtbs7q"
      }
    },
    {
      "cell_type": "code",
      "source": [
        "%%writefile exercicio1_paralelo.cpp\n",
        "#include <iostream>\n",
        "#include <unistd.h>\n",
        "#include <omp.h>\n",
        "#include <chrono>\n",
        "\n",
        "double funcao1() {\n",
        "    sleep(4);\n",
        "    return 47;\n",
        "}\n",
        "\n",
        "double funcao2() {\n",
        "    sleep(1);\n",
        "    return -11.5;\n",
        "}\n",
        "\n",
        "int main() {\n",
        "    auto t_start = std::chrono::high_resolution_clock::now();\n",
        "\n",
        "    double res_func1, res_func2;\n",
        "\n",
        "    # pragma omp parallel\n",
        "    {\n",
        "        #pragma omp task\n",
        "        {\n",
        "            std::cout << \"Estou rodando na tarefa \" << omp_get_thread_num() << \"\\n\";\n",
        "            res_func1 = funcao1();\n",
        "        }\n",
        "\n",
        "        #pragma omp task\n",
        "        {\n",
        "          res_func2 = funcao2();\n",
        "        }\n",
        "    }\n",
        "\n",
        "    //res_func1 = funcao1();\n",
        "    //res_func2 = funcao2();\n",
        "\n",
        "    std::cout << res_func1 << \" \" << res_func2 << \"\\n\";\n",
        "\n",
        "    auto t_end = std::chrono::high_resolution_clock::now();\n",
        "\n",
        "    double elapsed_time_ms = std::chrono::duration<double, std::milli>(t_end-t_start).count();\n",
        "    double elapsed_time_s = elapsed_time_ms/1000;\n",
        "    std::cout << \"Tempo de execução: \" << elapsed_time_s << \" s\" << std::endl;\n",
        "\n",
        "}"
      ],
      "metadata": {
        "colab": {
          "base_uri": "https://localhost:8080/"
        },
        "id": "jZjl8wPTbt6N",
        "outputId": "34c30961-6dc6-42e0-8346-498b66dbff58"
      },
      "execution_count": null,
      "outputs": [
        {
          "output_type": "stream",
          "name": "stdout",
          "text": [
            "Writing exercicio1_paralelo.cpp\n"
          ]
        }
      ]
    },
    {
      "cell_type": "code",
      "source": [
        "!g++ -g -Wall -fopenmp exercicio1_paralelo.cpp -o exercicio1_paralelo"
      ],
      "metadata": {
        "id": "kn-TQjYDcjub"
      },
      "execution_count": null,
      "outputs": []
    },
    {
      "cell_type": "code",
      "source": [
        "!./exercicio1_paralelo"
      ],
      "metadata": {
        "colab": {
          "base_uri": "https://localhost:8080/"
        },
        "id": "1zCZDB_1c2Ws",
        "outputId": "95be6644-0bb3-4fd4-e11c-dfb303a2d50b"
      },
      "execution_count": null,
      "outputs": [
        {
          "output_type": "stream",
          "name": "stdout",
          "text": [
            "Estou rodando na tarefa 0\n",
            "Estou rodando na tarefa 1\n",
            "47 -11.5\n",
            "Tempo de execução: 5.00062 s\n"
          ]
        }
      ]
    },
    {
      "cell_type": "code",
      "source": [
        "%%writefile exercicio1_sequencial.cpp\n",
        "#include <iostream>\n",
        "#include <unistd.h>\n",
        "#include <chrono>\n",
        "\n",
        "double funcao1() {\n",
        "    sleep(4);\n",
        "    return 47;\n",
        "}\n",
        "\n",
        "double funcao2() {\n",
        "    sleep(1);\n",
        "    return -11.5;\n",
        "}\n",
        "\n",
        "int main() {\n",
        "    auto t_start = std::chrono::high_resolution_clock::now();\n",
        "\n",
        "    double res_func1, res_func2;\n",
        "\n",
        "    res_func1 = funcao1();\n",
        "    res_func2 = funcao2();\n",
        "\n",
        "    std::cout << res_func1 << \" \" << res_func2 << \"\\n\";\n",
        "\n",
        "    auto t_end = std::chrono::high_resolution_clock::now();\n",
        "\n",
        "    double elapsed_time_ms = std::chrono::duration<double, std::milli>(t_end-t_start).count();\n",
        "    double elapsed_time_s = elapsed_time_ms/1000;\n",
        "    std::cout << \"Tempo de execução: \" << elapsed_time_s << \" s\" << std::endl;\n",
        "\n",
        "}"
      ],
      "metadata": {
        "colab": {
          "base_uri": "https://localhost:8080/"
        },
        "id": "JfjPG0lZc4uB",
        "outputId": "3bb4f8c8-13e0-4798-f36e-3cb904f8c69d"
      },
      "execution_count": null,
      "outputs": [
        {
          "output_type": "stream",
          "name": "stdout",
          "text": [
            "Writing exercicio1_sequencial.cpp\n"
          ]
        }
      ]
    },
    {
      "cell_type": "code",
      "source": [
        "!g++ -g -Wall -fopenmp exercicio1_sequencial.cpp -o exercicio1_sequencial"
      ],
      "metadata": {
        "id": "lgXxnIWcdKG2"
      },
      "execution_count": null,
      "outputs": []
    },
    {
      "cell_type": "code",
      "source": [
        "!./exercicio1_sequencial"
      ],
      "metadata": {
        "colab": {
          "base_uri": "https://localhost:8080/"
        },
        "id": "3xu8vedGdNYO",
        "outputId": "c49ebda9-800c-4cfb-ef8c-e6233416d4c0"
      },
      "execution_count": null,
      "outputs": [
        {
          "output_type": "stream",
          "name": "stdout",
          "text": [
            "47 -11.5\n",
            "Tempo de execução: 5.00037 s\n"
          ]
        }
      ]
    },
    {
      "cell_type": "markdown",
      "source": [
        "### **Questão 5**\n",
        "\n",
        "Leia o código e responda. Quanto tempo o código sequencial demora? E o paralelo? Verifique que sua implementação está de acordo com suas expectativas.\n",
        "\n",
        "**R:** Sequencial demora a soma dos tempos das duas funções. Paralelo demora o tempo da maior delas."
      ],
      "metadata": {
        "id": "YBmwftyZdWX2"
      }
    },
    {
      "cell_type": "markdown",
      "source": [
        "<a id=\"second-bullet\"></a>\n",
        "# **AULA 11 - Scheduling e Efeitos Colaterais** \n",
        "\n",
        "**Revisitando Parallel for, tasks e sections**\n",
        "\n",
        "Agora que já conseguimos resolver problemas simples usando três abordagens diferentes, vamos aumentar a complexidade dos problemas tratados. Vimos três abordagens\n",
        "\n",
        "- parallel for - útil para quando precisamos executar a mesma operação em um conjunto grande de dados.\n",
        "- tasks - útil para paralelizar tarefas heterogêneas.\n",
        "- sections - permite paralelizar tarefas heterogênas, com o controle adicional que uma section é executada apenas por uma thread.\n",
        "\n",
        "Teremos então dois desafios relacionados a paralelizar programas que não são obviamente paralelizáveis."
      ],
      "metadata": {
        "id": "Fszm8Q1Udii5"
      }
    },
    {
      "cell_type": "markdown",
      "source": [
        "### **Cálculo do pi recursivo**\n",
        "\n",
        "Vamos iniciar com um código recursivo para cálculo do pi.\n",
        "\n",
        "Example\n",
        "\n",
        "Examine o código em `pi_recursivo.cpp`. Procure entender bem o que está acontecendo antes de prosseguir.\n",
        "\n",
        "``` cpp\n",
        "\n",
        "#include <omp.h>\n",
        "#include <iostream>\n",
        "#include <iomanip>\n",
        "static long num_steps = 1024l*1024*1024*2;\n",
        "\n",
        "#define MIN_BLK  1024*1024*256\n",
        "\n",
        "double sum = 0;\n",
        "\n",
        "void pi_r(long Nstart, long Nfinish, double step) {\n",
        "    long i,iblk;\n",
        "    if (Nfinish-Nstart < MIN_BLK){\n",
        "        for (i = Nstart; i < Nfinish; i++){\n",
        "            double x = (i+0.5)*step;\n",
        "            sum += 4.0/(1.0+x*x); \n",
        "        }\n",
        "    } else {\n",
        "        iblk = Nfinish-Nstart;\n",
        "        pi_r(Nstart,         Nfinish-iblk/2,step);\n",
        "        pi_r(Nfinish-iblk/2, Nfinish,       step);\n",
        "    }\n",
        "}\n",
        "\n",
        "int main () {\n",
        "    long i;\n",
        "    double step, pi;\n",
        "    double init_time, final_time;\n",
        "    step = 1.0/(double) num_steps;\n",
        "    init_time = omp_get_wtime();\n",
        "    pi_r(0, num_steps, step);\n",
        "    pi = step * sum;\n",
        "    final_time = omp_get_wtime() - init_time;\n",
        "\n",
        "    std::cout << \"for \" << num_steps << \" steps pi = \" << std::setprecision(15) << pi << \" in \" << final_time << \" secs\\n\";\n",
        "}\n",
        "\n",
        "```\n",
        "\n",
        "\n",
        "### **Question 1**\n",
        "\n",
        "Onde estão as oportunidades de paralelismo? O código tem dependências?\n",
        "\n",
        "**R:** As oportunidades de paralelismo estão nas iterações do loop dentro da função pi_r. Cada iteração do loop é independente das outras, pois calcula uma contribuição separada para a variável sum. Portanto, é possível executar essas iterações em paralelo.\n",
        "\n",
        "### **Question 2**\n",
        "\n",
        "Se o código tiver dependências, é possível refatorá-lo para eliminá-las?\n",
        "\n",
        "**R:** O código não tem dependências entre as iterações do loop, portanto, não é necessário refatorá-lo para eliminar dependências.\n",
        "\n",
        "### **Question 3**\n",
        "\n",
        "Quantas níveis de chamadas recursivas são feitas? Quando o programa para de chamar recursivamente e faz sequencial?\n",
        "\n",
        "**R:** O código faz chamadas recursivas dividindo o intervalo de iterações em blocos menores até atingir um tamanho mínimo especificado pela constante MIN_BLK. A quantidade de níveis de chamadas recursivas depende do valor de num_steps e do tamanho mínimo de bloco definido por MIN_BLK.\n",
        "\n",
        "No caso do código fornecido, as chamadas recursivas são feitas até que o tamanho do intervalo de iterações seja menor que MIN_BLK. Quando isso ocorre, as iterações restantes são calculadas sequencialmente dentro do loop principal.\n",
        "\n",
        "A quantidade exata de níveis de chamadas recursivas depende do valor de num_steps e da relação entre num_steps e MIN_BLK.\n",
        "\n",
        "\n",
        "Vamos agora tentar paralelizar o programa usando as duas técnicas."
      ],
      "metadata": {
        "id": "AFkqbHNkd6OL"
      }
    },
    {
      "cell_type": "markdown",
      "source": [
        "### **Usando for paralelo**"
      ],
      "metadata": {
        "id": "AIT3oS8UlDJk"
      }
    },
    {
      "cell_type": "code",
      "source": [
        "%%writefile pi_recursivo_sequencial.cpp\n",
        "# include <omp.h>\n",
        "# include <iostream>\n",
        "# include <iomanip>\n",
        "static long num_steps = 1024l*1024*1024*2;\n",
        "\n",
        "# define MIN_BLK  1024*1024*256\n",
        "\n",
        "double sum = 0;\n",
        "\n",
        "void pi_r(long Nstart, long Nfinish, double step) {\n",
        "    long i,iblk;\n",
        "    if (Nfinish-Nstart < MIN_BLK){\n",
        "        for (i = Nstart; i < Nfinish; i++){\n",
        "            double x = (i+0.5)*step;\n",
        "            sum += 4.0/(1.0+x*x); \n",
        "        }\n",
        "    } else {\n",
        "        iblk = Nfinish-Nstart;\n",
        "        pi_r(Nstart,         Nfinish-iblk/2,step);\n",
        "        pi_r(Nfinish-iblk/2, Nfinish,       step);\n",
        "    }\n",
        "}\n",
        "\n",
        "int main () {\n",
        "    long i;\n",
        "    double step, pi;\n",
        "    double init_time, final_time;\n",
        "    step = 1.0/(double) num_steps;\n",
        "    init_time = omp_get_wtime();\n",
        "    pi_r(0, num_steps, step);\n",
        "    pi = step * sum;\n",
        "    final_time = omp_get_wtime() - init_time;\n",
        "\n",
        "    std::cout << \"for \" << num_steps << \" steps pi = \" << std::setprecision(15) << pi << \" in \" << final_time << \" secs\\n\";\n",
        "}"
      ],
      "metadata": {
        "colab": {
          "base_uri": "https://localhost:8080/"
        },
        "id": "DNXDMlVUlIkG",
        "outputId": "8d5eb026-f7c5-4005-af5c-31b60e442da4"
      },
      "execution_count": null,
      "outputs": [
        {
          "output_type": "stream",
          "name": "stdout",
          "text": [
            "Overwriting pi_recursivo_sequencial.cpp\n"
          ]
        }
      ]
    },
    {
      "cell_type": "code",
      "source": [
        "!g++ -Wall -fopenmp pi_recursivo_sequencial.cpp -o pi_recursivo_sequencial"
      ],
      "metadata": {
        "colab": {
          "base_uri": "https://localhost:8080/"
        },
        "id": "QhPgCeG1lXpO",
        "outputId": "d2c32225-b3ce-4ee2-f0fd-2dc7edb236ff"
      },
      "execution_count": null,
      "outputs": [
        {
          "output_type": "stream",
          "name": "stdout",
          "text": [
            "\u001b[01m\u001b[Kpi_recursivo_sequencial.cpp:\u001b[m\u001b[K In function ‘\u001b[01m\u001b[Kint main()\u001b[m\u001b[K’:\n",
            "\u001b[01m\u001b[Kpi_recursivo_sequencial.cpp:25:10:\u001b[m\u001b[K \u001b[01;35m\u001b[Kwarning: \u001b[m\u001b[Kunused variable ‘\u001b[01m\u001b[Ki\u001b[m\u001b[K’ [\u001b[01;35m\u001b[K-Wunused-variable\u001b[m\u001b[K]\n",
            "   25 |     long \u001b[01;35m\u001b[Ki\u001b[m\u001b[K;\n",
            "      |          \u001b[01;35m\u001b[K^\u001b[m\u001b[K\n"
          ]
        }
      ]
    },
    {
      "cell_type": "code",
      "source": [
        "!./pi_recursivo_sequencial"
      ],
      "metadata": {
        "colab": {
          "base_uri": "https://localhost:8080/"
        },
        "id": "GnZsVvd5lbEk",
        "outputId": "0e03efcb-8336-44d1-b1ea-be1bedacfc04"
      },
      "execution_count": null,
      "outputs": [
        {
          "output_type": "stream",
          "name": "stdout",
          "text": [
            "for 2147483648 steps pi = 3.14159265358977 in 32.7849787740006 secs\n"
          ]
        }
      ]
    },
    {
      "cell_type": "code",
      "source": [
        "%%writefile pi_recursivo_paralelizado.cpp\n",
        "# include <omp.h>\n",
        "# include <iostream>\n",
        "# include <iomanip>\n",
        "static long num_steps = 1024l*1024*1024*2;\n",
        "\n",
        "# define MIN_BLK  1024*1024*256\n",
        "\n",
        "double sum = 0;\n",
        "\n",
        "void pi_r(long Nstart, long Nfinish, double step) {\n",
        "    long i,iblk;\n",
        "    if (Nfinish-Nstart < MIN_BLK){\n",
        "        #pragma omp parallel for reduction(+ : sum)\n",
        "        for (i = Nstart; i < Nfinish; i++){\n",
        "            double x = (i+0.5)*step;\n",
        "            sum += 4.0/(1.0+x*x); \n",
        "        }\n",
        "    } else {\n",
        "        iblk = Nfinish-Nstart;\n",
        "        pi_r(Nstart,         Nfinish-iblk/2,step);\n",
        "        pi_r(Nfinish-iblk/2, Nfinish,       step);\n",
        "    }\n",
        "}\n",
        "\n",
        "int main () {\n",
        "    long i;\n",
        "    double step, pi;\n",
        "    double init_time, final_time;\n",
        "    step = 1.0/(double) num_steps;\n",
        "    init_time = omp_get_wtime();\n",
        "    pi_r(0, num_steps, step);\n",
        "    pi = step * sum;\n",
        "    final_time = omp_get_wtime() - init_time;\n",
        "\n",
        "    std::cout << \"for \" << num_steps << \" steps pi = \" << std::setprecision(15) << pi << \" in \" << final_time << \" secs\\n\";\n",
        "}"
      ],
      "metadata": {
        "colab": {
          "base_uri": "https://localhost:8080/"
        },
        "id": "BwoumSWelexd",
        "outputId": "944fb16f-7964-49cd-e851-a75936ce3964"
      },
      "execution_count": null,
      "outputs": [
        {
          "output_type": "stream",
          "name": "stdout",
          "text": [
            "Overwriting pi_recursivo_paralelizado.cpp\n"
          ]
        }
      ]
    },
    {
      "cell_type": "code",
      "source": [
        "!g++ -Wall -fopenmp pi_recursivo_paralelizado.cpp -o pi_recursivo_paralelizado"
      ],
      "metadata": {
        "colab": {
          "base_uri": "https://localhost:8080/"
        },
        "id": "R1zl1VMwma6l",
        "outputId": "d98cdd9d-c9d7-4528-a591-0c2d213b9d60"
      },
      "execution_count": null,
      "outputs": [
        {
          "output_type": "stream",
          "name": "stdout",
          "text": [
            "\u001b[01m\u001b[Kpi_recursivo_paralelizado.cpp:\u001b[m\u001b[K In function ‘\u001b[01m\u001b[Kint main()\u001b[m\u001b[K’:\n",
            "\u001b[01m\u001b[Kpi_recursivo_paralelizado.cpp:26:10:\u001b[m\u001b[K \u001b[01;35m\u001b[Kwarning: \u001b[m\u001b[Kunused variable ‘\u001b[01m\u001b[Ki\u001b[m\u001b[K’ [\u001b[01;35m\u001b[K-Wunused-variable\u001b[m\u001b[K]\n",
            "   26 |     long \u001b[01;35m\u001b[Ki\u001b[m\u001b[K;\n",
            "      |          \u001b[01;35m\u001b[K^\u001b[m\u001b[K\n"
          ]
        }
      ]
    },
    {
      "cell_type": "code",
      "source": [
        "!./pi_recursivo_paralelizado"
      ],
      "metadata": {
        "colab": {
          "base_uri": "https://localhost:8080/"
        },
        "id": "a9Krizh3meUj",
        "outputId": "d945f385-e6d9-47cc-ed86-0a7df75b77b2"
      },
      "execution_count": null,
      "outputs": [
        {
          "output_type": "stream",
          "name": "stdout",
          "text": [
            "for 2147483648 steps pi = 3.14159265358977 in 18.1960811139998 secs\n"
          ]
        }
      ]
    },
    {
      "cell_type": "markdown",
      "source": [
        "Quanto ao número MIN_BLK, ele afeta o algoritmo controlando o tamanho mínimo do bloco que será executado sequencialmente. Se o número de iterações em um determinado bloco for menor que MIN_BLK, esse bloco será executado sequencialmente em vez de ser dividido em partes menores para paralelismo. Ajustar o valor de MIN_BLK pode afetar o desempenho do programa dependendo das características da arquitetura e do problema em questão. Experimente ajustar esse valor e medir o desempenho para determinar o melhor valor para o seu caso específico."
      ],
      "metadata": {
        "id": "cNF3tbv6m1Pu"
      }
    },
    {
      "cell_type": "markdown",
      "source": [
        "### **Usando task**\n",
        "\n",
        "Agora vamos usar task. Neste caso é vamos adotar a seguinte estratégia: usaremos tarefas para paralelizar as chamadas recursivas feitas em pi_recursivo.cpp."
      ],
      "metadata": {
        "id": "2-4ReqMynEwN"
      }
    },
    {
      "cell_type": "code",
      "source": [
        "%%writefile pi_recursivo_task.cpp\n",
        "# include <omp.h>\n",
        "# include <iostream>\n",
        "# include <iomanip>\n",
        "static long num_steps = 1024l*1024*1024*2;\n",
        "\n",
        "# define MIN_BLK  1024*1024*256\n",
        "\n",
        "double sum = 0;\n",
        "\n",
        "void pi_r(long Nstart, long Nfinish, double step) {\n",
        "    long i,iblk;\n",
        "    if (Nfinish-Nstart < MIN_BLK){\n",
        "        //#pragma omp parallel for reduction(+ : sum)\n",
        "        for (i = Nstart; i < Nfinish; i++){\n",
        "            double x = (i+0.5)*step;\n",
        "            sum += 4.0/(1.0+x*x); \n",
        "        }\n",
        "    } else {\n",
        "        // #pragma omp parallel\n",
        "        // #pragma omp master\n",
        "        #pragma omp single // vai ser o coordenador das duas execuções\n",
        "        {\n",
        "          iblk = Nfinish-Nstart;\n",
        "\n",
        "          #pragma omp task\n",
        "          {\n",
        "                pi_r(Nstart,Nfinish-iblk/2,step);\n",
        "          }\n",
        "\n",
        "          # pragma omp task\n",
        "          {\n",
        "                pi_r(Nfinish-iblk/2, Nfinish,step);\n",
        "          }\n",
        "        }\n",
        "    }\n",
        "}\n",
        "\n",
        "int main () {\n",
        "    long i;\n",
        "    double step, pi;\n",
        "    double init_time, final_time;\n",
        "    step = 1.0/(double) num_steps;\n",
        "    init_time = omp_get_wtime();\n",
        "    pi_r(0, num_steps, step);\n",
        "    pi = step * sum;\n",
        "    final_time = omp_get_wtime() - init_time;\n",
        "\n",
        "    std::cout << \"for \" << num_steps << \" steps pi = \" << std::setprecision(15) << pi << \" in \" << final_time << \" secs\\n\";\n",
        "}"
      ],
      "metadata": {
        "colab": {
          "base_uri": "https://localhost:8080/"
        },
        "id": "Vr2o3_0WnHXj",
        "outputId": "ce319da5-27fe-4427-9321-8a27a1769ca0"
      },
      "execution_count": null,
      "outputs": [
        {
          "output_type": "stream",
          "name": "stdout",
          "text": [
            "Overwriting pi_recursivo_task.cpp\n"
          ]
        }
      ]
    },
    {
      "cell_type": "code",
      "source": [
        "!g++ -Wall -fopenmp pi_recursivo_task.cpp -o pi_recursivo_task"
      ],
      "metadata": {
        "colab": {
          "base_uri": "https://localhost:8080/"
        },
        "id": "iFtEeKSjnlhJ",
        "outputId": "23ec8cf6-0e9a-4e21-d3b4-12a2b8e7bc47"
      },
      "execution_count": null,
      "outputs": [
        {
          "output_type": "stream",
          "name": "stdout",
          "text": [
            "\u001b[01m\u001b[Kpi_recursivo_task.cpp:\u001b[m\u001b[K In function ‘\u001b[01m\u001b[Kint main()\u001b[m\u001b[K’:\n",
            "\u001b[01m\u001b[Kpi_recursivo_task.cpp:39:10:\u001b[m\u001b[K \u001b[01;35m\u001b[Kwarning: \u001b[m\u001b[Kunused variable ‘\u001b[01m\u001b[Ki\u001b[m\u001b[K’ [\u001b[01;35m\u001b[K-Wunused-variable\u001b[m\u001b[K]\n",
            "   39 |     long \u001b[01;35m\u001b[Ki\u001b[m\u001b[K;\n",
            "      |          \u001b[01;35m\u001b[K^\u001b[m\u001b[K\n"
          ]
        }
      ]
    },
    {
      "cell_type": "code",
      "source": [
        "!./pi_recursivo_task"
      ],
      "metadata": {
        "colab": {
          "base_uri": "https://localhost:8080/"
        },
        "id": "L2gO1kMbn-Wn",
        "outputId": "3e0c5940-1e41-49c5-9092-828f73e29bde"
      },
      "execution_count": null,
      "outputs": [
        {
          "output_type": "stream",
          "name": "stdout",
          "text": [
            "for 2147483648 steps pi = 3.14159265358977 in 32.4873357309998 secs\n"
          ]
        }
      ]
    },
    {
      "cell_type": "markdown",
      "source": [
        "### **MISTURADO**"
      ],
      "metadata": {
        "id": "Wlc8OO8erWuo"
      }
    },
    {
      "cell_type": "code",
      "source": [
        "%%writefile pi_recursivo_mixed.cpp\n",
        "# include <omp.h>\n",
        "# include <iostream>\n",
        "# include <iomanip>\n",
        "static long num_steps = 1024l*1024*1024*2;\n",
        "\n",
        "# define MIN_BLK  1024*1024*256\n",
        "\n",
        "double sum = 0;\n",
        "\n",
        "void pi_r(long Nstart, long Nfinish, double step) {\n",
        "    long i,iblk;\n",
        "    if (Nfinish-Nstart < MIN_BLK){\n",
        "        #pragma omp parallel for reduction(+ : sum)\n",
        "        for (i = Nstart; i < Nfinish; i++){\n",
        "            double x = (i+0.5)*step;\n",
        "            sum += 4.0/(1.0+x*x); \n",
        "        }\n",
        "    } else {\n",
        "        // #pragma omp parallel\n",
        "        // #pragma omp master\n",
        "        #pragma omp single // vai ser o coordenador das duas execuções\n",
        "        {\n",
        "          iblk = Nfinish-Nstart;\n",
        "\n",
        "          #pragma omp task\n",
        "          {\n",
        "                pi_r(Nstart,Nfinish-iblk/2,step);\n",
        "          }\n",
        "\n",
        "          # pragma omp task\n",
        "          {\n",
        "                pi_r(Nfinish-iblk/2, Nfinish,step);\n",
        "          }\n",
        "        }\n",
        "    }\n",
        "}\n",
        "\n",
        "int main () {\n",
        "    long i;\n",
        "    double step, pi;\n",
        "    double init_time, final_time;\n",
        "    step = 1.0/(double) num_steps;\n",
        "    init_time = omp_get_wtime();\n",
        "    pi_r(0, num_steps, step);\n",
        "    pi = step * sum;\n",
        "    final_time = omp_get_wtime() - init_time;\n",
        "\n",
        "    std::cout << \"for \" << num_steps << \" steps pi = \" << std::setprecision(15) << pi << \" in \" << final_time << \" secs\\n\";\n",
        "}"
      ],
      "metadata": {
        "colab": {
          "base_uri": "https://localhost:8080/"
        },
        "id": "un9MuDxmrZBw",
        "outputId": "d2eb1f22-230e-4ee1-8344-d7bb73e95fdf"
      },
      "execution_count": null,
      "outputs": [
        {
          "output_type": "stream",
          "name": "stdout",
          "text": [
            "Writing pi_recursivo_mixed.cpp\n"
          ]
        }
      ]
    },
    {
      "cell_type": "code",
      "source": [
        "!g++ -Wall -fopenmp pi_recursivo_mixed.cpp -o pi_recursivo_mixed"
      ],
      "metadata": {
        "colab": {
          "base_uri": "https://localhost:8080/"
        },
        "id": "VX10_rABreLs",
        "outputId": "3f3d2c9d-5fd3-4d4d-db0c-3bf1e2768885"
      },
      "execution_count": null,
      "outputs": [
        {
          "output_type": "stream",
          "name": "stdout",
          "text": [
            "\u001b[01m\u001b[Kpi_recursivo_mixed.cpp:\u001b[m\u001b[K In function ‘\u001b[01m\u001b[Kint main()\u001b[m\u001b[K’:\n",
            "\u001b[01m\u001b[Kpi_recursivo_mixed.cpp:39:10:\u001b[m\u001b[K \u001b[01;35m\u001b[Kwarning: \u001b[m\u001b[Kunused variable ‘\u001b[01m\u001b[Ki\u001b[m\u001b[K’ [\u001b[01;35m\u001b[K-Wunused-variable\u001b[m\u001b[K]\n",
            "   39 |     long \u001b[01;35m\u001b[Ki\u001b[m\u001b[K;\n",
            "      |          \u001b[01;35m\u001b[K^\u001b[m\u001b[K\n"
          ]
        }
      ]
    },
    {
      "cell_type": "code",
      "source": [
        "!./pi_recursivo_mixed"
      ],
      "metadata": {
        "colab": {
          "base_uri": "https://localhost:8080/"
        },
        "id": "NChbye0HrhhZ",
        "outputId": "f7721ace-b632-449c-92c7-0486c293a500"
      },
      "execution_count": null,
      "outputs": [
        {
          "output_type": "stream",
          "name": "stdout",
          "text": [
            "for 2147483648 steps pi = 3.14159265358977 in 17.939588489 secs\n"
          ]
        }
      ]
    },
    {
      "cell_type": "markdown",
      "source": [
        "### **Efeitos Colaterais**\n",
        "\n",
        "Agora que já conseguimos resolver um problema um pouco mais complexo usando abordagens diferentes, vamos aumentar um pouco mais a complexidade dos problemas tratados.\n",
        "\n",
        "No código pi_recursivo.cpp tínhamos uma variável global que podia ser eliminada do código mudando a função recursiva. Isso, porém, nem sempre é possível e precisamos lidar com estas situações.\n",
        "\n",
        "### **Um primeiro teste**\n",
        "\n",
        "Vamos iniciar trabalhando com o seguinte trecho de código (arquivo vetor_insert.cpp):\n",
        "\n",
        "``` cpp\n",
        "std::vector<double> vec;\n",
        "for (int i = 0; i < N; i++) {\n",
        "    vec.push_back(conta_complexa(i));\n",
        "}\n",
        "```\n",
        "\n",
        "Vamos supor agora que usaremos o seguinte comando para paralelizar o código acima usando OpenMP:\n",
        "\n",
        "``` cpp\n",
        "#pragma omp parallel for\n",
        "```\n",
        "\n",
        "A variável i é\n",
        "\n",
        "**R:** private\n",
        "\n",
        "A variável vec é\n",
        "\n",
        "**R:** shared\n",
        "\n",
        "### **Question**\n",
        "\n",
        "O código paralelizado rodaria sem dar erros? Os resultados seriam os esperados?\n",
        "\n",
        "Não, o código acima dá erro ao executar."
      ],
      "metadata": {
        "id": "DPkwlTbKr3ub"
      }
    },
    {
      "cell_type": "code",
      "source": [
        "%%writefile vetor_insert.cpp\n",
        "\n",
        "#include <vector>\n",
        "#include <iostream>\n",
        "#include <unistd.h>\n",
        "#include <omp.h>\n",
        "\n",
        "\n",
        "double conta_complexa(int i) {\n",
        "\treturn 2 * i;\n",
        "}\n",
        "\n",
        "int main() {\n",
        "\tint N = 10000; \n",
        "\tstd::vector<double> vec;\n",
        "\t#pragma omp parallel for  private(i) shared(vec)\n",
        "\tfor (int i = 0; i < N; i++) {\n",
        "\t\tvec.push_back(conta_complexa(i));\n",
        "\t}\n",
        "\t\t\n",
        "\tfor (int i = 0; i < N; i++) {\n",
        "\t\tstd::cout << vec[i] << \" \";\n",
        "\t\t// std::cout << i << \" \";\n",
        "\t}\n",
        "\t\n",
        "\treturn 0;\n",
        "}\n",
        "\n",
        "\n",
        "// Ao usar a cláusula default(none), o compilador OpenMP exige que todas as variáveis ​​sejam especificadas explicitamente como\n",
        "//  compartilhadas ou privadas usando as cláusulas shared ou private, respectivamente. Isso ajuda a tornar o código mais seguro e menos\n",
        "//   suscetível a bugs de concorrência."
      ],
      "metadata": {
        "colab": {
          "base_uri": "https://localhost:8080/"
        },
        "id": "741UFouQri52",
        "outputId": "6dfe10a8-e1e9-4a8b-8135-43f289594f26"
      },
      "execution_count": null,
      "outputs": [
        {
          "output_type": "stream",
          "name": "stdout",
          "text": [
            "Overwriting vetor_insert.cpp\n"
          ]
        }
      ]
    },
    {
      "cell_type": "code",
      "source": [
        "!g++ -Wall -fopenmp vetor_insert.cpp -o vetor_insert"
      ],
      "metadata": {
        "colab": {
          "base_uri": "https://localhost:8080/"
        },
        "id": "o02bnki_sePd",
        "outputId": "1571b275-b15a-4403-96d1-22722a36868e"
      },
      "execution_count": null,
      "outputs": [
        {
          "output_type": "stream",
          "name": "stdout",
          "text": [
            "\u001b[01m\u001b[Kvetor_insert.cpp:\u001b[m\u001b[K In function ‘\u001b[01m\u001b[Kint main()\u001b[m\u001b[K’:\n",
            "\u001b[01m\u001b[Kvetor_insert.cpp:15:36:\u001b[m\u001b[K \u001b[01;31m\u001b[Kerror: \u001b[m\u001b[K‘\u001b[01m\u001b[Ki\u001b[m\u001b[K’ has not been declared\n",
            "   15 |  #pragma omp parallel for  private(\u001b[01;31m\u001b[Ki\u001b[m\u001b[K) shared(vec)\n",
            "      |                                    \u001b[01;31m\u001b[K^\u001b[m\u001b[K\n"
          ]
        }
      ]
    },
    {
      "cell_type": "code",
      "source": [
        "!./vetor_insert"
      ],
      "metadata": {
        "colab": {
          "base_uri": "https://localhost:8080/"
        },
        "id": "6CeKxwMnshoO",
        "outputId": "27ddfc63-0b01-4ac3-999d-e7108ece807c"
      },
      "execution_count": null,
      "outputs": [
        {
          "output_type": "stream",
          "name": "stdout",
          "text": [
            "double free or corruption (!prev)\n"
          ]
        }
      ]
    },
    {
      "cell_type": "markdown",
      "source": [
        "### **Seções críticas**\n",
        "\n",
        "Antes de começar, vamos aprender mais um aspecto de OpenMP: diretivas para compartilhamento de dados. Já vimos as 3 principais opções:\n",
        "\n",
        "- shared - compartilhado entre threads\n",
        "- private - privados entre threads\n",
        "- firstprivate - Especifica que cada thread deve ter sua própria instância de uma variável e que a variável deve ser inicializada com o valor da variável antes da seção paralela.\n",
        "\n",
        "Podemos forçar a especificação de diretivas de compartilhamento para todas as variáveis usadas nas construções omp parallel, omp task e omp parallel for.\n",
        "\n",
        "**Tip**\n",
        "\n",
        "Ao adicionarmos default(none) logo após as diretivas acima precisaremos especificar, para cada variável usada, sua diretiva de compartilhamento. Isso torna muito mais fácil identificar casos de compartilhamento indevido de dados.\n",
        "\n",
        "A partir desse ponto estaremos supondo que todo código criado usará default(none).\n",
        "\n",
        "A primeira abordagem usada terá a missão de indicar que um conjunto de linhas contém uma operação que possui efeitos colaterais. Dessa maneira, podemos evitar conflitos se só permitirmos que essa região rode em uma thread por vez.\n",
        "\n",
        "Fazemos isso usando a diretiva omp critical:\n",
        "\n",
        "``` cpp\n",
        "#pragma omp critical\n",
        "{\n",
        "    // código aqui dentro roda somente em uma thread por vez.\n",
        "}\n",
        "```\n",
        "\n",
        "Se duas threads chegam ao mesmo tempo no bloco critical, uma delas ficará esperando até a outra acabar o bloco. Quando isso ocorrer a thread que esperou poderá prosseguir. Vamos tentar aplicar isso ao código de vetor_insert.cpp.\n",
        "\n"
      ],
      "metadata": {
        "id": "kpeb3TMotPY4"
      }
    },
    {
      "cell_type": "code",
      "source": [
        "%%writefile vetor_insert_critical.cpp\n",
        "\n",
        "#include <vector>\n",
        "#include <iostream>\n",
        "#include <unistd.h>\n",
        "#include <omp.h>\n",
        "#include <chrono>\n",
        "\n",
        "\n",
        "double conta_complexa(int i) {\n",
        "\treturn 2 * i;\n",
        "}\n",
        "\n",
        "int main() {\n",
        "  auto t_start = std::chrono::high_resolution_clock::now();\n",
        "\n",
        "\tint N = 10000; \n",
        "\tstd::vector<double> vec;\n",
        "  int i = 0;\n",
        "\t#pragma omp parallel for default(none) private(i) shared(vec) firstprivate(N)\n",
        "\tfor (i = 0; i < N; i++) {\n",
        "    # pragma omp critical\n",
        "    {\n",
        "\t\t  vec.push_back(conta_complexa(i));\n",
        "    }\n",
        "\t}\n",
        "\t\t\n",
        "\tfor (int i = 0; i < N; i++) {\n",
        "\t\tstd::cout << vec[i] << \" \";\n",
        "\t\t// std::cout << i << \" \";\n",
        "\t}\n",
        "\n",
        "  std::cout << std::endl;\n",
        "  auto t_end = std::chrono::high_resolution_clock::now();\n",
        "\n",
        "  double elapsed_time_ms = std::chrono::duration<double, std::milli>(t_end-t_start).count();\n",
        "  double elapsed_time_s = elapsed_time_ms/1000;\n",
        "  std::cout << \"Tempo de execução: \" << elapsed_time_s << \" s\" << std::endl;\n",
        "\t\n",
        "\treturn 0;\n",
        "}\n",
        "\n",
        "\n",
        "// Ao usar a cláusula default(none), o compilador OpenMP exige que todas as variáveis ​​sejam especificadas explicitamente como\n",
        "//  compartilhadas ou privadas usando as cláusulas shared ou private, respectivamente. Isso ajuda a tornar o código mais seguro e menos\n",
        "//   suscetível a bugs de concorrência.\n",
        "\n",
        "// firstprivate(N) irá definir N como uma variável privada e copiá-la para cada thread."
      ],
      "metadata": {
        "colab": {
          "base_uri": "https://localhost:8080/"
        },
        "id": "Nj9lVojAtfH1",
        "outputId": "be221ef7-6271-451f-cf8a-40fd081c3344"
      },
      "execution_count": null,
      "outputs": [
        {
          "output_type": "stream",
          "name": "stdout",
          "text": [
            "Overwriting vetor_insert_critical.cpp\n"
          ]
        }
      ]
    },
    {
      "cell_type": "code",
      "source": [
        "!g++ -Wall -fopenmp vetor_insert_critical.cpp -o vetor_insert_critical"
      ],
      "metadata": {
        "id": "ZRJEVPRbtruM"
      },
      "execution_count": null,
      "outputs": []
    },
    {
      "cell_type": "code",
      "source": [
        "!./vetor_insert_critical"
      ],
      "metadata": {
        "colab": {
          "base_uri": "https://localhost:8080/"
        },
        "id": "cI-1wD_7twGm",
        "outputId": "27691935-8768-40d1-d75a-55b2bc12a292"
      },
      "execution_count": null,
      "outputs": [
        {
          "output_type": "stream",
          "name": "stdout",
          "text": [
            "10000 10002 10004 10006 10008 10010 10012 10014 10016 10018 10020 10022 10024 10026 10028 10030 10032 10034 10036 10038 10040 10042 10044 10046 10048 10050 10052 10054 10056 10058 10060 10062 10064 10066 10068 10070 10072 10074 10076 10078 10080 10082 10084 10086 10088 10090 10092 10094 10096 10098 10100 10102 10104 10106 10108 10110 10112 10114 10116 10118 10120 10122 10124 10126 10128 10130 10132 10134 10136 10138 10140 10142 10144 10146 10148 10150 10152 10154 10156 10158 10160 10162 10164 10166 10168 10170 10172 10174 10176 10178 10180 10182 10184 10186 10188 10190 10192 10194 10196 10198 10200 10202 10204 10206 10208 10210 10212 10214 10216 10218 10220 10222 10224 10226 10228 10230 10232 10234 10236 10238 10240 10242 10244 10246 10248 10250 10252 10254 10256 10258 10260 10262 10264 10266 10268 10270 10272 10274 10276 10278 10280 10282 10284 10286 10288 10290 10292 10294 10296 10298 10300 10302 10304 10306 10308 10310 10312 10314 10316 10318 10320 10322 10324 10326 10328 10330 10332 10334 10336 10338 10340 10342 10344 10346 10348 10350 10352 10354 10356 10358 10360 10362 10364 10366 10368 10370 10372 10374 10376 10378 10380 10382 10384 10386 10388 10390 10392 10394 10396 10398 10400 10402 10404 10406 10408 10410 10412 10414 10416 10418 10420 10422 10424 10426 10428 10430 10432 10434 10436 10438 10440 10442 10444 10446 10448 10450 10452 10454 10456 10458 10460 10462 10464 10466 10468 10470 10472 10474 10476 10478 10480 10482 10484 10486 10488 10490 10492 10494 10496 10498 10500 10502 10504 10506 10508 10510 10512 10514 10516 10518 10520 10522 10524 10526 10528 10530 10532 10534 10536 10538 10540 10542 10544 10546 10548 10550 10552 10554 10556 10558 10560 10562 10564 10566 10568 10570 10572 10574 10576 10578 10580 10582 10584 10586 10588 10590 10592 10594 10596 10598 10600 10602 10604 10606 10608 10610 10612 10614 10616 10618 10620 10622 10624 10626 10628 10630 10632 10634 10636 10638 10640 10642 10644 10646 10648 10650 10652 10654 10656 10658 10660 10662 10664 10666 10668 10670 10672 10674 10676 10678 10680 10682 10684 10686 10688 10690 10692 10694 10696 10698 10700 10702 10704 10706 10708 10710 10712 10714 10716 10718 10720 10722 10724 10726 10728 10730 10732 10734 10736 10738 10740 10742 10744 10746 10748 10750 10752 10754 10756 10758 10760 10762 10764 10766 10768 10770 10772 10774 10776 10778 10780 10782 10784 10786 10788 10790 10792 10794 10796 10798 10800 10802 10804 10806 10808 10810 10812 10814 10816 10818 10820 10822 10824 10826 10828 10830 10832 10834 10836 10838 10840 10842 10844 10846 10848 10850 10852 10854 10856 10858 10860 10862 10864 10866 10868 10870 10872 10874 10876 10878 10880 10882 10884 10886 10888 10890 10892 10894 10896 10898 10900 10902 10904 10906 10908 10910 10912 10914 10916 10918 10920 10922 10924 10926 10928 10930 10932 10934 10936 10938 10940 10942 10944 10946 10948 10950 10952 10954 10956 10958 10960 10962 10964 10966 10968 10970 10972 10974 10976 10978 10980 10982 10984 10986 10988 10990 10992 10994 10996 10998 11000 11002 11004 11006 11008 11010 11012 11014 11016 11018 11020 11022 11024 11026 11028 11030 11032 11034 11036 11038 11040 11042 11044 11046 11048 11050 11052 11054 11056 11058 11060 11062 11064 11066 11068 11070 11072 11074 11076 11078 11080 11082 11084 11086 11088 11090 11092 11094 11096 11098 11100 11102 11104 11106 11108 11110 11112 11114 11116 11118 11120 11122 11124 11126 11128 11130 11132 11134 11136 11138 11140 11142 11144 11146 11148 11150 11152 11154 11156 11158 11160 11162 11164 11166 11168 11170 11172 11174 11176 11178 11180 11182 11184 11186 11188 11190 11192 11194 11196 11198 11200 11202 11204 11206 11208 11210 11212 11214 11216 11218 11220 11222 11224 11226 11228 11230 11232 11234 11236 11238 11240 11242 11244 11246 11248 11250 11252 11254 11256 11258 11260 11262 11264 11266 11268 11270 11272 11274 11276 11278 11280 11282 11284 11286 11288 11290 11292 11294 11296 11298 11300 11302 11304 11306 11308 11310 11312 11314 11316 11318 11320 11322 11324 11326 11328 11330 11332 11334 11336 11338 11340 11342 11344 11346 11348 11350 11352 11354 11356 11358 11360 11362 11364 11366 11368 11370 11372 11374 11376 11378 11380 11382 11384 11386 11388 11390 11392 11394 11396 11398 11400 11402 11404 11406 11408 11410 11412 11414 11416 11418 11420 11422 11424 11426 11428 11430 11432 11434 11436 11438 11440 11442 11444 11446 11448 11450 11452 11454 11456 11458 11460 11462 11464 11466 11468 11470 11472 11474 11476 11478 11480 11482 11484 11486 11488 11490 11492 11494 11496 11498 11500 11502 11504 11506 11508 11510 11512 11514 11516 11518 11520 11522 11524 11526 11528 11530 11532 11534 11536 11538 11540 11542 11544 11546 11548 11550 11552 11554 11556 11558 11560 11562 11564 11566 11568 11570 11572 11574 11576 11578 11580 11582 11584 11586 11588 11590 11592 11594 11596 11598 11600 11602 11604 11606 11608 11610 11612 11614 11616 11618 11620 11622 11624 11626 11628 11630 11632 11634 11636 11638 11640 11642 11644 11646 11648 11650 11652 11654 11656 11658 11660 11662 11664 11666 11668 11670 11672 11674 11676 11678 11680 11682 11684 11686 11688 11690 11692 11694 11696 11698 11700 11702 11704 11706 11708 11710 11712 11714 11716 11718 11720 11722 11724 11726 11728 11730 11732 11734 11736 11738 11740 11742 11744 11746 11748 11750 11752 11754 11756 11758 11760 11762 11764 11766 11768 11770 11772 11774 11776 11778 11780 11782 11784 11786 11788 11790 11792 11794 11796 11798 11800 11802 11804 11806 11808 11810 11812 11814 11816 11818 11820 11822 11824 11826 11828 11830 11832 11834 11836 11838 11840 11842 11844 11846 11848 11850 11852 11854 11856 11858 11860 11862 11864 11866 11868 11870 11872 11874 11876 11878 11880 11882 11884 11886 11888 11890 11892 11894 11896 11898 11900 11902 11904 11906 11908 11910 11912 11914 11916 11918 11920 11922 11924 11926 11928 11930 11932 11934 11936 11938 11940 11942 11944 11946 11948 11950 11952 11954 11956 11958 11960 11962 11964 11966 11968 11970 11972 11974 11976 11978 11980 11982 11984 11986 11988 11990 11992 11994 11996 11998 12000 12002 12004 12006 12008 12010 12012 12014 12016 12018 12020 12022 12024 12026 12028 12030 12032 12034 12036 12038 12040 12042 12044 12046 12048 12050 12052 12054 12056 12058 12060 12062 12064 12066 12068 12070 12072 12074 12076 12078 12080 12082 12084 12086 12088 12090 12092 12094 12096 12098 12100 12102 12104 12106 12108 12110 12112 12114 12116 12118 12120 12122 12124 12126 12128 12130 12132 12134 12136 12138 12140 12142 12144 12146 12148 12150 12152 12154 12156 12158 12160 12162 12164 12166 12168 12170 12172 12174 12176 12178 12180 12182 12184 12186 12188 12190 12192 12194 12196 12198 12200 12202 12204 12206 12208 12210 12212 12214 12216 12218 12220 12222 12224 12226 12228 12230 12232 12234 12236 12238 12240 12242 12244 12246 12248 12250 12252 12254 12256 12258 12260 12262 12264 12266 12268 12270 12272 12274 12276 12278 12280 12282 12284 12286 12288 12290 12292 12294 12296 12298 12300 12302 12304 12306 12308 12310 12312 12314 12316 12318 12320 12322 12324 12326 12328 12330 12332 12334 12336 12338 12340 12342 12344 12346 12348 12350 12352 12354 12356 12358 12360 12362 12364 12366 12368 12370 12372 12374 12376 12378 12380 12382 12384 12386 12388 12390 12392 12394 12396 12398 12400 12402 12404 12406 12408 12410 12412 12414 12416 12418 12420 12422 12424 12426 12428 12430 12432 12434 12436 12438 12440 12442 12444 12446 12448 12450 12452 12454 12456 12458 12460 12462 12464 12466 12468 12470 12472 12474 12476 12478 12480 12482 12484 12486 12488 12490 12492 12494 12496 12498 12500 12502 12504 12506 12508 12510 12512 12514 12516 12518 12520 12522 12524 12526 12528 12530 12532 12534 12536 12538 12540 12542 12544 12546 12548 12550 12552 12554 12556 12558 12560 12562 12564 12566 12568 12570 12572 12574 12576 12578 12580 12582 12584 12586 12588 12590 12592 12594 12596 12598 12600 12602 12604 12606 12608 12610 12612 12614 12616 12618 12620 12622 12624 12626 12628 12630 12632 12634 12636 12638 12640 12642 12644 12646 12648 12650 12652 12654 12656 12658 12660 12662 12664 12666 12668 12670 12672 12674 12676 12678 12680 12682 12684 12686 12688 12690 12692 12694 12696 12698 12700 12702 12704 12706 12708 12710 12712 12714 12716 12718 12720 12722 12724 12726 12728 12730 12732 12734 12736 12738 12740 12742 12744 12746 12748 12750 12752 12754 12756 12758 12760 12762 12764 12766 12768 12770 12772 12774 12776 12778 12780 12782 12784 12786 12788 12790 12792 12794 12796 12798 12800 12802 12804 12806 12808 12810 12812 12814 12816 12818 12820 12822 12824 12826 12828 12830 12832 12834 12836 12838 12840 12842 12844 12846 12848 12850 12852 12854 12856 12858 12860 12862 12864 12866 12868 12870 12872 12874 12876 12878 12880 12882 12884 12886 12888 12890 12892 12894 12896 12898 12900 12902 12904 12906 12908 12910 12912 12914 12916 12918 12920 12922 12924 12926 12928 12930 12932 12934 12936 12938 12940 12942 12944 12946 12948 12950 12952 12954 12956 12958 12960 12962 12964 12966 12968 12970 12972 12974 12976 12978 12980 12982 12984 12986 12988 12990 12992 12994 12996 12998 13000 13002 13004 13006 13008 13010 13012 13014 13016 13018 13020 13022 13024 13026 13028 13030 13032 13034 13036 13038 13040 13042 13044 13046 13048 13050 13052 13054 13056 13058 13060 13062 13064 13066 13068 13070 13072 13074 13076 13078 13080 13082 13084 13086 13088 13090 13092 13094 13096 13098 13100 13102 13104 13106 13108 13110 13112 13114 13116 13118 13120 13122 13124 13126 13128 13130 13132 13134 13136 13138 13140 13142 13144 13146 13148 13150 13152 13154 13156 13158 13160 13162 13164 13166 13168 13170 13172 13174 13176 13178 13180 13182 13184 13186 13188 13190 13192 13194 13196 13198 13200 13202 13204 13206 13208 13210 13212 13214 13216 13218 13220 13222 13224 13226 13228 13230 13232 13234 13236 13238 13240 13242 13244 13246 13248 13250 13252 13254 13256 13258 13260 13262 13264 13266 13268 13270 13272 13274 13276 13278 13280 13282 13284 13286 13288 13290 13292 13294 13296 13298 13300 13302 13304 13306 13308 13310 13312 13314 13316 13318 13320 13322 13324 13326 13328 13330 13332 13334 13336 13338 13340 13342 13344 13346 13348 13350 13352 13354 13356 13358 13360 13362 13364 13366 13368 13370 13372 13374 13376 13378 13380 13382 13384 13386 13388 13390 13392 13394 13396 13398 13400 13402 13404 13406 13408 13410 13412 13414 13416 13418 13420 13422 13424 13426 13428 13430 13432 13434 13436 13438 13440 13442 13444 13446 13448 13450 13452 13454 13456 13458 13460 13462 13464 13466 13468 13470 13472 13474 13476 13478 13480 13482 13484 13486 13488 13490 13492 13494 13496 13498 13500 13502 13504 13506 13508 13510 13512 13514 13516 13518 13520 13522 13524 13526 13528 13530 13532 13534 13536 13538 13540 13542 13544 13546 13548 13550 13552 13554 13556 13558 13560 13562 13564 13566 13568 13570 13572 13574 13576 13578 13580 13582 13584 13586 13588 13590 13592 13594 13596 13598 13600 13602 13604 13606 13608 13610 13612 13614 13616 13618 13620 13622 13624 13626 13628 13630 13632 13634 13636 13638 13640 13642 13644 13646 13648 13650 13652 13654 13656 13658 13660 13662 13664 13666 13668 13670 13672 13674 13676 13678 13680 13682 13684 13686 13688 13690 13692 13694 13696 13698 13700 13702 13704 13706 13708 13710 13712 13714 13716 13718 13720 13722 13724 13726 13728 13730 13732 13734 13736 13738 13740 13742 13744 13746 13748 13750 13752 13754 13756 13758 13760 13762 13764 13766 13768 13770 13772 13774 13776 13778 13780 13782 13784 13786 13788 13790 13792 13794 13796 13798 13800 13802 13804 13806 13808 13810 13812 13814 13816 13818 13820 13822 13824 13826 13828 13830 13832 13834 13836 13838 13840 13842 13844 13846 13848 13850 13852 13854 13856 13858 13860 13862 13864 13866 13868 13870 13872 13874 13876 13878 13880 13882 13884 13886 13888 13890 13892 13894 13896 13898 13900 13902 13904 13906 13908 13910 13912 13914 13916 13918 13920 13922 13924 13926 13928 13930 13932 13934 13936 13938 13940 13942 13944 13946 13948 13950 13952 13954 13956 13958 13960 13962 13964 13966 13968 13970 13972 13974 13976 13978 13980 13982 13984 13986 13988 13990 13992 13994 13996 13998 14000 14002 14004 14006 14008 14010 14012 14014 14016 14018 14020 14022 14024 14026 14028 14030 14032 14034 14036 14038 14040 14042 14044 14046 14048 14050 14052 14054 14056 14058 14060 14062 14064 14066 14068 14070 14072 14074 14076 14078 14080 14082 14084 14086 14088 14090 14092 14094 14096 14098 14100 14102 14104 14106 14108 14110 14112 14114 14116 14118 14120 14122 14124 14126 14128 14130 14132 14134 14136 14138 14140 14142 14144 14146 14148 14150 14152 14154 14156 14158 14160 14162 14164 14166 14168 14170 14172 14174 14176 14178 14180 14182 14184 14186 14188 14190 14192 14194 14196 14198 14200 14202 14204 14206 14208 14210 14212 14214 14216 14218 14220 14222 14224 14226 14228 14230 14232 14234 14236 14238 14240 14242 14244 14246 14248 14250 14252 14254 14256 14258 14260 14262 14264 14266 14268 14270 14272 14274 14276 14278 14280 14282 14284 14286 14288 14290 14292 14294 14296 14298 14300 14302 14304 14306 14308 14310 14312 14314 14316 14318 14320 14322 14324 14326 14328 14330 14332 14334 14336 14338 14340 14342 14344 14346 14348 14350 14352 14354 14356 14358 14360 14362 14364 14366 14368 14370 14372 14374 14376 14378 14380 14382 14384 14386 14388 14390 14392 14394 14396 14398 14400 14402 14404 14406 14408 14410 14412 14414 14416 14418 14420 14422 14424 14426 14428 14430 14432 14434 14436 14438 14440 14442 14444 14446 14448 14450 14452 14454 14456 14458 14460 14462 14464 14466 14468 14470 14472 14474 14476 14478 14480 14482 14484 14486 14488 14490 14492 14494 14496 14498 14500 14502 14504 14506 14508 14510 14512 14514 14516 14518 14520 14522 14524 14526 14528 14530 14532 14534 14536 14538 14540 14542 14544 14546 14548 14550 14552 14554 14556 14558 14560 14562 14564 14566 14568 14570 14572 14574 14576 14578 14580 14582 14584 14586 14588 14590 14592 14594 14596 14598 14600 14602 14604 14606 14608 14610 14612 14614 14616 14618 14620 14622 14624 14626 14628 14630 14632 14634 14636 14638 14640 14642 14644 14646 14648 14650 14652 14654 14656 14658 14660 14662 14664 14666 14668 14670 14672 14674 14676 14678 14680 14682 14684 14686 14688 14690 14692 14694 14696 14698 14700 14702 14704 14706 14708 14710 14712 14714 14716 14718 14720 14722 14724 14726 14728 14730 14732 14734 14736 14738 14740 14742 14744 14746 14748 14750 14752 14754 14756 14758 14760 14762 14764 14766 14768 14770 14772 14774 14776 14778 14780 14782 14784 14786 14788 14790 14792 14794 14796 14798 14800 14802 14804 14806 14808 14810 14812 14814 14816 14818 14820 14822 14824 14826 14828 14830 14832 14834 14836 14838 14840 14842 14844 14846 14848 14850 14852 14854 14856 14858 14860 14862 14864 14866 14868 14870 14872 14874 14876 14878 14880 14882 14884 14886 14888 14890 14892 14894 14896 14898 14900 14902 14904 14906 14908 14910 14912 14914 14916 14918 14920 14922 14924 14926 14928 14930 14932 14934 14936 14938 14940 14942 14944 14946 14948 14950 14952 14954 14956 14958 14960 14962 14964 14966 14968 14970 14972 14974 14976 14978 14980 14982 14984 14986 14988 14990 14992 14994 14996 14998 15000 15002 15004 15006 15008 15010 15012 15014 15016 15018 15020 15022 15024 15026 15028 15030 15032 15034 15036 15038 15040 15042 15044 15046 15048 15050 15052 15054 15056 15058 15060 15062 15064 15066 15068 15070 15072 15074 15076 15078 15080 15082 15084 15086 15088 15090 15092 15094 15096 15098 15100 15102 15104 15106 15108 15110 15112 15114 15116 15118 15120 15122 15124 15126 15128 15130 15132 15134 15136 15138 15140 15142 15144 15146 15148 15150 15152 15154 15156 15158 15160 15162 15164 15166 15168 15170 15172 15174 15176 15178 15180 15182 15184 15186 15188 15190 15192 15194 15196 15198 15200 15202 15204 15206 15208 15210 15212 15214 15216 15218 15220 15222 15224 15226 15228 15230 15232 15234 15236 15238 15240 15242 15244 15246 15248 15250 15252 15254 15256 15258 15260 15262 15264 15266 15268 15270 15272 15274 15276 15278 15280 15282 15284 15286 15288 15290 15292 15294 15296 15298 15300 15302 15304 15306 15308 15310 15312 15314 15316 15318 15320 15322 15324 15326 15328 15330 15332 15334 15336 15338 15340 15342 15344 15346 15348 15350 15352 15354 15356 15358 15360 15362 15364 15366 15368 15370 15372 15374 15376 15378 15380 15382 15384 15386 15388 15390 15392 15394 15396 15398 15400 15402 15404 15406 15408 15410 15412 15414 15416 15418 15420 15422 15424 15426 15428 15430 15432 15434 15436 15438 15440 15442 15444 15446 15448 15450 15452 15454 15456 15458 15460 15462 15464 15466 15468 15470 15472 15474 15476 15478 15480 15482 15484 15486 15488 15490 15492 15494 15496 15498 15500 15502 15504 15506 15508 15510 15512 15514 15516 15518 15520 15522 15524 15526 15528 15530 15532 15534 15536 15538 15540 15542 15544 15546 15548 15550 15552 15554 15556 15558 15560 15562 15564 15566 15568 15570 15572 15574 15576 15578 15580 15582 15584 15586 15588 15590 15592 15594 15596 15598 15600 15602 15604 15606 15608 15610 15612 15614 15616 15618 15620 15622 15624 15626 15628 15630 15632 15634 15636 15638 15640 15642 15644 15646 15648 15650 15652 15654 15656 15658 15660 15662 15664 15666 15668 15670 15672 15674 15676 15678 15680 15682 15684 15686 15688 15690 15692 15694 15696 15698 15700 15702 15704 15706 15708 15710 15712 15714 15716 15718 15720 15722 15724 15726 15728 15730 15732 15734 15736 15738 15740 15742 15744 15746 15748 15750 15752 15754 15756 15758 15760 15762 15764 15766 15768 15770 15772 15774 15776 15778 15780 15782 15784 15786 15788 15790 15792 15794 15796 15798 15800 15802 15804 15806 15808 15810 15812 15814 15816 15818 15820 15822 15824 15826 15828 15830 15832 15834 15836 15838 15840 15842 15844 15846 15848 15850 15852 15854 15856 15858 15860 15862 15864 15866 15868 15870 15872 15874 15876 15878 15880 15882 15884 15886 15888 15890 15892 15894 15896 15898 15900 15902 15904 15906 15908 15910 15912 15914 15916 15918 15920 15922 15924 15926 15928 15930 15932 15934 15936 15938 15940 15942 15944 15946 15948 15950 15952 15954 15956 15958 15960 15962 15964 15966 15968 15970 15972 15974 15976 15978 15980 15982 15984 15986 15988 15990 15992 15994 15996 15998 16000 16002 16004 16006 16008 16010 16012 16014 16016 16018 16020 16022 16024 16026 16028 16030 16032 16034 16036 16038 16040 16042 16044 16046 16048 16050 16052 16054 16056 16058 16060 16062 16064 16066 16068 16070 16072 16074 16076 16078 16080 16082 16084 16086 16088 16090 16092 16094 16096 16098 16100 16102 16104 16106 16108 16110 16112 16114 16116 16118 16120 16122 16124 16126 16128 16130 16132 16134 16136 16138 16140 16142 16144 16146 16148 16150 16152 16154 16156 16158 16160 16162 16164 16166 16168 16170 16172 16174 16176 16178 16180 16182 16184 16186 16188 16190 16192 16194 16196 16198 16200 16202 16204 16206 16208 16210 16212 16214 16216 16218 16220 16222 16224 16226 16228 16230 16232 16234 16236 16238 16240 16242 16244 16246 16248 16250 16252 16254 16256 16258 16260 16262 16264 16266 16268 16270 16272 16274 16276 16278 16280 16282 16284 16286 16288 16290 16292 16294 16296 16298 16300 16302 16304 16306 16308 16310 16312 16314 16316 16318 16320 16322 16324 16326 16328 16330 16332 16334 16336 16338 16340 16342 16344 16346 16348 16350 16352 16354 16356 16358 16360 16362 16364 16366 16368 16370 16372 16374 16376 16378 16380 16382 16384 16386 16388 16390 16392 16394 16396 16398 16400 16402 16404 16406 16408 16410 16412 16414 16416 16418 16420 16422 16424 16426 16428 16430 16432 16434 16436 16438 16440 16442 16444 16446 16448 16450 16452 16454 16456 16458 16460 16462 16464 16466 16468 16470 16472 16474 16476 16478 16480 16482 16484 16486 16488 16490 16492 16494 16496 16498 16500 16502 16504 16506 16508 16510 16512 16514 16516 16518 16520 16522 16524 16526 16528 16530 16532 16534 16536 16538 16540 16542 16544 16546 16548 16550 16552 16554 16556 16558 16560 16562 16564 16566 16568 16570 16572 16574 16576 16578 16580 16582 16584 16586 16588 16590 16592 16594 16596 16598 16600 16602 16604 16606 16608 16610 16612 16614 16616 16618 16620 16622 16624 16626 16628 16630 16632 16634 16636 16638 16640 16642 16644 16646 16648 16650 16652 16654 16656 16658 16660 16662 16664 16666 16668 16670 16672 16674 16676 16678 16680 16682 16684 16686 16688 16690 16692 16694 16696 16698 16700 16702 16704 16706 16708 16710 16712 16714 16716 16718 16720 16722 16724 16726 16728 16730 16732 16734 16736 16738 16740 16742 16744 16746 16748 16750 16752 16754 16756 16758 16760 16762 16764 16766 16768 16770 16772 16774 16776 16778 16780 16782 16784 16786 16788 16790 16792 16794 16796 16798 16800 16802 16804 16806 16808 16810 16812 16814 16816 16818 16820 16822 16824 16826 16828 16830 16832 16834 16836 16838 16840 16842 16844 16846 16848 16850 16852 16854 16856 16858 16860 16862 16864 16866 16868 16870 16872 16874 16876 16878 16880 16882 16884 16886 16888 16890 16892 16894 16896 16898 16900 16902 16904 16906 16908 16910 16912 16914 16916 16918 16920 16922 16924 16926 16928 16930 16932 16934 16936 16938 16940 16942 16944 16946 16948 16950 16952 16954 16956 16958 16960 16962 16964 16966 16968 16970 16972 16974 16976 16978 16980 16982 16984 16986 16988 16990 16992 16994 16996 16998 17000 17002 17004 17006 17008 17010 17012 17014 17016 17018 17020 17022 17024 17026 17028 17030 17032 17034 17036 17038 17040 17042 17044 17046 17048 17050 17052 17054 17056 17058 17060 17062 17064 17066 17068 17070 17072 17074 17076 17078 17080 17082 17084 17086 17088 17090 17092 17094 17096 17098 17100 17102 17104 17106 17108 17110 17112 17114 17116 17118 17120 17122 17124 17126 17128 17130 17132 17134 17136 17138 17140 17142 17144 17146 17148 17150 17152 17154 17156 17158 17160 17162 17164 17166 17168 17170 17172 17174 17176 17178 17180 17182 17184 17186 17188 17190 17192 17194 17196 17198 17200 17202 17204 17206 17208 17210 17212 17214 17216 17218 17220 17222 17224 17226 17228 17230 17232 17234 17236 17238 17240 17242 17244 17246 17248 17250 17252 17254 17256 17258 17260 17262 17264 17266 17268 17270 17272 17274 17276 17278 17280 17282 17284 17286 17288 17290 17292 17294 17296 17298 17300 17302 17304 17306 17308 17310 17312 17314 17316 17318 17320 17322 17324 17326 17328 17330 17332 17334 17336 17338 17340 17342 17344 17346 17348 17350 17352 17354 17356 17358 17360 17362 17364 17366 17368 17370 17372 17374 17376 17378 17380 17382 17384 17386 17388 17390 17392 17394 17396 17398 17400 17402 17404 17406 17408 17410 17412 17414 17416 17418 17420 17422 17424 17426 17428 17430 17432 17434 17436 17438 17440 17442 17444 17446 17448 17450 17452 17454 17456 17458 17460 17462 17464 17466 17468 17470 17472 17474 17476 17478 17480 17482 17484 17486 17488 17490 17492 17494 17496 17498 17500 17502 17504 17506 17508 17510 17512 17514 17516 17518 17520 17522 17524 17526 17528 17530 17532 17534 17536 17538 17540 17542 17544 17546 17548 17550 17552 17554 17556 17558 17560 17562 17564 17566 17568 17570 17572 17574 17576 17578 17580 17582 17584 17586 17588 17590 17592 17594 17596 17598 17600 17602 17604 17606 17608 17610 17612 17614 17616 17618 17620 17622 17624 17626 17628 17630 17632 17634 17636 17638 17640 17642 17644 17646 17648 17650 17652 17654 17656 17658 17660 17662 17664 17666 17668 17670 17672 17674 17676 17678 17680 17682 17684 17686 17688 17690 17692 17694 17696 17698 17700 17702 17704 17706 17708 17710 17712 17714 17716 17718 17720 17722 17724 17726 17728 17730 17732 17734 17736 17738 17740 17742 17744 17746 17748 17750 17752 17754 17756 17758 17760 17762 17764 17766 17768 17770 17772 17774 17776 17778 17780 17782 17784 17786 17788 17790 17792 17794 17796 17798 17800 17802 17804 17806 17808 17810 17812 17814 17816 17818 17820 17822 17824 17826 17828 17830 17832 17834 17836 17838 17840 17842 17844 17846 17848 17850 17852 17854 17856 17858 17860 17862 17864 17866 17868 17870 17872 17874 17876 17878 17880 17882 17884 17886 17888 17890 17892 17894 17896 17898 17900 17902 17904 17906 17908 17910 17912 17914 17916 17918 17920 17922 17924 17926 17928 17930 17932 17934 17936 17938 17940 17942 17944 17946 17948 17950 17952 17954 17956 17958 17960 17962 17964 17966 17968 17970 17972 17974 17976 17978 17980 17982 17984 17986 17988 17990 17992 17994 17996 17998 18000 18002 18004 18006 18008 18010 18012 18014 18016 18018 18020 18022 18024 18026 18028 18030 18032 18034 18036 18038 18040 18042 18044 18046 18048 18050 18052 18054 18056 18058 18060 18062 18064 18066 18068 18070 18072 18074 18076 18078 18080 18082 18084 18086 18088 18090 18092 18094 18096 18098 18100 18102 18104 18106 18108 18110 18112 18114 18116 18118 18120 18122 18124 18126 18128 18130 18132 18134 18136 18138 18140 18142 18144 18146 18148 18150 18152 18154 18156 18158 18160 18162 18164 18166 18168 18170 18172 18174 18176 18178 18180 18182 18184 18186 18188 18190 18192 18194 18196 18198 18200 18202 18204 18206 18208 18210 18212 18214 18216 18218 18220 18222 18224 18226 18228 18230 18232 18234 18236 18238 18240 18242 18244 18246 18248 18250 18252 18254 18256 18258 18260 18262 18264 18266 18268 18270 18272 18274 18276 18278 18280 18282 18284 18286 18288 18290 18292 18294 18296 18298 18300 18302 18304 18306 18308 18310 18312 18314 18316 18318 18320 18322 18324 18326 18328 18330 18332 18334 18336 18338 18340 18342 18344 18346 18348 18350 18352 18354 18356 18358 18360 18362 18364 18366 18368 18370 18372 18374 18376 18378 18380 18382 18384 18386 18388 18390 18392 18394 18396 18398 18400 18402 18404 18406 18408 18410 18412 18414 18416 18418 18420 18422 18424 18426 18428 18430 18432 18434 18436 18438 18440 18442 18444 18446 18448 18450 18452 18454 18456 18458 18460 18462 18464 18466 18468 18470 18472 18474 18476 18478 18480 18482 18484 18486 18488 18490 18492 18494 18496 18498 18500 18502 18504 18506 18508 18510 18512 18514 18516 18518 18520 18522 18524 18526 18528 18530 18532 18534 18536 18538 18540 18542 18544 18546 18548 18550 18552 18554 18556 18558 18560 18562 18564 18566 18568 18570 18572 18574 18576 18578 18580 18582 18584 18586 18588 18590 18592 18594 18596 18598 18600 18602 18604 18606 18608 18610 18612 18614 18616 18618 18620 18622 18624 18626 18628 18630 18632 18634 18636 18638 18640 18642 18644 18646 18648 18650 18652 18654 18656 18658 18660 18662 18664 18666 18668 18670 18672 18674 18676 18678 18680 18682 18684 18686 18688 18690 18692 18694 18696 18698 18700 18702 18704 18706 18708 18710 18712 18714 18716 18718 18720 18722 18724 18726 18728 18730 18732 18734 18736 18738 18740 18742 18744 18746 18748 18750 18752 18754 18756 18758 18760 18762 18764 18766 18768 18770 18772 18774 18776 18778 18780 18782 18784 18786 18788 18790 18792 18794 18796 18798 18800 18802 18804 18806 18808 18810 18812 18814 18816 18818 18820 18822 18824 18826 18828 18830 18832 18834 18836 18838 18840 18842 18844 18846 18848 18850 18852 18854 18856 18858 18860 18862 18864 18866 18868 18870 18872 18874 18876 18878 18880 18882 18884 18886 18888 18890 18892 18894 18896 18898 18900 18902 18904 18906 18908 18910 18912 18914 18916 18918 18920 18922 18924 18926 18928 18930 18932 18934 18936 18938 18940 18942 18944 18946 18948 18950 18952 18954 18956 18958 18960 18962 18964 18966 18968 18970 18972 18974 18976 18978 18980 18982 18984 18986 18988 18990 18992 18994 18996 18998 19000 19002 19004 19006 19008 19010 19012 19014 19016 19018 19020 19022 19024 19026 19028 19030 19032 19034 19036 19038 19040 19042 19044 19046 19048 19050 19052 19054 19056 19058 19060 19062 19064 19066 19068 19070 19072 19074 19076 19078 19080 19082 19084 19086 19088 19090 19092 19094 19096 19098 19100 19102 19104 19106 19108 19110 19112 19114 19116 19118 19120 19122 19124 19126 19128 19130 19132 19134 19136 19138 19140 19142 19144 19146 19148 19150 19152 19154 19156 19158 19160 19162 19164 19166 19168 19170 19172 19174 19176 19178 19180 19182 19184 19186 19188 19190 19192 19194 19196 19198 19200 19202 19204 19206 19208 19210 19212 19214 19216 19218 19220 19222 19224 19226 19228 19230 19232 19234 19236 19238 19240 19242 19244 19246 19248 19250 19252 19254 19256 19258 19260 19262 19264 19266 19268 19270 19272 19274 19276 19278 19280 19282 19284 19286 19288 19290 19292 19294 19296 19298 19300 19302 19304 19306 19308 19310 19312 19314 19316 19318 19320 19322 19324 19326 19328 19330 19332 19334 19336 19338 19340 19342 19344 19346 19348 19350 19352 19354 19356 19358 19360 19362 19364 19366 19368 19370 19372 19374 19376 19378 19380 19382 19384 19386 19388 19390 19392 19394 19396 19398 19400 19402 19404 19406 19408 19410 19412 19414 19416 19418 19420 19422 19424 19426 19428 19430 19432 19434 19436 19438 19440 19442 19444 19446 19448 19450 19452 19454 19456 19458 19460 19462 19464 19466 19468 19470 19472 19474 19476 19478 19480 19482 19484 19486 19488 19490 19492 19494 19496 19498 19500 19502 19504 19506 19508 19510 19512 19514 19516 19518 19520 19522 19524 19526 19528 19530 19532 19534 19536 19538 19540 19542 19544 19546 19548 19550 19552 19554 19556 19558 19560 19562 19564 19566 19568 19570 19572 19574 19576 19578 19580 19582 19584 19586 19588 19590 19592 19594 19596 19598 19600 19602 19604 19606 19608 19610 19612 19614 19616 19618 19620 19622 19624 19626 19628 19630 19632 19634 19636 19638 19640 19642 19644 19646 19648 19650 19652 19654 19656 19658 19660 19662 19664 19666 19668 19670 19672 19674 19676 19678 19680 19682 19684 19686 19688 19690 19692 19694 19696 19698 19700 19702 19704 19706 19708 19710 19712 19714 19716 19718 19720 19722 19724 19726 19728 19730 19732 19734 19736 19738 19740 19742 19744 19746 19748 19750 19752 19754 19756 19758 19760 19762 19764 19766 19768 19770 19772 19774 19776 19778 19780 19782 19784 19786 19788 19790 19792 19794 19796 19798 19800 19802 19804 19806 19808 19810 19812 19814 19816 19818 19820 19822 19824 19826 19828 19830 19832 19834 19836 19838 19840 19842 19844 19846 19848 19850 19852 19854 19856 19858 19860 19862 19864 19866 19868 19870 19872 19874 19876 19878 19880 19882 19884 19886 19888 19890 19892 19894 19896 19898 19900 19902 19904 19906 19908 19910 19912 19914 19916 19918 19920 19922 19924 19926 19928 19930 19932 19934 19936 19938 19940 19942 19944 19946 19948 19950 19952 19954 19956 19958 19960 19962 19964 19966 19968 19970 19972 19974 19976 19978 19980 19982 19984 19986 19988 19990 19992 19994 19996 19998 0 2 4 6 8 10 12 14 16 18 20 22 24 26 28 30 32 34 36 38 40 42 44 46 48 50 52 54 56 58 60 62 64 66 68 70 72 74 76 78 80 82 84 86 88 90 92 94 96 98 100 102 104 106 108 110 112 114 116 118 120 122 124 126 128 130 132 134 136 138 140 142 144 146 148 150 152 154 156 158 160 162 164 166 168 170 172 174 176 178 180 182 184 186 188 190 192 194 196 198 200 202 204 206 208 210 212 214 216 218 220 222 224 226 228 230 232 234 236 238 240 242 244 246 248 250 252 254 256 258 260 262 264 266 268 270 272 274 276 278 280 282 284 286 288 290 292 294 296 298 300 302 304 306 308 310 312 314 316 318 320 322 324 326 328 330 332 334 336 338 340 342 344 346 348 350 352 354 356 358 360 362 364 366 368 370 372 374 376 378 380 382 384 386 388 390 392 394 396 398 400 402 404 406 408 410 412 414 416 418 420 422 424 426 428 430 432 434 436 438 440 442 444 446 448 450 452 454 456 458 460 462 464 466 468 470 472 474 476 478 480 482 484 486 488 490 492 494 496 498 500 502 504 506 508 510 512 514 516 518 520 522 524 526 528 530 532 534 536 538 540 542 544 546 548 550 552 554 556 558 560 562 564 566 568 570 572 574 576 578 580 582 584 586 588 590 592 594 596 598 600 602 604 606 608 610 612 614 616 618 620 622 624 626 628 630 632 634 636 638 640 642 644 646 648 650 652 654 656 658 660 662 664 666 668 670 672 674 676 678 680 682 684 686 688 690 692 694 696 698 700 702 704 706 708 710 712 714 716 718 720 722 724 726 728 730 732 734 736 738 740 742 744 746 748 750 752 754 756 758 760 762 764 766 768 770 772 774 776 778 780 782 784 786 788 790 792 794 796 798 800 802 804 806 808 810 812 814 816 818 820 822 824 826 828 830 832 834 836 838 840 842 844 846 848 850 852 854 856 858 860 862 864 866 868 870 872 874 876 878 880 882 884 886 888 890 892 894 896 898 900 902 904 906 908 910 912 914 916 918 920 922 924 926 928 930 932 934 936 938 940 942 944 946 948 950 952 954 956 958 960 962 964 966 968 970 972 974 976 978 980 982 984 986 988 990 992 994 996 998 1000 1002 1004 1006 1008 1010 1012 1014 1016 1018 1020 1022 1024 1026 1028 1030 1032 1034 1036 1038 1040 1042 1044 1046 1048 1050 1052 1054 1056 1058 1060 1062 1064 1066 1068 1070 1072 1074 1076 1078 1080 1082 1084 1086 1088 1090 1092 1094 1096 1098 1100 1102 1104 1106 1108 1110 1112 1114 1116 1118 1120 1122 1124 1126 1128 1130 1132 1134 1136 1138 1140 1142 1144 1146 1148 1150 1152 1154 1156 1158 1160 1162 1164 1166 1168 1170 1172 1174 1176 1178 1180 1182 1184 1186 1188 1190 1192 1194 1196 1198 1200 1202 1204 1206 1208 1210 1212 1214 1216 1218 1220 1222 1224 1226 1228 1230 1232 1234 1236 1238 1240 1242 1244 1246 1248 1250 1252 1254 1256 1258 1260 1262 1264 1266 1268 1270 1272 1274 1276 1278 1280 1282 1284 1286 1288 1290 1292 1294 1296 1298 1300 1302 1304 1306 1308 1310 1312 1314 1316 1318 1320 1322 1324 1326 1328 1330 1332 1334 1336 1338 1340 1342 1344 1346 1348 1350 1352 1354 1356 1358 1360 1362 1364 1366 1368 1370 1372 1374 1376 1378 1380 1382 1384 1386 1388 1390 1392 1394 1396 1398 1400 1402 1404 1406 1408 1410 1412 1414 1416 1418 1420 1422 1424 1426 1428 1430 1432 1434 1436 1438 1440 1442 1444 1446 1448 1450 1452 1454 1456 1458 1460 1462 1464 1466 1468 1470 1472 1474 1476 1478 1480 1482 1484 1486 1488 1490 1492 1494 1496 1498 1500 1502 1504 1506 1508 1510 1512 1514 1516 1518 1520 1522 1524 1526 1528 1530 1532 1534 1536 1538 1540 1542 1544 1546 1548 1550 1552 1554 1556 1558 1560 1562 1564 1566 1568 1570 1572 1574 1576 1578 1580 1582 1584 1586 1588 1590 1592 1594 1596 1598 1600 1602 1604 1606 1608 1610 1612 1614 1616 1618 1620 1622 1624 1626 1628 1630 1632 1634 1636 1638 1640 1642 1644 1646 1648 1650 1652 1654 1656 1658 1660 1662 1664 1666 1668 1670 1672 1674 1676 1678 1680 1682 1684 1686 1688 1690 1692 1694 1696 1698 1700 1702 1704 1706 1708 1710 1712 1714 1716 1718 1720 1722 1724 1726 1728 1730 1732 1734 1736 1738 1740 1742 1744 1746 1748 1750 1752 1754 1756 1758 1760 1762 1764 1766 1768 1770 1772 1774 1776 1778 1780 1782 1784 1786 1788 1790 1792 1794 1796 1798 1800 1802 1804 1806 1808 1810 1812 1814 1816 1818 1820 1822 1824 1826 1828 1830 1832 1834 1836 1838 1840 1842 1844 1846 1848 1850 1852 1854 1856 1858 1860 1862 1864 1866 1868 1870 1872 1874 1876 1878 1880 1882 1884 1886 1888 1890 1892 1894 1896 1898 1900 1902 1904 1906 1908 1910 1912 1914 1916 1918 1920 1922 1924 1926 1928 1930 1932 1934 1936 1938 1940 1942 1944 1946 1948 1950 1952 1954 1956 1958 1960 1962 1964 1966 1968 1970 1972 1974 1976 1978 1980 1982 1984 1986 1988 1990 1992 1994 1996 1998 2000 2002 2004 2006 2008 2010 2012 2014 2016 2018 2020 2022 2024 2026 2028 2030 2032 2034 2036 2038 2040 2042 2044 2046 2048 2050 2052 2054 2056 2058 2060 2062 2064 2066 2068 2070 2072 2074 2076 2078 2080 2082 2084 2086 2088 2090 2092 2094 2096 2098 2100 2102 2104 2106 2108 2110 2112 2114 2116 2118 2120 2122 2124 2126 2128 2130 2132 2134 2136 2138 2140 2142 2144 2146 2148 2150 2152 2154 2156 2158 2160 2162 2164 2166 2168 2170 2172 2174 2176 2178 2180 2182 2184 2186 2188 2190 2192 2194 2196 2198 2200 2202 2204 2206 2208 2210 2212 2214 2216 2218 2220 2222 2224 2226 2228 2230 2232 2234 2236 2238 2240 2242 2244 2246 2248 2250 2252 2254 2256 2258 2260 2262 2264 2266 2268 2270 2272 2274 2276 2278 2280 2282 2284 2286 2288 2290 2292 2294 2296 2298 2300 2302 2304 2306 2308 2310 2312 2314 2316 2318 2320 2322 2324 2326 2328 2330 2332 2334 2336 2338 2340 2342 2344 2346 2348 2350 2352 2354 2356 2358 2360 2362 2364 2366 2368 2370 2372 2374 2376 2378 2380 2382 2384 2386 2388 2390 2392 2394 2396 2398 2400 2402 2404 2406 2408 2410 2412 2414 2416 2418 2420 2422 2424 2426 2428 2430 2432 2434 2436 2438 2440 2442 2444 2446 2448 2450 2452 2454 2456 2458 2460 2462 2464 2466 2468 2470 2472 2474 2476 2478 2480 2482 2484 2486 2488 2490 2492 2494 2496 2498 2500 2502 2504 2506 2508 2510 2512 2514 2516 2518 2520 2522 2524 2526 2528 2530 2532 2534 2536 2538 2540 2542 2544 2546 2548 2550 2552 2554 2556 2558 2560 2562 2564 2566 2568 2570 2572 2574 2576 2578 2580 2582 2584 2586 2588 2590 2592 2594 2596 2598 2600 2602 2604 2606 2608 2610 2612 2614 2616 2618 2620 2622 2624 2626 2628 2630 2632 2634 2636 2638 2640 2642 2644 2646 2648 2650 2652 2654 2656 2658 2660 2662 2664 2666 2668 2670 2672 2674 2676 2678 2680 2682 2684 2686 2688 2690 2692 2694 2696 2698 2700 2702 2704 2706 2708 2710 2712 2714 2716 2718 2720 2722 2724 2726 2728 2730 2732 2734 2736 2738 2740 2742 2744 2746 2748 2750 2752 2754 2756 2758 2760 2762 2764 2766 2768 2770 2772 2774 2776 2778 2780 2782 2784 2786 2788 2790 2792 2794 2796 2798 2800 2802 2804 2806 2808 2810 2812 2814 2816 2818 2820 2822 2824 2826 2828 2830 2832 2834 2836 2838 2840 2842 2844 2846 2848 2850 2852 2854 2856 2858 2860 2862 2864 2866 2868 2870 2872 2874 2876 2878 2880 2882 2884 2886 2888 2890 2892 2894 2896 2898 2900 2902 2904 2906 2908 2910 2912 2914 2916 2918 2920 2922 2924 2926 2928 2930 2932 2934 2936 2938 2940 2942 2944 2946 2948 2950 2952 2954 2956 2958 2960 2962 2964 2966 2968 2970 2972 2974 2976 2978 2980 2982 2984 2986 2988 2990 2992 2994 2996 2998 3000 3002 3004 3006 3008 3010 3012 3014 3016 3018 3020 3022 3024 3026 3028 3030 3032 3034 3036 3038 3040 3042 3044 3046 3048 3050 3052 3054 3056 3058 3060 3062 3064 3066 3068 3070 3072 3074 3076 3078 3080 3082 3084 3086 3088 3090 3092 3094 3096 3098 3100 3102 3104 3106 3108 3110 3112 3114 3116 3118 3120 3122 3124 3126 3128 3130 3132 3134 3136 3138 3140 3142 3144 3146 3148 3150 3152 3154 3156 3158 3160 3162 3164 3166 3168 3170 3172 3174 3176 3178 3180 3182 3184 3186 3188 3190 3192 3194 3196 3198 3200 3202 3204 3206 3208 3210 3212 3214 3216 3218 3220 3222 3224 3226 3228 3230 3232 3234 3236 3238 3240 3242 3244 3246 3248 3250 3252 3254 3256 3258 3260 3262 3264 3266 3268 3270 3272 3274 3276 3278 3280 3282 3284 3286 3288 3290 3292 3294 3296 3298 3300 3302 3304 3306 3308 3310 3312 3314 3316 3318 3320 3322 3324 3326 3328 3330 3332 3334 3336 3338 3340 3342 3344 3346 3348 3350 3352 3354 3356 3358 3360 3362 3364 3366 3368 3370 3372 3374 3376 3378 3380 3382 3384 3386 3388 3390 3392 3394 3396 3398 3400 3402 3404 3406 3408 3410 3412 3414 3416 3418 3420 3422 3424 3426 3428 3430 3432 3434 3436 3438 3440 3442 3444 3446 3448 3450 3452 3454 3456 3458 3460 3462 3464 3466 3468 3470 3472 3474 3476 3478 3480 3482 3484 3486 3488 3490 3492 3494 3496 3498 3500 3502 3504 3506 3508 3510 3512 3514 3516 3518 3520 3522 3524 3526 3528 3530 3532 3534 3536 3538 3540 3542 3544 3546 3548 3550 3552 3554 3556 3558 3560 3562 3564 3566 3568 3570 3572 3574 3576 3578 3580 3582 3584 3586 3588 3590 3592 3594 3596 3598 3600 3602 3604 3606 3608 3610 3612 3614 3616 3618 3620 3622 3624 3626 3628 3630 3632 3634 3636 3638 3640 3642 3644 3646 3648 3650 3652 3654 3656 3658 3660 3662 3664 3666 3668 3670 3672 3674 3676 3678 3680 3682 3684 3686 3688 3690 3692 3694 3696 3698 3700 3702 3704 3706 3708 3710 3712 3714 3716 3718 3720 3722 3724 3726 3728 3730 3732 3734 3736 3738 3740 3742 3744 3746 3748 3750 3752 3754 3756 3758 3760 3762 3764 3766 3768 3770 3772 3774 3776 3778 3780 3782 3784 3786 3788 3790 3792 3794 3796 3798 3800 3802 3804 3806 3808 3810 3812 3814 3816 3818 3820 3822 3824 3826 3828 3830 3832 3834 3836 3838 3840 3842 3844 3846 3848 3850 3852 3854 3856 3858 3860 3862 3864 3866 3868 3870 3872 3874 3876 3878 3880 3882 3884 3886 3888 3890 3892 3894 3896 3898 3900 3902 3904 3906 3908 3910 3912 3914 3916 3918 3920 3922 3924 3926 3928 3930 3932 3934 3936 3938 3940 3942 3944 3946 3948 3950 3952 3954 3956 3958 3960 3962 3964 3966 3968 3970 3972 3974 3976 3978 3980 3982 3984 3986 3988 3990 3992 3994 3996 3998 4000 4002 4004 4006 4008 4010 4012 4014 4016 4018 4020 4022 4024 4026 4028 4030 4032 4034 4036 4038 4040 4042 4044 4046 4048 4050 4052 4054 4056 4058 4060 4062 4064 4066 4068 4070 4072 4074 4076 4078 4080 4082 4084 4086 4088 4090 4092 4094 4096 4098 4100 4102 4104 4106 4108 4110 4112 4114 4116 4118 4120 4122 4124 4126 4128 4130 4132 4134 4136 4138 4140 4142 4144 4146 4148 4150 4152 4154 4156 4158 4160 4162 4164 4166 4168 4170 4172 4174 4176 4178 4180 4182 4184 4186 4188 4190 4192 4194 4196 4198 4200 4202 4204 4206 4208 4210 4212 4214 4216 4218 4220 4222 4224 4226 4228 4230 4232 4234 4236 4238 4240 4242 4244 4246 4248 4250 4252 4254 4256 4258 4260 4262 4264 4266 4268 4270 4272 4274 4276 4278 4280 4282 4284 4286 4288 4290 4292 4294 4296 4298 4300 4302 4304 4306 4308 4310 4312 4314 4316 4318 4320 4322 4324 4326 4328 4330 4332 4334 4336 4338 4340 4342 4344 4346 4348 4350 4352 4354 4356 4358 4360 4362 4364 4366 4368 4370 4372 4374 4376 4378 4380 4382 4384 4386 4388 4390 4392 4394 4396 4398 4400 4402 4404 4406 4408 4410 4412 4414 4416 4418 4420 4422 4424 4426 4428 4430 4432 4434 4436 4438 4440 4442 4444 4446 4448 4450 4452 4454 4456 4458 4460 4462 4464 4466 4468 4470 4472 4474 4476 4478 4480 4482 4484 4486 4488 4490 4492 4494 4496 4498 4500 4502 4504 4506 4508 4510 4512 4514 4516 4518 4520 4522 4524 4526 4528 4530 4532 4534 4536 4538 4540 4542 4544 4546 4548 4550 4552 4554 4556 4558 4560 4562 4564 4566 4568 4570 4572 4574 4576 4578 4580 4582 4584 4586 4588 4590 4592 4594 4596 4598 4600 4602 4604 4606 4608 4610 4612 4614 4616 4618 4620 4622 4624 4626 4628 4630 4632 4634 4636 4638 4640 4642 4644 4646 4648 4650 4652 4654 4656 4658 4660 4662 4664 4666 4668 4670 4672 4674 4676 4678 4680 4682 4684 4686 4688 4690 4692 4694 4696 4698 4700 4702 4704 4706 4708 4710 4712 4714 4716 4718 4720 4722 4724 4726 4728 4730 4732 4734 4736 4738 4740 4742 4744 4746 4748 4750 4752 4754 4756 4758 4760 4762 4764 4766 4768 4770 4772 4774 4776 4778 4780 4782 4784 4786 4788 4790 4792 4794 4796 4798 4800 4802 4804 4806 4808 4810 4812 4814 4816 4818 4820 4822 4824 4826 4828 4830 4832 4834 4836 4838 4840 4842 4844 4846 4848 4850 4852 4854 4856 4858 4860 4862 4864 4866 4868 4870 4872 4874 4876 4878 4880 4882 4884 4886 4888 4890 4892 4894 4896 4898 4900 4902 4904 4906 4908 4910 4912 4914 4916 4918 4920 4922 4924 4926 4928 4930 4932 4934 4936 4938 4940 4942 4944 4946 4948 4950 4952 4954 4956 4958 4960 4962 4964 4966 4968 4970 4972 4974 4976 4978 4980 4982 4984 4986 4988 4990 4992 4994 4996 4998 5000 5002 5004 5006 5008 5010 5012 5014 5016 5018 5020 5022 5024 5026 5028 5030 5032 5034 5036 5038 5040 5042 5044 5046 5048 5050 5052 5054 5056 5058 5060 5062 5064 5066 5068 5070 5072 5074 5076 5078 5080 5082 5084 5086 5088 5090 5092 5094 5096 5098 5100 5102 5104 5106 5108 5110 5112 5114 5116 5118 5120 5122 5124 5126 5128 5130 5132 5134 5136 5138 5140 5142 5144 5146 5148 5150 5152 5154 5156 5158 5160 5162 5164 5166 5168 5170 5172 5174 5176 5178 5180 5182 5184 5186 5188 5190 5192 5194 5196 5198 5200 5202 5204 5206 5208 5210 5212 5214 5216 5218 5220 5222 5224 5226 5228 5230 5232 5234 5236 5238 5240 5242 5244 5246 5248 5250 5252 5254 5256 5258 5260 5262 5264 5266 5268 5270 5272 5274 5276 5278 5280 5282 5284 5286 5288 5290 5292 5294 5296 5298 5300 5302 5304 5306 5308 5310 5312 5314 5316 5318 5320 5322 5324 5326 5328 5330 5332 5334 5336 5338 5340 5342 5344 5346 5348 5350 5352 5354 5356 5358 5360 5362 5364 5366 5368 5370 5372 5374 5376 5378 5380 5382 5384 5386 5388 5390 5392 5394 5396 5398 5400 5402 5404 5406 5408 5410 5412 5414 5416 5418 5420 5422 5424 5426 5428 5430 5432 5434 5436 5438 5440 5442 5444 5446 5448 5450 5452 5454 5456 5458 5460 5462 5464 5466 5468 5470 5472 5474 5476 5478 5480 5482 5484 5486 5488 5490 5492 5494 5496 5498 5500 5502 5504 5506 5508 5510 5512 5514 5516 5518 5520 5522 5524 5526 5528 5530 5532 5534 5536 5538 5540 5542 5544 5546 5548 5550 5552 5554 5556 5558 5560 5562 5564 5566 5568 5570 5572 5574 5576 5578 5580 5582 5584 5586 5588 5590 5592 5594 5596 5598 5600 5602 5604 5606 5608 5610 5612 5614 5616 5618 5620 5622 5624 5626 5628 5630 5632 5634 5636 5638 5640 5642 5644 5646 5648 5650 5652 5654 5656 5658 5660 5662 5664 5666 5668 5670 5672 5674 5676 5678 5680 5682 5684 5686 5688 5690 5692 5694 5696 5698 5700 5702 5704 5706 5708 5710 5712 5714 5716 5718 5720 5722 5724 5726 5728 5730 5732 5734 5736 5738 5740 5742 5744 5746 5748 5750 5752 5754 5756 5758 5760 5762 5764 5766 5768 5770 5772 5774 5776 5778 5780 5782 5784 5786 5788 5790 5792 5794 5796 5798 5800 5802 5804 5806 5808 5810 5812 5814 5816 5818 5820 5822 5824 5826 5828 5830 5832 5834 5836 5838 5840 5842 5844 5846 5848 5850 5852 5854 5856 5858 5860 5862 5864 5866 5868 5870 5872 5874 5876 5878 5880 5882 5884 5886 5888 5890 5892 5894 5896 5898 5900 5902 5904 5906 5908 5910 5912 5914 5916 5918 5920 5922 5924 5926 5928 5930 5932 5934 5936 5938 5940 5942 5944 5946 5948 5950 5952 5954 5956 5958 5960 5962 5964 5966 5968 5970 5972 5974 5976 5978 5980 5982 5984 5986 5988 5990 5992 5994 5996 5998 6000 6002 6004 6006 6008 6010 6012 6014 6016 6018 6020 6022 6024 6026 6028 6030 6032 6034 6036 6038 6040 6042 6044 6046 6048 6050 6052 6054 6056 6058 6060 6062 6064 6066 6068 6070 6072 6074 6076 6078 6080 6082 6084 6086 6088 6090 6092 6094 6096 6098 6100 6102 6104 6106 6108 6110 6112 6114 6116 6118 6120 6122 6124 6126 6128 6130 6132 6134 6136 6138 6140 6142 6144 6146 6148 6150 6152 6154 6156 6158 6160 6162 6164 6166 6168 6170 6172 6174 6176 6178 6180 6182 6184 6186 6188 6190 6192 6194 6196 6198 6200 6202 6204 6206 6208 6210 6212 6214 6216 6218 6220 6222 6224 6226 6228 6230 6232 6234 6236 6238 6240 6242 6244 6246 6248 6250 6252 6254 6256 6258 6260 6262 6264 6266 6268 6270 6272 6274 6276 6278 6280 6282 6284 6286 6288 6290 6292 6294 6296 6298 6300 6302 6304 6306 6308 6310 6312 6314 6316 6318 6320 6322 6324 6326 6328 6330 6332 6334 6336 6338 6340 6342 6344 6346 6348 6350 6352 6354 6356 6358 6360 6362 6364 6366 6368 6370 6372 6374 6376 6378 6380 6382 6384 6386 6388 6390 6392 6394 6396 6398 6400 6402 6404 6406 6408 6410 6412 6414 6416 6418 6420 6422 6424 6426 6428 6430 6432 6434 6436 6438 6440 6442 6444 6446 6448 6450 6452 6454 6456 6458 6460 6462 6464 6466 6468 6470 6472 6474 6476 6478 6480 6482 6484 6486 6488 6490 6492 6494 6496 6498 6500 6502 6504 6506 6508 6510 6512 6514 6516 6518 6520 6522 6524 6526 6528 6530 6532 6534 6536 6538 6540 6542 6544 6546 6548 6550 6552 6554 6556 6558 6560 6562 6564 6566 6568 6570 6572 6574 6576 6578 6580 6582 6584 6586 6588 6590 6592 6594 6596 6598 6600 6602 6604 6606 6608 6610 6612 6614 6616 6618 6620 6622 6624 6626 6628 6630 6632 6634 6636 6638 6640 6642 6644 6646 6648 6650 6652 6654 6656 6658 6660 6662 6664 6666 6668 6670 6672 6674 6676 6678 6680 6682 6684 6686 6688 6690 6692 6694 6696 6698 6700 6702 6704 6706 6708 6710 6712 6714 6716 6718 6720 6722 6724 6726 6728 6730 6732 6734 6736 6738 6740 6742 6744 6746 6748 6750 6752 6754 6756 6758 6760 6762 6764 6766 6768 6770 6772 6774 6776 6778 6780 6782 6784 6786 6788 6790 6792 6794 6796 6798 6800 6802 6804 6806 6808 6810 6812 6814 6816 6818 6820 6822 6824 6826 6828 6830 6832 6834 6836 6838 6840 6842 6844 6846 6848 6850 6852 6854 6856 6858 6860 6862 6864 6866 6868 6870 6872 6874 6876 6878 6880 6882 6884 6886 6888 6890 6892 6894 6896 6898 6900 6902 6904 6906 6908 6910 6912 6914 6916 6918 6920 6922 6924 6926 6928 6930 6932 6934 6936 6938 6940 6942 6944 6946 6948 6950 6952 6954 6956 6958 6960 6962 6964 6966 6968 6970 6972 6974 6976 6978 6980 6982 6984 6986 6988 6990 6992 6994 6996 6998 7000 7002 7004 7006 7008 7010 7012 7014 7016 7018 7020 7022 7024 7026 7028 7030 7032 7034 7036 7038 7040 7042 7044 7046 7048 7050 7052 7054 7056 7058 7060 7062 7064 7066 7068 7070 7072 7074 7076 7078 7080 7082 7084 7086 7088 7090 7092 7094 7096 7098 7100 7102 7104 7106 7108 7110 7112 7114 7116 7118 7120 7122 7124 7126 7128 7130 7132 7134 7136 7138 7140 7142 7144 7146 7148 7150 7152 7154 7156 7158 7160 7162 7164 7166 7168 7170 7172 7174 7176 7178 7180 7182 7184 7186 7188 7190 7192 7194 7196 7198 7200 7202 7204 7206 7208 7210 7212 7214 7216 7218 7220 7222 7224 7226 7228 7230 7232 7234 7236 7238 7240 7242 7244 7246 7248 7250 7252 7254 7256 7258 7260 7262 7264 7266 7268 7270 7272 7274 7276 7278 7280 7282 7284 7286 7288 7290 7292 7294 7296 7298 7300 7302 7304 7306 7308 7310 7312 7314 7316 7318 7320 7322 7324 7326 7328 7330 7332 7334 7336 7338 7340 7342 7344 7346 7348 7350 7352 7354 7356 7358 7360 7362 7364 7366 7368 7370 7372 7374 7376 7378 7380 7382 7384 7386 7388 7390 7392 7394 7396 7398 7400 7402 7404 7406 7408 7410 7412 7414 7416 7418 7420 7422 7424 7426 7428 7430 7432 7434 7436 7438 7440 7442 7444 7446 7448 7450 7452 7454 7456 7458 7460 7462 7464 7466 7468 7470 7472 7474 7476 7478 7480 7482 7484 7486 7488 7490 7492 7494 7496 7498 7500 7502 7504 7506 7508 7510 7512 7514 7516 7518 7520 7522 7524 7526 7528 7530 7532 7534 7536 7538 7540 7542 7544 7546 7548 7550 7552 7554 7556 7558 7560 7562 7564 7566 7568 7570 7572 7574 7576 7578 7580 7582 7584 7586 7588 7590 7592 7594 7596 7598 7600 7602 7604 7606 7608 7610 7612 7614 7616 7618 7620 7622 7624 7626 7628 7630 7632 7634 7636 7638 7640 7642 7644 7646 7648 7650 7652 7654 7656 7658 7660 7662 7664 7666 7668 7670 7672 7674 7676 7678 7680 7682 7684 7686 7688 7690 7692 7694 7696 7698 7700 7702 7704 7706 7708 7710 7712 7714 7716 7718 7720 7722 7724 7726 7728 7730 7732 7734 7736 7738 7740 7742 7744 7746 7748 7750 7752 7754 7756 7758 7760 7762 7764 7766 7768 7770 7772 7774 7776 7778 7780 7782 7784 7786 7788 7790 7792 7794 7796 7798 7800 7802 7804 7806 7808 7810 7812 7814 7816 7818 7820 7822 7824 7826 7828 7830 7832 7834 7836 7838 7840 7842 7844 7846 7848 7850 7852 7854 7856 7858 7860 7862 7864 7866 7868 7870 7872 7874 7876 7878 7880 7882 7884 7886 7888 7890 7892 7894 7896 7898 7900 7902 7904 7906 7908 7910 7912 7914 7916 7918 7920 7922 7924 7926 7928 7930 7932 7934 7936 7938 7940 7942 7944 7946 7948 7950 7952 7954 7956 7958 7960 7962 7964 7966 7968 7970 7972 7974 7976 7978 7980 7982 7984 7986 7988 7990 7992 7994 7996 7998 8000 8002 8004 8006 8008 8010 8012 8014 8016 8018 8020 8022 8024 8026 8028 8030 8032 8034 8036 8038 8040 8042 8044 8046 8048 8050 8052 8054 8056 8058 8060 8062 8064 8066 8068 8070 8072 8074 8076 8078 8080 8082 8084 8086 8088 8090 8092 8094 8096 8098 8100 8102 8104 8106 8108 8110 8112 8114 8116 8118 8120 8122 8124 8126 8128 8130 8132 8134 8136 8138 8140 8142 8144 8146 8148 8150 8152 8154 8156 8158 8160 8162 8164 8166 8168 8170 8172 8174 8176 8178 8180 8182 8184 8186 8188 8190 8192 8194 8196 8198 8200 8202 8204 8206 8208 8210 8212 8214 8216 8218 8220 8222 8224 8226 8228 8230 8232 8234 8236 8238 8240 8242 8244 8246 8248 8250 8252 8254 8256 8258 8260 8262 8264 8266 8268 8270 8272 8274 8276 8278 8280 8282 8284 8286 8288 8290 8292 8294 8296 8298 8300 8302 8304 8306 8308 8310 8312 8314 8316 8318 8320 8322 8324 8326 8328 8330 8332 8334 8336 8338 8340 8342 8344 8346 8348 8350 8352 8354 8356 8358 8360 8362 8364 8366 8368 8370 8372 8374 8376 8378 8380 8382 8384 8386 8388 8390 8392 8394 8396 8398 8400 8402 8404 8406 8408 8410 8412 8414 8416 8418 8420 8422 8424 8426 8428 8430 8432 8434 8436 8438 8440 8442 8444 8446 8448 8450 8452 8454 8456 8458 8460 8462 8464 8466 8468 8470 8472 8474 8476 8478 8480 8482 8484 8486 8488 8490 8492 8494 8496 8498 8500 8502 8504 8506 8508 8510 8512 8514 8516 8518 8520 8522 8524 8526 8528 8530 8532 8534 8536 8538 8540 8542 8544 8546 8548 8550 8552 8554 8556 8558 8560 8562 8564 8566 8568 8570 8572 8574 8576 8578 8580 8582 8584 8586 8588 8590 8592 8594 8596 8598 8600 8602 8604 8606 8608 8610 8612 8614 8616 8618 8620 8622 8624 8626 8628 8630 8632 8634 8636 8638 8640 8642 8644 8646 8648 8650 8652 8654 8656 8658 8660 8662 8664 8666 8668 8670 8672 8674 8676 8678 8680 8682 8684 8686 8688 8690 8692 8694 8696 8698 8700 8702 8704 8706 8708 8710 8712 8714 8716 8718 8720 8722 8724 8726 8728 8730 8732 8734 8736 8738 8740 8742 8744 8746 8748 8750 8752 8754 8756 8758 8760 8762 8764 8766 8768 8770 8772 8774 8776 8778 8780 8782 8784 8786 8788 8790 8792 8794 8796 8798 8800 8802 8804 8806 8808 8810 8812 8814 8816 8818 8820 8822 8824 8826 8828 8830 8832 8834 8836 8838 8840 8842 8844 8846 8848 8850 8852 8854 8856 8858 8860 8862 8864 8866 8868 8870 8872 8874 8876 8878 8880 8882 8884 8886 8888 8890 8892 8894 8896 8898 8900 8902 8904 8906 8908 8910 8912 8914 8916 8918 8920 8922 8924 8926 8928 8930 8932 8934 8936 8938 8940 8942 8944 8946 8948 8950 8952 8954 8956 8958 8960 8962 8964 8966 8968 8970 8972 8974 8976 8978 8980 8982 8984 8986 8988 8990 8992 8994 8996 8998 9000 9002 9004 9006 9008 9010 9012 9014 9016 9018 9020 9022 9024 9026 9028 9030 9032 9034 9036 9038 9040 9042 9044 9046 9048 9050 9052 9054 9056 9058 9060 9062 9064 9066 9068 9070 9072 9074 9076 9078 9080 9082 9084 9086 9088 9090 9092 9094 9096 9098 9100 9102 9104 9106 9108 9110 9112 9114 9116 9118 9120 9122 9124 9126 9128 9130 9132 9134 9136 9138 9140 9142 9144 9146 9148 9150 9152 9154 9156 9158 9160 9162 9164 9166 9168 9170 9172 9174 9176 9178 9180 9182 9184 9186 9188 9190 9192 9194 9196 9198 9200 9202 9204 9206 9208 9210 9212 9214 9216 9218 9220 9222 9224 9226 9228 9230 9232 9234 9236 9238 9240 9242 9244 9246 9248 9250 9252 9254 9256 9258 9260 9262 9264 9266 9268 9270 9272 9274 9276 9278 9280 9282 9284 9286 9288 9290 9292 9294 9296 9298 9300 9302 9304 9306 9308 9310 9312 9314 9316 9318 9320 9322 9324 9326 9328 9330 9332 9334 9336 9338 9340 9342 9344 9346 9348 9350 9352 9354 9356 9358 9360 9362 9364 9366 9368 9370 9372 9374 9376 9378 9380 9382 9384 9386 9388 9390 9392 9394 9396 9398 9400 9402 9404 9406 9408 9410 9412 9414 9416 9418 9420 9422 9424 9426 9428 9430 9432 9434 9436 9438 9440 9442 9444 9446 9448 9450 9452 9454 9456 9458 9460 9462 9464 9466 9468 9470 9472 9474 9476 9478 9480 9482 9484 9486 9488 9490 9492 9494 9496 9498 9500 9502 9504 9506 9508 9510 9512 9514 9516 9518 9520 9522 9524 9526 9528 9530 9532 9534 9536 9538 9540 9542 9544 9546 9548 9550 9552 9554 9556 9558 9560 9562 9564 9566 9568 9570 9572 9574 9576 9578 9580 9582 9584 9586 9588 9590 9592 9594 9596 9598 9600 9602 9604 9606 9608 9610 9612 9614 9616 9618 9620 9622 9624 9626 9628 9630 9632 9634 9636 9638 9640 9642 9644 9646 9648 9650 9652 9654 9656 9658 9660 9662 9664 9666 9668 9670 9672 9674 9676 9678 9680 9682 9684 9686 9688 9690 9692 9694 9696 9698 9700 9702 9704 9706 9708 9710 9712 9714 9716 9718 9720 9722 9724 9726 9728 9730 9732 9734 9736 9738 9740 9742 9744 9746 9748 9750 9752 9754 9756 9758 9760 9762 9764 9766 9768 9770 9772 9774 9776 9778 9780 9782 9784 9786 9788 9790 9792 9794 9796 9798 9800 9802 9804 9806 9808 9810 9812 9814 9816 9818 9820 9822 9824 9826 9828 9830 9832 9834 9836 9838 9840 9842 9844 9846 9848 9850 9852 9854 9856 9858 9860 9862 9864 9866 9868 9870 9872 9874 9876 9878 9880 9882 9884 9886 9888 9890 9892 9894 9896 9898 9900 9902 9904 9906 9908 9910 9912 9914 9916 9918 9920 9922 9924 9926 9928 9930 9932 9934 9936 9938 9940 9942 9944 9946 9948 9950 9952 9954 9956 9958 9960 9962 9964 9966 9968 9970 9972 9974 9976 9978 9980 9982 9984 9986 9988 9990 9992 9994 9996 9998 \n",
            "Tempo de execução: 0.20176 s\n"
          ]
        }
      ]
    },
    {
      "cell_type": "markdown",
      "source": [
        "Se sua implementação se parecer com o código abaixo, então é bem provável que a versão paralela na verdade tenha demorado o mesmo tempo ou mais que o original.\n",
        "\n",
        "```cpp\n",
        "#pragma omp parallel for default(none) shared(vec)\n",
        "for (int i = 0; i < N; i++) {\n",
        "    #pragma omp critical\n",
        "    {\n",
        "        vec.push_back(conta_complexa(i));\n",
        "    }\n",
        "}\n",
        "```\n",
        "\n",
        "Analise o código novamente e tente explicar por que o programa não ganhou velocidade.\n",
        "\n",
        "Resposta:\n",
        "\n",
        "A operação que produz efeitos colaterais é vec.push_back, mas nossa seção crítica envolve também a chamada conta_complexa(i).\n",
        "\n",
        "Example\n",
        "\n",
        "Modifique seu código de acordo com a resposta acima. Meça o desempenho e veja que agora há melhora."
      ],
      "metadata": {
        "id": "l2FCcoStuvnL"
      }
    },
    {
      "cell_type": "code",
      "source": [
        "%%writefile vetor_insert_sequencial.cpp\n",
        "\n",
        "#include <vector>\n",
        "#include <iostream>\n",
        "#include <unistd.h>\n",
        "#include <omp.h>\n",
        "#include <chrono>\n",
        "\n",
        "double conta_complexa(int i) {\n",
        "\treturn 2 * i;\n",
        "}\n",
        "\n",
        "int main() {\n",
        "  auto t_start = std::chrono::high_resolution_clock::now();\n",
        "\n",
        "\tint N = 10000; \n",
        "\tstd::vector<double> vec;\n",
        "\tfor (int i = 0; i < N; i++) {\n",
        "\t\tvec.push_back(conta_complexa(i));\n",
        "\t}\n",
        "\t\t\n",
        "\tfor (int i = 0; i < N; i++) {\n",
        "\t\tstd::cout << vec[i] << \" \";\n",
        "\t\t// std::cout << i << \" \";\n",
        "\t}\n",
        "\n",
        "  std::cout << std::endl;\n",
        "\n",
        "  auto t_end = std::chrono::high_resolution_clock::now();\n",
        "\n",
        "  double elapsed_time_ms = std::chrono::duration<double, std::milli>(t_end-t_start).count();\n",
        "  double elapsed_time_s = elapsed_time_ms/1000;\n",
        "  std::cout << \"Tempo de execução: \" << elapsed_time_s << \" s\" << std::endl;\n",
        "\t\n",
        "  \n",
        "\treturn 0;\n",
        "}\n",
        "\n"
      ],
      "metadata": {
        "colab": {
          "base_uri": "https://localhost:8080/"
        },
        "id": "x8ltIeRQu69N",
        "outputId": "875eaaa8-bb96-40e6-aa35-1682c0a1547a"
      },
      "execution_count": null,
      "outputs": [
        {
          "output_type": "stream",
          "name": "stdout",
          "text": [
            "Overwriting vetor_insert_sequencial.cpp\n"
          ]
        }
      ]
    },
    {
      "cell_type": "code",
      "source": [
        "!g++ -Wall -fopenmp vetor_insert_sequencial.cpp -o vetor_insert_sequencial"
      ],
      "metadata": {
        "id": "6giqU8lGvBll"
      },
      "execution_count": null,
      "outputs": []
    },
    {
      "cell_type": "code",
      "source": [
        "!./vetor_insert_sequencial"
      ],
      "metadata": {
        "colab": {
          "base_uri": "https://localhost:8080/"
        },
        "id": "jt0z5ce4vFeB",
        "outputId": "8f5fd9ae-2ccd-4fdb-e177-ec888fa18a12"
      },
      "execution_count": null,
      "outputs": [
        {
          "output_type": "stream",
          "name": "stdout",
          "text": [
            "0 2 4 6 8 10 12 14 16 18 20 22 24 26 28 30 32 34 36 38 40 42 44 46 48 50 52 54 56 58 60 62 64 66 68 70 72 74 76 78 80 82 84 86 88 90 92 94 96 98 100 102 104 106 108 110 112 114 116 118 120 122 124 126 128 130 132 134 136 138 140 142 144 146 148 150 152 154 156 158 160 162 164 166 168 170 172 174 176 178 180 182 184 186 188 190 192 194 196 198 200 202 204 206 208 210 212 214 216 218 220 222 224 226 228 230 232 234 236 238 240 242 244 246 248 250 252 254 256 258 260 262 264 266 268 270 272 274 276 278 280 282 284 286 288 290 292 294 296 298 300 302 304 306 308 310 312 314 316 318 320 322 324 326 328 330 332 334 336 338 340 342 344 346 348 350 352 354 356 358 360 362 364 366 368 370 372 374 376 378 380 382 384 386 388 390 392 394 396 398 400 402 404 406 408 410 412 414 416 418 420 422 424 426 428 430 432 434 436 438 440 442 444 446 448 450 452 454 456 458 460 462 464 466 468 470 472 474 476 478 480 482 484 486 488 490 492 494 496 498 500 502 504 506 508 510 512 514 516 518 520 522 524 526 528 530 532 534 536 538 540 542 544 546 548 550 552 554 556 558 560 562 564 566 568 570 572 574 576 578 580 582 584 586 588 590 592 594 596 598 600 602 604 606 608 610 612 614 616 618 620 622 624 626 628 630 632 634 636 638 640 642 644 646 648 650 652 654 656 658 660 662 664 666 668 670 672 674 676 678 680 682 684 686 688 690 692 694 696 698 700 702 704 706 708 710 712 714 716 718 720 722 724 726 728 730 732 734 736 738 740 742 744 746 748 750 752 754 756 758 760 762 764 766 768 770 772 774 776 778 780 782 784 786 788 790 792 794 796 798 800 802 804 806 808 810 812 814 816 818 820 822 824 826 828 830 832 834 836 838 840 842 844 846 848 850 852 854 856 858 860 862 864 866 868 870 872 874 876 878 880 882 884 886 888 890 892 894 896 898 900 902 904 906 908 910 912 914 916 918 920 922 924 926 928 930 932 934 936 938 940 942 944 946 948 950 952 954 956 958 960 962 964 966 968 970 972 974 976 978 980 982 984 986 988 990 992 994 996 998 1000 1002 1004 1006 1008 1010 1012 1014 1016 1018 1020 1022 1024 1026 1028 1030 1032 1034 1036 1038 1040 1042 1044 1046 1048 1050 1052 1054 1056 1058 1060 1062 1064 1066 1068 1070 1072 1074 1076 1078 1080 1082 1084 1086 1088 1090 1092 1094 1096 1098 1100 1102 1104 1106 1108 1110 1112 1114 1116 1118 1120 1122 1124 1126 1128 1130 1132 1134 1136 1138 1140 1142 1144 1146 1148 1150 1152 1154 1156 1158 1160 1162 1164 1166 1168 1170 1172 1174 1176 1178 1180 1182 1184 1186 1188 1190 1192 1194 1196 1198 1200 1202 1204 1206 1208 1210 1212 1214 1216 1218 1220 1222 1224 1226 1228 1230 1232 1234 1236 1238 1240 1242 1244 1246 1248 1250 1252 1254 1256 1258 1260 1262 1264 1266 1268 1270 1272 1274 1276 1278 1280 1282 1284 1286 1288 1290 1292 1294 1296 1298 1300 1302 1304 1306 1308 1310 1312 1314 1316 1318 1320 1322 1324 1326 1328 1330 1332 1334 1336 1338 1340 1342 1344 1346 1348 1350 1352 1354 1356 1358 1360 1362 1364 1366 1368 1370 1372 1374 1376 1378 1380 1382 1384 1386 1388 1390 1392 1394 1396 1398 1400 1402 1404 1406 1408 1410 1412 1414 1416 1418 1420 1422 1424 1426 1428 1430 1432 1434 1436 1438 1440 1442 1444 1446 1448 1450 1452 1454 1456 1458 1460 1462 1464 1466 1468 1470 1472 1474 1476 1478 1480 1482 1484 1486 1488 1490 1492 1494 1496 1498 1500 1502 1504 1506 1508 1510 1512 1514 1516 1518 1520 1522 1524 1526 1528 1530 1532 1534 1536 1538 1540 1542 1544 1546 1548 1550 1552 1554 1556 1558 1560 1562 1564 1566 1568 1570 1572 1574 1576 1578 1580 1582 1584 1586 1588 1590 1592 1594 1596 1598 1600 1602 1604 1606 1608 1610 1612 1614 1616 1618 1620 1622 1624 1626 1628 1630 1632 1634 1636 1638 1640 1642 1644 1646 1648 1650 1652 1654 1656 1658 1660 1662 1664 1666 1668 1670 1672 1674 1676 1678 1680 1682 1684 1686 1688 1690 1692 1694 1696 1698 1700 1702 1704 1706 1708 1710 1712 1714 1716 1718 1720 1722 1724 1726 1728 1730 1732 1734 1736 1738 1740 1742 1744 1746 1748 1750 1752 1754 1756 1758 1760 1762 1764 1766 1768 1770 1772 1774 1776 1778 1780 1782 1784 1786 1788 1790 1792 1794 1796 1798 1800 1802 1804 1806 1808 1810 1812 1814 1816 1818 1820 1822 1824 1826 1828 1830 1832 1834 1836 1838 1840 1842 1844 1846 1848 1850 1852 1854 1856 1858 1860 1862 1864 1866 1868 1870 1872 1874 1876 1878 1880 1882 1884 1886 1888 1890 1892 1894 1896 1898 1900 1902 1904 1906 1908 1910 1912 1914 1916 1918 1920 1922 1924 1926 1928 1930 1932 1934 1936 1938 1940 1942 1944 1946 1948 1950 1952 1954 1956 1958 1960 1962 1964 1966 1968 1970 1972 1974 1976 1978 1980 1982 1984 1986 1988 1990 1992 1994 1996 1998 2000 2002 2004 2006 2008 2010 2012 2014 2016 2018 2020 2022 2024 2026 2028 2030 2032 2034 2036 2038 2040 2042 2044 2046 2048 2050 2052 2054 2056 2058 2060 2062 2064 2066 2068 2070 2072 2074 2076 2078 2080 2082 2084 2086 2088 2090 2092 2094 2096 2098 2100 2102 2104 2106 2108 2110 2112 2114 2116 2118 2120 2122 2124 2126 2128 2130 2132 2134 2136 2138 2140 2142 2144 2146 2148 2150 2152 2154 2156 2158 2160 2162 2164 2166 2168 2170 2172 2174 2176 2178 2180 2182 2184 2186 2188 2190 2192 2194 2196 2198 2200 2202 2204 2206 2208 2210 2212 2214 2216 2218 2220 2222 2224 2226 2228 2230 2232 2234 2236 2238 2240 2242 2244 2246 2248 2250 2252 2254 2256 2258 2260 2262 2264 2266 2268 2270 2272 2274 2276 2278 2280 2282 2284 2286 2288 2290 2292 2294 2296 2298 2300 2302 2304 2306 2308 2310 2312 2314 2316 2318 2320 2322 2324 2326 2328 2330 2332 2334 2336 2338 2340 2342 2344 2346 2348 2350 2352 2354 2356 2358 2360 2362 2364 2366 2368 2370 2372 2374 2376 2378 2380 2382 2384 2386 2388 2390 2392 2394 2396 2398 2400 2402 2404 2406 2408 2410 2412 2414 2416 2418 2420 2422 2424 2426 2428 2430 2432 2434 2436 2438 2440 2442 2444 2446 2448 2450 2452 2454 2456 2458 2460 2462 2464 2466 2468 2470 2472 2474 2476 2478 2480 2482 2484 2486 2488 2490 2492 2494 2496 2498 2500 2502 2504 2506 2508 2510 2512 2514 2516 2518 2520 2522 2524 2526 2528 2530 2532 2534 2536 2538 2540 2542 2544 2546 2548 2550 2552 2554 2556 2558 2560 2562 2564 2566 2568 2570 2572 2574 2576 2578 2580 2582 2584 2586 2588 2590 2592 2594 2596 2598 2600 2602 2604 2606 2608 2610 2612 2614 2616 2618 2620 2622 2624 2626 2628 2630 2632 2634 2636 2638 2640 2642 2644 2646 2648 2650 2652 2654 2656 2658 2660 2662 2664 2666 2668 2670 2672 2674 2676 2678 2680 2682 2684 2686 2688 2690 2692 2694 2696 2698 2700 2702 2704 2706 2708 2710 2712 2714 2716 2718 2720 2722 2724 2726 2728 2730 2732 2734 2736 2738 2740 2742 2744 2746 2748 2750 2752 2754 2756 2758 2760 2762 2764 2766 2768 2770 2772 2774 2776 2778 2780 2782 2784 2786 2788 2790 2792 2794 2796 2798 2800 2802 2804 2806 2808 2810 2812 2814 2816 2818 2820 2822 2824 2826 2828 2830 2832 2834 2836 2838 2840 2842 2844 2846 2848 2850 2852 2854 2856 2858 2860 2862 2864 2866 2868 2870 2872 2874 2876 2878 2880 2882 2884 2886 2888 2890 2892 2894 2896 2898 2900 2902 2904 2906 2908 2910 2912 2914 2916 2918 2920 2922 2924 2926 2928 2930 2932 2934 2936 2938 2940 2942 2944 2946 2948 2950 2952 2954 2956 2958 2960 2962 2964 2966 2968 2970 2972 2974 2976 2978 2980 2982 2984 2986 2988 2990 2992 2994 2996 2998 3000 3002 3004 3006 3008 3010 3012 3014 3016 3018 3020 3022 3024 3026 3028 3030 3032 3034 3036 3038 3040 3042 3044 3046 3048 3050 3052 3054 3056 3058 3060 3062 3064 3066 3068 3070 3072 3074 3076 3078 3080 3082 3084 3086 3088 3090 3092 3094 3096 3098 3100 3102 3104 3106 3108 3110 3112 3114 3116 3118 3120 3122 3124 3126 3128 3130 3132 3134 3136 3138 3140 3142 3144 3146 3148 3150 3152 3154 3156 3158 3160 3162 3164 3166 3168 3170 3172 3174 3176 3178 3180 3182 3184 3186 3188 3190 3192 3194 3196 3198 3200 3202 3204 3206 3208 3210 3212 3214 3216 3218 3220 3222 3224 3226 3228 3230 3232 3234 3236 3238 3240 3242 3244 3246 3248 3250 3252 3254 3256 3258 3260 3262 3264 3266 3268 3270 3272 3274 3276 3278 3280 3282 3284 3286 3288 3290 3292 3294 3296 3298 3300 3302 3304 3306 3308 3310 3312 3314 3316 3318 3320 3322 3324 3326 3328 3330 3332 3334 3336 3338 3340 3342 3344 3346 3348 3350 3352 3354 3356 3358 3360 3362 3364 3366 3368 3370 3372 3374 3376 3378 3380 3382 3384 3386 3388 3390 3392 3394 3396 3398 3400 3402 3404 3406 3408 3410 3412 3414 3416 3418 3420 3422 3424 3426 3428 3430 3432 3434 3436 3438 3440 3442 3444 3446 3448 3450 3452 3454 3456 3458 3460 3462 3464 3466 3468 3470 3472 3474 3476 3478 3480 3482 3484 3486 3488 3490 3492 3494 3496 3498 3500 3502 3504 3506 3508 3510 3512 3514 3516 3518 3520 3522 3524 3526 3528 3530 3532 3534 3536 3538 3540 3542 3544 3546 3548 3550 3552 3554 3556 3558 3560 3562 3564 3566 3568 3570 3572 3574 3576 3578 3580 3582 3584 3586 3588 3590 3592 3594 3596 3598 3600 3602 3604 3606 3608 3610 3612 3614 3616 3618 3620 3622 3624 3626 3628 3630 3632 3634 3636 3638 3640 3642 3644 3646 3648 3650 3652 3654 3656 3658 3660 3662 3664 3666 3668 3670 3672 3674 3676 3678 3680 3682 3684 3686 3688 3690 3692 3694 3696 3698 3700 3702 3704 3706 3708 3710 3712 3714 3716 3718 3720 3722 3724 3726 3728 3730 3732 3734 3736 3738 3740 3742 3744 3746 3748 3750 3752 3754 3756 3758 3760 3762 3764 3766 3768 3770 3772 3774 3776 3778 3780 3782 3784 3786 3788 3790 3792 3794 3796 3798 3800 3802 3804 3806 3808 3810 3812 3814 3816 3818 3820 3822 3824 3826 3828 3830 3832 3834 3836 3838 3840 3842 3844 3846 3848 3850 3852 3854 3856 3858 3860 3862 3864 3866 3868 3870 3872 3874 3876 3878 3880 3882 3884 3886 3888 3890 3892 3894 3896 3898 3900 3902 3904 3906 3908 3910 3912 3914 3916 3918 3920 3922 3924 3926 3928 3930 3932 3934 3936 3938 3940 3942 3944 3946 3948 3950 3952 3954 3956 3958 3960 3962 3964 3966 3968 3970 3972 3974 3976 3978 3980 3982 3984 3986 3988 3990 3992 3994 3996 3998 4000 4002 4004 4006 4008 4010 4012 4014 4016 4018 4020 4022 4024 4026 4028 4030 4032 4034 4036 4038 4040 4042 4044 4046 4048 4050 4052 4054 4056 4058 4060 4062 4064 4066 4068 4070 4072 4074 4076 4078 4080 4082 4084 4086 4088 4090 4092 4094 4096 4098 4100 4102 4104 4106 4108 4110 4112 4114 4116 4118 4120 4122 4124 4126 4128 4130 4132 4134 4136 4138 4140 4142 4144 4146 4148 4150 4152 4154 4156 4158 4160 4162 4164 4166 4168 4170 4172 4174 4176 4178 4180 4182 4184 4186 4188 4190 4192 4194 4196 4198 4200 4202 4204 4206 4208 4210 4212 4214 4216 4218 4220 4222 4224 4226 4228 4230 4232 4234 4236 4238 4240 4242 4244 4246 4248 4250 4252 4254 4256 4258 4260 4262 4264 4266 4268 4270 4272 4274 4276 4278 4280 4282 4284 4286 4288 4290 4292 4294 4296 4298 4300 4302 4304 4306 4308 4310 4312 4314 4316 4318 4320 4322 4324 4326 4328 4330 4332 4334 4336 4338 4340 4342 4344 4346 4348 4350 4352 4354 4356 4358 4360 4362 4364 4366 4368 4370 4372 4374 4376 4378 4380 4382 4384 4386 4388 4390 4392 4394 4396 4398 4400 4402 4404 4406 4408 4410 4412 4414 4416 4418 4420 4422 4424 4426 4428 4430 4432 4434 4436 4438 4440 4442 4444 4446 4448 4450 4452 4454 4456 4458 4460 4462 4464 4466 4468 4470 4472 4474 4476 4478 4480 4482 4484 4486 4488 4490 4492 4494 4496 4498 4500 4502 4504 4506 4508 4510 4512 4514 4516 4518 4520 4522 4524 4526 4528 4530 4532 4534 4536 4538 4540 4542 4544 4546 4548 4550 4552 4554 4556 4558 4560 4562 4564 4566 4568 4570 4572 4574 4576 4578 4580 4582 4584 4586 4588 4590 4592 4594 4596 4598 4600 4602 4604 4606 4608 4610 4612 4614 4616 4618 4620 4622 4624 4626 4628 4630 4632 4634 4636 4638 4640 4642 4644 4646 4648 4650 4652 4654 4656 4658 4660 4662 4664 4666 4668 4670 4672 4674 4676 4678 4680 4682 4684 4686 4688 4690 4692 4694 4696 4698 4700 4702 4704 4706 4708 4710 4712 4714 4716 4718 4720 4722 4724 4726 4728 4730 4732 4734 4736 4738 4740 4742 4744 4746 4748 4750 4752 4754 4756 4758 4760 4762 4764 4766 4768 4770 4772 4774 4776 4778 4780 4782 4784 4786 4788 4790 4792 4794 4796 4798 4800 4802 4804 4806 4808 4810 4812 4814 4816 4818 4820 4822 4824 4826 4828 4830 4832 4834 4836 4838 4840 4842 4844 4846 4848 4850 4852 4854 4856 4858 4860 4862 4864 4866 4868 4870 4872 4874 4876 4878 4880 4882 4884 4886 4888 4890 4892 4894 4896 4898 4900 4902 4904 4906 4908 4910 4912 4914 4916 4918 4920 4922 4924 4926 4928 4930 4932 4934 4936 4938 4940 4942 4944 4946 4948 4950 4952 4954 4956 4958 4960 4962 4964 4966 4968 4970 4972 4974 4976 4978 4980 4982 4984 4986 4988 4990 4992 4994 4996 4998 5000 5002 5004 5006 5008 5010 5012 5014 5016 5018 5020 5022 5024 5026 5028 5030 5032 5034 5036 5038 5040 5042 5044 5046 5048 5050 5052 5054 5056 5058 5060 5062 5064 5066 5068 5070 5072 5074 5076 5078 5080 5082 5084 5086 5088 5090 5092 5094 5096 5098 5100 5102 5104 5106 5108 5110 5112 5114 5116 5118 5120 5122 5124 5126 5128 5130 5132 5134 5136 5138 5140 5142 5144 5146 5148 5150 5152 5154 5156 5158 5160 5162 5164 5166 5168 5170 5172 5174 5176 5178 5180 5182 5184 5186 5188 5190 5192 5194 5196 5198 5200 5202 5204 5206 5208 5210 5212 5214 5216 5218 5220 5222 5224 5226 5228 5230 5232 5234 5236 5238 5240 5242 5244 5246 5248 5250 5252 5254 5256 5258 5260 5262 5264 5266 5268 5270 5272 5274 5276 5278 5280 5282 5284 5286 5288 5290 5292 5294 5296 5298 5300 5302 5304 5306 5308 5310 5312 5314 5316 5318 5320 5322 5324 5326 5328 5330 5332 5334 5336 5338 5340 5342 5344 5346 5348 5350 5352 5354 5356 5358 5360 5362 5364 5366 5368 5370 5372 5374 5376 5378 5380 5382 5384 5386 5388 5390 5392 5394 5396 5398 5400 5402 5404 5406 5408 5410 5412 5414 5416 5418 5420 5422 5424 5426 5428 5430 5432 5434 5436 5438 5440 5442 5444 5446 5448 5450 5452 5454 5456 5458 5460 5462 5464 5466 5468 5470 5472 5474 5476 5478 5480 5482 5484 5486 5488 5490 5492 5494 5496 5498 5500 5502 5504 5506 5508 5510 5512 5514 5516 5518 5520 5522 5524 5526 5528 5530 5532 5534 5536 5538 5540 5542 5544 5546 5548 5550 5552 5554 5556 5558 5560 5562 5564 5566 5568 5570 5572 5574 5576 5578 5580 5582 5584 5586 5588 5590 5592 5594 5596 5598 5600 5602 5604 5606 5608 5610 5612 5614 5616 5618 5620 5622 5624 5626 5628 5630 5632 5634 5636 5638 5640 5642 5644 5646 5648 5650 5652 5654 5656 5658 5660 5662 5664 5666 5668 5670 5672 5674 5676 5678 5680 5682 5684 5686 5688 5690 5692 5694 5696 5698 5700 5702 5704 5706 5708 5710 5712 5714 5716 5718 5720 5722 5724 5726 5728 5730 5732 5734 5736 5738 5740 5742 5744 5746 5748 5750 5752 5754 5756 5758 5760 5762 5764 5766 5768 5770 5772 5774 5776 5778 5780 5782 5784 5786 5788 5790 5792 5794 5796 5798 5800 5802 5804 5806 5808 5810 5812 5814 5816 5818 5820 5822 5824 5826 5828 5830 5832 5834 5836 5838 5840 5842 5844 5846 5848 5850 5852 5854 5856 5858 5860 5862 5864 5866 5868 5870 5872 5874 5876 5878 5880 5882 5884 5886 5888 5890 5892 5894 5896 5898 5900 5902 5904 5906 5908 5910 5912 5914 5916 5918 5920 5922 5924 5926 5928 5930 5932 5934 5936 5938 5940 5942 5944 5946 5948 5950 5952 5954 5956 5958 5960 5962 5964 5966 5968 5970 5972 5974 5976 5978 5980 5982 5984 5986 5988 5990 5992 5994 5996 5998 6000 6002 6004 6006 6008 6010 6012 6014 6016 6018 6020 6022 6024 6026 6028 6030 6032 6034 6036 6038 6040 6042 6044 6046 6048 6050 6052 6054 6056 6058 6060 6062 6064 6066 6068 6070 6072 6074 6076 6078 6080 6082 6084 6086 6088 6090 6092 6094 6096 6098 6100 6102 6104 6106 6108 6110 6112 6114 6116 6118 6120 6122 6124 6126 6128 6130 6132 6134 6136 6138 6140 6142 6144 6146 6148 6150 6152 6154 6156 6158 6160 6162 6164 6166 6168 6170 6172 6174 6176 6178 6180 6182 6184 6186 6188 6190 6192 6194 6196 6198 6200 6202 6204 6206 6208 6210 6212 6214 6216 6218 6220 6222 6224 6226 6228 6230 6232 6234 6236 6238 6240 6242 6244 6246 6248 6250 6252 6254 6256 6258 6260 6262 6264 6266 6268 6270 6272 6274 6276 6278 6280 6282 6284 6286 6288 6290 6292 6294 6296 6298 6300 6302 6304 6306 6308 6310 6312 6314 6316 6318 6320 6322 6324 6326 6328 6330 6332 6334 6336 6338 6340 6342 6344 6346 6348 6350 6352 6354 6356 6358 6360 6362 6364 6366 6368 6370 6372 6374 6376 6378 6380 6382 6384 6386 6388 6390 6392 6394 6396 6398 6400 6402 6404 6406 6408 6410 6412 6414 6416 6418 6420 6422 6424 6426 6428 6430 6432 6434 6436 6438 6440 6442 6444 6446 6448 6450 6452 6454 6456 6458 6460 6462 6464 6466 6468 6470 6472 6474 6476 6478 6480 6482 6484 6486 6488 6490 6492 6494 6496 6498 6500 6502 6504 6506 6508 6510 6512 6514 6516 6518 6520 6522 6524 6526 6528 6530 6532 6534 6536 6538 6540 6542 6544 6546 6548 6550 6552 6554 6556 6558 6560 6562 6564 6566 6568 6570 6572 6574 6576 6578 6580 6582 6584 6586 6588 6590 6592 6594 6596 6598 6600 6602 6604 6606 6608 6610 6612 6614 6616 6618 6620 6622 6624 6626 6628 6630 6632 6634 6636 6638 6640 6642 6644 6646 6648 6650 6652 6654 6656 6658 6660 6662 6664 6666 6668 6670 6672 6674 6676 6678 6680 6682 6684 6686 6688 6690 6692 6694 6696 6698 6700 6702 6704 6706 6708 6710 6712 6714 6716 6718 6720 6722 6724 6726 6728 6730 6732 6734 6736 6738 6740 6742 6744 6746 6748 6750 6752 6754 6756 6758 6760 6762 6764 6766 6768 6770 6772 6774 6776 6778 6780 6782 6784 6786 6788 6790 6792 6794 6796 6798 6800 6802 6804 6806 6808 6810 6812 6814 6816 6818 6820 6822 6824 6826 6828 6830 6832 6834 6836 6838 6840 6842 6844 6846 6848 6850 6852 6854 6856 6858 6860 6862 6864 6866 6868 6870 6872 6874 6876 6878 6880 6882 6884 6886 6888 6890 6892 6894 6896 6898 6900 6902 6904 6906 6908 6910 6912 6914 6916 6918 6920 6922 6924 6926 6928 6930 6932 6934 6936 6938 6940 6942 6944 6946 6948 6950 6952 6954 6956 6958 6960 6962 6964 6966 6968 6970 6972 6974 6976 6978 6980 6982 6984 6986 6988 6990 6992 6994 6996 6998 7000 7002 7004 7006 7008 7010 7012 7014 7016 7018 7020 7022 7024 7026 7028 7030 7032 7034 7036 7038 7040 7042 7044 7046 7048 7050 7052 7054 7056 7058 7060 7062 7064 7066 7068 7070 7072 7074 7076 7078 7080 7082 7084 7086 7088 7090 7092 7094 7096 7098 7100 7102 7104 7106 7108 7110 7112 7114 7116 7118 7120 7122 7124 7126 7128 7130 7132 7134 7136 7138 7140 7142 7144 7146 7148 7150 7152 7154 7156 7158 7160 7162 7164 7166 7168 7170 7172 7174 7176 7178 7180 7182 7184 7186 7188 7190 7192 7194 7196 7198 7200 7202 7204 7206 7208 7210 7212 7214 7216 7218 7220 7222 7224 7226 7228 7230 7232 7234 7236 7238 7240 7242 7244 7246 7248 7250 7252 7254 7256 7258 7260 7262 7264 7266 7268 7270 7272 7274 7276 7278 7280 7282 7284 7286 7288 7290 7292 7294 7296 7298 7300 7302 7304 7306 7308 7310 7312 7314 7316 7318 7320 7322 7324 7326 7328 7330 7332 7334 7336 7338 7340 7342 7344 7346 7348 7350 7352 7354 7356 7358 7360 7362 7364 7366 7368 7370 7372 7374 7376 7378 7380 7382 7384 7386 7388 7390 7392 7394 7396 7398 7400 7402 7404 7406 7408 7410 7412 7414 7416 7418 7420 7422 7424 7426 7428 7430 7432 7434 7436 7438 7440 7442 7444 7446 7448 7450 7452 7454 7456 7458 7460 7462 7464 7466 7468 7470 7472 7474 7476 7478 7480 7482 7484 7486 7488 7490 7492 7494 7496 7498 7500 7502 7504 7506 7508 7510 7512 7514 7516 7518 7520 7522 7524 7526 7528 7530 7532 7534 7536 7538 7540 7542 7544 7546 7548 7550 7552 7554 7556 7558 7560 7562 7564 7566 7568 7570 7572 7574 7576 7578 7580 7582 7584 7586 7588 7590 7592 7594 7596 7598 7600 7602 7604 7606 7608 7610 7612 7614 7616 7618 7620 7622 7624 7626 7628 7630 7632 7634 7636 7638 7640 7642 7644 7646 7648 7650 7652 7654 7656 7658 7660 7662 7664 7666 7668 7670 7672 7674 7676 7678 7680 7682 7684 7686 7688 7690 7692 7694 7696 7698 7700 7702 7704 7706 7708 7710 7712 7714 7716 7718 7720 7722 7724 7726 7728 7730 7732 7734 7736 7738 7740 7742 7744 7746 7748 7750 7752 7754 7756 7758 7760 7762 7764 7766 7768 7770 7772 7774 7776 7778 7780 7782 7784 7786 7788 7790 7792 7794 7796 7798 7800 7802 7804 7806 7808 7810 7812 7814 7816 7818 7820 7822 7824 7826 7828 7830 7832 7834 7836 7838 7840 7842 7844 7846 7848 7850 7852 7854 7856 7858 7860 7862 7864 7866 7868 7870 7872 7874 7876 7878 7880 7882 7884 7886 7888 7890 7892 7894 7896 7898 7900 7902 7904 7906 7908 7910 7912 7914 7916 7918 7920 7922 7924 7926 7928 7930 7932 7934 7936 7938 7940 7942 7944 7946 7948 7950 7952 7954 7956 7958 7960 7962 7964 7966 7968 7970 7972 7974 7976 7978 7980 7982 7984 7986 7988 7990 7992 7994 7996 7998 8000 8002 8004 8006 8008 8010 8012 8014 8016 8018 8020 8022 8024 8026 8028 8030 8032 8034 8036 8038 8040 8042 8044 8046 8048 8050 8052 8054 8056 8058 8060 8062 8064 8066 8068 8070 8072 8074 8076 8078 8080 8082 8084 8086 8088 8090 8092 8094 8096 8098 8100 8102 8104 8106 8108 8110 8112 8114 8116 8118 8120 8122 8124 8126 8128 8130 8132 8134 8136 8138 8140 8142 8144 8146 8148 8150 8152 8154 8156 8158 8160 8162 8164 8166 8168 8170 8172 8174 8176 8178 8180 8182 8184 8186 8188 8190 8192 8194 8196 8198 8200 8202 8204 8206 8208 8210 8212 8214 8216 8218 8220 8222 8224 8226 8228 8230 8232 8234 8236 8238 8240 8242 8244 8246 8248 8250 8252 8254 8256 8258 8260 8262 8264 8266 8268 8270 8272 8274 8276 8278 8280 8282 8284 8286 8288 8290 8292 8294 8296 8298 8300 8302 8304 8306 8308 8310 8312 8314 8316 8318 8320 8322 8324 8326 8328 8330 8332 8334 8336 8338 8340 8342 8344 8346 8348 8350 8352 8354 8356 8358 8360 8362 8364 8366 8368 8370 8372 8374 8376 8378 8380 8382 8384 8386 8388 8390 8392 8394 8396 8398 8400 8402 8404 8406 8408 8410 8412 8414 8416 8418 8420 8422 8424 8426 8428 8430 8432 8434 8436 8438 8440 8442 8444 8446 8448 8450 8452 8454 8456 8458 8460 8462 8464 8466 8468 8470 8472 8474 8476 8478 8480 8482 8484 8486 8488 8490 8492 8494 8496 8498 8500 8502 8504 8506 8508 8510 8512 8514 8516 8518 8520 8522 8524 8526 8528 8530 8532 8534 8536 8538 8540 8542 8544 8546 8548 8550 8552 8554 8556 8558 8560 8562 8564 8566 8568 8570 8572 8574 8576 8578 8580 8582 8584 8586 8588 8590 8592 8594 8596 8598 8600 8602 8604 8606 8608 8610 8612 8614 8616 8618 8620 8622 8624 8626 8628 8630 8632 8634 8636 8638 8640 8642 8644 8646 8648 8650 8652 8654 8656 8658 8660 8662 8664 8666 8668 8670 8672 8674 8676 8678 8680 8682 8684 8686 8688 8690 8692 8694 8696 8698 8700 8702 8704 8706 8708 8710 8712 8714 8716 8718 8720 8722 8724 8726 8728 8730 8732 8734 8736 8738 8740 8742 8744 8746 8748 8750 8752 8754 8756 8758 8760 8762 8764 8766 8768 8770 8772 8774 8776 8778 8780 8782 8784 8786 8788 8790 8792 8794 8796 8798 8800 8802 8804 8806 8808 8810 8812 8814 8816 8818 8820 8822 8824 8826 8828 8830 8832 8834 8836 8838 8840 8842 8844 8846 8848 8850 8852 8854 8856 8858 8860 8862 8864 8866 8868 8870 8872 8874 8876 8878 8880 8882 8884 8886 8888 8890 8892 8894 8896 8898 8900 8902 8904 8906 8908 8910 8912 8914 8916 8918 8920 8922 8924 8926 8928 8930 8932 8934 8936 8938 8940 8942 8944 8946 8948 8950 8952 8954 8956 8958 8960 8962 8964 8966 8968 8970 8972 8974 8976 8978 8980 8982 8984 8986 8988 8990 8992 8994 8996 8998 9000 9002 9004 9006 9008 9010 9012 9014 9016 9018 9020 9022 9024 9026 9028 9030 9032 9034 9036 9038 9040 9042 9044 9046 9048 9050 9052 9054 9056 9058 9060 9062 9064 9066 9068 9070 9072 9074 9076 9078 9080 9082 9084 9086 9088 9090 9092 9094 9096 9098 9100 9102 9104 9106 9108 9110 9112 9114 9116 9118 9120 9122 9124 9126 9128 9130 9132 9134 9136 9138 9140 9142 9144 9146 9148 9150 9152 9154 9156 9158 9160 9162 9164 9166 9168 9170 9172 9174 9176 9178 9180 9182 9184 9186 9188 9190 9192 9194 9196 9198 9200 9202 9204 9206 9208 9210 9212 9214 9216 9218 9220 9222 9224 9226 9228 9230 9232 9234 9236 9238 9240 9242 9244 9246 9248 9250 9252 9254 9256 9258 9260 9262 9264 9266 9268 9270 9272 9274 9276 9278 9280 9282 9284 9286 9288 9290 9292 9294 9296 9298 9300 9302 9304 9306 9308 9310 9312 9314 9316 9318 9320 9322 9324 9326 9328 9330 9332 9334 9336 9338 9340 9342 9344 9346 9348 9350 9352 9354 9356 9358 9360 9362 9364 9366 9368 9370 9372 9374 9376 9378 9380 9382 9384 9386 9388 9390 9392 9394 9396 9398 9400 9402 9404 9406 9408 9410 9412 9414 9416 9418 9420 9422 9424 9426 9428 9430 9432 9434 9436 9438 9440 9442 9444 9446 9448 9450 9452 9454 9456 9458 9460 9462 9464 9466 9468 9470 9472 9474 9476 9478 9480 9482 9484 9486 9488 9490 9492 9494 9496 9498 9500 9502 9504 9506 9508 9510 9512 9514 9516 9518 9520 9522 9524 9526 9528 9530 9532 9534 9536 9538 9540 9542 9544 9546 9548 9550 9552 9554 9556 9558 9560 9562 9564 9566 9568 9570 9572 9574 9576 9578 9580 9582 9584 9586 9588 9590 9592 9594 9596 9598 9600 9602 9604 9606 9608 9610 9612 9614 9616 9618 9620 9622 9624 9626 9628 9630 9632 9634 9636 9638 9640 9642 9644 9646 9648 9650 9652 9654 9656 9658 9660 9662 9664 9666 9668 9670 9672 9674 9676 9678 9680 9682 9684 9686 9688 9690 9692 9694 9696 9698 9700 9702 9704 9706 9708 9710 9712 9714 9716 9718 9720 9722 9724 9726 9728 9730 9732 9734 9736 9738 9740 9742 9744 9746 9748 9750 9752 9754 9756 9758 9760 9762 9764 9766 9768 9770 9772 9774 9776 9778 9780 9782 9784 9786 9788 9790 9792 9794 9796 9798 9800 9802 9804 9806 9808 9810 9812 9814 9816 9818 9820 9822 9824 9826 9828 9830 9832 9834 9836 9838 9840 9842 9844 9846 9848 9850 9852 9854 9856 9858 9860 9862 9864 9866 9868 9870 9872 9874 9876 9878 9880 9882 9884 9886 9888 9890 9892 9894 9896 9898 9900 9902 9904 9906 9908 9910 9912 9914 9916 9918 9920 9922 9924 9926 9928 9930 9932 9934 9936 9938 9940 9942 9944 9946 9948 9950 9952 9954 9956 9958 9960 9962 9964 9966 9968 9970 9972 9974 9976 9978 9980 9982 9984 9986 9988 9990 9992 9994 9996 9998 10000 10002 10004 10006 10008 10010 10012 10014 10016 10018 10020 10022 10024 10026 10028 10030 10032 10034 10036 10038 10040 10042 10044 10046 10048 10050 10052 10054 10056 10058 10060 10062 10064 10066 10068 10070 10072 10074 10076 10078 10080 10082 10084 10086 10088 10090 10092 10094 10096 10098 10100 10102 10104 10106 10108 10110 10112 10114 10116 10118 10120 10122 10124 10126 10128 10130 10132 10134 10136 10138 10140 10142 10144 10146 10148 10150 10152 10154 10156 10158 10160 10162 10164 10166 10168 10170 10172 10174 10176 10178 10180 10182 10184 10186 10188 10190 10192 10194 10196 10198 10200 10202 10204 10206 10208 10210 10212 10214 10216 10218 10220 10222 10224 10226 10228 10230 10232 10234 10236 10238 10240 10242 10244 10246 10248 10250 10252 10254 10256 10258 10260 10262 10264 10266 10268 10270 10272 10274 10276 10278 10280 10282 10284 10286 10288 10290 10292 10294 10296 10298 10300 10302 10304 10306 10308 10310 10312 10314 10316 10318 10320 10322 10324 10326 10328 10330 10332 10334 10336 10338 10340 10342 10344 10346 10348 10350 10352 10354 10356 10358 10360 10362 10364 10366 10368 10370 10372 10374 10376 10378 10380 10382 10384 10386 10388 10390 10392 10394 10396 10398 10400 10402 10404 10406 10408 10410 10412 10414 10416 10418 10420 10422 10424 10426 10428 10430 10432 10434 10436 10438 10440 10442 10444 10446 10448 10450 10452 10454 10456 10458 10460 10462 10464 10466 10468 10470 10472 10474 10476 10478 10480 10482 10484 10486 10488 10490 10492 10494 10496 10498 10500 10502 10504 10506 10508 10510 10512 10514 10516 10518 10520 10522 10524 10526 10528 10530 10532 10534 10536 10538 10540 10542 10544 10546 10548 10550 10552 10554 10556 10558 10560 10562 10564 10566 10568 10570 10572 10574 10576 10578 10580 10582 10584 10586 10588 10590 10592 10594 10596 10598 10600 10602 10604 10606 10608 10610 10612 10614 10616 10618 10620 10622 10624 10626 10628 10630 10632 10634 10636 10638 10640 10642 10644 10646 10648 10650 10652 10654 10656 10658 10660 10662 10664 10666 10668 10670 10672 10674 10676 10678 10680 10682 10684 10686 10688 10690 10692 10694 10696 10698 10700 10702 10704 10706 10708 10710 10712 10714 10716 10718 10720 10722 10724 10726 10728 10730 10732 10734 10736 10738 10740 10742 10744 10746 10748 10750 10752 10754 10756 10758 10760 10762 10764 10766 10768 10770 10772 10774 10776 10778 10780 10782 10784 10786 10788 10790 10792 10794 10796 10798 10800 10802 10804 10806 10808 10810 10812 10814 10816 10818 10820 10822 10824 10826 10828 10830 10832 10834 10836 10838 10840 10842 10844 10846 10848 10850 10852 10854 10856 10858 10860 10862 10864 10866 10868 10870 10872 10874 10876 10878 10880 10882 10884 10886 10888 10890 10892 10894 10896 10898 10900 10902 10904 10906 10908 10910 10912 10914 10916 10918 10920 10922 10924 10926 10928 10930 10932 10934 10936 10938 10940 10942 10944 10946 10948 10950 10952 10954 10956 10958 10960 10962 10964 10966 10968 10970 10972 10974 10976 10978 10980 10982 10984 10986 10988 10990 10992 10994 10996 10998 11000 11002 11004 11006 11008 11010 11012 11014 11016 11018 11020 11022 11024 11026 11028 11030 11032 11034 11036 11038 11040 11042 11044 11046 11048 11050 11052 11054 11056 11058 11060 11062 11064 11066 11068 11070 11072 11074 11076 11078 11080 11082 11084 11086 11088 11090 11092 11094 11096 11098 11100 11102 11104 11106 11108 11110 11112 11114 11116 11118 11120 11122 11124 11126 11128 11130 11132 11134 11136 11138 11140 11142 11144 11146 11148 11150 11152 11154 11156 11158 11160 11162 11164 11166 11168 11170 11172 11174 11176 11178 11180 11182 11184 11186 11188 11190 11192 11194 11196 11198 11200 11202 11204 11206 11208 11210 11212 11214 11216 11218 11220 11222 11224 11226 11228 11230 11232 11234 11236 11238 11240 11242 11244 11246 11248 11250 11252 11254 11256 11258 11260 11262 11264 11266 11268 11270 11272 11274 11276 11278 11280 11282 11284 11286 11288 11290 11292 11294 11296 11298 11300 11302 11304 11306 11308 11310 11312 11314 11316 11318 11320 11322 11324 11326 11328 11330 11332 11334 11336 11338 11340 11342 11344 11346 11348 11350 11352 11354 11356 11358 11360 11362 11364 11366 11368 11370 11372 11374 11376 11378 11380 11382 11384 11386 11388 11390 11392 11394 11396 11398 11400 11402 11404 11406 11408 11410 11412 11414 11416 11418 11420 11422 11424 11426 11428 11430 11432 11434 11436 11438 11440 11442 11444 11446 11448 11450 11452 11454 11456 11458 11460 11462 11464 11466 11468 11470 11472 11474 11476 11478 11480 11482 11484 11486 11488 11490 11492 11494 11496 11498 11500 11502 11504 11506 11508 11510 11512 11514 11516 11518 11520 11522 11524 11526 11528 11530 11532 11534 11536 11538 11540 11542 11544 11546 11548 11550 11552 11554 11556 11558 11560 11562 11564 11566 11568 11570 11572 11574 11576 11578 11580 11582 11584 11586 11588 11590 11592 11594 11596 11598 11600 11602 11604 11606 11608 11610 11612 11614 11616 11618 11620 11622 11624 11626 11628 11630 11632 11634 11636 11638 11640 11642 11644 11646 11648 11650 11652 11654 11656 11658 11660 11662 11664 11666 11668 11670 11672 11674 11676 11678 11680 11682 11684 11686 11688 11690 11692 11694 11696 11698 11700 11702 11704 11706 11708 11710 11712 11714 11716 11718 11720 11722 11724 11726 11728 11730 11732 11734 11736 11738 11740 11742 11744 11746 11748 11750 11752 11754 11756 11758 11760 11762 11764 11766 11768 11770 11772 11774 11776 11778 11780 11782 11784 11786 11788 11790 11792 11794 11796 11798 11800 11802 11804 11806 11808 11810 11812 11814 11816 11818 11820 11822 11824 11826 11828 11830 11832 11834 11836 11838 11840 11842 11844 11846 11848 11850 11852 11854 11856 11858 11860 11862 11864 11866 11868 11870 11872 11874 11876 11878 11880 11882 11884 11886 11888 11890 11892 11894 11896 11898 11900 11902 11904 11906 11908 11910 11912 11914 11916 11918 11920 11922 11924 11926 11928 11930 11932 11934 11936 11938 11940 11942 11944 11946 11948 11950 11952 11954 11956 11958 11960 11962 11964 11966 11968 11970 11972 11974 11976 11978 11980 11982 11984 11986 11988 11990 11992 11994 11996 11998 12000 12002 12004 12006 12008 12010 12012 12014 12016 12018 12020 12022 12024 12026 12028 12030 12032 12034 12036 12038 12040 12042 12044 12046 12048 12050 12052 12054 12056 12058 12060 12062 12064 12066 12068 12070 12072 12074 12076 12078 12080 12082 12084 12086 12088 12090 12092 12094 12096 12098 12100 12102 12104 12106 12108 12110 12112 12114 12116 12118 12120 12122 12124 12126 12128 12130 12132 12134 12136 12138 12140 12142 12144 12146 12148 12150 12152 12154 12156 12158 12160 12162 12164 12166 12168 12170 12172 12174 12176 12178 12180 12182 12184 12186 12188 12190 12192 12194 12196 12198 12200 12202 12204 12206 12208 12210 12212 12214 12216 12218 12220 12222 12224 12226 12228 12230 12232 12234 12236 12238 12240 12242 12244 12246 12248 12250 12252 12254 12256 12258 12260 12262 12264 12266 12268 12270 12272 12274 12276 12278 12280 12282 12284 12286 12288 12290 12292 12294 12296 12298 12300 12302 12304 12306 12308 12310 12312 12314 12316 12318 12320 12322 12324 12326 12328 12330 12332 12334 12336 12338 12340 12342 12344 12346 12348 12350 12352 12354 12356 12358 12360 12362 12364 12366 12368 12370 12372 12374 12376 12378 12380 12382 12384 12386 12388 12390 12392 12394 12396 12398 12400 12402 12404 12406 12408 12410 12412 12414 12416 12418 12420 12422 12424 12426 12428 12430 12432 12434 12436 12438 12440 12442 12444 12446 12448 12450 12452 12454 12456 12458 12460 12462 12464 12466 12468 12470 12472 12474 12476 12478 12480 12482 12484 12486 12488 12490 12492 12494 12496 12498 12500 12502 12504 12506 12508 12510 12512 12514 12516 12518 12520 12522 12524 12526 12528 12530 12532 12534 12536 12538 12540 12542 12544 12546 12548 12550 12552 12554 12556 12558 12560 12562 12564 12566 12568 12570 12572 12574 12576 12578 12580 12582 12584 12586 12588 12590 12592 12594 12596 12598 12600 12602 12604 12606 12608 12610 12612 12614 12616 12618 12620 12622 12624 12626 12628 12630 12632 12634 12636 12638 12640 12642 12644 12646 12648 12650 12652 12654 12656 12658 12660 12662 12664 12666 12668 12670 12672 12674 12676 12678 12680 12682 12684 12686 12688 12690 12692 12694 12696 12698 12700 12702 12704 12706 12708 12710 12712 12714 12716 12718 12720 12722 12724 12726 12728 12730 12732 12734 12736 12738 12740 12742 12744 12746 12748 12750 12752 12754 12756 12758 12760 12762 12764 12766 12768 12770 12772 12774 12776 12778 12780 12782 12784 12786 12788 12790 12792 12794 12796 12798 12800 12802 12804 12806 12808 12810 12812 12814 12816 12818 12820 12822 12824 12826 12828 12830 12832 12834 12836 12838 12840 12842 12844 12846 12848 12850 12852 12854 12856 12858 12860 12862 12864 12866 12868 12870 12872 12874 12876 12878 12880 12882 12884 12886 12888 12890 12892 12894 12896 12898 12900 12902 12904 12906 12908 12910 12912 12914 12916 12918 12920 12922 12924 12926 12928 12930 12932 12934 12936 12938 12940 12942 12944 12946 12948 12950 12952 12954 12956 12958 12960 12962 12964 12966 12968 12970 12972 12974 12976 12978 12980 12982 12984 12986 12988 12990 12992 12994 12996 12998 13000 13002 13004 13006 13008 13010 13012 13014 13016 13018 13020 13022 13024 13026 13028 13030 13032 13034 13036 13038 13040 13042 13044 13046 13048 13050 13052 13054 13056 13058 13060 13062 13064 13066 13068 13070 13072 13074 13076 13078 13080 13082 13084 13086 13088 13090 13092 13094 13096 13098 13100 13102 13104 13106 13108 13110 13112 13114 13116 13118 13120 13122 13124 13126 13128 13130 13132 13134 13136 13138 13140 13142 13144 13146 13148 13150 13152 13154 13156 13158 13160 13162 13164 13166 13168 13170 13172 13174 13176 13178 13180 13182 13184 13186 13188 13190 13192 13194 13196 13198 13200 13202 13204 13206 13208 13210 13212 13214 13216 13218 13220 13222 13224 13226 13228 13230 13232 13234 13236 13238 13240 13242 13244 13246 13248 13250 13252 13254 13256 13258 13260 13262 13264 13266 13268 13270 13272 13274 13276 13278 13280 13282 13284 13286 13288 13290 13292 13294 13296 13298 13300 13302 13304 13306 13308 13310 13312 13314 13316 13318 13320 13322 13324 13326 13328 13330 13332 13334 13336 13338 13340 13342 13344 13346 13348 13350 13352 13354 13356 13358 13360 13362 13364 13366 13368 13370 13372 13374 13376 13378 13380 13382 13384 13386 13388 13390 13392 13394 13396 13398 13400 13402 13404 13406 13408 13410 13412 13414 13416 13418 13420 13422 13424 13426 13428 13430 13432 13434 13436 13438 13440 13442 13444 13446 13448 13450 13452 13454 13456 13458 13460 13462 13464 13466 13468 13470 13472 13474 13476 13478 13480 13482 13484 13486 13488 13490 13492 13494 13496 13498 13500 13502 13504 13506 13508 13510 13512 13514 13516 13518 13520 13522 13524 13526 13528 13530 13532 13534 13536 13538 13540 13542 13544 13546 13548 13550 13552 13554 13556 13558 13560 13562 13564 13566 13568 13570 13572 13574 13576 13578 13580 13582 13584 13586 13588 13590 13592 13594 13596 13598 13600 13602 13604 13606 13608 13610 13612 13614 13616 13618 13620 13622 13624 13626 13628 13630 13632 13634 13636 13638 13640 13642 13644 13646 13648 13650 13652 13654 13656 13658 13660 13662 13664 13666 13668 13670 13672 13674 13676 13678 13680 13682 13684 13686 13688 13690 13692 13694 13696 13698 13700 13702 13704 13706 13708 13710 13712 13714 13716 13718 13720 13722 13724 13726 13728 13730 13732 13734 13736 13738 13740 13742 13744 13746 13748 13750 13752 13754 13756 13758 13760 13762 13764 13766 13768 13770 13772 13774 13776 13778 13780 13782 13784 13786 13788 13790 13792 13794 13796 13798 13800 13802 13804 13806 13808 13810 13812 13814 13816 13818 13820 13822 13824 13826 13828 13830 13832 13834 13836 13838 13840 13842 13844 13846 13848 13850 13852 13854 13856 13858 13860 13862 13864 13866 13868 13870 13872 13874 13876 13878 13880 13882 13884 13886 13888 13890 13892 13894 13896 13898 13900 13902 13904 13906 13908 13910 13912 13914 13916 13918 13920 13922 13924 13926 13928 13930 13932 13934 13936 13938 13940 13942 13944 13946 13948 13950 13952 13954 13956 13958 13960 13962 13964 13966 13968 13970 13972 13974 13976 13978 13980 13982 13984 13986 13988 13990 13992 13994 13996 13998 14000 14002 14004 14006 14008 14010 14012 14014 14016 14018 14020 14022 14024 14026 14028 14030 14032 14034 14036 14038 14040 14042 14044 14046 14048 14050 14052 14054 14056 14058 14060 14062 14064 14066 14068 14070 14072 14074 14076 14078 14080 14082 14084 14086 14088 14090 14092 14094 14096 14098 14100 14102 14104 14106 14108 14110 14112 14114 14116 14118 14120 14122 14124 14126 14128 14130 14132 14134 14136 14138 14140 14142 14144 14146 14148 14150 14152 14154 14156 14158 14160 14162 14164 14166 14168 14170 14172 14174 14176 14178 14180 14182 14184 14186 14188 14190 14192 14194 14196 14198 14200 14202 14204 14206 14208 14210 14212 14214 14216 14218 14220 14222 14224 14226 14228 14230 14232 14234 14236 14238 14240 14242 14244 14246 14248 14250 14252 14254 14256 14258 14260 14262 14264 14266 14268 14270 14272 14274 14276 14278 14280 14282 14284 14286 14288 14290 14292 14294 14296 14298 14300 14302 14304 14306 14308 14310 14312 14314 14316 14318 14320 14322 14324 14326 14328 14330 14332 14334 14336 14338 14340 14342 14344 14346 14348 14350 14352 14354 14356 14358 14360 14362 14364 14366 14368 14370 14372 14374 14376 14378 14380 14382 14384 14386 14388 14390 14392 14394 14396 14398 14400 14402 14404 14406 14408 14410 14412 14414 14416 14418 14420 14422 14424 14426 14428 14430 14432 14434 14436 14438 14440 14442 14444 14446 14448 14450 14452 14454 14456 14458 14460 14462 14464 14466 14468 14470 14472 14474 14476 14478 14480 14482 14484 14486 14488 14490 14492 14494 14496 14498 14500 14502 14504 14506 14508 14510 14512 14514 14516 14518 14520 14522 14524 14526 14528 14530 14532 14534 14536 14538 14540 14542 14544 14546 14548 14550 14552 14554 14556 14558 14560 14562 14564 14566 14568 14570 14572 14574 14576 14578 14580 14582 14584 14586 14588 14590 14592 14594 14596 14598 14600 14602 14604 14606 14608 14610 14612 14614 14616 14618 14620 14622 14624 14626 14628 14630 14632 14634 14636 14638 14640 14642 14644 14646 14648 14650 14652 14654 14656 14658 14660 14662 14664 14666 14668 14670 14672 14674 14676 14678 14680 14682 14684 14686 14688 14690 14692 14694 14696 14698 14700 14702 14704 14706 14708 14710 14712 14714 14716 14718 14720 14722 14724 14726 14728 14730 14732 14734 14736 14738 14740 14742 14744 14746 14748 14750 14752 14754 14756 14758 14760 14762 14764 14766 14768 14770 14772 14774 14776 14778 14780 14782 14784 14786 14788 14790 14792 14794 14796 14798 14800 14802 14804 14806 14808 14810 14812 14814 14816 14818 14820 14822 14824 14826 14828 14830 14832 14834 14836 14838 14840 14842 14844 14846 14848 14850 14852 14854 14856 14858 14860 14862 14864 14866 14868 14870 14872 14874 14876 14878 14880 14882 14884 14886 14888 14890 14892 14894 14896 14898 14900 14902 14904 14906 14908 14910 14912 14914 14916 14918 14920 14922 14924 14926 14928 14930 14932 14934 14936 14938 14940 14942 14944 14946 14948 14950 14952 14954 14956 14958 14960 14962 14964 14966 14968 14970 14972 14974 14976 14978 14980 14982 14984 14986 14988 14990 14992 14994 14996 14998 15000 15002 15004 15006 15008 15010 15012 15014 15016 15018 15020 15022 15024 15026 15028 15030 15032 15034 15036 15038 15040 15042 15044 15046 15048 15050 15052 15054 15056 15058 15060 15062 15064 15066 15068 15070 15072 15074 15076 15078 15080 15082 15084 15086 15088 15090 15092 15094 15096 15098 15100 15102 15104 15106 15108 15110 15112 15114 15116 15118 15120 15122 15124 15126 15128 15130 15132 15134 15136 15138 15140 15142 15144 15146 15148 15150 15152 15154 15156 15158 15160 15162 15164 15166 15168 15170 15172 15174 15176 15178 15180 15182 15184 15186 15188 15190 15192 15194 15196 15198 15200 15202 15204 15206 15208 15210 15212 15214 15216 15218 15220 15222 15224 15226 15228 15230 15232 15234 15236 15238 15240 15242 15244 15246 15248 15250 15252 15254 15256 15258 15260 15262 15264 15266 15268 15270 15272 15274 15276 15278 15280 15282 15284 15286 15288 15290 15292 15294 15296 15298 15300 15302 15304 15306 15308 15310 15312 15314 15316 15318 15320 15322 15324 15326 15328 15330 15332 15334 15336 15338 15340 15342 15344 15346 15348 15350 15352 15354 15356 15358 15360 15362 15364 15366 15368 15370 15372 15374 15376 15378 15380 15382 15384 15386 15388 15390 15392 15394 15396 15398 15400 15402 15404 15406 15408 15410 15412 15414 15416 15418 15420 15422 15424 15426 15428 15430 15432 15434 15436 15438 15440 15442 15444 15446 15448 15450 15452 15454 15456 15458 15460 15462 15464 15466 15468 15470 15472 15474 15476 15478 15480 15482 15484 15486 15488 15490 15492 15494 15496 15498 15500 15502 15504 15506 15508 15510 15512 15514 15516 15518 15520 15522 15524 15526 15528 15530 15532 15534 15536 15538 15540 15542 15544 15546 15548 15550 15552 15554 15556 15558 15560 15562 15564 15566 15568 15570 15572 15574 15576 15578 15580 15582 15584 15586 15588 15590 15592 15594 15596 15598 15600 15602 15604 15606 15608 15610 15612 15614 15616 15618 15620 15622 15624 15626 15628 15630 15632 15634 15636 15638 15640 15642 15644 15646 15648 15650 15652 15654 15656 15658 15660 15662 15664 15666 15668 15670 15672 15674 15676 15678 15680 15682 15684 15686 15688 15690 15692 15694 15696 15698 15700 15702 15704 15706 15708 15710 15712 15714 15716 15718 15720 15722 15724 15726 15728 15730 15732 15734 15736 15738 15740 15742 15744 15746 15748 15750 15752 15754 15756 15758 15760 15762 15764 15766 15768 15770 15772 15774 15776 15778 15780 15782 15784 15786 15788 15790 15792 15794 15796 15798 15800 15802 15804 15806 15808 15810 15812 15814 15816 15818 15820 15822 15824 15826 15828 15830 15832 15834 15836 15838 15840 15842 15844 15846 15848 15850 15852 15854 15856 15858 15860 15862 15864 15866 15868 15870 15872 15874 15876 15878 15880 15882 15884 15886 15888 15890 15892 15894 15896 15898 15900 15902 15904 15906 15908 15910 15912 15914 15916 15918 15920 15922 15924 15926 15928 15930 15932 15934 15936 15938 15940 15942 15944 15946 15948 15950 15952 15954 15956 15958 15960 15962 15964 15966 15968 15970 15972 15974 15976 15978 15980 15982 15984 15986 15988 15990 15992 15994 15996 15998 16000 16002 16004 16006 16008 16010 16012 16014 16016 16018 16020 16022 16024 16026 16028 16030 16032 16034 16036 16038 16040 16042 16044 16046 16048 16050 16052 16054 16056 16058 16060 16062 16064 16066 16068 16070 16072 16074 16076 16078 16080 16082 16084 16086 16088 16090 16092 16094 16096 16098 16100 16102 16104 16106 16108 16110 16112 16114 16116 16118 16120 16122 16124 16126 16128 16130 16132 16134 16136 16138 16140 16142 16144 16146 16148 16150 16152 16154 16156 16158 16160 16162 16164 16166 16168 16170 16172 16174 16176 16178 16180 16182 16184 16186 16188 16190 16192 16194 16196 16198 16200 16202 16204 16206 16208 16210 16212 16214 16216 16218 16220 16222 16224 16226 16228 16230 16232 16234 16236 16238 16240 16242 16244 16246 16248 16250 16252 16254 16256 16258 16260 16262 16264 16266 16268 16270 16272 16274 16276 16278 16280 16282 16284 16286 16288 16290 16292 16294 16296 16298 16300 16302 16304 16306 16308 16310 16312 16314 16316 16318 16320 16322 16324 16326 16328 16330 16332 16334 16336 16338 16340 16342 16344 16346 16348 16350 16352 16354 16356 16358 16360 16362 16364 16366 16368 16370 16372 16374 16376 16378 16380 16382 16384 16386 16388 16390 16392 16394 16396 16398 16400 16402 16404 16406 16408 16410 16412 16414 16416 16418 16420 16422 16424 16426 16428 16430 16432 16434 16436 16438 16440 16442 16444 16446 16448 16450 16452 16454 16456 16458 16460 16462 16464 16466 16468 16470 16472 16474 16476 16478 16480 16482 16484 16486 16488 16490 16492 16494 16496 16498 16500 16502 16504 16506 16508 16510 16512 16514 16516 16518 16520 16522 16524 16526 16528 16530 16532 16534 16536 16538 16540 16542 16544 16546 16548 16550 16552 16554 16556 16558 16560 16562 16564 16566 16568 16570 16572 16574 16576 16578 16580 16582 16584 16586 16588 16590 16592 16594 16596 16598 16600 16602 16604 16606 16608 16610 16612 16614 16616 16618 16620 16622 16624 16626 16628 16630 16632 16634 16636 16638 16640 16642 16644 16646 16648 16650 16652 16654 16656 16658 16660 16662 16664 16666 16668 16670 16672 16674 16676 16678 16680 16682 16684 16686 16688 16690 16692 16694 16696 16698 16700 16702 16704 16706 16708 16710 16712 16714 16716 16718 16720 16722 16724 16726 16728 16730 16732 16734 16736 16738 16740 16742 16744 16746 16748 16750 16752 16754 16756 16758 16760 16762 16764 16766 16768 16770 16772 16774 16776 16778 16780 16782 16784 16786 16788 16790 16792 16794 16796 16798 16800 16802 16804 16806 16808 16810 16812 16814 16816 16818 16820 16822 16824 16826 16828 16830 16832 16834 16836 16838 16840 16842 16844 16846 16848 16850 16852 16854 16856 16858 16860 16862 16864 16866 16868 16870 16872 16874 16876 16878 16880 16882 16884 16886 16888 16890 16892 16894 16896 16898 16900 16902 16904 16906 16908 16910 16912 16914 16916 16918 16920 16922 16924 16926 16928 16930 16932 16934 16936 16938 16940 16942 16944 16946 16948 16950 16952 16954 16956 16958 16960 16962 16964 16966 16968 16970 16972 16974 16976 16978 16980 16982 16984 16986 16988 16990 16992 16994 16996 16998 17000 17002 17004 17006 17008 17010 17012 17014 17016 17018 17020 17022 17024 17026 17028 17030 17032 17034 17036 17038 17040 17042 17044 17046 17048 17050 17052 17054 17056 17058 17060 17062 17064 17066 17068 17070 17072 17074 17076 17078 17080 17082 17084 17086 17088 17090 17092 17094 17096 17098 17100 17102 17104 17106 17108 17110 17112 17114 17116 17118 17120 17122 17124 17126 17128 17130 17132 17134 17136 17138 17140 17142 17144 17146 17148 17150 17152 17154 17156 17158 17160 17162 17164 17166 17168 17170 17172 17174 17176 17178 17180 17182 17184 17186 17188 17190 17192 17194 17196 17198 17200 17202 17204 17206 17208 17210 17212 17214 17216 17218 17220 17222 17224 17226 17228 17230 17232 17234 17236 17238 17240 17242 17244 17246 17248 17250 17252 17254 17256 17258 17260 17262 17264 17266 17268 17270 17272 17274 17276 17278 17280 17282 17284 17286 17288 17290 17292 17294 17296 17298 17300 17302 17304 17306 17308 17310 17312 17314 17316 17318 17320 17322 17324 17326 17328 17330 17332 17334 17336 17338 17340 17342 17344 17346 17348 17350 17352 17354 17356 17358 17360 17362 17364 17366 17368 17370 17372 17374 17376 17378 17380 17382 17384 17386 17388 17390 17392 17394 17396 17398 17400 17402 17404 17406 17408 17410 17412 17414 17416 17418 17420 17422 17424 17426 17428 17430 17432 17434 17436 17438 17440 17442 17444 17446 17448 17450 17452 17454 17456 17458 17460 17462 17464 17466 17468 17470 17472 17474 17476 17478 17480 17482 17484 17486 17488 17490 17492 17494 17496 17498 17500 17502 17504 17506 17508 17510 17512 17514 17516 17518 17520 17522 17524 17526 17528 17530 17532 17534 17536 17538 17540 17542 17544 17546 17548 17550 17552 17554 17556 17558 17560 17562 17564 17566 17568 17570 17572 17574 17576 17578 17580 17582 17584 17586 17588 17590 17592 17594 17596 17598 17600 17602 17604 17606 17608 17610 17612 17614 17616 17618 17620 17622 17624 17626 17628 17630 17632 17634 17636 17638 17640 17642 17644 17646 17648 17650 17652 17654 17656 17658 17660 17662 17664 17666 17668 17670 17672 17674 17676 17678 17680 17682 17684 17686 17688 17690 17692 17694 17696 17698 17700 17702 17704 17706 17708 17710 17712 17714 17716 17718 17720 17722 17724 17726 17728 17730 17732 17734 17736 17738 17740 17742 17744 17746 17748 17750 17752 17754 17756 17758 17760 17762 17764 17766 17768 17770 17772 17774 17776 17778 17780 17782 17784 17786 17788 17790 17792 17794 17796 17798 17800 17802 17804 17806 17808 17810 17812 17814 17816 17818 17820 17822 17824 17826 17828 17830 17832 17834 17836 17838 17840 17842 17844 17846 17848 17850 17852 17854 17856 17858 17860 17862 17864 17866 17868 17870 17872 17874 17876 17878 17880 17882 17884 17886 17888 17890 17892 17894 17896 17898 17900 17902 17904 17906 17908 17910 17912 17914 17916 17918 17920 17922 17924 17926 17928 17930 17932 17934 17936 17938 17940 17942 17944 17946 17948 17950 17952 17954 17956 17958 17960 17962 17964 17966 17968 17970 17972 17974 17976 17978 17980 17982 17984 17986 17988 17990 17992 17994 17996 17998 18000 18002 18004 18006 18008 18010 18012 18014 18016 18018 18020 18022 18024 18026 18028 18030 18032 18034 18036 18038 18040 18042 18044 18046 18048 18050 18052 18054 18056 18058 18060 18062 18064 18066 18068 18070 18072 18074 18076 18078 18080 18082 18084 18086 18088 18090 18092 18094 18096 18098 18100 18102 18104 18106 18108 18110 18112 18114 18116 18118 18120 18122 18124 18126 18128 18130 18132 18134 18136 18138 18140 18142 18144 18146 18148 18150 18152 18154 18156 18158 18160 18162 18164 18166 18168 18170 18172 18174 18176 18178 18180 18182 18184 18186 18188 18190 18192 18194 18196 18198 18200 18202 18204 18206 18208 18210 18212 18214 18216 18218 18220 18222 18224 18226 18228 18230 18232 18234 18236 18238 18240 18242 18244 18246 18248 18250 18252 18254 18256 18258 18260 18262 18264 18266 18268 18270 18272 18274 18276 18278 18280 18282 18284 18286 18288 18290 18292 18294 18296 18298 18300 18302 18304 18306 18308 18310 18312 18314 18316 18318 18320 18322 18324 18326 18328 18330 18332 18334 18336 18338 18340 18342 18344 18346 18348 18350 18352 18354 18356 18358 18360 18362 18364 18366 18368 18370 18372 18374 18376 18378 18380 18382 18384 18386 18388 18390 18392 18394 18396 18398 18400 18402 18404 18406 18408 18410 18412 18414 18416 18418 18420 18422 18424 18426 18428 18430 18432 18434 18436 18438 18440 18442 18444 18446 18448 18450 18452 18454 18456 18458 18460 18462 18464 18466 18468 18470 18472 18474 18476 18478 18480 18482 18484 18486 18488 18490 18492 18494 18496 18498 18500 18502 18504 18506 18508 18510 18512 18514 18516 18518 18520 18522 18524 18526 18528 18530 18532 18534 18536 18538 18540 18542 18544 18546 18548 18550 18552 18554 18556 18558 18560 18562 18564 18566 18568 18570 18572 18574 18576 18578 18580 18582 18584 18586 18588 18590 18592 18594 18596 18598 18600 18602 18604 18606 18608 18610 18612 18614 18616 18618 18620 18622 18624 18626 18628 18630 18632 18634 18636 18638 18640 18642 18644 18646 18648 18650 18652 18654 18656 18658 18660 18662 18664 18666 18668 18670 18672 18674 18676 18678 18680 18682 18684 18686 18688 18690 18692 18694 18696 18698 18700 18702 18704 18706 18708 18710 18712 18714 18716 18718 18720 18722 18724 18726 18728 18730 18732 18734 18736 18738 18740 18742 18744 18746 18748 18750 18752 18754 18756 18758 18760 18762 18764 18766 18768 18770 18772 18774 18776 18778 18780 18782 18784 18786 18788 18790 18792 18794 18796 18798 18800 18802 18804 18806 18808 18810 18812 18814 18816 18818 18820 18822 18824 18826 18828 18830 18832 18834 18836 18838 18840 18842 18844 18846 18848 18850 18852 18854 18856 18858 18860 18862 18864 18866 18868 18870 18872 18874 18876 18878 18880 18882 18884 18886 18888 18890 18892 18894 18896 18898 18900 18902 18904 18906 18908 18910 18912 18914 18916 18918 18920 18922 18924 18926 18928 18930 18932 18934 18936 18938 18940 18942 18944 18946 18948 18950 18952 18954 18956 18958 18960 18962 18964 18966 18968 18970 18972 18974 18976 18978 18980 18982 18984 18986 18988 18990 18992 18994 18996 18998 19000 19002 19004 19006 19008 19010 19012 19014 19016 19018 19020 19022 19024 19026 19028 19030 19032 19034 19036 19038 19040 19042 19044 19046 19048 19050 19052 19054 19056 19058 19060 19062 19064 19066 19068 19070 19072 19074 19076 19078 19080 19082 19084 19086 19088 19090 19092 19094 19096 19098 19100 19102 19104 19106 19108 19110 19112 19114 19116 19118 19120 19122 19124 19126 19128 19130 19132 19134 19136 19138 19140 19142 19144 19146 19148 19150 19152 19154 19156 19158 19160 19162 19164 19166 19168 19170 19172 19174 19176 19178 19180 19182 19184 19186 19188 19190 19192 19194 19196 19198 19200 19202 19204 19206 19208 19210 19212 19214 19216 19218 19220 19222 19224 19226 19228 19230 19232 19234 19236 19238 19240 19242 19244 19246 19248 19250 19252 19254 19256 19258 19260 19262 19264 19266 19268 19270 19272 19274 19276 19278 19280 19282 19284 19286 19288 19290 19292 19294 19296 19298 19300 19302 19304 19306 19308 19310 19312 19314 19316 19318 19320 19322 19324 19326 19328 19330 19332 19334 19336 19338 19340 19342 19344 19346 19348 19350 19352 19354 19356 19358 19360 19362 19364 19366 19368 19370 19372 19374 19376 19378 19380 19382 19384 19386 19388 19390 19392 19394 19396 19398 19400 19402 19404 19406 19408 19410 19412 19414 19416 19418 19420 19422 19424 19426 19428 19430 19432 19434 19436 19438 19440 19442 19444 19446 19448 19450 19452 19454 19456 19458 19460 19462 19464 19466 19468 19470 19472 19474 19476 19478 19480 19482 19484 19486 19488 19490 19492 19494 19496 19498 19500 19502 19504 19506 19508 19510 19512 19514 19516 19518 19520 19522 19524 19526 19528 19530 19532 19534 19536 19538 19540 19542 19544 19546 19548 19550 19552 19554 19556 19558 19560 19562 19564 19566 19568 19570 19572 19574 19576 19578 19580 19582 19584 19586 19588 19590 19592 19594 19596 19598 19600 19602 19604 19606 19608 19610 19612 19614 19616 19618 19620 19622 19624 19626 19628 19630 19632 19634 19636 19638 19640 19642 19644 19646 19648 19650 19652 19654 19656 19658 19660 19662 19664 19666 19668 19670 19672 19674 19676 19678 19680 19682 19684 19686 19688 19690 19692 19694 19696 19698 19700 19702 19704 19706 19708 19710 19712 19714 19716 19718 19720 19722 19724 19726 19728 19730 19732 19734 19736 19738 19740 19742 19744 19746 19748 19750 19752 19754 19756 19758 19760 19762 19764 19766 19768 19770 19772 19774 19776 19778 19780 19782 19784 19786 19788 19790 19792 19794 19796 19798 19800 19802 19804 19806 19808 19810 19812 19814 19816 19818 19820 19822 19824 19826 19828 19830 19832 19834 19836 19838 19840 19842 19844 19846 19848 19850 19852 19854 19856 19858 19860 19862 19864 19866 19868 19870 19872 19874 19876 19878 19880 19882 19884 19886 19888 19890 19892 19894 19896 19898 19900 19902 19904 19906 19908 19910 19912 19914 19916 19918 19920 19922 19924 19926 19928 19930 19932 19934 19936 19938 19940 19942 19944 19946 19948 19950 19952 19954 19956 19958 19960 19962 19964 19966 19968 19970 19972 19974 19976 19978 19980 19982 19984 19986 19988 19990 19992 19994 19996 19998 \n",
            "Tempo de execução: 0.201771 s\n"
          ]
        }
      ]
    },
    {
      "cell_type": "code",
      "source": [
        "%%writefile vetor_insert_critical_melhor.cpp\n",
        "\n",
        "#include <vector>\n",
        "#include <iostream>\n",
        "#include <unistd.h>\n",
        "#include <omp.h>\n",
        "#include <chrono>\n",
        "\n",
        "\n",
        "double conta_complexa(int i) {\n",
        "\treturn 2 * i;\n",
        "}\n",
        "\n",
        "int main() {\n",
        "  auto t_start = std::chrono::high_resolution_clock::now();\n",
        "\tint N = 10000; \n",
        "\tstd::vector<double> vec;\n",
        "  int i = 0;\n",
        "\t#pragma omp parallel for default(none) private(i) shared(vec) firstprivate(N)\n",
        "\tfor (i = 0; i < N; i++) {\n",
        "    double calculo = conta_complexa(i);\n",
        "    # pragma omp critical\n",
        "    {\n",
        "\t\t  vec.push_back(calculo);\n",
        "    }\n",
        "\t}\n",
        "\t\t\n",
        "\tfor (int i = 0; i < N; i++) {\n",
        "\t\tstd::cout << vec[i] << \" \";\n",
        "\t\t// std::cout << i << \" \";\n",
        "\t}\n",
        "\n",
        "  std::cout << std::endl;\n",
        "  auto t_end = std::chrono::high_resolution_clock::now();\n",
        "\n",
        "  double elapsed_time_ms = std::chrono::duration<double, std::milli>(t_end-t_start).count();\n",
        "  double elapsed_time_s = elapsed_time_ms/1000;\n",
        "  std::cout << \"Tempo de execução: \" << elapsed_time_s << \" s\" << std::endl;\n",
        "\t\n",
        "\treturn 0;\n",
        "}\n",
        "\n",
        "\n",
        "// Ao usar a cláusula default(none), o compilador OpenMP exige que todas as variáveis ​​sejam especificadas explicitamente como\n",
        "//  compartilhadas ou privadas usando as cláusulas shared ou private, respectivamente. Isso ajuda a tornar o código mais seguro e menos\n",
        "//   suscetível a bugs de concorrência.\n",
        "\n",
        "// firstprivate(N) irá definir N como uma variável privada e copiá-la para cada thread."
      ],
      "metadata": {
        "colab": {
          "base_uri": "https://localhost:8080/"
        },
        "id": "NRs9g1ivvIxB",
        "outputId": "654e5f32-98be-4759-b5b0-c6a5032a1e1a"
      },
      "execution_count": null,
      "outputs": [
        {
          "output_type": "stream",
          "name": "stdout",
          "text": [
            "Overwriting vetor_insert_critical_melhor.cpp\n"
          ]
        }
      ]
    },
    {
      "cell_type": "code",
      "source": [
        "!g++ -Wall -fopenmp vetor_insert_critical_melhor.cpp -o vetor_insert_critical_melhor"
      ],
      "metadata": {
        "id": "GWfMtOwIvhqc"
      },
      "execution_count": null,
      "outputs": []
    },
    {
      "cell_type": "code",
      "source": [
        "!./vetor_insert_critical_melhor"
      ],
      "metadata": {
        "colab": {
          "base_uri": "https://localhost:8080/"
        },
        "id": "rPZWdJi_vkeT",
        "outputId": "e8fdcc02-dbdf-44af-8d19-11794cdcd2fa"
      },
      "execution_count": null,
      "outputs": [
        {
          "output_type": "stream",
          "name": "stdout",
          "text": [
            "10000 10002 10004 10006 10008 10010 10012 10014 10016 10018 10020 10022 10024 10026 10028 10030 10032 10034 10036 10038 10040 10042 10044 10046 10048 10050 10052 10054 10056 10058 10060 10062 10064 10066 10068 10070 10072 10074 10076 10078 10080 10082 10084 10086 10088 10090 10092 10094 10096 10098 10100 10102 10104 10106 10108 10110 10112 10114 10116 10118 10120 10122 10124 10126 10128 10130 10132 10134 10136 10138 10140 10142 10144 10146 10148 10150 10152 10154 10156 10158 10160 10162 10164 10166 10168 10170 10172 10174 10176 10178 10180 10182 10184 10186 10188 10190 10192 10194 10196 10198 10200 10202 10204 10206 10208 10210 10212 10214 10216 10218 10220 10222 10224 10226 10228 10230 10232 10234 10236 10238 10240 10242 10244 10246 10248 10250 10252 10254 10256 10258 10260 10262 10264 10266 10268 10270 10272 10274 10276 10278 10280 10282 10284 10286 10288 10290 10292 10294 10296 10298 10300 10302 10304 10306 10308 10310 10312 10314 10316 10318 10320 10322 10324 10326 10328 10330 10332 10334 10336 10338 10340 10342 10344 10346 10348 10350 10352 10354 10356 10358 10360 10362 10364 10366 10368 10370 10372 10374 10376 10378 10380 10382 10384 10386 10388 10390 10392 10394 10396 10398 10400 10402 10404 10406 10408 10410 10412 10414 10416 10418 10420 10422 10424 10426 10428 10430 10432 10434 10436 10438 10440 10442 10444 10446 10448 10450 10452 10454 10456 10458 10460 10462 10464 10466 10468 10470 10472 10474 10476 10478 10480 10482 10484 10486 10488 10490 10492 10494 10496 10498 10500 10502 10504 10506 10508 10510 10512 10514 10516 10518 10520 10522 10524 10526 10528 10530 10532 10534 10536 10538 10540 10542 10544 10546 10548 10550 10552 10554 10556 10558 10560 10562 10564 10566 10568 10570 10572 10574 10576 10578 10580 10582 10584 10586 10588 10590 10592 10594 10596 10598 10600 10602 10604 10606 10608 10610 10612 10614 10616 10618 10620 10622 10624 10626 10628 10630 10632 10634 10636 10638 10640 10642 10644 10646 10648 10650 10652 10654 10656 10658 10660 10662 10664 10666 10668 10670 10672 10674 10676 10678 10680 10682 10684 10686 10688 10690 10692 10694 10696 10698 10700 10702 10704 10706 10708 10710 10712 10714 10716 10718 10720 10722 10724 10726 10728 10730 10732 10734 10736 10738 10740 10742 10744 10746 10748 10750 10752 10754 10756 10758 10760 10762 10764 10766 10768 10770 10772 10774 10776 10778 10780 10782 10784 10786 10788 10790 10792 10794 10796 10798 10800 10802 10804 10806 10808 10810 10812 10814 10816 10818 10820 10822 10824 10826 10828 10830 10832 10834 10836 10838 10840 10842 10844 10846 10848 10850 10852 10854 10856 10858 10860 10862 10864 10866 10868 10870 10872 10874 10876 10878 10880 10882 10884 10886 10888 10890 10892 10894 10896 10898 10900 10902 10904 10906 10908 10910 10912 10914 10916 10918 10920 10922 10924 10926 10928 10930 10932 10934 10936 10938 10940 10942 10944 10946 10948 10950 10952 10954 10956 10958 10960 10962 10964 10966 10968 10970 10972 10974 10976 10978 10980 10982 10984 10986 10988 10990 10992 10994 10996 10998 11000 11002 11004 11006 11008 11010 11012 11014 11016 11018 11020 11022 11024 11026 11028 11030 11032 11034 11036 11038 11040 11042 11044 11046 11048 11050 11052 11054 11056 11058 11060 11062 11064 11066 11068 11070 11072 11074 11076 11078 11080 11082 11084 11086 11088 11090 11092 11094 11096 11098 11100 11102 11104 11106 11108 11110 11112 11114 11116 11118 11120 11122 11124 11126 11128 11130 11132 11134 11136 11138 11140 11142 11144 11146 11148 11150 11152 11154 11156 11158 11160 11162 11164 11166 11168 11170 11172 11174 11176 11178 11180 11182 11184 11186 11188 11190 11192 11194 11196 11198 11200 11202 11204 11206 11208 11210 11212 11214 11216 11218 11220 11222 11224 11226 11228 11230 11232 11234 11236 11238 11240 11242 11244 11246 11248 11250 11252 11254 11256 11258 11260 11262 11264 11266 11268 11270 11272 11274 11276 11278 11280 11282 11284 11286 11288 11290 11292 11294 11296 11298 11300 11302 11304 11306 11308 11310 11312 11314 11316 11318 11320 11322 11324 11326 11328 11330 11332 11334 11336 11338 11340 11342 11344 11346 11348 11350 11352 11354 11356 11358 11360 11362 11364 11366 11368 11370 11372 11374 11376 11378 11380 11382 11384 11386 11388 11390 11392 11394 11396 11398 11400 11402 11404 11406 11408 11410 11412 11414 11416 11418 11420 11422 11424 11426 11428 11430 11432 11434 11436 11438 11440 11442 11444 11446 11448 11450 11452 11454 11456 11458 11460 11462 11464 11466 11468 11470 11472 11474 11476 11478 11480 11482 11484 11486 11488 11490 11492 11494 11496 11498 11500 11502 11504 11506 11508 11510 11512 11514 11516 11518 11520 11522 11524 11526 11528 11530 11532 11534 11536 11538 11540 11542 11544 11546 11548 11550 11552 11554 11556 11558 11560 11562 11564 11566 11568 11570 11572 11574 11576 11578 11580 11582 11584 11586 11588 11590 11592 11594 11596 11598 11600 11602 11604 11606 11608 11610 11612 11614 11616 11618 11620 11622 11624 11626 11628 11630 11632 11634 11636 11638 11640 11642 11644 11646 11648 11650 11652 11654 11656 11658 11660 11662 11664 11666 11668 11670 11672 11674 11676 11678 11680 11682 11684 11686 11688 11690 11692 11694 11696 11698 11700 11702 11704 11706 11708 11710 11712 11714 11716 11718 11720 11722 11724 11726 11728 11730 11732 11734 11736 11738 11740 11742 11744 11746 11748 11750 11752 11754 11756 11758 11760 11762 11764 11766 11768 11770 11772 11774 11776 11778 11780 11782 11784 11786 11788 11790 11792 11794 11796 11798 11800 11802 11804 11806 11808 11810 11812 11814 11816 11818 11820 11822 11824 11826 11828 11830 11832 11834 11836 11838 11840 11842 11844 11846 11848 11850 11852 11854 11856 11858 11860 11862 11864 11866 11868 11870 11872 11874 11876 11878 11880 11882 11884 11886 11888 11890 11892 11894 11896 11898 11900 11902 11904 11906 11908 11910 11912 11914 11916 11918 11920 11922 11924 11926 11928 11930 11932 11934 11936 11938 11940 11942 11944 11946 11948 11950 11952 11954 11956 11958 11960 11962 11964 11966 11968 11970 11972 11974 11976 11978 11980 11982 11984 11986 11988 11990 11992 11994 11996 11998 12000 12002 12004 12006 12008 12010 12012 12014 12016 12018 12020 12022 12024 12026 12028 12030 12032 12034 12036 12038 12040 12042 12044 12046 12048 12050 12052 12054 12056 12058 12060 12062 12064 12066 12068 12070 12072 12074 12076 12078 12080 12082 12084 12086 12088 12090 12092 12094 12096 12098 12100 12102 12104 12106 12108 12110 12112 12114 12116 12118 12120 12122 12124 12126 12128 12130 12132 12134 12136 12138 12140 12142 12144 12146 12148 12150 12152 12154 12156 12158 12160 12162 12164 12166 12168 12170 12172 12174 12176 12178 12180 12182 12184 12186 12188 12190 12192 12194 12196 12198 12200 12202 12204 12206 12208 12210 12212 12214 12216 12218 12220 12222 12224 12226 12228 12230 12232 12234 12236 12238 12240 12242 12244 12246 12248 12250 12252 12254 12256 12258 12260 12262 12264 12266 12268 12270 12272 12274 12276 12278 12280 12282 12284 12286 12288 12290 12292 12294 12296 12298 12300 12302 12304 12306 12308 12310 12312 12314 12316 12318 12320 12322 12324 12326 12328 12330 12332 12334 12336 12338 12340 12342 12344 12346 12348 12350 12352 12354 12356 12358 12360 12362 12364 12366 12368 12370 12372 12374 12376 12378 12380 12382 12384 12386 12388 12390 12392 12394 12396 12398 12400 12402 12404 12406 12408 12410 12412 12414 12416 12418 12420 12422 12424 12426 12428 12430 12432 12434 12436 12438 12440 12442 12444 12446 12448 12450 12452 12454 12456 12458 12460 12462 12464 12466 12468 12470 12472 12474 12476 12478 12480 12482 12484 12486 12488 12490 12492 12494 12496 12498 12500 12502 12504 12506 12508 12510 12512 12514 12516 12518 12520 12522 12524 12526 12528 12530 12532 12534 12536 12538 12540 12542 12544 12546 12548 12550 12552 12554 12556 12558 12560 12562 12564 12566 12568 12570 12572 12574 12576 12578 12580 12582 12584 12586 12588 12590 12592 12594 12596 12598 12600 12602 12604 12606 12608 12610 12612 12614 12616 12618 12620 12622 12624 12626 12628 12630 12632 12634 12636 12638 12640 12642 12644 12646 12648 12650 12652 12654 12656 12658 12660 12662 12664 12666 12668 12670 12672 12674 12676 12678 12680 12682 12684 12686 12688 12690 12692 12694 12696 12698 12700 12702 12704 12706 12708 12710 12712 12714 12716 12718 12720 12722 12724 12726 12728 12730 12732 12734 12736 12738 12740 12742 12744 12746 12748 12750 12752 12754 12756 12758 12760 12762 12764 12766 12768 12770 12772 12774 12776 12778 12780 12782 12784 12786 12788 12790 12792 12794 12796 12798 12800 12802 12804 12806 12808 12810 12812 12814 12816 12818 12820 12822 12824 12826 12828 12830 12832 12834 12836 12838 12840 12842 12844 12846 12848 12850 12852 12854 12856 12858 12860 12862 12864 12866 12868 12870 12872 12874 12876 12878 12880 12882 12884 12886 12888 12890 12892 12894 12896 12898 12900 12902 12904 12906 12908 12910 12912 12914 12916 12918 12920 12922 12924 12926 12928 12930 12932 12934 12936 12938 12940 12942 12944 12946 12948 12950 12952 12954 12956 12958 12960 12962 12964 12966 12968 12970 12972 12974 12976 12978 12980 12982 12984 12986 12988 12990 12992 12994 12996 12998 13000 13002 13004 13006 13008 13010 13012 13014 13016 13018 13020 13022 13024 13026 13028 13030 13032 13034 13036 13038 13040 13042 13044 13046 13048 13050 13052 13054 13056 13058 13060 13062 13064 13066 13068 13070 13072 13074 13076 13078 13080 13082 13084 13086 13088 13090 13092 13094 13096 13098 13100 13102 13104 13106 13108 13110 13112 13114 13116 13118 13120 13122 13124 13126 13128 13130 13132 13134 13136 13138 13140 13142 13144 13146 13148 13150 13152 13154 13156 13158 13160 13162 13164 13166 13168 13170 13172 13174 13176 13178 13180 13182 13184 13186 13188 13190 13192 13194 13196 13198 13200 13202 13204 13206 13208 13210 13212 13214 13216 13218 13220 13222 13224 13226 13228 13230 13232 13234 13236 13238 13240 13242 13244 13246 13248 13250 13252 13254 13256 13258 13260 13262 13264 13266 13268 13270 13272 13274 13276 13278 13280 13282 13284 13286 13288 13290 13292 13294 13296 13298 13300 13302 13304 13306 13308 13310 13312 13314 13316 13318 13320 13322 13324 13326 13328 13330 13332 13334 13336 13338 13340 13342 13344 13346 13348 13350 13352 13354 13356 13358 13360 13362 13364 13366 13368 13370 13372 13374 13376 13378 13380 13382 13384 13386 13388 13390 13392 13394 13396 13398 13400 13402 13404 13406 13408 13410 13412 13414 13416 13418 13420 13422 13424 13426 13428 13430 13432 13434 13436 13438 13440 13442 13444 13446 13448 13450 13452 13454 13456 13458 13460 13462 13464 13466 13468 13470 13472 13474 13476 13478 13480 13482 13484 13486 13488 13490 13492 13494 13496 13498 13500 13502 13504 13506 13508 13510 13512 13514 13516 13518 13520 13522 13524 13526 13528 13530 13532 13534 13536 13538 13540 13542 13544 13546 13548 13550 13552 13554 13556 13558 13560 13562 13564 13566 13568 13570 13572 13574 13576 13578 13580 13582 13584 13586 13588 13590 13592 13594 13596 13598 13600 13602 13604 13606 13608 13610 13612 13614 13616 13618 13620 13622 13624 13626 13628 13630 13632 13634 13636 13638 13640 13642 13644 13646 13648 13650 13652 13654 13656 13658 13660 13662 13664 13666 13668 13670 13672 13674 13676 13678 13680 13682 13684 13686 13688 13690 13692 13694 13696 13698 13700 13702 13704 13706 13708 13710 13712 13714 13716 13718 13720 13722 13724 13726 13728 13730 13732 13734 13736 13738 13740 13742 13744 13746 13748 13750 13752 13754 13756 13758 13760 13762 13764 13766 13768 13770 13772 13774 13776 13778 13780 13782 13784 13786 13788 13790 13792 13794 13796 13798 13800 13802 13804 13806 13808 13810 13812 13814 13816 13818 13820 13822 13824 13826 13828 13830 13832 13834 13836 13838 13840 13842 13844 13846 13848 13850 13852 13854 13856 13858 13860 13862 13864 13866 13868 13870 13872 13874 13876 13878 13880 13882 13884 13886 13888 13890 13892 13894 13896 13898 13900 13902 13904 13906 13908 13910 13912 13914 13916 13918 13920 13922 13924 13926 13928 13930 13932 13934 13936 13938 13940 13942 13944 13946 13948 13950 13952 13954 13956 13958 13960 13962 13964 13966 13968 13970 13972 13974 13976 13978 13980 13982 13984 13986 13988 13990 13992 13994 13996 13998 14000 14002 14004 14006 14008 14010 14012 14014 14016 14018 14020 14022 14024 14026 14028 14030 14032 14034 14036 14038 14040 14042 14044 14046 14048 14050 14052 14054 14056 14058 14060 14062 14064 14066 14068 14070 14072 14074 14076 14078 14080 14082 14084 14086 14088 14090 14092 14094 14096 14098 14100 14102 14104 14106 14108 14110 14112 14114 14116 14118 14120 14122 14124 14126 14128 14130 14132 14134 14136 14138 14140 14142 14144 14146 14148 14150 14152 14154 14156 14158 14160 14162 14164 14166 14168 14170 14172 14174 14176 14178 14180 14182 14184 14186 14188 14190 14192 14194 14196 14198 14200 14202 14204 14206 14208 14210 14212 14214 14216 14218 14220 14222 14224 14226 14228 14230 14232 14234 14236 14238 14240 14242 14244 14246 14248 14250 14252 14254 14256 14258 14260 14262 14264 14266 14268 14270 14272 14274 14276 14278 14280 14282 14284 14286 14288 14290 14292 14294 14296 14298 14300 14302 14304 14306 14308 14310 14312 14314 14316 14318 14320 14322 14324 14326 14328 14330 14332 14334 14336 14338 14340 14342 14344 14346 14348 14350 14352 14354 14356 14358 14360 14362 14364 14366 14368 14370 14372 14374 14376 14378 14380 14382 14384 14386 14388 14390 14392 14394 14396 14398 14400 14402 14404 14406 14408 14410 14412 14414 14416 14418 14420 14422 14424 14426 14428 14430 14432 14434 14436 14438 14440 14442 14444 14446 14448 14450 14452 14454 14456 14458 14460 14462 14464 14466 14468 14470 14472 14474 14476 14478 14480 14482 14484 14486 14488 14490 14492 14494 14496 14498 14500 14502 14504 14506 14508 14510 14512 14514 14516 14518 14520 14522 14524 14526 14528 14530 14532 14534 14536 14538 14540 14542 14544 14546 14548 14550 14552 14554 14556 14558 14560 14562 14564 14566 14568 14570 14572 14574 14576 14578 14580 14582 14584 14586 14588 14590 14592 14594 14596 14598 14600 14602 14604 14606 14608 14610 14612 14614 14616 14618 14620 14622 14624 14626 14628 14630 14632 14634 14636 14638 14640 14642 14644 14646 14648 14650 14652 14654 14656 14658 14660 14662 14664 14666 14668 14670 14672 14674 14676 14678 14680 14682 14684 14686 14688 14690 14692 14694 14696 14698 14700 14702 14704 14706 14708 14710 14712 14714 14716 14718 14720 14722 14724 14726 14728 14730 14732 14734 14736 14738 14740 14742 14744 14746 14748 14750 14752 14754 14756 14758 14760 14762 14764 14766 14768 14770 14772 14774 14776 14778 14780 14782 14784 14786 14788 14790 14792 14794 14796 14798 14800 14802 14804 14806 14808 14810 14812 14814 14816 14818 14820 14822 14824 14826 14828 14830 14832 14834 14836 14838 14840 14842 14844 14846 14848 14850 14852 14854 14856 14858 14860 14862 14864 14866 14868 14870 14872 14874 14876 14878 14880 14882 14884 14886 14888 14890 14892 14894 14896 14898 14900 14902 14904 14906 14908 14910 14912 14914 14916 14918 14920 14922 14924 14926 14928 14930 14932 14934 14936 14938 14940 14942 14944 14946 14948 14950 14952 14954 14956 14958 14960 14962 14964 14966 14968 14970 14972 14974 14976 14978 14980 14982 14984 14986 14988 14990 14992 14994 14996 14998 15000 15002 15004 15006 15008 15010 15012 15014 15016 15018 15020 15022 15024 15026 15028 15030 15032 15034 15036 15038 15040 15042 15044 15046 15048 15050 15052 15054 15056 15058 15060 15062 15064 15066 15068 15070 15072 15074 15076 15078 15080 15082 15084 15086 15088 15090 15092 15094 15096 15098 15100 15102 15104 15106 15108 15110 15112 15114 15116 15118 15120 15122 15124 15126 15128 15130 15132 15134 15136 15138 15140 15142 15144 15146 15148 15150 15152 15154 15156 15158 15160 15162 15164 15166 15168 15170 15172 15174 15176 15178 15180 15182 15184 15186 15188 15190 15192 15194 15196 15198 15200 15202 15204 15206 15208 15210 15212 15214 15216 15218 15220 15222 15224 15226 15228 15230 15232 15234 15236 15238 15240 15242 15244 15246 15248 15250 15252 15254 15256 15258 15260 15262 15264 15266 15268 15270 15272 15274 15276 15278 15280 15282 15284 15286 15288 15290 15292 15294 15296 15298 15300 15302 15304 15306 15308 15310 15312 15314 15316 15318 15320 15322 15324 15326 15328 15330 15332 15334 15336 15338 15340 15342 15344 15346 15348 15350 15352 15354 15356 15358 15360 15362 15364 15366 15368 15370 15372 15374 15376 15378 15380 15382 15384 15386 15388 15390 15392 15394 15396 15398 15400 15402 15404 15406 15408 15410 15412 15414 15416 15418 15420 15422 15424 15426 15428 15430 15432 15434 15436 15438 15440 15442 15444 15446 15448 15450 15452 15454 15456 15458 15460 15462 15464 15466 15468 15470 15472 15474 15476 15478 15480 15482 15484 15486 15488 15490 15492 15494 15496 15498 15500 15502 15504 15506 15508 15510 15512 15514 15516 15518 15520 15522 15524 15526 15528 15530 15532 15534 15536 15538 15540 15542 15544 15546 15548 15550 15552 15554 15556 15558 15560 15562 15564 15566 15568 15570 15572 15574 15576 15578 15580 15582 15584 15586 15588 15590 15592 15594 15596 15598 15600 15602 15604 15606 15608 15610 15612 15614 15616 15618 15620 15622 15624 15626 15628 15630 15632 15634 15636 15638 15640 15642 15644 15646 15648 15650 15652 15654 15656 15658 15660 15662 15664 15666 15668 15670 15672 15674 15676 15678 15680 15682 15684 15686 15688 15690 15692 15694 15696 15698 15700 15702 15704 15706 15708 15710 15712 15714 15716 15718 15720 15722 15724 15726 15728 15730 15732 15734 15736 15738 15740 15742 15744 15746 15748 15750 15752 15754 15756 15758 15760 15762 15764 15766 15768 15770 15772 15774 15776 15778 15780 15782 15784 15786 15788 15790 15792 15794 15796 15798 15800 15802 15804 15806 15808 15810 15812 15814 15816 15818 15820 15822 15824 15826 15828 15830 15832 15834 15836 15838 15840 15842 15844 15846 15848 15850 15852 15854 15856 15858 15860 15862 15864 15866 15868 15870 15872 15874 15876 15878 15880 15882 15884 15886 15888 15890 15892 15894 15896 15898 15900 15902 15904 15906 15908 15910 15912 15914 15916 15918 15920 15922 15924 15926 15928 15930 15932 15934 15936 15938 15940 15942 15944 15946 15948 15950 15952 15954 15956 15958 15960 15962 15964 15966 15968 15970 15972 15974 15976 15978 15980 15982 15984 15986 15988 15990 15992 15994 15996 15998 16000 16002 16004 16006 16008 16010 16012 16014 16016 16018 16020 16022 16024 16026 16028 16030 16032 16034 16036 16038 16040 16042 16044 16046 16048 16050 16052 16054 16056 16058 16060 16062 16064 16066 16068 16070 16072 16074 16076 16078 16080 16082 16084 16086 16088 16090 16092 16094 16096 16098 16100 16102 16104 16106 16108 16110 16112 16114 16116 16118 16120 16122 16124 16126 16128 16130 16132 16134 16136 16138 16140 16142 16144 16146 16148 16150 16152 16154 16156 16158 16160 16162 16164 16166 16168 16170 16172 16174 16176 16178 16180 16182 16184 16186 16188 16190 16192 16194 16196 16198 16200 16202 16204 16206 16208 16210 16212 16214 16216 16218 16220 16222 16224 16226 16228 16230 16232 16234 16236 16238 16240 16242 16244 16246 16248 16250 16252 16254 16256 16258 16260 16262 16264 16266 16268 16270 16272 16274 16276 16278 16280 16282 16284 16286 16288 16290 16292 16294 16296 16298 16300 16302 16304 16306 16308 16310 16312 16314 16316 16318 16320 16322 16324 16326 16328 16330 16332 16334 16336 16338 16340 16342 16344 16346 16348 16350 16352 16354 16356 16358 16360 16362 16364 16366 16368 16370 16372 16374 16376 16378 16380 16382 16384 16386 16388 16390 16392 16394 16396 16398 16400 16402 16404 16406 16408 16410 16412 16414 16416 16418 16420 16422 16424 16426 16428 16430 16432 16434 16436 16438 16440 16442 16444 16446 16448 16450 16452 16454 16456 16458 16460 16462 16464 16466 16468 16470 16472 16474 16476 16478 16480 16482 16484 16486 16488 16490 16492 16494 16496 16498 16500 16502 16504 16506 16508 16510 16512 16514 16516 16518 16520 16522 16524 16526 16528 16530 16532 16534 16536 16538 16540 16542 16544 16546 16548 16550 16552 16554 16556 16558 16560 16562 16564 16566 16568 16570 16572 16574 16576 16578 16580 16582 16584 16586 16588 16590 16592 16594 16596 16598 16600 16602 16604 16606 16608 16610 16612 16614 16616 16618 16620 16622 16624 16626 16628 16630 16632 16634 16636 16638 16640 16642 16644 16646 16648 16650 16652 16654 16656 16658 16660 16662 16664 16666 16668 16670 16672 16674 16676 16678 16680 16682 16684 16686 16688 16690 16692 16694 16696 16698 16700 16702 16704 16706 16708 16710 16712 16714 16716 16718 16720 16722 16724 16726 16728 16730 16732 16734 16736 16738 16740 16742 16744 16746 16748 16750 16752 16754 16756 16758 16760 16762 16764 16766 16768 16770 16772 16774 16776 16778 16780 16782 16784 16786 16788 16790 16792 16794 16796 16798 16800 16802 16804 16806 16808 16810 16812 16814 16816 16818 16820 16822 16824 16826 16828 16830 16832 16834 16836 16838 16840 16842 16844 16846 16848 16850 16852 16854 16856 16858 16860 16862 16864 16866 16868 16870 16872 16874 16876 16878 16880 16882 16884 16886 16888 16890 16892 16894 16896 16898 16900 16902 16904 16906 16908 16910 16912 16914 16916 16918 16920 16922 16924 16926 16928 16930 16932 16934 16936 16938 16940 16942 16944 16946 16948 16950 16952 16954 16956 16958 16960 16962 16964 16966 16968 16970 16972 16974 16976 16978 16980 16982 16984 16986 16988 16990 16992 16994 16996 16998 17000 17002 17004 17006 17008 17010 17012 17014 17016 17018 17020 17022 17024 17026 17028 17030 17032 17034 17036 17038 17040 17042 17044 17046 17048 17050 17052 17054 17056 17058 17060 17062 17064 17066 17068 17070 17072 17074 17076 17078 17080 17082 17084 17086 17088 17090 17092 17094 17096 17098 17100 17102 17104 17106 17108 17110 17112 17114 17116 17118 17120 17122 17124 17126 17128 17130 17132 17134 17136 17138 17140 17142 17144 17146 17148 17150 17152 17154 17156 17158 17160 17162 17164 17166 17168 17170 17172 17174 17176 17178 17180 17182 17184 17186 17188 17190 17192 17194 17196 17198 17200 17202 17204 17206 17208 17210 17212 17214 17216 17218 17220 17222 17224 17226 17228 17230 17232 17234 17236 17238 17240 17242 17244 17246 17248 17250 17252 17254 17256 17258 17260 17262 17264 17266 17268 17270 17272 17274 17276 17278 17280 17282 17284 17286 17288 17290 17292 17294 17296 17298 17300 17302 17304 17306 17308 17310 17312 17314 17316 17318 17320 17322 17324 17326 17328 17330 17332 17334 17336 17338 17340 17342 17344 17346 17348 17350 17352 17354 17356 17358 17360 17362 17364 17366 17368 17370 17372 17374 17376 17378 17380 17382 17384 17386 17388 17390 17392 17394 17396 17398 17400 17402 17404 17406 17408 17410 17412 17414 17416 17418 17420 17422 17424 17426 17428 17430 17432 17434 17436 17438 17440 17442 17444 17446 17448 17450 17452 17454 17456 17458 17460 17462 17464 17466 17468 17470 17472 17474 17476 17478 17480 17482 17484 17486 17488 17490 17492 17494 17496 17498 17500 17502 17504 17506 17508 17510 17512 17514 17516 17518 17520 17522 17524 17526 17528 17530 17532 17534 17536 17538 17540 17542 17544 17546 17548 17550 17552 17554 17556 17558 17560 17562 17564 17566 17568 17570 17572 17574 17576 17578 17580 17582 17584 17586 17588 17590 17592 17594 17596 17598 17600 17602 17604 17606 17608 17610 17612 17614 17616 17618 17620 17622 17624 17626 17628 17630 17632 17634 17636 17638 17640 17642 17644 17646 17648 17650 17652 17654 17656 17658 17660 17662 17664 17666 17668 17670 17672 17674 17676 17678 17680 17682 17684 17686 17688 17690 17692 17694 17696 17698 17700 17702 17704 17706 17708 17710 17712 17714 17716 17718 17720 17722 17724 17726 17728 17730 17732 17734 17736 17738 17740 17742 17744 17746 17748 17750 17752 17754 17756 17758 17760 17762 17764 17766 17768 17770 17772 17774 17776 17778 17780 17782 17784 17786 17788 17790 17792 17794 17796 17798 17800 17802 17804 17806 17808 17810 17812 17814 17816 17818 17820 17822 17824 17826 17828 17830 17832 17834 17836 17838 17840 17842 17844 17846 17848 17850 17852 17854 17856 17858 17860 17862 17864 17866 17868 17870 17872 17874 17876 17878 17880 17882 17884 17886 17888 17890 17892 17894 17896 17898 17900 17902 17904 17906 17908 17910 17912 17914 17916 17918 17920 17922 17924 17926 17928 17930 17932 17934 17936 17938 17940 17942 17944 17946 17948 17950 17952 17954 17956 17958 17960 17962 17964 17966 17968 17970 17972 17974 17976 17978 17980 17982 17984 17986 17988 17990 17992 17994 17996 17998 18000 18002 18004 18006 18008 18010 18012 18014 18016 18018 18020 18022 18024 18026 18028 18030 18032 18034 18036 18038 18040 18042 18044 18046 18048 18050 18052 18054 18056 18058 18060 18062 18064 18066 18068 18070 18072 18074 18076 18078 18080 18082 18084 18086 18088 18090 18092 18094 18096 18098 18100 18102 18104 18106 18108 18110 18112 18114 18116 18118 18120 18122 18124 18126 18128 18130 18132 18134 18136 18138 18140 18142 18144 18146 18148 18150 18152 18154 18156 18158 18160 18162 18164 18166 18168 18170 18172 18174 18176 18178 18180 18182 18184 18186 18188 18190 18192 18194 18196 18198 18200 18202 18204 18206 18208 18210 18212 18214 18216 18218 18220 18222 18224 18226 18228 18230 18232 18234 18236 18238 18240 18242 18244 18246 18248 18250 18252 18254 18256 18258 18260 18262 18264 18266 18268 18270 18272 18274 18276 18278 18280 18282 18284 18286 18288 18290 18292 18294 18296 18298 18300 18302 18304 18306 18308 18310 18312 18314 18316 18318 18320 18322 18324 18326 18328 18330 18332 18334 18336 18338 18340 18342 18344 18346 18348 18350 18352 18354 18356 18358 18360 18362 18364 18366 18368 18370 18372 18374 18376 18378 18380 18382 18384 18386 18388 18390 18392 18394 18396 18398 18400 18402 18404 18406 18408 18410 18412 18414 18416 18418 18420 18422 18424 18426 18428 18430 18432 18434 18436 18438 18440 18442 18444 18446 18448 18450 18452 18454 18456 18458 18460 18462 18464 18466 18468 18470 18472 18474 18476 18478 18480 18482 18484 18486 18488 18490 18492 18494 18496 18498 18500 18502 18504 18506 18508 18510 18512 18514 18516 18518 18520 18522 18524 18526 18528 18530 18532 18534 18536 18538 18540 18542 18544 18546 18548 18550 18552 18554 18556 18558 18560 18562 18564 18566 18568 18570 18572 18574 18576 18578 18580 18582 18584 18586 18588 18590 18592 18594 18596 18598 18600 18602 18604 18606 18608 18610 18612 18614 18616 18618 18620 18622 18624 18626 18628 18630 18632 18634 18636 18638 18640 18642 18644 18646 18648 18650 18652 18654 18656 18658 18660 18662 18664 18666 18668 18670 18672 18674 18676 18678 18680 18682 18684 18686 18688 18690 18692 18694 18696 18698 18700 18702 18704 18706 18708 18710 18712 18714 18716 18718 18720 18722 18724 18726 18728 18730 18732 18734 18736 18738 18740 18742 18744 18746 18748 18750 18752 18754 18756 18758 18760 18762 18764 18766 18768 18770 18772 18774 18776 18778 18780 18782 18784 18786 18788 18790 18792 18794 18796 18798 18800 18802 18804 18806 18808 18810 18812 18814 18816 18818 18820 18822 18824 18826 18828 18830 18832 18834 18836 18838 18840 18842 18844 18846 18848 18850 18852 18854 18856 18858 18860 18862 18864 18866 18868 18870 18872 18874 18876 18878 18880 18882 18884 18886 18888 18890 18892 18894 18896 18898 18900 18902 18904 18906 18908 18910 18912 18914 18916 18918 18920 18922 18924 18926 18928 18930 18932 18934 18936 18938 18940 18942 18944 18946 18948 18950 18952 18954 18956 18958 18960 18962 18964 18966 18968 18970 18972 18974 18976 18978 18980 18982 18984 18986 18988 18990 18992 18994 18996 18998 19000 19002 19004 19006 19008 19010 19012 19014 19016 19018 19020 19022 19024 19026 19028 19030 19032 19034 19036 19038 19040 19042 19044 19046 19048 19050 19052 19054 19056 19058 19060 19062 19064 19066 19068 19070 19072 19074 19076 19078 19080 19082 19084 19086 19088 19090 19092 19094 19096 19098 19100 19102 19104 19106 19108 19110 19112 19114 19116 19118 19120 19122 19124 19126 19128 19130 19132 19134 19136 19138 19140 19142 19144 19146 19148 19150 19152 19154 19156 19158 19160 19162 19164 19166 19168 19170 19172 19174 19176 19178 19180 19182 19184 19186 19188 19190 19192 19194 19196 19198 19200 19202 19204 19206 19208 19210 19212 19214 19216 19218 19220 19222 19224 19226 19228 19230 19232 19234 19236 19238 19240 19242 19244 19246 19248 19250 19252 19254 19256 19258 19260 19262 19264 19266 19268 19270 19272 19274 19276 19278 19280 19282 19284 19286 19288 19290 19292 19294 19296 19298 19300 19302 19304 19306 19308 19310 19312 19314 19316 19318 19320 19322 19324 19326 19328 19330 19332 19334 19336 19338 19340 19342 19344 19346 19348 19350 19352 19354 19356 19358 19360 19362 19364 19366 19368 19370 19372 19374 19376 19378 19380 19382 19384 19386 19388 19390 19392 19394 19396 19398 19400 19402 19404 19406 19408 19410 19412 19414 19416 19418 19420 19422 19424 19426 19428 19430 19432 19434 19436 19438 19440 19442 19444 19446 19448 19450 19452 19454 19456 19458 19460 19462 19464 19466 19468 19470 19472 19474 19476 19478 19480 19482 19484 19486 19488 19490 19492 19494 19496 19498 19500 19502 19504 19506 19508 19510 19512 19514 19516 19518 19520 19522 19524 19526 19528 19530 19532 19534 19536 19538 19540 19542 19544 19546 19548 19550 19552 19554 19556 19558 19560 19562 19564 19566 19568 19570 19572 19574 19576 19578 19580 19582 19584 19586 19588 19590 19592 19594 19596 19598 19600 19602 19604 19606 19608 19610 19612 19614 19616 19618 19620 19622 19624 19626 19628 19630 19632 19634 19636 19638 19640 19642 19644 19646 19648 19650 19652 19654 19656 19658 19660 19662 19664 19666 19668 19670 19672 19674 19676 19678 19680 19682 19684 19686 19688 19690 19692 19694 19696 19698 19700 19702 19704 19706 19708 19710 19712 19714 19716 19718 19720 19722 19724 19726 19728 19730 19732 19734 19736 19738 19740 19742 19744 19746 19748 19750 19752 19754 19756 19758 19760 19762 19764 19766 19768 19770 19772 19774 19776 19778 19780 19782 19784 19786 19788 19790 19792 19794 19796 19798 19800 19802 19804 19806 19808 19810 19812 19814 19816 19818 19820 19822 19824 19826 19828 19830 19832 19834 19836 19838 19840 19842 19844 19846 19848 19850 19852 19854 19856 19858 19860 19862 19864 19866 19868 19870 19872 19874 19876 19878 19880 19882 19884 19886 19888 19890 19892 19894 19896 19898 19900 19902 19904 19906 19908 19910 19912 19914 19916 19918 19920 19922 19924 19926 19928 19930 19932 19934 19936 19938 19940 19942 19944 19946 19948 19950 19952 19954 19956 19958 19960 19962 19964 19966 19968 19970 19972 19974 19976 19978 19980 19982 19984 19986 19988 19990 19992 19994 19996 19998 0 2 4 6 8 10 12 14 16 18 20 22 24 26 28 30 32 34 36 38 40 42 44 46 48 50 52 54 56 58 60 62 64 66 68 70 72 74 76 78 80 82 84 86 88 90 92 94 96 98 100 102 104 106 108 110 112 114 116 118 120 122 124 126 128 130 132 134 136 138 140 142 144 146 148 150 152 154 156 158 160 162 164 166 168 170 172 174 176 178 180 182 184 186 188 190 192 194 196 198 200 202 204 206 208 210 212 214 216 218 220 222 224 226 228 230 232 234 236 238 240 242 244 246 248 250 252 254 256 258 260 262 264 266 268 270 272 274 276 278 280 282 284 286 288 290 292 294 296 298 300 302 304 306 308 310 312 314 316 318 320 322 324 326 328 330 332 334 336 338 340 342 344 346 348 350 352 354 356 358 360 362 364 366 368 370 372 374 376 378 380 382 384 386 388 390 392 394 396 398 400 402 404 406 408 410 412 414 416 418 420 422 424 426 428 430 432 434 436 438 440 442 444 446 448 450 452 454 456 458 460 462 464 466 468 470 472 474 476 478 480 482 484 486 488 490 492 494 496 498 500 502 504 506 508 510 512 514 516 518 520 522 524 526 528 530 532 534 536 538 540 542 544 546 548 550 552 554 556 558 560 562 564 566 568 570 572 574 576 578 580 582 584 586 588 590 592 594 596 598 600 602 604 606 608 610 612 614 616 618 620 622 624 626 628 630 632 634 636 638 640 642 644 646 648 650 652 654 656 658 660 662 664 666 668 670 672 674 676 678 680 682 684 686 688 690 692 694 696 698 700 702 704 706 708 710 712 714 716 718 720 722 724 726 728 730 732 734 736 738 740 742 744 746 748 750 752 754 756 758 760 762 764 766 768 770 772 774 776 778 780 782 784 786 788 790 792 794 796 798 800 802 804 806 808 810 812 814 816 818 820 822 824 826 828 830 832 834 836 838 840 842 844 846 848 850 852 854 856 858 860 862 864 866 868 870 872 874 876 878 880 882 884 886 888 890 892 894 896 898 900 902 904 906 908 910 912 914 916 918 920 922 924 926 928 930 932 934 936 938 940 942 944 946 948 950 952 954 956 958 960 962 964 966 968 970 972 974 976 978 980 982 984 986 988 990 992 994 996 998 1000 1002 1004 1006 1008 1010 1012 1014 1016 1018 1020 1022 1024 1026 1028 1030 1032 1034 1036 1038 1040 1042 1044 1046 1048 1050 1052 1054 1056 1058 1060 1062 1064 1066 1068 1070 1072 1074 1076 1078 1080 1082 1084 1086 1088 1090 1092 1094 1096 1098 1100 1102 1104 1106 1108 1110 1112 1114 1116 1118 1120 1122 1124 1126 1128 1130 1132 1134 1136 1138 1140 1142 1144 1146 1148 1150 1152 1154 1156 1158 1160 1162 1164 1166 1168 1170 1172 1174 1176 1178 1180 1182 1184 1186 1188 1190 1192 1194 1196 1198 1200 1202 1204 1206 1208 1210 1212 1214 1216 1218 1220 1222 1224 1226 1228 1230 1232 1234 1236 1238 1240 1242 1244 1246 1248 1250 1252 1254 1256 1258 1260 1262 1264 1266 1268 1270 1272 1274 1276 1278 1280 1282 1284 1286 1288 1290 1292 1294 1296 1298 1300 1302 1304 1306 1308 1310 1312 1314 1316 1318 1320 1322 1324 1326 1328 1330 1332 1334 1336 1338 1340 1342 1344 1346 1348 1350 1352 1354 1356 1358 1360 1362 1364 1366 1368 1370 1372 1374 1376 1378 1380 1382 1384 1386 1388 1390 1392 1394 1396 1398 1400 1402 1404 1406 1408 1410 1412 1414 1416 1418 1420 1422 1424 1426 1428 1430 1432 1434 1436 1438 1440 1442 1444 1446 1448 1450 1452 1454 1456 1458 1460 1462 1464 1466 1468 1470 1472 1474 1476 1478 1480 1482 1484 1486 1488 1490 1492 1494 1496 1498 1500 1502 1504 1506 1508 1510 1512 1514 1516 1518 1520 1522 1524 1526 1528 1530 1532 1534 1536 1538 1540 1542 1544 1546 1548 1550 1552 1554 1556 1558 1560 1562 1564 1566 1568 1570 1572 1574 1576 1578 1580 1582 1584 1586 1588 1590 1592 1594 1596 1598 1600 1602 1604 1606 1608 1610 1612 1614 1616 1618 1620 1622 1624 1626 1628 1630 1632 1634 1636 1638 1640 1642 1644 1646 1648 1650 1652 1654 1656 1658 1660 1662 1664 1666 1668 1670 1672 1674 1676 1678 1680 1682 1684 1686 1688 1690 1692 1694 1696 1698 1700 1702 1704 1706 1708 1710 1712 1714 1716 1718 1720 1722 1724 1726 1728 1730 1732 1734 1736 1738 1740 1742 1744 1746 1748 1750 1752 1754 1756 1758 1760 1762 1764 1766 1768 1770 1772 1774 1776 1778 1780 1782 1784 1786 1788 1790 1792 1794 1796 1798 1800 1802 1804 1806 1808 1810 1812 1814 1816 1818 1820 1822 1824 1826 1828 1830 1832 1834 1836 1838 1840 1842 1844 1846 1848 1850 1852 1854 1856 1858 1860 1862 1864 1866 1868 1870 1872 1874 1876 1878 1880 1882 1884 1886 1888 1890 1892 1894 1896 1898 1900 1902 1904 1906 1908 1910 1912 1914 1916 1918 1920 1922 1924 1926 1928 1930 1932 1934 1936 1938 1940 1942 1944 1946 1948 1950 1952 1954 1956 1958 1960 1962 1964 1966 1968 1970 1972 1974 1976 1978 1980 1982 1984 1986 1988 1990 1992 1994 1996 1998 2000 2002 2004 2006 2008 2010 2012 2014 2016 2018 2020 2022 2024 2026 2028 2030 2032 2034 2036 2038 2040 2042 2044 2046 2048 2050 2052 2054 2056 2058 2060 2062 2064 2066 2068 2070 2072 2074 2076 2078 2080 2082 2084 2086 2088 2090 2092 2094 2096 2098 2100 2102 2104 2106 2108 2110 2112 2114 2116 2118 2120 2122 2124 2126 2128 2130 2132 2134 2136 2138 2140 2142 2144 2146 2148 2150 2152 2154 2156 2158 2160 2162 2164 2166 2168 2170 2172 2174 2176 2178 2180 2182 2184 2186 2188 2190 2192 2194 2196 2198 2200 2202 2204 2206 2208 2210 2212 2214 2216 2218 2220 2222 2224 2226 2228 2230 2232 2234 2236 2238 2240 2242 2244 2246 2248 2250 2252 2254 2256 2258 2260 2262 2264 2266 2268 2270 2272 2274 2276 2278 2280 2282 2284 2286 2288 2290 2292 2294 2296 2298 2300 2302 2304 2306 2308 2310 2312 2314 2316 2318 2320 2322 2324 2326 2328 2330 2332 2334 2336 2338 2340 2342 2344 2346 2348 2350 2352 2354 2356 2358 2360 2362 2364 2366 2368 2370 2372 2374 2376 2378 2380 2382 2384 2386 2388 2390 2392 2394 2396 2398 2400 2402 2404 2406 2408 2410 2412 2414 2416 2418 2420 2422 2424 2426 2428 2430 2432 2434 2436 2438 2440 2442 2444 2446 2448 2450 2452 2454 2456 2458 2460 2462 2464 2466 2468 2470 2472 2474 2476 2478 2480 2482 2484 2486 2488 2490 2492 2494 2496 2498 2500 2502 2504 2506 2508 2510 2512 2514 2516 2518 2520 2522 2524 2526 2528 2530 2532 2534 2536 2538 2540 2542 2544 2546 2548 2550 2552 2554 2556 2558 2560 2562 2564 2566 2568 2570 2572 2574 2576 2578 2580 2582 2584 2586 2588 2590 2592 2594 2596 2598 2600 2602 2604 2606 2608 2610 2612 2614 2616 2618 2620 2622 2624 2626 2628 2630 2632 2634 2636 2638 2640 2642 2644 2646 2648 2650 2652 2654 2656 2658 2660 2662 2664 2666 2668 2670 2672 2674 2676 2678 2680 2682 2684 2686 2688 2690 2692 2694 2696 2698 2700 2702 2704 2706 2708 2710 2712 2714 2716 2718 2720 2722 2724 2726 2728 2730 2732 2734 2736 2738 2740 2742 2744 2746 2748 2750 2752 2754 2756 2758 2760 2762 2764 2766 2768 2770 2772 2774 2776 2778 2780 2782 2784 2786 2788 2790 2792 2794 2796 2798 2800 2802 2804 2806 2808 2810 2812 2814 2816 2818 2820 2822 2824 2826 2828 2830 2832 2834 2836 2838 2840 2842 2844 2846 2848 2850 2852 2854 2856 2858 2860 2862 2864 2866 2868 2870 2872 2874 2876 2878 2880 2882 2884 2886 2888 2890 2892 2894 2896 2898 2900 2902 2904 2906 2908 2910 2912 2914 2916 2918 2920 2922 2924 2926 2928 2930 2932 2934 2936 2938 2940 2942 2944 2946 2948 2950 2952 2954 2956 2958 2960 2962 2964 2966 2968 2970 2972 2974 2976 2978 2980 2982 2984 2986 2988 2990 2992 2994 2996 2998 3000 3002 3004 3006 3008 3010 3012 3014 3016 3018 3020 3022 3024 3026 3028 3030 3032 3034 3036 3038 3040 3042 3044 3046 3048 3050 3052 3054 3056 3058 3060 3062 3064 3066 3068 3070 3072 3074 3076 3078 3080 3082 3084 3086 3088 3090 3092 3094 3096 3098 3100 3102 3104 3106 3108 3110 3112 3114 3116 3118 3120 3122 3124 3126 3128 3130 3132 3134 3136 3138 3140 3142 3144 3146 3148 3150 3152 3154 3156 3158 3160 3162 3164 3166 3168 3170 3172 3174 3176 3178 3180 3182 3184 3186 3188 3190 3192 3194 3196 3198 3200 3202 3204 3206 3208 3210 3212 3214 3216 3218 3220 3222 3224 3226 3228 3230 3232 3234 3236 3238 3240 3242 3244 3246 3248 3250 3252 3254 3256 3258 3260 3262 3264 3266 3268 3270 3272 3274 3276 3278 3280 3282 3284 3286 3288 3290 3292 3294 3296 3298 3300 3302 3304 3306 3308 3310 3312 3314 3316 3318 3320 3322 3324 3326 3328 3330 3332 3334 3336 3338 3340 3342 3344 3346 3348 3350 3352 3354 3356 3358 3360 3362 3364 3366 3368 3370 3372 3374 3376 3378 3380 3382 3384 3386 3388 3390 3392 3394 3396 3398 3400 3402 3404 3406 3408 3410 3412 3414 3416 3418 3420 3422 3424 3426 3428 3430 3432 3434 3436 3438 3440 3442 3444 3446 3448 3450 3452 3454 3456 3458 3460 3462 3464 3466 3468 3470 3472 3474 3476 3478 3480 3482 3484 3486 3488 3490 3492 3494 3496 3498 3500 3502 3504 3506 3508 3510 3512 3514 3516 3518 3520 3522 3524 3526 3528 3530 3532 3534 3536 3538 3540 3542 3544 3546 3548 3550 3552 3554 3556 3558 3560 3562 3564 3566 3568 3570 3572 3574 3576 3578 3580 3582 3584 3586 3588 3590 3592 3594 3596 3598 3600 3602 3604 3606 3608 3610 3612 3614 3616 3618 3620 3622 3624 3626 3628 3630 3632 3634 3636 3638 3640 3642 3644 3646 3648 3650 3652 3654 3656 3658 3660 3662 3664 3666 3668 3670 3672 3674 3676 3678 3680 3682 3684 3686 3688 3690 3692 3694 3696 3698 3700 3702 3704 3706 3708 3710 3712 3714 3716 3718 3720 3722 3724 3726 3728 3730 3732 3734 3736 3738 3740 3742 3744 3746 3748 3750 3752 3754 3756 3758 3760 3762 3764 3766 3768 3770 3772 3774 3776 3778 3780 3782 3784 3786 3788 3790 3792 3794 3796 3798 3800 3802 3804 3806 3808 3810 3812 3814 3816 3818 3820 3822 3824 3826 3828 3830 3832 3834 3836 3838 3840 3842 3844 3846 3848 3850 3852 3854 3856 3858 3860 3862 3864 3866 3868 3870 3872 3874 3876 3878 3880 3882 3884 3886 3888 3890 3892 3894 3896 3898 3900 3902 3904 3906 3908 3910 3912 3914 3916 3918 3920 3922 3924 3926 3928 3930 3932 3934 3936 3938 3940 3942 3944 3946 3948 3950 3952 3954 3956 3958 3960 3962 3964 3966 3968 3970 3972 3974 3976 3978 3980 3982 3984 3986 3988 3990 3992 3994 3996 3998 4000 4002 4004 4006 4008 4010 4012 4014 4016 4018 4020 4022 4024 4026 4028 4030 4032 4034 4036 4038 4040 4042 4044 4046 4048 4050 4052 4054 4056 4058 4060 4062 4064 4066 4068 4070 4072 4074 4076 4078 4080 4082 4084 4086 4088 4090 4092 4094 4096 4098 4100 4102 4104 4106 4108 4110 4112 4114 4116 4118 4120 4122 4124 4126 4128 4130 4132 4134 4136 4138 4140 4142 4144 4146 4148 4150 4152 4154 4156 4158 4160 4162 4164 4166 4168 4170 4172 4174 4176 4178 4180 4182 4184 4186 4188 4190 4192 4194 4196 4198 4200 4202 4204 4206 4208 4210 4212 4214 4216 4218 4220 4222 4224 4226 4228 4230 4232 4234 4236 4238 4240 4242 4244 4246 4248 4250 4252 4254 4256 4258 4260 4262 4264 4266 4268 4270 4272 4274 4276 4278 4280 4282 4284 4286 4288 4290 4292 4294 4296 4298 4300 4302 4304 4306 4308 4310 4312 4314 4316 4318 4320 4322 4324 4326 4328 4330 4332 4334 4336 4338 4340 4342 4344 4346 4348 4350 4352 4354 4356 4358 4360 4362 4364 4366 4368 4370 4372 4374 4376 4378 4380 4382 4384 4386 4388 4390 4392 4394 4396 4398 4400 4402 4404 4406 4408 4410 4412 4414 4416 4418 4420 4422 4424 4426 4428 4430 4432 4434 4436 4438 4440 4442 4444 4446 4448 4450 4452 4454 4456 4458 4460 4462 4464 4466 4468 4470 4472 4474 4476 4478 4480 4482 4484 4486 4488 4490 4492 4494 4496 4498 4500 4502 4504 4506 4508 4510 4512 4514 4516 4518 4520 4522 4524 4526 4528 4530 4532 4534 4536 4538 4540 4542 4544 4546 4548 4550 4552 4554 4556 4558 4560 4562 4564 4566 4568 4570 4572 4574 4576 4578 4580 4582 4584 4586 4588 4590 4592 4594 4596 4598 4600 4602 4604 4606 4608 4610 4612 4614 4616 4618 4620 4622 4624 4626 4628 4630 4632 4634 4636 4638 4640 4642 4644 4646 4648 4650 4652 4654 4656 4658 4660 4662 4664 4666 4668 4670 4672 4674 4676 4678 4680 4682 4684 4686 4688 4690 4692 4694 4696 4698 4700 4702 4704 4706 4708 4710 4712 4714 4716 4718 4720 4722 4724 4726 4728 4730 4732 4734 4736 4738 4740 4742 4744 4746 4748 4750 4752 4754 4756 4758 4760 4762 4764 4766 4768 4770 4772 4774 4776 4778 4780 4782 4784 4786 4788 4790 4792 4794 4796 4798 4800 4802 4804 4806 4808 4810 4812 4814 4816 4818 4820 4822 4824 4826 4828 4830 4832 4834 4836 4838 4840 4842 4844 4846 4848 4850 4852 4854 4856 4858 4860 4862 4864 4866 4868 4870 4872 4874 4876 4878 4880 4882 4884 4886 4888 4890 4892 4894 4896 4898 4900 4902 4904 4906 4908 4910 4912 4914 4916 4918 4920 4922 4924 4926 4928 4930 4932 4934 4936 4938 4940 4942 4944 4946 4948 4950 4952 4954 4956 4958 4960 4962 4964 4966 4968 4970 4972 4974 4976 4978 4980 4982 4984 4986 4988 4990 4992 4994 4996 4998 5000 5002 5004 5006 5008 5010 5012 5014 5016 5018 5020 5022 5024 5026 5028 5030 5032 5034 5036 5038 5040 5042 5044 5046 5048 5050 5052 5054 5056 5058 5060 5062 5064 5066 5068 5070 5072 5074 5076 5078 5080 5082 5084 5086 5088 5090 5092 5094 5096 5098 5100 5102 5104 5106 5108 5110 5112 5114 5116 5118 5120 5122 5124 5126 5128 5130 5132 5134 5136 5138 5140 5142 5144 5146 5148 5150 5152 5154 5156 5158 5160 5162 5164 5166 5168 5170 5172 5174 5176 5178 5180 5182 5184 5186 5188 5190 5192 5194 5196 5198 5200 5202 5204 5206 5208 5210 5212 5214 5216 5218 5220 5222 5224 5226 5228 5230 5232 5234 5236 5238 5240 5242 5244 5246 5248 5250 5252 5254 5256 5258 5260 5262 5264 5266 5268 5270 5272 5274 5276 5278 5280 5282 5284 5286 5288 5290 5292 5294 5296 5298 5300 5302 5304 5306 5308 5310 5312 5314 5316 5318 5320 5322 5324 5326 5328 5330 5332 5334 5336 5338 5340 5342 5344 5346 5348 5350 5352 5354 5356 5358 5360 5362 5364 5366 5368 5370 5372 5374 5376 5378 5380 5382 5384 5386 5388 5390 5392 5394 5396 5398 5400 5402 5404 5406 5408 5410 5412 5414 5416 5418 5420 5422 5424 5426 5428 5430 5432 5434 5436 5438 5440 5442 5444 5446 5448 5450 5452 5454 5456 5458 5460 5462 5464 5466 5468 5470 5472 5474 5476 5478 5480 5482 5484 5486 5488 5490 5492 5494 5496 5498 5500 5502 5504 5506 5508 5510 5512 5514 5516 5518 5520 5522 5524 5526 5528 5530 5532 5534 5536 5538 5540 5542 5544 5546 5548 5550 5552 5554 5556 5558 5560 5562 5564 5566 5568 5570 5572 5574 5576 5578 5580 5582 5584 5586 5588 5590 5592 5594 5596 5598 5600 5602 5604 5606 5608 5610 5612 5614 5616 5618 5620 5622 5624 5626 5628 5630 5632 5634 5636 5638 5640 5642 5644 5646 5648 5650 5652 5654 5656 5658 5660 5662 5664 5666 5668 5670 5672 5674 5676 5678 5680 5682 5684 5686 5688 5690 5692 5694 5696 5698 5700 5702 5704 5706 5708 5710 5712 5714 5716 5718 5720 5722 5724 5726 5728 5730 5732 5734 5736 5738 5740 5742 5744 5746 5748 5750 5752 5754 5756 5758 5760 5762 5764 5766 5768 5770 5772 5774 5776 5778 5780 5782 5784 5786 5788 5790 5792 5794 5796 5798 5800 5802 5804 5806 5808 5810 5812 5814 5816 5818 5820 5822 5824 5826 5828 5830 5832 5834 5836 5838 5840 5842 5844 5846 5848 5850 5852 5854 5856 5858 5860 5862 5864 5866 5868 5870 5872 5874 5876 5878 5880 5882 5884 5886 5888 5890 5892 5894 5896 5898 5900 5902 5904 5906 5908 5910 5912 5914 5916 5918 5920 5922 5924 5926 5928 5930 5932 5934 5936 5938 5940 5942 5944 5946 5948 5950 5952 5954 5956 5958 5960 5962 5964 5966 5968 5970 5972 5974 5976 5978 5980 5982 5984 5986 5988 5990 5992 5994 5996 5998 6000 6002 6004 6006 6008 6010 6012 6014 6016 6018 6020 6022 6024 6026 6028 6030 6032 6034 6036 6038 6040 6042 6044 6046 6048 6050 6052 6054 6056 6058 6060 6062 6064 6066 6068 6070 6072 6074 6076 6078 6080 6082 6084 6086 6088 6090 6092 6094 6096 6098 6100 6102 6104 6106 6108 6110 6112 6114 6116 6118 6120 6122 6124 6126 6128 6130 6132 6134 6136 6138 6140 6142 6144 6146 6148 6150 6152 6154 6156 6158 6160 6162 6164 6166 6168 6170 6172 6174 6176 6178 6180 6182 6184 6186 6188 6190 6192 6194 6196 6198 6200 6202 6204 6206 6208 6210 6212 6214 6216 6218 6220 6222 6224 6226 6228 6230 6232 6234 6236 6238 6240 6242 6244 6246 6248 6250 6252 6254 6256 6258 6260 6262 6264 6266 6268 6270 6272 6274 6276 6278 6280 6282 6284 6286 6288 6290 6292 6294 6296 6298 6300 6302 6304 6306 6308 6310 6312 6314 6316 6318 6320 6322 6324 6326 6328 6330 6332 6334 6336 6338 6340 6342 6344 6346 6348 6350 6352 6354 6356 6358 6360 6362 6364 6366 6368 6370 6372 6374 6376 6378 6380 6382 6384 6386 6388 6390 6392 6394 6396 6398 6400 6402 6404 6406 6408 6410 6412 6414 6416 6418 6420 6422 6424 6426 6428 6430 6432 6434 6436 6438 6440 6442 6444 6446 6448 6450 6452 6454 6456 6458 6460 6462 6464 6466 6468 6470 6472 6474 6476 6478 6480 6482 6484 6486 6488 6490 6492 6494 6496 6498 6500 6502 6504 6506 6508 6510 6512 6514 6516 6518 6520 6522 6524 6526 6528 6530 6532 6534 6536 6538 6540 6542 6544 6546 6548 6550 6552 6554 6556 6558 6560 6562 6564 6566 6568 6570 6572 6574 6576 6578 6580 6582 6584 6586 6588 6590 6592 6594 6596 6598 6600 6602 6604 6606 6608 6610 6612 6614 6616 6618 6620 6622 6624 6626 6628 6630 6632 6634 6636 6638 6640 6642 6644 6646 6648 6650 6652 6654 6656 6658 6660 6662 6664 6666 6668 6670 6672 6674 6676 6678 6680 6682 6684 6686 6688 6690 6692 6694 6696 6698 6700 6702 6704 6706 6708 6710 6712 6714 6716 6718 6720 6722 6724 6726 6728 6730 6732 6734 6736 6738 6740 6742 6744 6746 6748 6750 6752 6754 6756 6758 6760 6762 6764 6766 6768 6770 6772 6774 6776 6778 6780 6782 6784 6786 6788 6790 6792 6794 6796 6798 6800 6802 6804 6806 6808 6810 6812 6814 6816 6818 6820 6822 6824 6826 6828 6830 6832 6834 6836 6838 6840 6842 6844 6846 6848 6850 6852 6854 6856 6858 6860 6862 6864 6866 6868 6870 6872 6874 6876 6878 6880 6882 6884 6886 6888 6890 6892 6894 6896 6898 6900 6902 6904 6906 6908 6910 6912 6914 6916 6918 6920 6922 6924 6926 6928 6930 6932 6934 6936 6938 6940 6942 6944 6946 6948 6950 6952 6954 6956 6958 6960 6962 6964 6966 6968 6970 6972 6974 6976 6978 6980 6982 6984 6986 6988 6990 6992 6994 6996 6998 7000 7002 7004 7006 7008 7010 7012 7014 7016 7018 7020 7022 7024 7026 7028 7030 7032 7034 7036 7038 7040 7042 7044 7046 7048 7050 7052 7054 7056 7058 7060 7062 7064 7066 7068 7070 7072 7074 7076 7078 7080 7082 7084 7086 7088 7090 7092 7094 7096 7098 7100 7102 7104 7106 7108 7110 7112 7114 7116 7118 7120 7122 7124 7126 7128 7130 7132 7134 7136 7138 7140 7142 7144 7146 7148 7150 7152 7154 7156 7158 7160 7162 7164 7166 7168 7170 7172 7174 7176 7178 7180 7182 7184 7186 7188 7190 7192 7194 7196 7198 7200 7202 7204 7206 7208 7210 7212 7214 7216 7218 7220 7222 7224 7226 7228 7230 7232 7234 7236 7238 7240 7242 7244 7246 7248 7250 7252 7254 7256 7258 7260 7262 7264 7266 7268 7270 7272 7274 7276 7278 7280 7282 7284 7286 7288 7290 7292 7294 7296 7298 7300 7302 7304 7306 7308 7310 7312 7314 7316 7318 7320 7322 7324 7326 7328 7330 7332 7334 7336 7338 7340 7342 7344 7346 7348 7350 7352 7354 7356 7358 7360 7362 7364 7366 7368 7370 7372 7374 7376 7378 7380 7382 7384 7386 7388 7390 7392 7394 7396 7398 7400 7402 7404 7406 7408 7410 7412 7414 7416 7418 7420 7422 7424 7426 7428 7430 7432 7434 7436 7438 7440 7442 7444 7446 7448 7450 7452 7454 7456 7458 7460 7462 7464 7466 7468 7470 7472 7474 7476 7478 7480 7482 7484 7486 7488 7490 7492 7494 7496 7498 7500 7502 7504 7506 7508 7510 7512 7514 7516 7518 7520 7522 7524 7526 7528 7530 7532 7534 7536 7538 7540 7542 7544 7546 7548 7550 7552 7554 7556 7558 7560 7562 7564 7566 7568 7570 7572 7574 7576 7578 7580 7582 7584 7586 7588 7590 7592 7594 7596 7598 7600 7602 7604 7606 7608 7610 7612 7614 7616 7618 7620 7622 7624 7626 7628 7630 7632 7634 7636 7638 7640 7642 7644 7646 7648 7650 7652 7654 7656 7658 7660 7662 7664 7666 7668 7670 7672 7674 7676 7678 7680 7682 7684 7686 7688 7690 7692 7694 7696 7698 7700 7702 7704 7706 7708 7710 7712 7714 7716 7718 7720 7722 7724 7726 7728 7730 7732 7734 7736 7738 7740 7742 7744 7746 7748 7750 7752 7754 7756 7758 7760 7762 7764 7766 7768 7770 7772 7774 7776 7778 7780 7782 7784 7786 7788 7790 7792 7794 7796 7798 7800 7802 7804 7806 7808 7810 7812 7814 7816 7818 7820 7822 7824 7826 7828 7830 7832 7834 7836 7838 7840 7842 7844 7846 7848 7850 7852 7854 7856 7858 7860 7862 7864 7866 7868 7870 7872 7874 7876 7878 7880 7882 7884 7886 7888 7890 7892 7894 7896 7898 7900 7902 7904 7906 7908 7910 7912 7914 7916 7918 7920 7922 7924 7926 7928 7930 7932 7934 7936 7938 7940 7942 7944 7946 7948 7950 7952 7954 7956 7958 7960 7962 7964 7966 7968 7970 7972 7974 7976 7978 7980 7982 7984 7986 7988 7990 7992 7994 7996 7998 8000 8002 8004 8006 8008 8010 8012 8014 8016 8018 8020 8022 8024 8026 8028 8030 8032 8034 8036 8038 8040 8042 8044 8046 8048 8050 8052 8054 8056 8058 8060 8062 8064 8066 8068 8070 8072 8074 8076 8078 8080 8082 8084 8086 8088 8090 8092 8094 8096 8098 8100 8102 8104 8106 8108 8110 8112 8114 8116 8118 8120 8122 8124 8126 8128 8130 8132 8134 8136 8138 8140 8142 8144 8146 8148 8150 8152 8154 8156 8158 8160 8162 8164 8166 8168 8170 8172 8174 8176 8178 8180 8182 8184 8186 8188 8190 8192 8194 8196 8198 8200 8202 8204 8206 8208 8210 8212 8214 8216 8218 8220 8222 8224 8226 8228 8230 8232 8234 8236 8238 8240 8242 8244 8246 8248 8250 8252 8254 8256 8258 8260 8262 8264 8266 8268 8270 8272 8274 8276 8278 8280 8282 8284 8286 8288 8290 8292 8294 8296 8298 8300 8302 8304 8306 8308 8310 8312 8314 8316 8318 8320 8322 8324 8326 8328 8330 8332 8334 8336 8338 8340 8342 8344 8346 8348 8350 8352 8354 8356 8358 8360 8362 8364 8366 8368 8370 8372 8374 8376 8378 8380 8382 8384 8386 8388 8390 8392 8394 8396 8398 8400 8402 8404 8406 8408 8410 8412 8414 8416 8418 8420 8422 8424 8426 8428 8430 8432 8434 8436 8438 8440 8442 8444 8446 8448 8450 8452 8454 8456 8458 8460 8462 8464 8466 8468 8470 8472 8474 8476 8478 8480 8482 8484 8486 8488 8490 8492 8494 8496 8498 8500 8502 8504 8506 8508 8510 8512 8514 8516 8518 8520 8522 8524 8526 8528 8530 8532 8534 8536 8538 8540 8542 8544 8546 8548 8550 8552 8554 8556 8558 8560 8562 8564 8566 8568 8570 8572 8574 8576 8578 8580 8582 8584 8586 8588 8590 8592 8594 8596 8598 8600 8602 8604 8606 8608 8610 8612 8614 8616 8618 8620 8622 8624 8626 8628 8630 8632 8634 8636 8638 8640 8642 8644 8646 8648 8650 8652 8654 8656 8658 8660 8662 8664 8666 8668 8670 8672 8674 8676 8678 8680 8682 8684 8686 8688 8690 8692 8694 8696 8698 8700 8702 8704 8706 8708 8710 8712 8714 8716 8718 8720 8722 8724 8726 8728 8730 8732 8734 8736 8738 8740 8742 8744 8746 8748 8750 8752 8754 8756 8758 8760 8762 8764 8766 8768 8770 8772 8774 8776 8778 8780 8782 8784 8786 8788 8790 8792 8794 8796 8798 8800 8802 8804 8806 8808 8810 8812 8814 8816 8818 8820 8822 8824 8826 8828 8830 8832 8834 8836 8838 8840 8842 8844 8846 8848 8850 8852 8854 8856 8858 8860 8862 8864 8866 8868 8870 8872 8874 8876 8878 8880 8882 8884 8886 8888 8890 8892 8894 8896 8898 8900 8902 8904 8906 8908 8910 8912 8914 8916 8918 8920 8922 8924 8926 8928 8930 8932 8934 8936 8938 8940 8942 8944 8946 8948 8950 8952 8954 8956 8958 8960 8962 8964 8966 8968 8970 8972 8974 8976 8978 8980 8982 8984 8986 8988 8990 8992 8994 8996 8998 9000 9002 9004 9006 9008 9010 9012 9014 9016 9018 9020 9022 9024 9026 9028 9030 9032 9034 9036 9038 9040 9042 9044 9046 9048 9050 9052 9054 9056 9058 9060 9062 9064 9066 9068 9070 9072 9074 9076 9078 9080 9082 9084 9086 9088 9090 9092 9094 9096 9098 9100 9102 9104 9106 9108 9110 9112 9114 9116 9118 9120 9122 9124 9126 9128 9130 9132 9134 9136 9138 9140 9142 9144 9146 9148 9150 9152 9154 9156 9158 9160 9162 9164 9166 9168 9170 9172 9174 9176 9178 9180 9182 9184 9186 9188 9190 9192 9194 9196 9198 9200 9202 9204 9206 9208 9210 9212 9214 9216 9218 9220 9222 9224 9226 9228 9230 9232 9234 9236 9238 9240 9242 9244 9246 9248 9250 9252 9254 9256 9258 9260 9262 9264 9266 9268 9270 9272 9274 9276 9278 9280 9282 9284 9286 9288 9290 9292 9294 9296 9298 9300 9302 9304 9306 9308 9310 9312 9314 9316 9318 9320 9322 9324 9326 9328 9330 9332 9334 9336 9338 9340 9342 9344 9346 9348 9350 9352 9354 9356 9358 9360 9362 9364 9366 9368 9370 9372 9374 9376 9378 9380 9382 9384 9386 9388 9390 9392 9394 9396 9398 9400 9402 9404 9406 9408 9410 9412 9414 9416 9418 9420 9422 9424 9426 9428 9430 9432 9434 9436 9438 9440 9442 9444 9446 9448 9450 9452 9454 9456 9458 9460 9462 9464 9466 9468 9470 9472 9474 9476 9478 9480 9482 9484 9486 9488 9490 9492 9494 9496 9498 9500 9502 9504 9506 9508 9510 9512 9514 9516 9518 9520 9522 9524 9526 9528 9530 9532 9534 9536 9538 9540 9542 9544 9546 9548 9550 9552 9554 9556 9558 9560 9562 9564 9566 9568 9570 9572 9574 9576 9578 9580 9582 9584 9586 9588 9590 9592 9594 9596 9598 9600 9602 9604 9606 9608 9610 9612 9614 9616 9618 9620 9622 9624 9626 9628 9630 9632 9634 9636 9638 9640 9642 9644 9646 9648 9650 9652 9654 9656 9658 9660 9662 9664 9666 9668 9670 9672 9674 9676 9678 9680 9682 9684 9686 9688 9690 9692 9694 9696 9698 9700 9702 9704 9706 9708 9710 9712 9714 9716 9718 9720 9722 9724 9726 9728 9730 9732 9734 9736 9738 9740 9742 9744 9746 9748 9750 9752 9754 9756 9758 9760 9762 9764 9766 9768 9770 9772 9774 9776 9778 9780 9782 9784 9786 9788 9790 9792 9794 9796 9798 9800 9802 9804 9806 9808 9810 9812 9814 9816 9818 9820 9822 9824 9826 9828 9830 9832 9834 9836 9838 9840 9842 9844 9846 9848 9850 9852 9854 9856 9858 9860 9862 9864 9866 9868 9870 9872 9874 9876 9878 9880 9882 9884 9886 9888 9890 9892 9894 9896 9898 9900 9902 9904 9906 9908 9910 9912 9914 9916 9918 9920 9922 9924 9926 9928 9930 9932 9934 9936 9938 9940 9942 9944 9946 9948 9950 9952 9954 9956 9958 9960 9962 9964 9966 9968 9970 9972 9974 9976 9978 9980 9982 9984 9986 9988 9990 9992 9994 9996 9998 \n",
            "Tempo de execução: 0.2014 s\n"
          ]
        }
      ]
    },
    {
      "cell_type": "markdown",
      "source": [
        "### **Question**\n",
        "\n",
        "A ordem se mantém igual ao programa sequencial? Você consegue explicar por que?\n",
        "\n",
        "**Resposta**\n",
        "\n",
        "Não se mantém. Cada thread chega ao push_back em um momento diferente, logo a ordem em que os dados são adicionados no vetor muda.\n",
        "\n",
        "\n",
        "### **Manejo de conflitos usando pré-alocação de memória**\n",
        "\n",
        "Seções críticas são muito úteis quando não conseguimos evitar o compartilhamento de dados. Porém, elas são caras e e feitas especialmente para situações em que região crítica é pequena e chamada um número relativamente pequeno de vezes.\n",
        "\n",
        "Como regra, desejamos entrar na região crítica o menor número possível de vezes.\n",
        "\n",
        "### **Question**\n",
        "\n",
        "Reveja o código do inicial da seção de efeitos colaterais. Seria possível reescrevê-lo para não usar push_back?\n",
        "\n",
        "**Resposta**\n",
        "\n",
        "Sim, bastaria alocar o vetor com tamanho N ao criá-lo. Assim poderíamos atribuir conta_complexa direto para a posição de memória desejada.\n",
        "\n",
        "A estratégia acima é muito importante em alto desempenho e representa uma maneira de evitar seções críticas e sincronização.\n",
        "\n",
        "É sempre melhor alocar memória em blocos grandes antes do paralelismo do que alocar memória frequentemente dentro de regiões paralelas.\n",
        "\n",
        "Note que fizemos isso na parte de tarefas: ao criarmos variáveis para cada tarefa preencher evitamos a necessidade de usar sincronização.\n",
        "\n",
        "\n",
        "**Example**\n",
        "\n",
        "Modifique o programa para usar a ideia da questão anterior. Meça o desempenho e verifique que tudo funciona normalmente e mais rápido que o original."
      ],
      "metadata": {
        "id": "xYrfedWyw-Kw"
      }
    },
    {
      "cell_type": "code",
      "source": [
        "%%writefile vetor_insert_sem_pushback.cpp\n",
        "#include <vector>\n",
        "#include <iostream>\n",
        "#include <unistd.h>\n",
        "#include <omp.h>\n",
        "#include <chrono>\n",
        "\n",
        "double conta_complexa(int i) {\n",
        "    return 2 * i;\n",
        "}\n",
        "\n",
        "int main() {\n",
        "    auto t_start = std::chrono::high_resolution_clock::now();\n",
        "\n",
        "    int N = 10000;\n",
        "    std::vector<double> vec(N);\n",
        "\n",
        "    #pragma omp parallel for\n",
        "    for (int i = 0; i < N; i++) {\n",
        "        vec[i] = conta_complexa(i);\n",
        "    }\n",
        "\n",
        "    for (int i = 0; i < N; i++) {\n",
        "        std::cout << vec[i] << \" \";\n",
        "    }\n",
        "\n",
        "    std::cout << std::endl;\n",
        "    auto t_end = std::chrono::high_resolution_clock::now();\n",
        "\n",
        "    double elapsed_time_ms = std::chrono::duration<double, std::milli>(t_end - t_start).count();\n",
        "    double elapsed_time_s = elapsed_time_ms / 1000;\n",
        "    std::cout << \"Tempo de execução: \" << elapsed_time_s << \" s\" << std::endl;\n",
        "\n",
        "    return 0;\n",
        "}\n"
      ],
      "metadata": {
        "colab": {
          "base_uri": "https://localhost:8080/"
        },
        "id": "LfvgMZKHxP2a",
        "outputId": "f20d9f9d-f3fd-4f03-9cc7-ea4e59c68611"
      },
      "execution_count": null,
      "outputs": [
        {
          "output_type": "stream",
          "name": "stdout",
          "text": [
            "Overwriting vetor_insert_sem_pushback.cpp\n"
          ]
        }
      ]
    },
    {
      "cell_type": "code",
      "source": [
        "!g++ -Wall -fopenmp vetor_insert_sem_pushback.cpp -o vetor_insert_sem_pushback"
      ],
      "metadata": {
        "id": "kPFofeaRxtWV"
      },
      "execution_count": null,
      "outputs": []
    },
    {
      "cell_type": "code",
      "source": [
        "!./vetor_insert_sem_pushback"
      ],
      "metadata": {
        "colab": {
          "base_uri": "https://localhost:8080/"
        },
        "id": "ARADkVy1xwRE",
        "outputId": "757f8ae3-e96e-430b-bd18-d1ec37ad7964"
      },
      "execution_count": null,
      "outputs": [
        {
          "output_type": "stream",
          "name": "stdout",
          "text": [
            "0 2 4 6 8 10 12 14 16 18 20 22 24 26 28 30 32 34 36 38 40 42 44 46 48 50 52 54 56 58 60 62 64 66 68 70 72 74 76 78 80 82 84 86 88 90 92 94 96 98 100 102 104 106 108 110 112 114 116 118 120 122 124 126 128 130 132 134 136 138 140 142 144 146 148 150 152 154 156 158 160 162 164 166 168 170 172 174 176 178 180 182 184 186 188 190 192 194 196 198 200 202 204 206 208 210 212 214 216 218 220 222 224 226 228 230 232 234 236 238 240 242 244 246 248 250 252 254 256 258 260 262 264 266 268 270 272 274 276 278 280 282 284 286 288 290 292 294 296 298 300 302 304 306 308 310 312 314 316 318 320 322 324 326 328 330 332 334 336 338 340 342 344 346 348 350 352 354 356 358 360 362 364 366 368 370 372 374 376 378 380 382 384 386 388 390 392 394 396 398 400 402 404 406 408 410 412 414 416 418 420 422 424 426 428 430 432 434 436 438 440 442 444 446 448 450 452 454 456 458 460 462 464 466 468 470 472 474 476 478 480 482 484 486 488 490 492 494 496 498 500 502 504 506 508 510 512 514 516 518 520 522 524 526 528 530 532 534 536 538 540 542 544 546 548 550 552 554 556 558 560 562 564 566 568 570 572 574 576 578 580 582 584 586 588 590 592 594 596 598 600 602 604 606 608 610 612 614 616 618 620 622 624 626 628 630 632 634 636 638 640 642 644 646 648 650 652 654 656 658 660 662 664 666 668 670 672 674 676 678 680 682 684 686 688 690 692 694 696 698 700 702 704 706 708 710 712 714 716 718 720 722 724 726 728 730 732 734 736 738 740 742 744 746 748 750 752 754 756 758 760 762 764 766 768 770 772 774 776 778 780 782 784 786 788 790 792 794 796 798 800 802 804 806 808 810 812 814 816 818 820 822 824 826 828 830 832 834 836 838 840 842 844 846 848 850 852 854 856 858 860 862 864 866 868 870 872 874 876 878 880 882 884 886 888 890 892 894 896 898 900 902 904 906 908 910 912 914 916 918 920 922 924 926 928 930 932 934 936 938 940 942 944 946 948 950 952 954 956 958 960 962 964 966 968 970 972 974 976 978 980 982 984 986 988 990 992 994 996 998 1000 1002 1004 1006 1008 1010 1012 1014 1016 1018 1020 1022 1024 1026 1028 1030 1032 1034 1036 1038 1040 1042 1044 1046 1048 1050 1052 1054 1056 1058 1060 1062 1064 1066 1068 1070 1072 1074 1076 1078 1080 1082 1084 1086 1088 1090 1092 1094 1096 1098 1100 1102 1104 1106 1108 1110 1112 1114 1116 1118 1120 1122 1124 1126 1128 1130 1132 1134 1136 1138 1140 1142 1144 1146 1148 1150 1152 1154 1156 1158 1160 1162 1164 1166 1168 1170 1172 1174 1176 1178 1180 1182 1184 1186 1188 1190 1192 1194 1196 1198 1200 1202 1204 1206 1208 1210 1212 1214 1216 1218 1220 1222 1224 1226 1228 1230 1232 1234 1236 1238 1240 1242 1244 1246 1248 1250 1252 1254 1256 1258 1260 1262 1264 1266 1268 1270 1272 1274 1276 1278 1280 1282 1284 1286 1288 1290 1292 1294 1296 1298 1300 1302 1304 1306 1308 1310 1312 1314 1316 1318 1320 1322 1324 1326 1328 1330 1332 1334 1336 1338 1340 1342 1344 1346 1348 1350 1352 1354 1356 1358 1360 1362 1364 1366 1368 1370 1372 1374 1376 1378 1380 1382 1384 1386 1388 1390 1392 1394 1396 1398 1400 1402 1404 1406 1408 1410 1412 1414 1416 1418 1420 1422 1424 1426 1428 1430 1432 1434 1436 1438 1440 1442 1444 1446 1448 1450 1452 1454 1456 1458 1460 1462 1464 1466 1468 1470 1472 1474 1476 1478 1480 1482 1484 1486 1488 1490 1492 1494 1496 1498 1500 1502 1504 1506 1508 1510 1512 1514 1516 1518 1520 1522 1524 1526 1528 1530 1532 1534 1536 1538 1540 1542 1544 1546 1548 1550 1552 1554 1556 1558 1560 1562 1564 1566 1568 1570 1572 1574 1576 1578 1580 1582 1584 1586 1588 1590 1592 1594 1596 1598 1600 1602 1604 1606 1608 1610 1612 1614 1616 1618 1620 1622 1624 1626 1628 1630 1632 1634 1636 1638 1640 1642 1644 1646 1648 1650 1652 1654 1656 1658 1660 1662 1664 1666 1668 1670 1672 1674 1676 1678 1680 1682 1684 1686 1688 1690 1692 1694 1696 1698 1700 1702 1704 1706 1708 1710 1712 1714 1716 1718 1720 1722 1724 1726 1728 1730 1732 1734 1736 1738 1740 1742 1744 1746 1748 1750 1752 1754 1756 1758 1760 1762 1764 1766 1768 1770 1772 1774 1776 1778 1780 1782 1784 1786 1788 1790 1792 1794 1796 1798 1800 1802 1804 1806 1808 1810 1812 1814 1816 1818 1820 1822 1824 1826 1828 1830 1832 1834 1836 1838 1840 1842 1844 1846 1848 1850 1852 1854 1856 1858 1860 1862 1864 1866 1868 1870 1872 1874 1876 1878 1880 1882 1884 1886 1888 1890 1892 1894 1896 1898 1900 1902 1904 1906 1908 1910 1912 1914 1916 1918 1920 1922 1924 1926 1928 1930 1932 1934 1936 1938 1940 1942 1944 1946 1948 1950 1952 1954 1956 1958 1960 1962 1964 1966 1968 1970 1972 1974 1976 1978 1980 1982 1984 1986 1988 1990 1992 1994 1996 1998 2000 2002 2004 2006 2008 2010 2012 2014 2016 2018 2020 2022 2024 2026 2028 2030 2032 2034 2036 2038 2040 2042 2044 2046 2048 2050 2052 2054 2056 2058 2060 2062 2064 2066 2068 2070 2072 2074 2076 2078 2080 2082 2084 2086 2088 2090 2092 2094 2096 2098 2100 2102 2104 2106 2108 2110 2112 2114 2116 2118 2120 2122 2124 2126 2128 2130 2132 2134 2136 2138 2140 2142 2144 2146 2148 2150 2152 2154 2156 2158 2160 2162 2164 2166 2168 2170 2172 2174 2176 2178 2180 2182 2184 2186 2188 2190 2192 2194 2196 2198 2200 2202 2204 2206 2208 2210 2212 2214 2216 2218 2220 2222 2224 2226 2228 2230 2232 2234 2236 2238 2240 2242 2244 2246 2248 2250 2252 2254 2256 2258 2260 2262 2264 2266 2268 2270 2272 2274 2276 2278 2280 2282 2284 2286 2288 2290 2292 2294 2296 2298 2300 2302 2304 2306 2308 2310 2312 2314 2316 2318 2320 2322 2324 2326 2328 2330 2332 2334 2336 2338 2340 2342 2344 2346 2348 2350 2352 2354 2356 2358 2360 2362 2364 2366 2368 2370 2372 2374 2376 2378 2380 2382 2384 2386 2388 2390 2392 2394 2396 2398 2400 2402 2404 2406 2408 2410 2412 2414 2416 2418 2420 2422 2424 2426 2428 2430 2432 2434 2436 2438 2440 2442 2444 2446 2448 2450 2452 2454 2456 2458 2460 2462 2464 2466 2468 2470 2472 2474 2476 2478 2480 2482 2484 2486 2488 2490 2492 2494 2496 2498 2500 2502 2504 2506 2508 2510 2512 2514 2516 2518 2520 2522 2524 2526 2528 2530 2532 2534 2536 2538 2540 2542 2544 2546 2548 2550 2552 2554 2556 2558 2560 2562 2564 2566 2568 2570 2572 2574 2576 2578 2580 2582 2584 2586 2588 2590 2592 2594 2596 2598 2600 2602 2604 2606 2608 2610 2612 2614 2616 2618 2620 2622 2624 2626 2628 2630 2632 2634 2636 2638 2640 2642 2644 2646 2648 2650 2652 2654 2656 2658 2660 2662 2664 2666 2668 2670 2672 2674 2676 2678 2680 2682 2684 2686 2688 2690 2692 2694 2696 2698 2700 2702 2704 2706 2708 2710 2712 2714 2716 2718 2720 2722 2724 2726 2728 2730 2732 2734 2736 2738 2740 2742 2744 2746 2748 2750 2752 2754 2756 2758 2760 2762 2764 2766 2768 2770 2772 2774 2776 2778 2780 2782 2784 2786 2788 2790 2792 2794 2796 2798 2800 2802 2804 2806 2808 2810 2812 2814 2816 2818 2820 2822 2824 2826 2828 2830 2832 2834 2836 2838 2840 2842 2844 2846 2848 2850 2852 2854 2856 2858 2860 2862 2864 2866 2868 2870 2872 2874 2876 2878 2880 2882 2884 2886 2888 2890 2892 2894 2896 2898 2900 2902 2904 2906 2908 2910 2912 2914 2916 2918 2920 2922 2924 2926 2928 2930 2932 2934 2936 2938 2940 2942 2944 2946 2948 2950 2952 2954 2956 2958 2960 2962 2964 2966 2968 2970 2972 2974 2976 2978 2980 2982 2984 2986 2988 2990 2992 2994 2996 2998 3000 3002 3004 3006 3008 3010 3012 3014 3016 3018 3020 3022 3024 3026 3028 3030 3032 3034 3036 3038 3040 3042 3044 3046 3048 3050 3052 3054 3056 3058 3060 3062 3064 3066 3068 3070 3072 3074 3076 3078 3080 3082 3084 3086 3088 3090 3092 3094 3096 3098 3100 3102 3104 3106 3108 3110 3112 3114 3116 3118 3120 3122 3124 3126 3128 3130 3132 3134 3136 3138 3140 3142 3144 3146 3148 3150 3152 3154 3156 3158 3160 3162 3164 3166 3168 3170 3172 3174 3176 3178 3180 3182 3184 3186 3188 3190 3192 3194 3196 3198 3200 3202 3204 3206 3208 3210 3212 3214 3216 3218 3220 3222 3224 3226 3228 3230 3232 3234 3236 3238 3240 3242 3244 3246 3248 3250 3252 3254 3256 3258 3260 3262 3264 3266 3268 3270 3272 3274 3276 3278 3280 3282 3284 3286 3288 3290 3292 3294 3296 3298 3300 3302 3304 3306 3308 3310 3312 3314 3316 3318 3320 3322 3324 3326 3328 3330 3332 3334 3336 3338 3340 3342 3344 3346 3348 3350 3352 3354 3356 3358 3360 3362 3364 3366 3368 3370 3372 3374 3376 3378 3380 3382 3384 3386 3388 3390 3392 3394 3396 3398 3400 3402 3404 3406 3408 3410 3412 3414 3416 3418 3420 3422 3424 3426 3428 3430 3432 3434 3436 3438 3440 3442 3444 3446 3448 3450 3452 3454 3456 3458 3460 3462 3464 3466 3468 3470 3472 3474 3476 3478 3480 3482 3484 3486 3488 3490 3492 3494 3496 3498 3500 3502 3504 3506 3508 3510 3512 3514 3516 3518 3520 3522 3524 3526 3528 3530 3532 3534 3536 3538 3540 3542 3544 3546 3548 3550 3552 3554 3556 3558 3560 3562 3564 3566 3568 3570 3572 3574 3576 3578 3580 3582 3584 3586 3588 3590 3592 3594 3596 3598 3600 3602 3604 3606 3608 3610 3612 3614 3616 3618 3620 3622 3624 3626 3628 3630 3632 3634 3636 3638 3640 3642 3644 3646 3648 3650 3652 3654 3656 3658 3660 3662 3664 3666 3668 3670 3672 3674 3676 3678 3680 3682 3684 3686 3688 3690 3692 3694 3696 3698 3700 3702 3704 3706 3708 3710 3712 3714 3716 3718 3720 3722 3724 3726 3728 3730 3732 3734 3736 3738 3740 3742 3744 3746 3748 3750 3752 3754 3756 3758 3760 3762 3764 3766 3768 3770 3772 3774 3776 3778 3780 3782 3784 3786 3788 3790 3792 3794 3796 3798 3800 3802 3804 3806 3808 3810 3812 3814 3816 3818 3820 3822 3824 3826 3828 3830 3832 3834 3836 3838 3840 3842 3844 3846 3848 3850 3852 3854 3856 3858 3860 3862 3864 3866 3868 3870 3872 3874 3876 3878 3880 3882 3884 3886 3888 3890 3892 3894 3896 3898 3900 3902 3904 3906 3908 3910 3912 3914 3916 3918 3920 3922 3924 3926 3928 3930 3932 3934 3936 3938 3940 3942 3944 3946 3948 3950 3952 3954 3956 3958 3960 3962 3964 3966 3968 3970 3972 3974 3976 3978 3980 3982 3984 3986 3988 3990 3992 3994 3996 3998 4000 4002 4004 4006 4008 4010 4012 4014 4016 4018 4020 4022 4024 4026 4028 4030 4032 4034 4036 4038 4040 4042 4044 4046 4048 4050 4052 4054 4056 4058 4060 4062 4064 4066 4068 4070 4072 4074 4076 4078 4080 4082 4084 4086 4088 4090 4092 4094 4096 4098 4100 4102 4104 4106 4108 4110 4112 4114 4116 4118 4120 4122 4124 4126 4128 4130 4132 4134 4136 4138 4140 4142 4144 4146 4148 4150 4152 4154 4156 4158 4160 4162 4164 4166 4168 4170 4172 4174 4176 4178 4180 4182 4184 4186 4188 4190 4192 4194 4196 4198 4200 4202 4204 4206 4208 4210 4212 4214 4216 4218 4220 4222 4224 4226 4228 4230 4232 4234 4236 4238 4240 4242 4244 4246 4248 4250 4252 4254 4256 4258 4260 4262 4264 4266 4268 4270 4272 4274 4276 4278 4280 4282 4284 4286 4288 4290 4292 4294 4296 4298 4300 4302 4304 4306 4308 4310 4312 4314 4316 4318 4320 4322 4324 4326 4328 4330 4332 4334 4336 4338 4340 4342 4344 4346 4348 4350 4352 4354 4356 4358 4360 4362 4364 4366 4368 4370 4372 4374 4376 4378 4380 4382 4384 4386 4388 4390 4392 4394 4396 4398 4400 4402 4404 4406 4408 4410 4412 4414 4416 4418 4420 4422 4424 4426 4428 4430 4432 4434 4436 4438 4440 4442 4444 4446 4448 4450 4452 4454 4456 4458 4460 4462 4464 4466 4468 4470 4472 4474 4476 4478 4480 4482 4484 4486 4488 4490 4492 4494 4496 4498 4500 4502 4504 4506 4508 4510 4512 4514 4516 4518 4520 4522 4524 4526 4528 4530 4532 4534 4536 4538 4540 4542 4544 4546 4548 4550 4552 4554 4556 4558 4560 4562 4564 4566 4568 4570 4572 4574 4576 4578 4580 4582 4584 4586 4588 4590 4592 4594 4596 4598 4600 4602 4604 4606 4608 4610 4612 4614 4616 4618 4620 4622 4624 4626 4628 4630 4632 4634 4636 4638 4640 4642 4644 4646 4648 4650 4652 4654 4656 4658 4660 4662 4664 4666 4668 4670 4672 4674 4676 4678 4680 4682 4684 4686 4688 4690 4692 4694 4696 4698 4700 4702 4704 4706 4708 4710 4712 4714 4716 4718 4720 4722 4724 4726 4728 4730 4732 4734 4736 4738 4740 4742 4744 4746 4748 4750 4752 4754 4756 4758 4760 4762 4764 4766 4768 4770 4772 4774 4776 4778 4780 4782 4784 4786 4788 4790 4792 4794 4796 4798 4800 4802 4804 4806 4808 4810 4812 4814 4816 4818 4820 4822 4824 4826 4828 4830 4832 4834 4836 4838 4840 4842 4844 4846 4848 4850 4852 4854 4856 4858 4860 4862 4864 4866 4868 4870 4872 4874 4876 4878 4880 4882 4884 4886 4888 4890 4892 4894 4896 4898 4900 4902 4904 4906 4908 4910 4912 4914 4916 4918 4920 4922 4924 4926 4928 4930 4932 4934 4936 4938 4940 4942 4944 4946 4948 4950 4952 4954 4956 4958 4960 4962 4964 4966 4968 4970 4972 4974 4976 4978 4980 4982 4984 4986 4988 4990 4992 4994 4996 4998 5000 5002 5004 5006 5008 5010 5012 5014 5016 5018 5020 5022 5024 5026 5028 5030 5032 5034 5036 5038 5040 5042 5044 5046 5048 5050 5052 5054 5056 5058 5060 5062 5064 5066 5068 5070 5072 5074 5076 5078 5080 5082 5084 5086 5088 5090 5092 5094 5096 5098 5100 5102 5104 5106 5108 5110 5112 5114 5116 5118 5120 5122 5124 5126 5128 5130 5132 5134 5136 5138 5140 5142 5144 5146 5148 5150 5152 5154 5156 5158 5160 5162 5164 5166 5168 5170 5172 5174 5176 5178 5180 5182 5184 5186 5188 5190 5192 5194 5196 5198 5200 5202 5204 5206 5208 5210 5212 5214 5216 5218 5220 5222 5224 5226 5228 5230 5232 5234 5236 5238 5240 5242 5244 5246 5248 5250 5252 5254 5256 5258 5260 5262 5264 5266 5268 5270 5272 5274 5276 5278 5280 5282 5284 5286 5288 5290 5292 5294 5296 5298 5300 5302 5304 5306 5308 5310 5312 5314 5316 5318 5320 5322 5324 5326 5328 5330 5332 5334 5336 5338 5340 5342 5344 5346 5348 5350 5352 5354 5356 5358 5360 5362 5364 5366 5368 5370 5372 5374 5376 5378 5380 5382 5384 5386 5388 5390 5392 5394 5396 5398 5400 5402 5404 5406 5408 5410 5412 5414 5416 5418 5420 5422 5424 5426 5428 5430 5432 5434 5436 5438 5440 5442 5444 5446 5448 5450 5452 5454 5456 5458 5460 5462 5464 5466 5468 5470 5472 5474 5476 5478 5480 5482 5484 5486 5488 5490 5492 5494 5496 5498 5500 5502 5504 5506 5508 5510 5512 5514 5516 5518 5520 5522 5524 5526 5528 5530 5532 5534 5536 5538 5540 5542 5544 5546 5548 5550 5552 5554 5556 5558 5560 5562 5564 5566 5568 5570 5572 5574 5576 5578 5580 5582 5584 5586 5588 5590 5592 5594 5596 5598 5600 5602 5604 5606 5608 5610 5612 5614 5616 5618 5620 5622 5624 5626 5628 5630 5632 5634 5636 5638 5640 5642 5644 5646 5648 5650 5652 5654 5656 5658 5660 5662 5664 5666 5668 5670 5672 5674 5676 5678 5680 5682 5684 5686 5688 5690 5692 5694 5696 5698 5700 5702 5704 5706 5708 5710 5712 5714 5716 5718 5720 5722 5724 5726 5728 5730 5732 5734 5736 5738 5740 5742 5744 5746 5748 5750 5752 5754 5756 5758 5760 5762 5764 5766 5768 5770 5772 5774 5776 5778 5780 5782 5784 5786 5788 5790 5792 5794 5796 5798 5800 5802 5804 5806 5808 5810 5812 5814 5816 5818 5820 5822 5824 5826 5828 5830 5832 5834 5836 5838 5840 5842 5844 5846 5848 5850 5852 5854 5856 5858 5860 5862 5864 5866 5868 5870 5872 5874 5876 5878 5880 5882 5884 5886 5888 5890 5892 5894 5896 5898 5900 5902 5904 5906 5908 5910 5912 5914 5916 5918 5920 5922 5924 5926 5928 5930 5932 5934 5936 5938 5940 5942 5944 5946 5948 5950 5952 5954 5956 5958 5960 5962 5964 5966 5968 5970 5972 5974 5976 5978 5980 5982 5984 5986 5988 5990 5992 5994 5996 5998 6000 6002 6004 6006 6008 6010 6012 6014 6016 6018 6020 6022 6024 6026 6028 6030 6032 6034 6036 6038 6040 6042 6044 6046 6048 6050 6052 6054 6056 6058 6060 6062 6064 6066 6068 6070 6072 6074 6076 6078 6080 6082 6084 6086 6088 6090 6092 6094 6096 6098 6100 6102 6104 6106 6108 6110 6112 6114 6116 6118 6120 6122 6124 6126 6128 6130 6132 6134 6136 6138 6140 6142 6144 6146 6148 6150 6152 6154 6156 6158 6160 6162 6164 6166 6168 6170 6172 6174 6176 6178 6180 6182 6184 6186 6188 6190 6192 6194 6196 6198 6200 6202 6204 6206 6208 6210 6212 6214 6216 6218 6220 6222 6224 6226 6228 6230 6232 6234 6236 6238 6240 6242 6244 6246 6248 6250 6252 6254 6256 6258 6260 6262 6264 6266 6268 6270 6272 6274 6276 6278 6280 6282 6284 6286 6288 6290 6292 6294 6296 6298 6300 6302 6304 6306 6308 6310 6312 6314 6316 6318 6320 6322 6324 6326 6328 6330 6332 6334 6336 6338 6340 6342 6344 6346 6348 6350 6352 6354 6356 6358 6360 6362 6364 6366 6368 6370 6372 6374 6376 6378 6380 6382 6384 6386 6388 6390 6392 6394 6396 6398 6400 6402 6404 6406 6408 6410 6412 6414 6416 6418 6420 6422 6424 6426 6428 6430 6432 6434 6436 6438 6440 6442 6444 6446 6448 6450 6452 6454 6456 6458 6460 6462 6464 6466 6468 6470 6472 6474 6476 6478 6480 6482 6484 6486 6488 6490 6492 6494 6496 6498 6500 6502 6504 6506 6508 6510 6512 6514 6516 6518 6520 6522 6524 6526 6528 6530 6532 6534 6536 6538 6540 6542 6544 6546 6548 6550 6552 6554 6556 6558 6560 6562 6564 6566 6568 6570 6572 6574 6576 6578 6580 6582 6584 6586 6588 6590 6592 6594 6596 6598 6600 6602 6604 6606 6608 6610 6612 6614 6616 6618 6620 6622 6624 6626 6628 6630 6632 6634 6636 6638 6640 6642 6644 6646 6648 6650 6652 6654 6656 6658 6660 6662 6664 6666 6668 6670 6672 6674 6676 6678 6680 6682 6684 6686 6688 6690 6692 6694 6696 6698 6700 6702 6704 6706 6708 6710 6712 6714 6716 6718 6720 6722 6724 6726 6728 6730 6732 6734 6736 6738 6740 6742 6744 6746 6748 6750 6752 6754 6756 6758 6760 6762 6764 6766 6768 6770 6772 6774 6776 6778 6780 6782 6784 6786 6788 6790 6792 6794 6796 6798 6800 6802 6804 6806 6808 6810 6812 6814 6816 6818 6820 6822 6824 6826 6828 6830 6832 6834 6836 6838 6840 6842 6844 6846 6848 6850 6852 6854 6856 6858 6860 6862 6864 6866 6868 6870 6872 6874 6876 6878 6880 6882 6884 6886 6888 6890 6892 6894 6896 6898 6900 6902 6904 6906 6908 6910 6912 6914 6916 6918 6920 6922 6924 6926 6928 6930 6932 6934 6936 6938 6940 6942 6944 6946 6948 6950 6952 6954 6956 6958 6960 6962 6964 6966 6968 6970 6972 6974 6976 6978 6980 6982 6984 6986 6988 6990 6992 6994 6996 6998 7000 7002 7004 7006 7008 7010 7012 7014 7016 7018 7020 7022 7024 7026 7028 7030 7032 7034 7036 7038 7040 7042 7044 7046 7048 7050 7052 7054 7056 7058 7060 7062 7064 7066 7068 7070 7072 7074 7076 7078 7080 7082 7084 7086 7088 7090 7092 7094 7096 7098 7100 7102 7104 7106 7108 7110 7112 7114 7116 7118 7120 7122 7124 7126 7128 7130 7132 7134 7136 7138 7140 7142 7144 7146 7148 7150 7152 7154 7156 7158 7160 7162 7164 7166 7168 7170 7172 7174 7176 7178 7180 7182 7184 7186 7188 7190 7192 7194 7196 7198 7200 7202 7204 7206 7208 7210 7212 7214 7216 7218 7220 7222 7224 7226 7228 7230 7232 7234 7236 7238 7240 7242 7244 7246 7248 7250 7252 7254 7256 7258 7260 7262 7264 7266 7268 7270 7272 7274 7276 7278 7280 7282 7284 7286 7288 7290 7292 7294 7296 7298 7300 7302 7304 7306 7308 7310 7312 7314 7316 7318 7320 7322 7324 7326 7328 7330 7332 7334 7336 7338 7340 7342 7344 7346 7348 7350 7352 7354 7356 7358 7360 7362 7364 7366 7368 7370 7372 7374 7376 7378 7380 7382 7384 7386 7388 7390 7392 7394 7396 7398 7400 7402 7404 7406 7408 7410 7412 7414 7416 7418 7420 7422 7424 7426 7428 7430 7432 7434 7436 7438 7440 7442 7444 7446 7448 7450 7452 7454 7456 7458 7460 7462 7464 7466 7468 7470 7472 7474 7476 7478 7480 7482 7484 7486 7488 7490 7492 7494 7496 7498 7500 7502 7504 7506 7508 7510 7512 7514 7516 7518 7520 7522 7524 7526 7528 7530 7532 7534 7536 7538 7540 7542 7544 7546 7548 7550 7552 7554 7556 7558 7560 7562 7564 7566 7568 7570 7572 7574 7576 7578 7580 7582 7584 7586 7588 7590 7592 7594 7596 7598 7600 7602 7604 7606 7608 7610 7612 7614 7616 7618 7620 7622 7624 7626 7628 7630 7632 7634 7636 7638 7640 7642 7644 7646 7648 7650 7652 7654 7656 7658 7660 7662 7664 7666 7668 7670 7672 7674 7676 7678 7680 7682 7684 7686 7688 7690 7692 7694 7696 7698 7700 7702 7704 7706 7708 7710 7712 7714 7716 7718 7720 7722 7724 7726 7728 7730 7732 7734 7736 7738 7740 7742 7744 7746 7748 7750 7752 7754 7756 7758 7760 7762 7764 7766 7768 7770 7772 7774 7776 7778 7780 7782 7784 7786 7788 7790 7792 7794 7796 7798 7800 7802 7804 7806 7808 7810 7812 7814 7816 7818 7820 7822 7824 7826 7828 7830 7832 7834 7836 7838 7840 7842 7844 7846 7848 7850 7852 7854 7856 7858 7860 7862 7864 7866 7868 7870 7872 7874 7876 7878 7880 7882 7884 7886 7888 7890 7892 7894 7896 7898 7900 7902 7904 7906 7908 7910 7912 7914 7916 7918 7920 7922 7924 7926 7928 7930 7932 7934 7936 7938 7940 7942 7944 7946 7948 7950 7952 7954 7956 7958 7960 7962 7964 7966 7968 7970 7972 7974 7976 7978 7980 7982 7984 7986 7988 7990 7992 7994 7996 7998 8000 8002 8004 8006 8008 8010 8012 8014 8016 8018 8020 8022 8024 8026 8028 8030 8032 8034 8036 8038 8040 8042 8044 8046 8048 8050 8052 8054 8056 8058 8060 8062 8064 8066 8068 8070 8072 8074 8076 8078 8080 8082 8084 8086 8088 8090 8092 8094 8096 8098 8100 8102 8104 8106 8108 8110 8112 8114 8116 8118 8120 8122 8124 8126 8128 8130 8132 8134 8136 8138 8140 8142 8144 8146 8148 8150 8152 8154 8156 8158 8160 8162 8164 8166 8168 8170 8172 8174 8176 8178 8180 8182 8184 8186 8188 8190 8192 8194 8196 8198 8200 8202 8204 8206 8208 8210 8212 8214 8216 8218 8220 8222 8224 8226 8228 8230 8232 8234 8236 8238 8240 8242 8244 8246 8248 8250 8252 8254 8256 8258 8260 8262 8264 8266 8268 8270 8272 8274 8276 8278 8280 8282 8284 8286 8288 8290 8292 8294 8296 8298 8300 8302 8304 8306 8308 8310 8312 8314 8316 8318 8320 8322 8324 8326 8328 8330 8332 8334 8336 8338 8340 8342 8344 8346 8348 8350 8352 8354 8356 8358 8360 8362 8364 8366 8368 8370 8372 8374 8376 8378 8380 8382 8384 8386 8388 8390 8392 8394 8396 8398 8400 8402 8404 8406 8408 8410 8412 8414 8416 8418 8420 8422 8424 8426 8428 8430 8432 8434 8436 8438 8440 8442 8444 8446 8448 8450 8452 8454 8456 8458 8460 8462 8464 8466 8468 8470 8472 8474 8476 8478 8480 8482 8484 8486 8488 8490 8492 8494 8496 8498 8500 8502 8504 8506 8508 8510 8512 8514 8516 8518 8520 8522 8524 8526 8528 8530 8532 8534 8536 8538 8540 8542 8544 8546 8548 8550 8552 8554 8556 8558 8560 8562 8564 8566 8568 8570 8572 8574 8576 8578 8580 8582 8584 8586 8588 8590 8592 8594 8596 8598 8600 8602 8604 8606 8608 8610 8612 8614 8616 8618 8620 8622 8624 8626 8628 8630 8632 8634 8636 8638 8640 8642 8644 8646 8648 8650 8652 8654 8656 8658 8660 8662 8664 8666 8668 8670 8672 8674 8676 8678 8680 8682 8684 8686 8688 8690 8692 8694 8696 8698 8700 8702 8704 8706 8708 8710 8712 8714 8716 8718 8720 8722 8724 8726 8728 8730 8732 8734 8736 8738 8740 8742 8744 8746 8748 8750 8752 8754 8756 8758 8760 8762 8764 8766 8768 8770 8772 8774 8776 8778 8780 8782 8784 8786 8788 8790 8792 8794 8796 8798 8800 8802 8804 8806 8808 8810 8812 8814 8816 8818 8820 8822 8824 8826 8828 8830 8832 8834 8836 8838 8840 8842 8844 8846 8848 8850 8852 8854 8856 8858 8860 8862 8864 8866 8868 8870 8872 8874 8876 8878 8880 8882 8884 8886 8888 8890 8892 8894 8896 8898 8900 8902 8904 8906 8908 8910 8912 8914 8916 8918 8920 8922 8924 8926 8928 8930 8932 8934 8936 8938 8940 8942 8944 8946 8948 8950 8952 8954 8956 8958 8960 8962 8964 8966 8968 8970 8972 8974 8976 8978 8980 8982 8984 8986 8988 8990 8992 8994 8996 8998 9000 9002 9004 9006 9008 9010 9012 9014 9016 9018 9020 9022 9024 9026 9028 9030 9032 9034 9036 9038 9040 9042 9044 9046 9048 9050 9052 9054 9056 9058 9060 9062 9064 9066 9068 9070 9072 9074 9076 9078 9080 9082 9084 9086 9088 9090 9092 9094 9096 9098 9100 9102 9104 9106 9108 9110 9112 9114 9116 9118 9120 9122 9124 9126 9128 9130 9132 9134 9136 9138 9140 9142 9144 9146 9148 9150 9152 9154 9156 9158 9160 9162 9164 9166 9168 9170 9172 9174 9176 9178 9180 9182 9184 9186 9188 9190 9192 9194 9196 9198 9200 9202 9204 9206 9208 9210 9212 9214 9216 9218 9220 9222 9224 9226 9228 9230 9232 9234 9236 9238 9240 9242 9244 9246 9248 9250 9252 9254 9256 9258 9260 9262 9264 9266 9268 9270 9272 9274 9276 9278 9280 9282 9284 9286 9288 9290 9292 9294 9296 9298 9300 9302 9304 9306 9308 9310 9312 9314 9316 9318 9320 9322 9324 9326 9328 9330 9332 9334 9336 9338 9340 9342 9344 9346 9348 9350 9352 9354 9356 9358 9360 9362 9364 9366 9368 9370 9372 9374 9376 9378 9380 9382 9384 9386 9388 9390 9392 9394 9396 9398 9400 9402 9404 9406 9408 9410 9412 9414 9416 9418 9420 9422 9424 9426 9428 9430 9432 9434 9436 9438 9440 9442 9444 9446 9448 9450 9452 9454 9456 9458 9460 9462 9464 9466 9468 9470 9472 9474 9476 9478 9480 9482 9484 9486 9488 9490 9492 9494 9496 9498 9500 9502 9504 9506 9508 9510 9512 9514 9516 9518 9520 9522 9524 9526 9528 9530 9532 9534 9536 9538 9540 9542 9544 9546 9548 9550 9552 9554 9556 9558 9560 9562 9564 9566 9568 9570 9572 9574 9576 9578 9580 9582 9584 9586 9588 9590 9592 9594 9596 9598 9600 9602 9604 9606 9608 9610 9612 9614 9616 9618 9620 9622 9624 9626 9628 9630 9632 9634 9636 9638 9640 9642 9644 9646 9648 9650 9652 9654 9656 9658 9660 9662 9664 9666 9668 9670 9672 9674 9676 9678 9680 9682 9684 9686 9688 9690 9692 9694 9696 9698 9700 9702 9704 9706 9708 9710 9712 9714 9716 9718 9720 9722 9724 9726 9728 9730 9732 9734 9736 9738 9740 9742 9744 9746 9748 9750 9752 9754 9756 9758 9760 9762 9764 9766 9768 9770 9772 9774 9776 9778 9780 9782 9784 9786 9788 9790 9792 9794 9796 9798 9800 9802 9804 9806 9808 9810 9812 9814 9816 9818 9820 9822 9824 9826 9828 9830 9832 9834 9836 9838 9840 9842 9844 9846 9848 9850 9852 9854 9856 9858 9860 9862 9864 9866 9868 9870 9872 9874 9876 9878 9880 9882 9884 9886 9888 9890 9892 9894 9896 9898 9900 9902 9904 9906 9908 9910 9912 9914 9916 9918 9920 9922 9924 9926 9928 9930 9932 9934 9936 9938 9940 9942 9944 9946 9948 9950 9952 9954 9956 9958 9960 9962 9964 9966 9968 9970 9972 9974 9976 9978 9980 9982 9984 9986 9988 9990 9992 9994 9996 9998 10000 10002 10004 10006 10008 10010 10012 10014 10016 10018 10020 10022 10024 10026 10028 10030 10032 10034 10036 10038 10040 10042 10044 10046 10048 10050 10052 10054 10056 10058 10060 10062 10064 10066 10068 10070 10072 10074 10076 10078 10080 10082 10084 10086 10088 10090 10092 10094 10096 10098 10100 10102 10104 10106 10108 10110 10112 10114 10116 10118 10120 10122 10124 10126 10128 10130 10132 10134 10136 10138 10140 10142 10144 10146 10148 10150 10152 10154 10156 10158 10160 10162 10164 10166 10168 10170 10172 10174 10176 10178 10180 10182 10184 10186 10188 10190 10192 10194 10196 10198 10200 10202 10204 10206 10208 10210 10212 10214 10216 10218 10220 10222 10224 10226 10228 10230 10232 10234 10236 10238 10240 10242 10244 10246 10248 10250 10252 10254 10256 10258 10260 10262 10264 10266 10268 10270 10272 10274 10276 10278 10280 10282 10284 10286 10288 10290 10292 10294 10296 10298 10300 10302 10304 10306 10308 10310 10312 10314 10316 10318 10320 10322 10324 10326 10328 10330 10332 10334 10336 10338 10340 10342 10344 10346 10348 10350 10352 10354 10356 10358 10360 10362 10364 10366 10368 10370 10372 10374 10376 10378 10380 10382 10384 10386 10388 10390 10392 10394 10396 10398 10400 10402 10404 10406 10408 10410 10412 10414 10416 10418 10420 10422 10424 10426 10428 10430 10432 10434 10436 10438 10440 10442 10444 10446 10448 10450 10452 10454 10456 10458 10460 10462 10464 10466 10468 10470 10472 10474 10476 10478 10480 10482 10484 10486 10488 10490 10492 10494 10496 10498 10500 10502 10504 10506 10508 10510 10512 10514 10516 10518 10520 10522 10524 10526 10528 10530 10532 10534 10536 10538 10540 10542 10544 10546 10548 10550 10552 10554 10556 10558 10560 10562 10564 10566 10568 10570 10572 10574 10576 10578 10580 10582 10584 10586 10588 10590 10592 10594 10596 10598 10600 10602 10604 10606 10608 10610 10612 10614 10616 10618 10620 10622 10624 10626 10628 10630 10632 10634 10636 10638 10640 10642 10644 10646 10648 10650 10652 10654 10656 10658 10660 10662 10664 10666 10668 10670 10672 10674 10676 10678 10680 10682 10684 10686 10688 10690 10692 10694 10696 10698 10700 10702 10704 10706 10708 10710 10712 10714 10716 10718 10720 10722 10724 10726 10728 10730 10732 10734 10736 10738 10740 10742 10744 10746 10748 10750 10752 10754 10756 10758 10760 10762 10764 10766 10768 10770 10772 10774 10776 10778 10780 10782 10784 10786 10788 10790 10792 10794 10796 10798 10800 10802 10804 10806 10808 10810 10812 10814 10816 10818 10820 10822 10824 10826 10828 10830 10832 10834 10836 10838 10840 10842 10844 10846 10848 10850 10852 10854 10856 10858 10860 10862 10864 10866 10868 10870 10872 10874 10876 10878 10880 10882 10884 10886 10888 10890 10892 10894 10896 10898 10900 10902 10904 10906 10908 10910 10912 10914 10916 10918 10920 10922 10924 10926 10928 10930 10932 10934 10936 10938 10940 10942 10944 10946 10948 10950 10952 10954 10956 10958 10960 10962 10964 10966 10968 10970 10972 10974 10976 10978 10980 10982 10984 10986 10988 10990 10992 10994 10996 10998 11000 11002 11004 11006 11008 11010 11012 11014 11016 11018 11020 11022 11024 11026 11028 11030 11032 11034 11036 11038 11040 11042 11044 11046 11048 11050 11052 11054 11056 11058 11060 11062 11064 11066 11068 11070 11072 11074 11076 11078 11080 11082 11084 11086 11088 11090 11092 11094 11096 11098 11100 11102 11104 11106 11108 11110 11112 11114 11116 11118 11120 11122 11124 11126 11128 11130 11132 11134 11136 11138 11140 11142 11144 11146 11148 11150 11152 11154 11156 11158 11160 11162 11164 11166 11168 11170 11172 11174 11176 11178 11180 11182 11184 11186 11188 11190 11192 11194 11196 11198 11200 11202 11204 11206 11208 11210 11212 11214 11216 11218 11220 11222 11224 11226 11228 11230 11232 11234 11236 11238 11240 11242 11244 11246 11248 11250 11252 11254 11256 11258 11260 11262 11264 11266 11268 11270 11272 11274 11276 11278 11280 11282 11284 11286 11288 11290 11292 11294 11296 11298 11300 11302 11304 11306 11308 11310 11312 11314 11316 11318 11320 11322 11324 11326 11328 11330 11332 11334 11336 11338 11340 11342 11344 11346 11348 11350 11352 11354 11356 11358 11360 11362 11364 11366 11368 11370 11372 11374 11376 11378 11380 11382 11384 11386 11388 11390 11392 11394 11396 11398 11400 11402 11404 11406 11408 11410 11412 11414 11416 11418 11420 11422 11424 11426 11428 11430 11432 11434 11436 11438 11440 11442 11444 11446 11448 11450 11452 11454 11456 11458 11460 11462 11464 11466 11468 11470 11472 11474 11476 11478 11480 11482 11484 11486 11488 11490 11492 11494 11496 11498 11500 11502 11504 11506 11508 11510 11512 11514 11516 11518 11520 11522 11524 11526 11528 11530 11532 11534 11536 11538 11540 11542 11544 11546 11548 11550 11552 11554 11556 11558 11560 11562 11564 11566 11568 11570 11572 11574 11576 11578 11580 11582 11584 11586 11588 11590 11592 11594 11596 11598 11600 11602 11604 11606 11608 11610 11612 11614 11616 11618 11620 11622 11624 11626 11628 11630 11632 11634 11636 11638 11640 11642 11644 11646 11648 11650 11652 11654 11656 11658 11660 11662 11664 11666 11668 11670 11672 11674 11676 11678 11680 11682 11684 11686 11688 11690 11692 11694 11696 11698 11700 11702 11704 11706 11708 11710 11712 11714 11716 11718 11720 11722 11724 11726 11728 11730 11732 11734 11736 11738 11740 11742 11744 11746 11748 11750 11752 11754 11756 11758 11760 11762 11764 11766 11768 11770 11772 11774 11776 11778 11780 11782 11784 11786 11788 11790 11792 11794 11796 11798 11800 11802 11804 11806 11808 11810 11812 11814 11816 11818 11820 11822 11824 11826 11828 11830 11832 11834 11836 11838 11840 11842 11844 11846 11848 11850 11852 11854 11856 11858 11860 11862 11864 11866 11868 11870 11872 11874 11876 11878 11880 11882 11884 11886 11888 11890 11892 11894 11896 11898 11900 11902 11904 11906 11908 11910 11912 11914 11916 11918 11920 11922 11924 11926 11928 11930 11932 11934 11936 11938 11940 11942 11944 11946 11948 11950 11952 11954 11956 11958 11960 11962 11964 11966 11968 11970 11972 11974 11976 11978 11980 11982 11984 11986 11988 11990 11992 11994 11996 11998 12000 12002 12004 12006 12008 12010 12012 12014 12016 12018 12020 12022 12024 12026 12028 12030 12032 12034 12036 12038 12040 12042 12044 12046 12048 12050 12052 12054 12056 12058 12060 12062 12064 12066 12068 12070 12072 12074 12076 12078 12080 12082 12084 12086 12088 12090 12092 12094 12096 12098 12100 12102 12104 12106 12108 12110 12112 12114 12116 12118 12120 12122 12124 12126 12128 12130 12132 12134 12136 12138 12140 12142 12144 12146 12148 12150 12152 12154 12156 12158 12160 12162 12164 12166 12168 12170 12172 12174 12176 12178 12180 12182 12184 12186 12188 12190 12192 12194 12196 12198 12200 12202 12204 12206 12208 12210 12212 12214 12216 12218 12220 12222 12224 12226 12228 12230 12232 12234 12236 12238 12240 12242 12244 12246 12248 12250 12252 12254 12256 12258 12260 12262 12264 12266 12268 12270 12272 12274 12276 12278 12280 12282 12284 12286 12288 12290 12292 12294 12296 12298 12300 12302 12304 12306 12308 12310 12312 12314 12316 12318 12320 12322 12324 12326 12328 12330 12332 12334 12336 12338 12340 12342 12344 12346 12348 12350 12352 12354 12356 12358 12360 12362 12364 12366 12368 12370 12372 12374 12376 12378 12380 12382 12384 12386 12388 12390 12392 12394 12396 12398 12400 12402 12404 12406 12408 12410 12412 12414 12416 12418 12420 12422 12424 12426 12428 12430 12432 12434 12436 12438 12440 12442 12444 12446 12448 12450 12452 12454 12456 12458 12460 12462 12464 12466 12468 12470 12472 12474 12476 12478 12480 12482 12484 12486 12488 12490 12492 12494 12496 12498 12500 12502 12504 12506 12508 12510 12512 12514 12516 12518 12520 12522 12524 12526 12528 12530 12532 12534 12536 12538 12540 12542 12544 12546 12548 12550 12552 12554 12556 12558 12560 12562 12564 12566 12568 12570 12572 12574 12576 12578 12580 12582 12584 12586 12588 12590 12592 12594 12596 12598 12600 12602 12604 12606 12608 12610 12612 12614 12616 12618 12620 12622 12624 12626 12628 12630 12632 12634 12636 12638 12640 12642 12644 12646 12648 12650 12652 12654 12656 12658 12660 12662 12664 12666 12668 12670 12672 12674 12676 12678 12680 12682 12684 12686 12688 12690 12692 12694 12696 12698 12700 12702 12704 12706 12708 12710 12712 12714 12716 12718 12720 12722 12724 12726 12728 12730 12732 12734 12736 12738 12740 12742 12744 12746 12748 12750 12752 12754 12756 12758 12760 12762 12764 12766 12768 12770 12772 12774 12776 12778 12780 12782 12784 12786 12788 12790 12792 12794 12796 12798 12800 12802 12804 12806 12808 12810 12812 12814 12816 12818 12820 12822 12824 12826 12828 12830 12832 12834 12836 12838 12840 12842 12844 12846 12848 12850 12852 12854 12856 12858 12860 12862 12864 12866 12868 12870 12872 12874 12876 12878 12880 12882 12884 12886 12888 12890 12892 12894 12896 12898 12900 12902 12904 12906 12908 12910 12912 12914 12916 12918 12920 12922 12924 12926 12928 12930 12932 12934 12936 12938 12940 12942 12944 12946 12948 12950 12952 12954 12956 12958 12960 12962 12964 12966 12968 12970 12972 12974 12976 12978 12980 12982 12984 12986 12988 12990 12992 12994 12996 12998 13000 13002 13004 13006 13008 13010 13012 13014 13016 13018 13020 13022 13024 13026 13028 13030 13032 13034 13036 13038 13040 13042 13044 13046 13048 13050 13052 13054 13056 13058 13060 13062 13064 13066 13068 13070 13072 13074 13076 13078 13080 13082 13084 13086 13088 13090 13092 13094 13096 13098 13100 13102 13104 13106 13108 13110 13112 13114 13116 13118 13120 13122 13124 13126 13128 13130 13132 13134 13136 13138 13140 13142 13144 13146 13148 13150 13152 13154 13156 13158 13160 13162 13164 13166 13168 13170 13172 13174 13176 13178 13180 13182 13184 13186 13188 13190 13192 13194 13196 13198 13200 13202 13204 13206 13208 13210 13212 13214 13216 13218 13220 13222 13224 13226 13228 13230 13232 13234 13236 13238 13240 13242 13244 13246 13248 13250 13252 13254 13256 13258 13260 13262 13264 13266 13268 13270 13272 13274 13276 13278 13280 13282 13284 13286 13288 13290 13292 13294 13296 13298 13300 13302 13304 13306 13308 13310 13312 13314 13316 13318 13320 13322 13324 13326 13328 13330 13332 13334 13336 13338 13340 13342 13344 13346 13348 13350 13352 13354 13356 13358 13360 13362 13364 13366 13368 13370 13372 13374 13376 13378 13380 13382 13384 13386 13388 13390 13392 13394 13396 13398 13400 13402 13404 13406 13408 13410 13412 13414 13416 13418 13420 13422 13424 13426 13428 13430 13432 13434 13436 13438 13440 13442 13444 13446 13448 13450 13452 13454 13456 13458 13460 13462 13464 13466 13468 13470 13472 13474 13476 13478 13480 13482 13484 13486 13488 13490 13492 13494 13496 13498 13500 13502 13504 13506 13508 13510 13512 13514 13516 13518 13520 13522 13524 13526 13528 13530 13532 13534 13536 13538 13540 13542 13544 13546 13548 13550 13552 13554 13556 13558 13560 13562 13564 13566 13568 13570 13572 13574 13576 13578 13580 13582 13584 13586 13588 13590 13592 13594 13596 13598 13600 13602 13604 13606 13608 13610 13612 13614 13616 13618 13620 13622 13624 13626 13628 13630 13632 13634 13636 13638 13640 13642 13644 13646 13648 13650 13652 13654 13656 13658 13660 13662 13664 13666 13668 13670 13672 13674 13676 13678 13680 13682 13684 13686 13688 13690 13692 13694 13696 13698 13700 13702 13704 13706 13708 13710 13712 13714 13716 13718 13720 13722 13724 13726 13728 13730 13732 13734 13736 13738 13740 13742 13744 13746 13748 13750 13752 13754 13756 13758 13760 13762 13764 13766 13768 13770 13772 13774 13776 13778 13780 13782 13784 13786 13788 13790 13792 13794 13796 13798 13800 13802 13804 13806 13808 13810 13812 13814 13816 13818 13820 13822 13824 13826 13828 13830 13832 13834 13836 13838 13840 13842 13844 13846 13848 13850 13852 13854 13856 13858 13860 13862 13864 13866 13868 13870 13872 13874 13876 13878 13880 13882 13884 13886 13888 13890 13892 13894 13896 13898 13900 13902 13904 13906 13908 13910 13912 13914 13916 13918 13920 13922 13924 13926 13928 13930 13932 13934 13936 13938 13940 13942 13944 13946 13948 13950 13952 13954 13956 13958 13960 13962 13964 13966 13968 13970 13972 13974 13976 13978 13980 13982 13984 13986 13988 13990 13992 13994 13996 13998 14000 14002 14004 14006 14008 14010 14012 14014 14016 14018 14020 14022 14024 14026 14028 14030 14032 14034 14036 14038 14040 14042 14044 14046 14048 14050 14052 14054 14056 14058 14060 14062 14064 14066 14068 14070 14072 14074 14076 14078 14080 14082 14084 14086 14088 14090 14092 14094 14096 14098 14100 14102 14104 14106 14108 14110 14112 14114 14116 14118 14120 14122 14124 14126 14128 14130 14132 14134 14136 14138 14140 14142 14144 14146 14148 14150 14152 14154 14156 14158 14160 14162 14164 14166 14168 14170 14172 14174 14176 14178 14180 14182 14184 14186 14188 14190 14192 14194 14196 14198 14200 14202 14204 14206 14208 14210 14212 14214 14216 14218 14220 14222 14224 14226 14228 14230 14232 14234 14236 14238 14240 14242 14244 14246 14248 14250 14252 14254 14256 14258 14260 14262 14264 14266 14268 14270 14272 14274 14276 14278 14280 14282 14284 14286 14288 14290 14292 14294 14296 14298 14300 14302 14304 14306 14308 14310 14312 14314 14316 14318 14320 14322 14324 14326 14328 14330 14332 14334 14336 14338 14340 14342 14344 14346 14348 14350 14352 14354 14356 14358 14360 14362 14364 14366 14368 14370 14372 14374 14376 14378 14380 14382 14384 14386 14388 14390 14392 14394 14396 14398 14400 14402 14404 14406 14408 14410 14412 14414 14416 14418 14420 14422 14424 14426 14428 14430 14432 14434 14436 14438 14440 14442 14444 14446 14448 14450 14452 14454 14456 14458 14460 14462 14464 14466 14468 14470 14472 14474 14476 14478 14480 14482 14484 14486 14488 14490 14492 14494 14496 14498 14500 14502 14504 14506 14508 14510 14512 14514 14516 14518 14520 14522 14524 14526 14528 14530 14532 14534 14536 14538 14540 14542 14544 14546 14548 14550 14552 14554 14556 14558 14560 14562 14564 14566 14568 14570 14572 14574 14576 14578 14580 14582 14584 14586 14588 14590 14592 14594 14596 14598 14600 14602 14604 14606 14608 14610 14612 14614 14616 14618 14620 14622 14624 14626 14628 14630 14632 14634 14636 14638 14640 14642 14644 14646 14648 14650 14652 14654 14656 14658 14660 14662 14664 14666 14668 14670 14672 14674 14676 14678 14680 14682 14684 14686 14688 14690 14692 14694 14696 14698 14700 14702 14704 14706 14708 14710 14712 14714 14716 14718 14720 14722 14724 14726 14728 14730 14732 14734 14736 14738 14740 14742 14744 14746 14748 14750 14752 14754 14756 14758 14760 14762 14764 14766 14768 14770 14772 14774 14776 14778 14780 14782 14784 14786 14788 14790 14792 14794 14796 14798 14800 14802 14804 14806 14808 14810 14812 14814 14816 14818 14820 14822 14824 14826 14828 14830 14832 14834 14836 14838 14840 14842 14844 14846 14848 14850 14852 14854 14856 14858 14860 14862 14864 14866 14868 14870 14872 14874 14876 14878 14880 14882 14884 14886 14888 14890 14892 14894 14896 14898 14900 14902 14904 14906 14908 14910 14912 14914 14916 14918 14920 14922 14924 14926 14928 14930 14932 14934 14936 14938 14940 14942 14944 14946 14948 14950 14952 14954 14956 14958 14960 14962 14964 14966 14968 14970 14972 14974 14976 14978 14980 14982 14984 14986 14988 14990 14992 14994 14996 14998 15000 15002 15004 15006 15008 15010 15012 15014 15016 15018 15020 15022 15024 15026 15028 15030 15032 15034 15036 15038 15040 15042 15044 15046 15048 15050 15052 15054 15056 15058 15060 15062 15064 15066 15068 15070 15072 15074 15076 15078 15080 15082 15084 15086 15088 15090 15092 15094 15096 15098 15100 15102 15104 15106 15108 15110 15112 15114 15116 15118 15120 15122 15124 15126 15128 15130 15132 15134 15136 15138 15140 15142 15144 15146 15148 15150 15152 15154 15156 15158 15160 15162 15164 15166 15168 15170 15172 15174 15176 15178 15180 15182 15184 15186 15188 15190 15192 15194 15196 15198 15200 15202 15204 15206 15208 15210 15212 15214 15216 15218 15220 15222 15224 15226 15228 15230 15232 15234 15236 15238 15240 15242 15244 15246 15248 15250 15252 15254 15256 15258 15260 15262 15264 15266 15268 15270 15272 15274 15276 15278 15280 15282 15284 15286 15288 15290 15292 15294 15296 15298 15300 15302 15304 15306 15308 15310 15312 15314 15316 15318 15320 15322 15324 15326 15328 15330 15332 15334 15336 15338 15340 15342 15344 15346 15348 15350 15352 15354 15356 15358 15360 15362 15364 15366 15368 15370 15372 15374 15376 15378 15380 15382 15384 15386 15388 15390 15392 15394 15396 15398 15400 15402 15404 15406 15408 15410 15412 15414 15416 15418 15420 15422 15424 15426 15428 15430 15432 15434 15436 15438 15440 15442 15444 15446 15448 15450 15452 15454 15456 15458 15460 15462 15464 15466 15468 15470 15472 15474 15476 15478 15480 15482 15484 15486 15488 15490 15492 15494 15496 15498 15500 15502 15504 15506 15508 15510 15512 15514 15516 15518 15520 15522 15524 15526 15528 15530 15532 15534 15536 15538 15540 15542 15544 15546 15548 15550 15552 15554 15556 15558 15560 15562 15564 15566 15568 15570 15572 15574 15576 15578 15580 15582 15584 15586 15588 15590 15592 15594 15596 15598 15600 15602 15604 15606 15608 15610 15612 15614 15616 15618 15620 15622 15624 15626 15628 15630 15632 15634 15636 15638 15640 15642 15644 15646 15648 15650 15652 15654 15656 15658 15660 15662 15664 15666 15668 15670 15672 15674 15676 15678 15680 15682 15684 15686 15688 15690 15692 15694 15696 15698 15700 15702 15704 15706 15708 15710 15712 15714 15716 15718 15720 15722 15724 15726 15728 15730 15732 15734 15736 15738 15740 15742 15744 15746 15748 15750 15752 15754 15756 15758 15760 15762 15764 15766 15768 15770 15772 15774 15776 15778 15780 15782 15784 15786 15788 15790 15792 15794 15796 15798 15800 15802 15804 15806 15808 15810 15812 15814 15816 15818 15820 15822 15824 15826 15828 15830 15832 15834 15836 15838 15840 15842 15844 15846 15848 15850 15852 15854 15856 15858 15860 15862 15864 15866 15868 15870 15872 15874 15876 15878 15880 15882 15884 15886 15888 15890 15892 15894 15896 15898 15900 15902 15904 15906 15908 15910 15912 15914 15916 15918 15920 15922 15924 15926 15928 15930 15932 15934 15936 15938 15940 15942 15944 15946 15948 15950 15952 15954 15956 15958 15960 15962 15964 15966 15968 15970 15972 15974 15976 15978 15980 15982 15984 15986 15988 15990 15992 15994 15996 15998 16000 16002 16004 16006 16008 16010 16012 16014 16016 16018 16020 16022 16024 16026 16028 16030 16032 16034 16036 16038 16040 16042 16044 16046 16048 16050 16052 16054 16056 16058 16060 16062 16064 16066 16068 16070 16072 16074 16076 16078 16080 16082 16084 16086 16088 16090 16092 16094 16096 16098 16100 16102 16104 16106 16108 16110 16112 16114 16116 16118 16120 16122 16124 16126 16128 16130 16132 16134 16136 16138 16140 16142 16144 16146 16148 16150 16152 16154 16156 16158 16160 16162 16164 16166 16168 16170 16172 16174 16176 16178 16180 16182 16184 16186 16188 16190 16192 16194 16196 16198 16200 16202 16204 16206 16208 16210 16212 16214 16216 16218 16220 16222 16224 16226 16228 16230 16232 16234 16236 16238 16240 16242 16244 16246 16248 16250 16252 16254 16256 16258 16260 16262 16264 16266 16268 16270 16272 16274 16276 16278 16280 16282 16284 16286 16288 16290 16292 16294 16296 16298 16300 16302 16304 16306 16308 16310 16312 16314 16316 16318 16320 16322 16324 16326 16328 16330 16332 16334 16336 16338 16340 16342 16344 16346 16348 16350 16352 16354 16356 16358 16360 16362 16364 16366 16368 16370 16372 16374 16376 16378 16380 16382 16384 16386 16388 16390 16392 16394 16396 16398 16400 16402 16404 16406 16408 16410 16412 16414 16416 16418 16420 16422 16424 16426 16428 16430 16432 16434 16436 16438 16440 16442 16444 16446 16448 16450 16452 16454 16456 16458 16460 16462 16464 16466 16468 16470 16472 16474 16476 16478 16480 16482 16484 16486 16488 16490 16492 16494 16496 16498 16500 16502 16504 16506 16508 16510 16512 16514 16516 16518 16520 16522 16524 16526 16528 16530 16532 16534 16536 16538 16540 16542 16544 16546 16548 16550 16552 16554 16556 16558 16560 16562 16564 16566 16568 16570 16572 16574 16576 16578 16580 16582 16584 16586 16588 16590 16592 16594 16596 16598 16600 16602 16604 16606 16608 16610 16612 16614 16616 16618 16620 16622 16624 16626 16628 16630 16632 16634 16636 16638 16640 16642 16644 16646 16648 16650 16652 16654 16656 16658 16660 16662 16664 16666 16668 16670 16672 16674 16676 16678 16680 16682 16684 16686 16688 16690 16692 16694 16696 16698 16700 16702 16704 16706 16708 16710 16712 16714 16716 16718 16720 16722 16724 16726 16728 16730 16732 16734 16736 16738 16740 16742 16744 16746 16748 16750 16752 16754 16756 16758 16760 16762 16764 16766 16768 16770 16772 16774 16776 16778 16780 16782 16784 16786 16788 16790 16792 16794 16796 16798 16800 16802 16804 16806 16808 16810 16812 16814 16816 16818 16820 16822 16824 16826 16828 16830 16832 16834 16836 16838 16840 16842 16844 16846 16848 16850 16852 16854 16856 16858 16860 16862 16864 16866 16868 16870 16872 16874 16876 16878 16880 16882 16884 16886 16888 16890 16892 16894 16896 16898 16900 16902 16904 16906 16908 16910 16912 16914 16916 16918 16920 16922 16924 16926 16928 16930 16932 16934 16936 16938 16940 16942 16944 16946 16948 16950 16952 16954 16956 16958 16960 16962 16964 16966 16968 16970 16972 16974 16976 16978 16980 16982 16984 16986 16988 16990 16992 16994 16996 16998 17000 17002 17004 17006 17008 17010 17012 17014 17016 17018 17020 17022 17024 17026 17028 17030 17032 17034 17036 17038 17040 17042 17044 17046 17048 17050 17052 17054 17056 17058 17060 17062 17064 17066 17068 17070 17072 17074 17076 17078 17080 17082 17084 17086 17088 17090 17092 17094 17096 17098 17100 17102 17104 17106 17108 17110 17112 17114 17116 17118 17120 17122 17124 17126 17128 17130 17132 17134 17136 17138 17140 17142 17144 17146 17148 17150 17152 17154 17156 17158 17160 17162 17164 17166 17168 17170 17172 17174 17176 17178 17180 17182 17184 17186 17188 17190 17192 17194 17196 17198 17200 17202 17204 17206 17208 17210 17212 17214 17216 17218 17220 17222 17224 17226 17228 17230 17232 17234 17236 17238 17240 17242 17244 17246 17248 17250 17252 17254 17256 17258 17260 17262 17264 17266 17268 17270 17272 17274 17276 17278 17280 17282 17284 17286 17288 17290 17292 17294 17296 17298 17300 17302 17304 17306 17308 17310 17312 17314 17316 17318 17320 17322 17324 17326 17328 17330 17332 17334 17336 17338 17340 17342 17344 17346 17348 17350 17352 17354 17356 17358 17360 17362 17364 17366 17368 17370 17372 17374 17376 17378 17380 17382 17384 17386 17388 17390 17392 17394 17396 17398 17400 17402 17404 17406 17408 17410 17412 17414 17416 17418 17420 17422 17424 17426 17428 17430 17432 17434 17436 17438 17440 17442 17444 17446 17448 17450 17452 17454 17456 17458 17460 17462 17464 17466 17468 17470 17472 17474 17476 17478 17480 17482 17484 17486 17488 17490 17492 17494 17496 17498 17500 17502 17504 17506 17508 17510 17512 17514 17516 17518 17520 17522 17524 17526 17528 17530 17532 17534 17536 17538 17540 17542 17544 17546 17548 17550 17552 17554 17556 17558 17560 17562 17564 17566 17568 17570 17572 17574 17576 17578 17580 17582 17584 17586 17588 17590 17592 17594 17596 17598 17600 17602 17604 17606 17608 17610 17612 17614 17616 17618 17620 17622 17624 17626 17628 17630 17632 17634 17636 17638 17640 17642 17644 17646 17648 17650 17652 17654 17656 17658 17660 17662 17664 17666 17668 17670 17672 17674 17676 17678 17680 17682 17684 17686 17688 17690 17692 17694 17696 17698 17700 17702 17704 17706 17708 17710 17712 17714 17716 17718 17720 17722 17724 17726 17728 17730 17732 17734 17736 17738 17740 17742 17744 17746 17748 17750 17752 17754 17756 17758 17760 17762 17764 17766 17768 17770 17772 17774 17776 17778 17780 17782 17784 17786 17788 17790 17792 17794 17796 17798 17800 17802 17804 17806 17808 17810 17812 17814 17816 17818 17820 17822 17824 17826 17828 17830 17832 17834 17836 17838 17840 17842 17844 17846 17848 17850 17852 17854 17856 17858 17860 17862 17864 17866 17868 17870 17872 17874 17876 17878 17880 17882 17884 17886 17888 17890 17892 17894 17896 17898 17900 17902 17904 17906 17908 17910 17912 17914 17916 17918 17920 17922 17924 17926 17928 17930 17932 17934 17936 17938 17940 17942 17944 17946 17948 17950 17952 17954 17956 17958 17960 17962 17964 17966 17968 17970 17972 17974 17976 17978 17980 17982 17984 17986 17988 17990 17992 17994 17996 17998 18000 18002 18004 18006 18008 18010 18012 18014 18016 18018 18020 18022 18024 18026 18028 18030 18032 18034 18036 18038 18040 18042 18044 18046 18048 18050 18052 18054 18056 18058 18060 18062 18064 18066 18068 18070 18072 18074 18076 18078 18080 18082 18084 18086 18088 18090 18092 18094 18096 18098 18100 18102 18104 18106 18108 18110 18112 18114 18116 18118 18120 18122 18124 18126 18128 18130 18132 18134 18136 18138 18140 18142 18144 18146 18148 18150 18152 18154 18156 18158 18160 18162 18164 18166 18168 18170 18172 18174 18176 18178 18180 18182 18184 18186 18188 18190 18192 18194 18196 18198 18200 18202 18204 18206 18208 18210 18212 18214 18216 18218 18220 18222 18224 18226 18228 18230 18232 18234 18236 18238 18240 18242 18244 18246 18248 18250 18252 18254 18256 18258 18260 18262 18264 18266 18268 18270 18272 18274 18276 18278 18280 18282 18284 18286 18288 18290 18292 18294 18296 18298 18300 18302 18304 18306 18308 18310 18312 18314 18316 18318 18320 18322 18324 18326 18328 18330 18332 18334 18336 18338 18340 18342 18344 18346 18348 18350 18352 18354 18356 18358 18360 18362 18364 18366 18368 18370 18372 18374 18376 18378 18380 18382 18384 18386 18388 18390 18392 18394 18396 18398 18400 18402 18404 18406 18408 18410 18412 18414 18416 18418 18420 18422 18424 18426 18428 18430 18432 18434 18436 18438 18440 18442 18444 18446 18448 18450 18452 18454 18456 18458 18460 18462 18464 18466 18468 18470 18472 18474 18476 18478 18480 18482 18484 18486 18488 18490 18492 18494 18496 18498 18500 18502 18504 18506 18508 18510 18512 18514 18516 18518 18520 18522 18524 18526 18528 18530 18532 18534 18536 18538 18540 18542 18544 18546 18548 18550 18552 18554 18556 18558 18560 18562 18564 18566 18568 18570 18572 18574 18576 18578 18580 18582 18584 18586 18588 18590 18592 18594 18596 18598 18600 18602 18604 18606 18608 18610 18612 18614 18616 18618 18620 18622 18624 18626 18628 18630 18632 18634 18636 18638 18640 18642 18644 18646 18648 18650 18652 18654 18656 18658 18660 18662 18664 18666 18668 18670 18672 18674 18676 18678 18680 18682 18684 18686 18688 18690 18692 18694 18696 18698 18700 18702 18704 18706 18708 18710 18712 18714 18716 18718 18720 18722 18724 18726 18728 18730 18732 18734 18736 18738 18740 18742 18744 18746 18748 18750 18752 18754 18756 18758 18760 18762 18764 18766 18768 18770 18772 18774 18776 18778 18780 18782 18784 18786 18788 18790 18792 18794 18796 18798 18800 18802 18804 18806 18808 18810 18812 18814 18816 18818 18820 18822 18824 18826 18828 18830 18832 18834 18836 18838 18840 18842 18844 18846 18848 18850 18852 18854 18856 18858 18860 18862 18864 18866 18868 18870 18872 18874 18876 18878 18880 18882 18884 18886 18888 18890 18892 18894 18896 18898 18900 18902 18904 18906 18908 18910 18912 18914 18916 18918 18920 18922 18924 18926 18928 18930 18932 18934 18936 18938 18940 18942 18944 18946 18948 18950 18952 18954 18956 18958 18960 18962 18964 18966 18968 18970 18972 18974 18976 18978 18980 18982 18984 18986 18988 18990 18992 18994 18996 18998 19000 19002 19004 19006 19008 19010 19012 19014 19016 19018 19020 19022 19024 19026 19028 19030 19032 19034 19036 19038 19040 19042 19044 19046 19048 19050 19052 19054 19056 19058 19060 19062 19064 19066 19068 19070 19072 19074 19076 19078 19080 19082 19084 19086 19088 19090 19092 19094 19096 19098 19100 19102 19104 19106 19108 19110 19112 19114 19116 19118 19120 19122 19124 19126 19128 19130 19132 19134 19136 19138 19140 19142 19144 19146 19148 19150 19152 19154 19156 19158 19160 19162 19164 19166 19168 19170 19172 19174 19176 19178 19180 19182 19184 19186 19188 19190 19192 19194 19196 19198 19200 19202 19204 19206 19208 19210 19212 19214 19216 19218 19220 19222 19224 19226 19228 19230 19232 19234 19236 19238 19240 19242 19244 19246 19248 19250 19252 19254 19256 19258 19260 19262 19264 19266 19268 19270 19272 19274 19276 19278 19280 19282 19284 19286 19288 19290 19292 19294 19296 19298 19300 19302 19304 19306 19308 19310 19312 19314 19316 19318 19320 19322 19324 19326 19328 19330 19332 19334 19336 19338 19340 19342 19344 19346 19348 19350 19352 19354 19356 19358 19360 19362 19364 19366 19368 19370 19372 19374 19376 19378 19380 19382 19384 19386 19388 19390 19392 19394 19396 19398 19400 19402 19404 19406 19408 19410 19412 19414 19416 19418 19420 19422 19424 19426 19428 19430 19432 19434 19436 19438 19440 19442 19444 19446 19448 19450 19452 19454 19456 19458 19460 19462 19464 19466 19468 19470 19472 19474 19476 19478 19480 19482 19484 19486 19488 19490 19492 19494 19496 19498 19500 19502 19504 19506 19508 19510 19512 19514 19516 19518 19520 19522 19524 19526 19528 19530 19532 19534 19536 19538 19540 19542 19544 19546 19548 19550 19552 19554 19556 19558 19560 19562 19564 19566 19568 19570 19572 19574 19576 19578 19580 19582 19584 19586 19588 19590 19592 19594 19596 19598 19600 19602 19604 19606 19608 19610 19612 19614 19616 19618 19620 19622 19624 19626 19628 19630 19632 19634 19636 19638 19640 19642 19644 19646 19648 19650 19652 19654 19656 19658 19660 19662 19664 19666 19668 19670 19672 19674 19676 19678 19680 19682 19684 19686 19688 19690 19692 19694 19696 19698 19700 19702 19704 19706 19708 19710 19712 19714 19716 19718 19720 19722 19724 19726 19728 19730 19732 19734 19736 19738 19740 19742 19744 19746 19748 19750 19752 19754 19756 19758 19760 19762 19764 19766 19768 19770 19772 19774 19776 19778 19780 19782 19784 19786 19788 19790 19792 19794 19796 19798 19800 19802 19804 19806 19808 19810 19812 19814 19816 19818 19820 19822 19824 19826 19828 19830 19832 19834 19836 19838 19840 19842 19844 19846 19848 19850 19852 19854 19856 19858 19860 19862 19864 19866 19868 19870 19872 19874 19876 19878 19880 19882 19884 19886 19888 19890 19892 19894 19896 19898 19900 19902 19904 19906 19908 19910 19912 19914 19916 19918 19920 19922 19924 19926 19928 19930 19932 19934 19936 19938 19940 19942 19944 19946 19948 19950 19952 19954 19956 19958 19960 19962 19964 19966 19968 19970 19972 19974 19976 19978 19980 19982 19984 19986 19988 19990 19992 19994 19996 19998 \n",
            "Tempo de execução: 0.199663 s\n"
          ]
        }
      ]
    },
    {
      "cell_type": "markdown",
      "source": [
        "## **AULA 12 - Efeitos colaterais II**\n",
        "\n",
        "Na aula de hoje iremos trabalhar com um algoritmo de sorteios aleatórios para calcular o pi. Ele é baseado em uma técnica de Otimização, Simulação e Estimação Paramétrica chamada Monte Carlo.\n",
        "\n",
        "O algoritmo sequencial se baseia em sorteios de pontos dentro de um quadrado de lado 2. Se a distância entre o ponto e o centro do quadrado for menor que 1 então o ponto cai dentro do círculo inscrito no quadrado. A quantidade de pontos que caem dentro do quadrado é proporcional a π\n",
        ". Veja abaixo um resumo do algoritmo.\n",
        "\n",
        "```\n",
        "sum = 0\n",
        "De i=0 até N:\n",
        "  a.sorteie pontos x,y ∈[0,1]\n",
        "  b.se x**2+y**2≤1, sum += 1\n",
        "devolva 4 * sum / N\n",
        "```\n",
        "\n",
        "Gerar números aleatórios é um processo sequencial, vamos considerar o quanto isso atrapalha nosso programa. Nas próximas questões leve em conta que o gerador de números aleatórios é uma variável compartilhada.\n"
      ],
      "metadata": {
        "id": "_nuH9BT8y8sy"
      }
    },
    {
      "cell_type": "code",
      "source": [
        "%%writefile monte-carlo.cpp\n",
        "#include <iostream>\n",
        "#include <stdlib.h>\n",
        "#include <omp.h>\n",
        "#include <chrono>\n",
        "#include <random>\n",
        "using namespace std;\n",
        "\n",
        "\n",
        "int main(){\n",
        "    auto t_start = std::chrono::high_resolution_clock::now();\n",
        "    double sum = 0;\n",
        "    int N = 100000;\n",
        "\n",
        "    // faça um gerador de numeros aleatorios que vai de 0 a 1\n",
        "\n",
        "\n",
        "    std::default_random_engine generator(42);\n",
        "    std::uniform_real_distribution<double> distribution(0.0, 1.0);\n",
        "\n",
        "\n",
        "    #pragma omp parallel for num_threads(4) reduction(+ : sum)\n",
        "    for (int i = 0; i < N; i++){\n",
        "        double x = (double) distribution(generator);\n",
        "        double y = (double) distribution(generator);\n",
        "        if (x*x + y*y <= 1){\n",
        "            sum += 1;\n",
        "        }\n",
        "    }\n",
        "    cout << 4 * sum / N << endl;\n",
        "\n",
        "    auto t_end = std::chrono::high_resolution_clock::now();\n",
        "\n",
        "    double elapsed_time_ms = std::chrono::duration<double, std::milli>(t_end-t_start).count();\n",
        "    double elapsed_time_s = elapsed_time_ms/1000;\n",
        "    std::cout << \"Tempo de execução: \" << elapsed_time_s << \" s\" << std::endl;\n",
        "\n",
        "    return 4 * sum / N;\n",
        "}"
      ],
      "metadata": {
        "colab": {
          "base_uri": "https://localhost:8080/"
        },
        "id": "Lwu90mE_za0O",
        "outputId": "b0a56cd2-e7a3-450e-9f81-e626d3ef5aa1"
      },
      "execution_count": null,
      "outputs": [
        {
          "output_type": "stream",
          "name": "stdout",
          "text": [
            "Writing monte-carlo.cpp\n"
          ]
        }
      ]
    },
    {
      "cell_type": "code",
      "source": [
        "%%writefile monte-carlo-tentativa1.cpp\n",
        "#include <iostream>\n",
        "#include <stdlib.h>\n",
        "#include <omp.h>\n",
        "#include <chrono>\n",
        "#include <random>\n",
        "using namespace std;\n",
        "\n",
        "\n",
        "int main(){\n",
        "    auto t_start = std::chrono::high_resolution_clock::now();\n",
        "    double sum = 0;\n",
        "    int N = 100000;\n",
        "\n",
        "    // faça um gerador de numeros aleatorios que vai de 0 a 1\n",
        "\n",
        "\n",
        "    #pragma omp parallel for num_threads(4) reduction(+ : sum)\n",
        "    for (int i = 0; i < N; i++){\n",
        "        std::default_random_engine generator(i);\n",
        "        std::uniform_real_distribution<double> distribution(0.0, 1.0);\n",
        "\n",
        "        double x = (double) distribution(generator);\n",
        "        double y = (double) distribution(generator);\n",
        "        if (x*x + y*y <= 1){\n",
        "            sum += 1;\n",
        "        }\n",
        "    }\n",
        "    cout << 4 * sum / N << endl;\n",
        "\n",
        "    auto t_end = std::chrono::high_resolution_clock::now();\n",
        "\n",
        "    double elapsed_time_ms = std::chrono::duration<double, std::milli>(t_end-t_start).count();\n",
        "    double elapsed_time_s = elapsed_time_ms/1000;\n",
        "    std::cout << \"Tempo de execução: \" << elapsed_time_s << \" s\" << std::endl;\n",
        "\n",
        "    return 4 * sum / N;\n",
        "}"
      ],
      "metadata": {
        "colab": {
          "base_uri": "https://localhost:8080/"
        },
        "id": "CFJB8jeQz-L6",
        "outputId": "3885f0d3-c18c-4360-fabe-dab2b3b56f1e"
      },
      "execution_count": null,
      "outputs": [
        {
          "output_type": "stream",
          "name": "stdout",
          "text": [
            "Writing monte-carlo-tentativa1.cpp\n"
          ]
        }
      ]
    },
    {
      "cell_type": "code",
      "source": [
        "!g++ -Wall -fopenmp monte-carlo-tentativa1.cpp -o monte-carlo-tentativa1"
      ],
      "metadata": {
        "id": "plkXcUsw0Mv5"
      },
      "execution_count": null,
      "outputs": []
    },
    {
      "cell_type": "code",
      "source": [
        "!./monte-carlo-tentativa1"
      ],
      "metadata": {
        "colab": {
          "base_uri": "https://localhost:8080/"
        },
        "id": "yh1C5lq20Rft",
        "outputId": "31ecf058-03a1-4f99-8856-a3961cfba11f"
      },
      "execution_count": null,
      "outputs": [
        {
          "output_type": "stream",
          "name": "stdout",
          "text": [
            "3.14104\n",
            "Tempo de execução: 0.0218027 s\n"
          ]
        }
      ]
    },
    {
      "cell_type": "code",
      "source": [
        "%%writefile monte-carlo-tentativa2.cpp\n",
        "#include <iostream>\n",
        "#include <stdlib.h>\n",
        "#include <omp.h>\n",
        "#include <chrono>\n",
        "#include <random>\n",
        "#include <iomanip>\n",
        "\n",
        "using namespace std;\n",
        "\n",
        "\n",
        "int main(){\n",
        "    auto t_start = std::chrono::high_resolution_clock::now();\n",
        "    double pi_estimate = 0.0;\n",
        "    long int N = 100000;\n",
        "\n",
        "    // faça um gerador de numeros aleatorios que vai de 0 a 1\n",
        "\n",
        "\n",
        "    #pragma omp parallel for num_threads(4) reduction(+ : pi_estimate) \n",
        "    for (int i = 0; i < N; i++){\n",
        "        int num_threads = omp_get_num_threads();\n",
        "        int tid = omp_get_thread_num();\n",
        "\n",
        "        std::default_random_engine generator(tid*rand());\n",
        "        std::normal_distribution<double> distribution(0.0, 0.5);        \n",
        "\n",
        "        double x = (double) distribution(generator);\n",
        "        double y = (double) distribution(generator);\n",
        "\n",
        "        // cout << \"x: \" << x << \" y: \" << y << endl;\n",
        "\n",
        "        if (x*x + y*y <= 1){\n",
        "            pi_estimate += 1.0;\n",
        "        }\n",
        "    }\n",
        "    \n",
        "\n",
        "    cout << pi_estimate << endl;\n",
        "\n",
        "    cout << \"PI \" << std::setprecision(6.4) << 4.0 * pi_estimate / (double) N << endl;\n",
        "\n",
        "\n",
        "    auto t_end = std::chrono::high_resolution_clock::now();\n",
        "\n",
        "    double elapsed_time_ms = std::chrono::duration<double, std::milli>(t_end-t_start).count();\n",
        "    double elapsed_time_s = elapsed_time_ms/1000;\n",
        "    std::cout << \"Tempo de execução mudei: \" << elapsed_time_s << \" s\" << std::endl;\n",
        "\n",
        "    return 0;\n",
        "}"
      ],
      "metadata": {
        "colab": {
          "base_uri": "https://localhost:8080/"
        },
        "id": "mqZYeT8_0Tjh",
        "outputId": "3cf19c49-5994-40b4-82a9-402b86fc491e"
      },
      "execution_count": null,
      "outputs": [
        {
          "output_type": "stream",
          "name": "stdout",
          "text": [
            "Overwriting monte-carlo-tentativa2.cpp\n"
          ]
        }
      ]
    },
    {
      "cell_type": "code",
      "source": [
        "!g++ -Wall -fopenmp monte-carlo-tentativa2.cpp -o monte-carlo-tentativa2"
      ],
      "metadata": {
        "colab": {
          "base_uri": "https://localhost:8080/"
        },
        "id": "nI-v2zCh0ZKe",
        "outputId": "aad16d77-bc82-49bb-c7c1-cf4516c706ef"
      },
      "execution_count": null,
      "outputs": [
        {
          "output_type": "stream",
          "name": "stdout",
          "text": [
            "\u001b[01m\u001b[Kmonte-carlo-tentativa2.cpp:\u001b[m\u001b[K In function ‘\u001b[01m\u001b[Kint main()\u001b[m\u001b[K’:\n",
            "\u001b[01m\u001b[Kmonte-carlo-tentativa2.cpp:21:13:\u001b[m\u001b[K \u001b[01;35m\u001b[Kwarning: \u001b[m\u001b[Kunused variable ‘\u001b[01m\u001b[Knum_threads\u001b[m\u001b[K’ [\u001b[01;35m\u001b[K-Wunused-variable\u001b[m\u001b[K]\n",
            "   21 |         int \u001b[01;35m\u001b[Knum_threads\u001b[m\u001b[K = omp_get_num_threads();\n",
            "      |             \u001b[01;35m\u001b[K^~~~~~~~~~~\u001b[m\u001b[K\n"
          ]
        }
      ]
    },
    {
      "cell_type": "code",
      "source": [
        "!./monte-carlo-tentativa2"
      ],
      "metadata": {
        "colab": {
          "base_uri": "https://localhost:8080/"
        },
        "id": "zOwfIuDT0be3",
        "outputId": "47cde07f-6ba1-4a37-fa65-760f428789ae"
      },
      "execution_count": null,
      "outputs": [
        {
          "output_type": "stream",
          "name": "stdout",
          "text": [
            "89733\n",
            "PI 3.58932\n",
            "Tempo de execução mudei: 0.034016 s\n"
          ]
        }
      ]
    },
    {
      "cell_type": "markdown",
      "source": [
        "## **AULA 13 e 14 - Introdução a GPU e Iteradores**\n",
        "\n",
        "Obs: na aula 13 apenas rodamos um código.\n",
        "\n",
        "Abaixo, sintaxe do thrust com exemplos:\n",
        "\n",
        "- Para declarar um vetor de CPU em thrust:\n",
        "\n",
        "```cpp\n",
        "  //vetor com 10 elementos e não preenchido\n",
        "  thrust::host_vector<double> vec_cpu(10);\n",
        "```\n",
        "\n",
        "- Para copiar um vetor pra outro:\n",
        "\n",
        "```cpp\n",
        "  thrust::host_vector<double> vec_cpu(10);\n",
        "  thrust::device_vector<double> vec_gpu(vec_cpu);\n",
        "```\n",
        "\n",
        "- Para declarar um vetor de GPU em thrust:\n",
        "\n",
        "```cpp\n",
        "  // vetor com 5 elementos e todos sendo 0 {0, 0, 0, 0, 0}\n",
        "  thrust::device_vector<int> vetor(5,0);\n",
        "\n",
        "  // vetor preenchido todo com 0.1\n",
        "  // {0.1, 0.1, 0.1, 0.1, 0.1, 0.1, 0.1, 0.1, 0.1, 0.1, 0.1}\n",
        "  thrust::device_vector<double> width(11, 0.1);\n",
        "```\n",
        "\n",
        "- Para criar uma sequência:\n",
        "\n",
        "```cpp\n",
        "  // sequencia de um em um {0, 1, 2, 3, 4}\n",
        "  thrust::sequence(vetor.begin(), vetor.end());\n",
        "\n",
        "  //sequencia de 0.1 em 0.1\n",
        "  // {0.0, 0.1, 0.2, 0.3, 0.4, 0.5, 0.6, 0.7, 0.8, 0.9, 1.0}\n",
        "  thrust::sequence(x.begin(), x.end(), 0.0f, 0.01f);\n",
        "```\n",
        "\n",
        "- Para preencher os elementos que quiser:\n",
        "\n",
        "```cpp\n",
        "  // preenche com o número escolhido o vetor {13, 13, 2, 3, 4}\n",
        "  thrust::fill(vetor.begin(), vetor.begin()+2, 13);\n",
        "```\n",
        "\n",
        "- Transform:\n",
        "\n",
        "```cpp\n",
        "   // soma v1 e v2 e guarda resultado em v3\n",
        "  thrust::transform(v1.begin(), v1.end(), v2.begin(), v3.begin(), thrust::plus<double>());\n",
        "\n",
        "  // multiplica v1 por 0.5 e guarda em v4\n",
        "  thrust::transform(v1.begin(), v1.end(), thrust::constant_iterator<double>(0.5), v4.begin(), thrust::multiplies<double>());\n",
        "\n",
        "  // calcula o quadrado de cada elemento e guarda em height\n",
        "  thrust::transform(x.begin(), x.end(), height.begin(), thrust::square<double>());\n",
        "\n",
        "  // se for potencias em geral\n",
        "  thrust::transform(x.begin(), x.end(), exponent.begin(), result.begin(), thrust::pow<T>());\n",
        "\n",
        "```\n",
        "\n",
        "No caso específico das operações de soma, multiplicação, subtração e potência, você pode usar as seguintes funções no Thrust:\n",
        "\n",
        "Soma: thrust::plus\n",
        "\n",
        "Multiplicação: thrust::multiplies\n",
        "\n",
        "Subtração: thrust::minus\n",
        "\n",
        "Potência: thrust::pow\n",
        "\n",
        "- Reduce:\n",
        "\n",
        "```cpp\n",
        "  val = thrust::reduce(iter_comeco, iter_fim, valor_inicial, operacao); \n",
        "\n",
        "  // pode não ter nada, nesse caso assume que o valor_incial é 0 e que a operacao é soma!\n",
        "\n",
        "  total_area = thrust::reduce(area.begin(), area.end());\n",
        "```\n",
        "\n",
        "- Iterators:\n",
        "\n",
        "```cpp\n",
        "\n",
        "thrust::device_vector<int> d_vec(4);\n",
        "thrust::device_vector<int>::iterator begin = d_vec.begin();\n",
        "thrust::device_vector<int>::iterator end = d_vec.end();\n",
        "\n",
        "int length = end - begin;\n",
        "end = d_vec.begin() + 3 // define uma sequencia de 3 eleementos\n",
        "\n",
        "```\n",
        "\n",
        "- Constant iterator:\n",
        "\n",
        "Preenche um array infinito com um valor constante\n",
        "\n",
        "```cpp\n",
        "\n",
        "thrust::constant_iterator<int> begin(10); // preenche tudo com 10\n",
        "thrust::constant_iterator<int> end = begin + 3;\n",
        "\n",
        "thrust::reduce(begin, end); // vai retornar 30\n",
        "\n",
        "```  \n",
        "\n",
        "- Counting Iterator:\n",
        "\n",
        "Preenche um array infinito com valores sequenciais\n",
        "\n",
        "```cpp\n",
        "#include <thrust/counting_iterator.h>\n",
        "#include <thrust/reduce.h>\n",
        "\n",
        "thrust::counting_iterator<int> begin(10);\n",
        "thrust::counting_iterator<int> end = begin + 3;\n",
        "\n",
        "thrust::reduce(begin, end); // vai retornar 33 (10, 11, 12 )\n",
        "``` \n",
        "\n",
        "- Zip Iterator:\n",
        "\n",
        "```cpp\n",
        "\n",
        "thrust::device_vector<int> A(3);\n",
        "thrust::device_vector<char> B(3);\n",
        "\n",
        "// suponha que preenchemos com:\n",
        "// A = {10, 20, 30}\n",
        "// B = {'x', 'y', 'z'}\n",
        "\n",
        "//Agora criamos um iterator pro zip:\n",
        "begin = thrust::make_zip_iterator(thrust::make_tuple(A.begin(), B.begin()));\n",
        "end = thrust::make_zip_iterator(thrust::make_tuple(A.end(), B.end()));\n",
        "\n",
        "// Se fizer begin[0] vai retornar tuple(10, 'x')\n",
        "\n",
        "// Agora, pegando o máximo de begin:\n",
        "\n",
        "thrust::maximum<tuple<int, char>> binary_op;\n",
        "thrust::reduce(begin, end, begin[0], binary_op); // vai retornar tuple(30, 'z')\n",
        "```\n",
        "\n",
        "\n",
        "\n",
        "-  Sort:\n",
        "\n",
        "```cpp\n",
        "#include <thrust/sort.h>\n",
        "\n",
        "// Ordena em ordem crescente\n",
        "thrust::sort(sequence.begin(), sequence.end());\n",
        "\n",
        "// Ordena em ordem decrescente\n",
        "thrust::sort(sequence.begin(), sequence.end(), thrust::greater<T>());\n",
        "```\n",
        "`sequence` é a sequência que você deseja ordenar, e `T` é o tipo dos elementos da sequência.\n",
        "\n",
        "- Scan:\n",
        "\n",
        "\n",
        "```cpp\n",
        "#include <thrust/scan.h>\n",
        "\n",
        "// Executa uma varredura exclusiva (exclusive scan)\n",
        "thrust::exclusive_scan(sequence.begin(), sequence.end(), result.begin());\n",
        "\n",
        "// Executa uma varredura inclusiva (inclusive scan)\n",
        "thrust::inclusive_scan(sequence.begin(), sequence.end(), result.begin());\n",
        "```\n",
        "`sequence` é a sequência de entrada, e `result` é a sequência que armazenará os resultados intermediários da varredura.\n",
        "\n",
        "- Copy;\n",
        "\n",
        "```cpp\n",
        "#include <thrust/copy.h>\n",
        "\n",
        "thrust::copy(source.begin(), source.end(), destination.begin());\n",
        "```\n",
        "\n",
        "\n"
      ],
      "metadata": {
        "id": "wOs2F6FC1Dc7"
      }
    },
    {
      "cell_type": "code",
      "source": [
        "%%writefile variancia.cu\n",
        "#include <thrust/host_vector.h>\n",
        "#include <thrust/device_vector.h>\n",
        "#include <thrust/generate.h>\n",
        "#include <thrust/sort.h>\n",
        "#include <thrust/copy.h>\n",
        "#include <thrust/random.h>\n",
        "#include <vector>\n",
        "using namespace std;\n",
        "\n",
        "int main() {\n",
        "  thrust::device_vector<double> d_vec(10);\n",
        "  thrust::sequence (d_vec.begin(), d_vec.end(), 0.0f, 1.0f);\n",
        "\n",
        "  thrust::device_vector<double>::iterator begin = d_vec.begin();\n",
        "  thrust::device_vector<double>::iterator end = d_vec.end();\n",
        "  int len = end - begin;\n",
        "\n",
        "\n",
        "  double media = thrust::reduce(d_vec.begin(), d_vec.end()) / len;\n",
        "\n",
        "//   thrust::device_vector<double> media_vector(len, media);\n",
        "\n",
        "  thrust::constant_iterator<double> media_vector_begin(media);\n",
        "  thrust::constant_iterator<double> media_vector_end = media_vector_begin + len;\n",
        "\n",
        "  thrust::device_vector<double> subtracao_vec(len);\n",
        "  thrust::device_vector<double> quadrado_vec(len);\n",
        "  thrust::transform (d_vec.begin(), d_vec.end(), media_vector_begin, subtracao_vec.begin(), thrust::minus<double>());\n",
        "  thrust::transform (subtracao_vec.begin(), subtracao_vec.end(), subtracao_vec.begin(), quadrado_vec.begin(), thrust::multiplies<double>());\n",
        "\n",
        "  double soma_quadrados = thrust::reduce(quadrado_vec.begin(), quadrado_vec.end());\n",
        "\n",
        "  double variance = soma_quadrados / len;\n",
        "\n",
        "  std::cout << \"variancia: \" << variance << std::endl;\n",
        "}"
      ],
      "metadata": {
        "colab": {
          "base_uri": "https://localhost:8080/"
        },
        "id": "F-cysuTw1iOL",
        "outputId": "15c9f013-8e88-48f4-a990-8d5f8faba1f1"
      },
      "execution_count": null,
      "outputs": [
        {
          "output_type": "stream",
          "name": "stdout",
          "text": [
            "Writing variancia.cu\n"
          ]
        }
      ]
    },
    {
      "cell_type": "code",
      "source": [
        "!nvcc variancia.cu -o variancia"
      ],
      "metadata": {
        "id": "F1jsmPcC2V8v"
      },
      "execution_count": null,
      "outputs": []
    },
    {
      "cell_type": "code",
      "source": [
        "!./variancia"
      ],
      "metadata": {
        "colab": {
          "base_uri": "https://localhost:8080/"
        },
        "id": "eU5dTFim2Zsd",
        "outputId": "ca1fca77-e21d-462d-8111-8840143221fe"
      },
      "execution_count": null,
      "outputs": [
        {
          "output_type": "stream",
          "name": "stdout",
          "text": [
            "variancia: 8.25\n"
          ]
        }
      ]
    },
    {
      "cell_type": "code",
      "source": [
        "%%writefile variancia_correcao.cu\n",
        "#include <thrust/host_vector.h>\n",
        "#include <thrust/device_vector.h>\n",
        "#include <thrust/generate.h>\n",
        "#include <thrust/sort.h>\n",
        "#include <thrust/copy.h>\n",
        "#include <thrust/random.h>\n",
        "#include <vector>\n",
        "using namespace std;\n",
        "\n",
        "int main() {\n",
        "  int N = 10;\n",
        "  thrust::device_vector<float> x(N);\n",
        "  thrust::sequence (x.begin(), x.end());\n",
        "\n",
        "  //PASSO 1\n",
        "  float media = thrust::reduce(x.begin(), x.end()) / x.size();\n",
        "\n",
        "  //PASSO 2 (x -mu)\n",
        "  thrust::device_vector<float> mu(N, media);\n",
        "  thrust::transform(x.begin(), x.end(), mu.begin(), x.begin(), thrust::minus<float>());\n",
        "\n",
        "  // PASSO 3 (x - mu)^2\n",
        "  thrust::transform(x.begin(), x.end(), x.begin(), thrust::square<float>());\n",
        "\n",
        "  // PASSO 4  SUM (x - mu)^2/ N\n",
        "  float variance = thrust::reduce(x.begin(), x.end()) / N;\n",
        "\n",
        "  std::cout << \"variancia: \" << variance << std::endl;\n",
        "}"
      ],
      "metadata": {
        "colab": {
          "base_uri": "https://localhost:8080/"
        },
        "id": "bJ0RP30p2bUj",
        "outputId": "7598a1f3-a12e-4d19-e54d-acc6a2340b30"
      },
      "execution_count": null,
      "outputs": [
        {
          "output_type": "stream",
          "name": "stdout",
          "text": [
            "Writing variancia_correcao.cu\n"
          ]
        }
      ]
    },
    {
      "cell_type": "code",
      "source": [
        "!nvcc variancia_correcao.cu -o variancia_correcao"
      ],
      "metadata": {
        "id": "seMVgx6C2672"
      },
      "execution_count": null,
      "outputs": []
    },
    {
      "cell_type": "code",
      "source": [
        "!./variancia_correcao"
      ],
      "metadata": {
        "colab": {
          "base_uri": "https://localhost:8080/"
        },
        "id": "l5vxsVFu22Rr",
        "outputId": "c78b526d-66fb-49d1-ea2e-050ec994508f"
      },
      "execution_count": null,
      "outputs": [
        {
          "output_type": "stream",
          "name": "stdout",
          "text": [
            "variancia: 8.25\n"
          ]
        }
      ]
    },
    {
      "cell_type": "markdown",
      "source": [
        "## **AULA 15 - Thrust - Operações customizadas**\n",
        "\n",
        "\n",
        "Vamos conhecer como criar operações customizadas com Thrust. Para isso, vamos resolver um problema clássico denominado Saxpy, o que significa Single precision A X plus Y . Na prática, consiste em calcular um valor z, que é dado por ax + y, onde a é uma constante e x e y são vetores.\n",
        "\n",
        "O código-fonte abaixo resolve o Saxpy em C++/Thrust. Vamos avaliá-lo.\n"
      ],
      "metadata": {
        "id": "U9sOGCBe3JVR"
      }
    },
    {
      "cell_type": "code",
      "source": [
        " %%writefile saxpy.cu\n",
        " #include <thrust/host_vector.h>\n",
        " #include <thrust/device_vector.h>\n",
        " #include <thrust/generate.h>\n",
        " #include <thrust/functional.h>\n",
        " #include <thrust/copy.h>\n",
        " #include <cstdlib>\n",
        " #include <algorithm>\n",
        " #include <iostream>\n",
        " #include <iomanip>\n",
        "\n",
        " using namespace  std;\n",
        "\n",
        "struct saxpy\n",
        "{\n",
        "    int a;    \n",
        "    saxpy(int a_) : a(a_) {};\n",
        "    __host__ __device__\n",
        "    double operator()(const int& x, const int& y) {\n",
        "           return a * x + y;\n",
        "    }\n",
        "};\n",
        "\n",
        "int main(int argc, char* argv[]) {\n",
        "     if (argc != 3) {\n",
        "         cerr <<\n",
        "          \"***Numero incorreto de argumentos ***\\n\";\n",
        "         return 1;\n",
        "     }\n",
        "\n",
        "     int n = atoi(argv[1]);\n",
        "     int m = atoi(argv[2]);\n",
        "\n",
        "     //gerar numeros aleatorios\n",
        "     thrust::host_vector<int> a(n);\n",
        "     thrust::host_vector<int> b(n);\n",
        "     thrust::host_vector<int> c(n);\n",
        "     thrust::generate(a.begin(), a.end(), rand);\n",
        "     thrust::generate(b.begin(), b.end(), rand);\n",
        "\n",
        "     //transferimos para a GPU\n",
        "     thrust::device_vector<int> d_a = a;\n",
        "     thrust::device_vector<int> d_b = b;\n",
        "\n",
        "     //transformacao\n",
        "\n",
        "     thrust::transform(d_a.begin(), d_a.end(),\n",
        "                       d_b.begin(), d_b.end(),\n",
        "                       saxpy(m));\n",
        "\n",
        "     thrust::copy(d_b.begin(), d_b.end(),\n",
        "     c.begin()); \n",
        "\n",
        "     for (int i = 0; i < n; i++ )\n",
        "         cout << setw(6) << c[i] << \" = \" \n",
        "          << setw(2) << m\n",
        "          << \"*\" << setw(5) << a[i]\n",
        "          << \"+\" << setw(5) << b[i]\n",
        "          << endl;\n",
        "\n",
        "}"
      ],
      "metadata": {
        "colab": {
          "base_uri": "https://localhost:8080/"
        },
        "id": "5j0RSjyC3hGj",
        "outputId": "5493ceab-ab83-4860-8812-44b9ff337d53"
      },
      "execution_count": null,
      "outputs": [
        {
          "output_type": "stream",
          "name": "stdout",
          "text": [
            "Writing saxpy.cu\n"
          ]
        }
      ]
    },
    {
      "cell_type": "code",
      "source": [
        "!nvcc saxpy.cu -o saxpy"
      ],
      "metadata": {
        "id": "jmqSs0rZ3kwI"
      },
      "execution_count": null,
      "outputs": []
    },
    {
      "cell_type": "code",
      "source": [
        "!./saxpy 10 3"
      ],
      "metadata": {
        "colab": {
          "base_uri": "https://localhost:8080/"
        },
        "id": "QYXhmgjY3oWx",
        "outputId": "b03fc25c-f061-4619-8646-1cbc9aa08688"
      },
      "execution_count": null,
      "outputs": [
        {
          "output_type": "stream",
          "name": "stdout",
          "text": [
            "1025202362 =  3*1804289383+1025202362\n",
            "1350490027 =  3*846930886+1350490027\n",
            "783368690 =  3*1681692777+783368690\n",
            "1102520059 =  3*1714636915+1102520059\n",
            "2044897763 =  3*1957747793+2044897763\n",
            "1967513926 =  3*424238335+1967513926\n",
            "1365180540 =  3*719885386+1365180540\n",
            "1540383426 =  3*1649760492+1540383426\n",
            "304089172 =  3*596516649+304089172\n",
            "1303455736 =  3*1189641421+1303455736\n"
          ]
        }
      ]
    },
    {
      "cell_type": "markdown",
      "source": [
        "### **Operações customizadas em transform**\n",
        "\n",
        "Para criar nossas próprias operações usamos a seguinte sintaxe:\n",
        "\n",
        "``` cpp\n",
        "struct custom_transform\n",
        "{\n",
        "    // essas marcações indicam que o código deve ser compilado para CPU (host) \n",
        "    // e GPU (device)\n",
        "    // IMPORTANTE: somente código com a marcação __device__ é compilado para GPU\n",
        "    __host__ __device__\n",
        "\n",
        "        double operator()(const double& x, const double& y) {\n",
        "            // isto pode ser usado com um transform que usa dois vetores \n",
        "            // e coloca o resultado em um terceiro.\n",
        "\n",
        "            // x é um elemento do primeiro vetor\n",
        "            // y é o elemento correspondente do segundo vetor\n",
        "\n",
        "            // o valor retornado é colocado no vetor de resultados\n",
        "\n",
        "            // para fazer operações unárias basta receber somente um argumento.\n",
        "        }\n",
        "};\n",
        "```\n",
        "\n",
        "A operação acima seria aceita em um transform como o abaixo:\n",
        "\n",
        "``` cpp\n",
        "thrust::device_vector<double> A, B, C;\n",
        "thrust::transform(A.begin(), A.end(), B.begin(), C.begin(), custom_transform());\n",
        "```\n",
        "\n",
        "Note que os tipos dos vetores devem bater com os tipos declarados no struct. Por vezes precisamos receber parâmetros para a operação customizada funcionar. Um truque comum é adicionar atributos no struct usado como operação:\n",
        "\n",
        "``` cpp\n",
        "struct T {\n",
        "    int attr;\n",
        "\n",
        "    T(int a): attr(a) {};\n",
        "\n",
        "    // TODO: operação customizada aqui\n",
        "};\n",
        "```"
      ],
      "metadata": {
        "id": "sBfYj7d331i_"
      }
    },
    {
      "cell_type": "markdown",
      "source": [
        "### **Calculando a norma / magnitude de um vetor**\n",
        "\n",
        "A magnitude de um vetor consiste na raiz quadrada da soma do quadrado de seus elementos. Dessa forma, você deve complementar o código abaixo, de modo a criar uma transformação customizada square, a qual faz uma transformação no vetor transformando os seus elementos ao quadrado, e posteriormente você deve fazer uma redução, de modo a obter a magnitude do vetor."
      ],
      "metadata": {
        "id": "JDcY8lfu4jkd"
      }
    },
    {
      "cell_type": "code",
      "source": [
        " %%writefile magnitude.cu\n",
        "#include <iostream>\n",
        " #include <iomanip>\n",
        " #include <cstdlib>\n",
        " #include <chrono>\n",
        " #include <cstdlib>\n",
        " #include <algorithm>\n",
        " #include <cmath>\n",
        " #include <random>\n",
        " // imports do thrust\n",
        "  #include <thrust/host_vector.h>\n",
        " #include <thrust/device_vector.h>\n",
        " #include <thrust/generate.h>\n",
        " #include <thrust/functional.h>\n",
        " #include <thrust/copy.h> \n",
        "\n",
        " using namespace std::chrono;\n",
        "\n",
        " void reportTime(const char* msg, steady_clock::duration span) {\n",
        "     auto ms = duration_cast<milliseconds>(span);\n",
        "     std::cout << msg << \" - levou - \" <<\n",
        "      ms.count() << \" milisegundos\" << std::endl;\n",
        " }\n",
        "\n",
        "// CRIAR UM FUNCTOR (TIPO UM KERNEL PARA CALCULAR O QUADRADO)\n",
        "\n",
        "struct square {\n",
        "    // não tem parametro interno, então não precisa nem de construtor de copia\n",
        "    __host__ __device__\n",
        "    float operator()(const float &x) const { // não é o x vetor, é a coordenada do vetor, só um ponto\n",
        "        return x * x;\n",
        "    }\n",
        "};\n",
        "\n",
        " // IMPLEMENTE O CALCULO DA MAGNITUDE COM THRUST\n",
        " float magnitude(thrust::device_vector<float> x) {\n",
        "     thrust::transform(x.begin() , x.end() , x.begin() , square());  // se não colocar nada ou só o begin ele sobrescreve o resultado no próprio vetor   \n",
        "     //thrust::transform(x.begin() , x.end() , x.begin() , thrust::square<float>()); // já existe square pronto, não precisava do kernel\n",
        "     float soma_quadrados = thrust::reduce(x.begin(), x.end());\n",
        "     float result = std::sqrt(soma_quadrados);\n",
        "     return result;\n",
        "\n",
        "     // outra solucao:\n",
        "    //  return std::sqrt(thrust::transform_reduce(x.begin(), x.end(), square(), 0.0f, thrust::plus<float>()));\n",
        " }\n",
        "\n",
        " int main(int argc, char** argv) {\n",
        "     if (argc != 2) {\n",
        "         std::cerr << argv[0] << \": numero invalido de argumentos\\n\"; \n",
        "         std::cerr << \"uso: \" << argv[0] << \"  tamanho do vetor\\n\"; \n",
        "         return 1;\n",
        "     }\n",
        "     int n = std::atoi(argv[1]); //numero de elementos\n",
        "     steady_clock::time_point ts, te;\n",
        "\n",
        "     // Faça um  vector em thrust \n",
        "     \n",
        "     thrust::host_vector<float> v(n);\n",
        "\n",
        "     // inicialize o  vector\n",
        "\n",
        "     ts = steady_clock::now();\n",
        "\n",
        "     thrust::generate(v.begin(), v.end(), rand);\n",
        "\n",
        "     thrust::device_vector<float> v_d = v;\n",
        "\n",
        "     te = steady_clock::now();\n",
        "     reportTime(\"Inicializacao\", te - ts);\n",
        "\n",
        "     // Calcule a magnitude do vetor\n",
        "     ts = steady_clock::now();\n",
        "     float len = magnitude(v_d);\n",
        "     te = steady_clock::now();\n",
        "     reportTime(\"Tempo para calculo\", te - ts);\n",
        "\n",
        "\n",
        "     std::cout << std::fixed << std::setprecision(4);\n",
        "     std::cout << \"Magnitude : \" << len << std::endl;\n",
        " }"
      ],
      "metadata": {
        "colab": {
          "base_uri": "https://localhost:8080/"
        },
        "id": "7zZyjRUy4Aei",
        "outputId": "bc3415c4-0a43-465d-f2cf-2a9b265de548"
      },
      "execution_count": null,
      "outputs": [
        {
          "output_type": "stream",
          "name": "stdout",
          "text": [
            "Overwriting magnitude.cu\n"
          ]
        }
      ]
    },
    {
      "cell_type": "code",
      "source": [
        "!nvcc magnitude.cu -o magnitude"
      ],
      "metadata": {
        "id": "0NlTjFnO4TpH"
      },
      "execution_count": null,
      "outputs": []
    },
    {
      "cell_type": "code",
      "source": [
        "!./magnitude 10 "
      ],
      "metadata": {
        "colab": {
          "base_uri": "https://localhost:8080/"
        },
        "id": "tgAc8oLs4YLh",
        "outputId": "bccabf03-96ad-44b5-bf39-0217e1057903"
      },
      "execution_count": null,
      "outputs": [
        {
          "output_type": "stream",
          "name": "stdout",
          "text": [
            "Inicializacao - levou - 185 milisegundos\n",
            "Tempo para calculo - levou - 0 milisegundos\n",
            "Magnitude : 4331812352.0000\n"
          ]
        }
      ]
    },
    {
      "cell_type": "markdown",
      "source": [],
      "metadata": {
        "id": "eEDmoOux5dk1"
      }
    },
    {
      "cell_type": "markdown",
      "source": [
        "### **Fusion**\n",
        "Há operações de transformação e redução feitas anteriormente que realizam muita troca de dados. Seria possível otimizar isso?\n",
        "\n",
        "A resposta é sim. A Thrust possui o conceito de fusion kernel, o que representa uma estratégia para otimizar transformações e reduções. Modifique o código anteriormente desenvolvido, agora fazendo uso da transformação abaixo:\n",
        "\n",
        "``` cpp\n",
        "std::sqrt(thrust::transform_reduce( v.begin(), v.end(), unary_op, init, binary_op));\n",
        "```\n",
        "Pergunta: para o problema da magnitude, quem é a unary_op e a binary_op? Qual o valor de init?\n",
        "\n",
        "Outra solução: \n",
        "\n",
        "Ao invés do return result poderia ter sido feito:\n",
        "\n",
        "```cpp\n",
        "return std::sqrt(thrust::transform_reduce(x.begin(), x.end(), square(), 0.0f, thrust::plus<float>()));\n",
        "``` "
      ],
      "metadata": {
        "id": "9pCuXdh05dmV"
      }
    },
    {
      "cell_type": "code",
      "source": [
        " %%writefile magnitude-fusion.cu\n",
        "#include <iostream>\n",
        " #include <iomanip>\n",
        " #include <cstdlib>\n",
        " #include <chrono>\n",
        " #include <cstdlib>\n",
        " #include <algorithm>\n",
        " #include <cmath>\n",
        " #include <random>\n",
        " // imports do thrust\n",
        "  #include <thrust/host_vector.h>\n",
        " #include <thrust/device_vector.h>\n",
        " #include <thrust/generate.h>\n",
        " #include <thrust/functional.h>\n",
        " #include <thrust/copy.h> \n",
        "\n",
        " using namespace std::chrono;\n",
        "\n",
        " void reportTime(const char* msg, steady_clock::duration span) {\n",
        "     auto ms = duration_cast<milliseconds>(span);\n",
        "     std::cout << msg << \" - levou - \" <<\n",
        "      ms.count() << \" milisegundos\" << std::endl;\n",
        " }\n",
        "\n",
        "// CRIAR UM FUNCTOR (TIPO UM KERNEL PARA CALCULAR O QUADRADO)\n",
        "\n",
        "struct square {\n",
        "    // não tem parametro interno, então não precisa nem de construtor de copia\n",
        "    __host__ __device__\n",
        "    float operator()(const float &x) const { // não é o x vetor, é a coordenada do vetor, só um ponto\n",
        "        return x * x;\n",
        "    }\n",
        "};\n",
        "\n",
        " // IMPLEMENTE O CALCULO DA MAGNITUDE COM THRUST\n",
        " float magnitude(thrust::device_vector<float> x) {\n",
        "    return std::sqrt(thrust::transform_reduce(x.begin(), x.end(), square(), 0.0f, thrust::plus<float>()));\n",
        " }\n",
        "\n",
        " int main(int argc, char** argv) {\n",
        "     if (argc != 2) {\n",
        "         std::cerr << argv[0] << \": numero invalido de argumentos\\n\"; \n",
        "         std::cerr << \"uso: \" << argv[0] << \"  tamanho do vetor\\n\"; \n",
        "         return 1;\n",
        "     }\n",
        "     int n = std::atoi(argv[1]); //numero de elementos\n",
        "     steady_clock::time_point ts, te;\n",
        "\n",
        "     // Faça um  vector em thrust \n",
        "     \n",
        "     thrust::host_vector<float> v(n);\n",
        "\n",
        "     // inicialize o  vector\n",
        "\n",
        "     ts = steady_clock::now();\n",
        "\n",
        "     thrust::generate(v.begin(), v.end(), rand);\n",
        "\n",
        "     thrust::device_vector<float> v_d = v;\n",
        "\n",
        "     te = steady_clock::now();\n",
        "     reportTime(\"Inicializacao\", te - ts);\n",
        "\n",
        "     // Calcule a magnitude do vetor\n",
        "     ts = steady_clock::now();\n",
        "     float len = magnitude(v_d);\n",
        "     te = steady_clock::now();\n",
        "     reportTime(\"Tempo para calculo\", te - ts);\n",
        "\n",
        "\n",
        "     std::cout << std::fixed << std::setprecision(4);\n",
        "     std::cout << \"Magnitude : \" << len << std::endl;\n",
        " }"
      ],
      "metadata": {
        "colab": {
          "base_uri": "https://localhost:8080/"
        },
        "id": "EagCzhTQ5xL0",
        "outputId": "440e378b-2136-46c5-8545-e13b48b3bd75"
      },
      "execution_count": null,
      "outputs": [
        {
          "output_type": "stream",
          "name": "stdout",
          "text": [
            "Writing magnitude-fusion.cu\n"
          ]
        }
      ]
    },
    {
      "cell_type": "code",
      "source": [
        "!nvcc magnitude-fusion.cu -o magnitude-fusion"
      ],
      "metadata": {
        "id": "eAV-DJae59Kk"
      },
      "execution_count": null,
      "outputs": []
    },
    {
      "cell_type": "code",
      "source": [
        "!./magnitude-fusion 10"
      ],
      "metadata": {
        "colab": {
          "base_uri": "https://localhost:8080/"
        },
        "id": "_6zgoAdh6AyP",
        "outputId": "e7493880-0927-4ba3-e0e9-4bd469fe4458"
      },
      "execution_count": null,
      "outputs": [
        {
          "output_type": "stream",
          "name": "stdout",
          "text": [
            "Inicializacao - levou - 539 milisegundos\n",
            "Tempo para calculo - levou - 0 milisegundos\n",
            "Magnitude : 4331812352.0000\n"
          ]
        }
      ]
    },
    {
      "cell_type": "markdown",
      "source": [
        "## **AULA 16 - Introdução a MPI (MESSAGE PASSING INTERFACE)**\n"
      ],
      "metadata": {
        "id": "Gnef8tuUekM4"
      }
    },
    {
      "cell_type": "markdown",
      "source": [
        "Para construir os nossos clusters MPI, vamos usar o ambiente de simulação SIMGRID (http://www.simgrid.org). Ele permite especificar a arquitetura de um cluster (nodos e links) e simular a execução de aplicações distribuídas (MPI, por exemplo) sob este cluster.\n",
        "\n",
        "Para definir a arquitetura de um cluster, usamos um arquivo XML. Por exemplo:\n",
        "\n",
        "![3hosts.png](data:image/png;base64,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)"
      ],
      "metadata": {
        "id": "N4PHWFaLidcU"
      }
    },
    {
      "cell_type": "code",
      "source": [
        "%%writefile cluster1.xml\n",
        "\n",
        "<?xml version='1.0'?>\n",
        "<!DOCTYPE platform SYSTEM \"https://simgrid.org/simgrid.dtd\">\n",
        "<platform version=\"4.1\">\n",
        "  <zone id=\"AS0\" routing=\"Full\">\n",
        "    <host id=\"host0\" speed=\"1Gf\"/>\n",
        "    <host id=\"host1\" speed=\"2Gf\"/>\n",
        "    <host id=\"host2\" speed=\"40Gf\"/>\n",
        "    <link id=\"link0\" bandwidth=\"125MBps\" latency=\"100us\"/>\n",
        "    <link id=\"link1\" bandwidth=\"50MBps\" latency=\"150us\"/>\n",
        "    <link id=\"link2\" bandwidth=\"250MBps\" latency=\"50us\"/>\n",
        "    <route src=\"host0\" dst=\"host1\"><link_ctn id=\"link0\"/><link_ctn id=\"link1\"/></route>\n",
        "    <route src=\"host1\" dst=\"host2\"><link_ctn id=\"link1\"/><link_ctn id=\"link2\"/></route>\n",
        "    <route src=\"host0\" dst=\"host2\"><link_ctn id=\"link0\"/><link_ctn id=\"link2\"/></route>\n",
        "  </zone>\n",
        "</platform>"
      ],
      "metadata": {
        "id": "LDaHCVd1id1e",
        "colab": {
          "base_uri": "https://localhost:8080/"
        },
        "outputId": "d3c2382b-663e-41e9-a0c7-e61bb6b920b2"
      },
      "execution_count": null,
      "outputs": [
        {
          "output_type": "stream",
          "name": "stdout",
          "text": [
            "Overwriting cluster1.xml\n"
          ]
        }
      ]
    },
    {
      "cell_type": "markdown",
      "source": [],
      "metadata": {
        "id": "ncolhOZmnRGA"
      }
    },
    {
      "cell_type": "markdown",
      "source": [
        "Os elementos básicos (com \\<host> e \\<link>) são descritos primeiro e, em seguida, as rotas entre qualquer par de hosts são fornecidas explicitamente com \\<route>. Qualquer host deve receber uma velocidade computacional em flops, enquanto os links devem receber uma latência e uma largura de banda. Você pode escrever 1Gf para 1.000.000.000 flops.\n",
        "\n",
        "As rotas definidas com <route> são simétricas por padrão, o que significa que a lista de links percorridos de A a B é a mesma de B a A. Defina explicitamente rotas não simétricas, se preferir.\n",
        "\n",
        "- Full - duṕlex\n",
        "- velocidade de cada host: 40 giga flops (quantidade de operações flutuantes que faço por seguhndo)\n",
        "- Largura de bandas - latência (tempo que o pacote gasta de chegar em outro)\n",
        "- Definição de todas e seus links."
      ],
      "metadata": {
        "id": "E4Q2oIannRIG"
      }
    },
    {
      "cell_type": "markdown",
      "source": [
        "**EXERCÍCIO 1**\n",
        "\n",
        "Especificar, através de um arquivo XML (cluster2.xml), um cluster contendo um nodo-mestre e oito nodos-escravos. As especificações dos links fica a seu critério."
      ],
      "metadata": {
        "id": "iDW0HE3_ndTV"
      }
    },
    {
      "cell_type": "code",
      "source": [
        "#COM VÁRIOS LINKS\n",
        "\n",
        "%%writefile cluster2.xml\n",
        "\n",
        "<?xml version='1.0'?>\n",
        "<!DOCTYPE platform SYSTEM \"https://simgrid.org/simgrid.dtd\">\n",
        "<platform version=\"4.1\">\n",
        "  <zone id=\"AS0\" routing=\"Full\">\n",
        "    <host id=\"master\" speed=\"2Gf\" />\n",
        "    <host id=\"slave1\" speed=\"1Gf\"/>\n",
        "    <host id=\"slave2\" speed=\"1Gf\"/>\n",
        "    <host id=\"slave3\" speed=\"1Gf\"/>\n",
        "    <host id=\"slave4\" speed=\"1Gf\"/>\n",
        "    <host id=\"slave5\" speed=\"1Gf\"/>\n",
        "    <host id=\"slave6\" speed=\"1Gf\"/>\n",
        "    <host id=\"slave7\" speed=\"1Gf\"/>\n",
        "    <host id=\"slave8\" speed=\"1Gf\"/>\n",
        "\n",
        "    <link id=\"link1\" bandwidth=\"125MBps\" latency=\"100us\"/>\n",
        "    <link id=\"link2\" bandwidth=\"50MBps\" latency=\"150us\"/>\n",
        "    <link id=\"link3\" bandwidth=\"250MBps\" latency=\"50us\"/>\n",
        "    <link id=\"link4\" bandwidth=\"125MBps\" latency=\"100us\"/>\n",
        "    <link id=\"link5\" bandwidth=\"50MBps\" latency=\"150us\"/>\n",
        "    <link id=\"link6\" bandwidth=\"250MBps\" latency=\"50us\"/>\n",
        "    <link id=\"link7\" bandwidth=\"125MBps\" latency=\"100us\"/>\n",
        "    <link id=\"link8\" bandwidth=\"50MBps\" latency=\"150us\"/>\n",
        "    <link id=\"link9\" bandwidth=\"125MBps\" latency=\"100us\"/>\n",
        "\n",
        "    <route src=\"master\" dst=\"slave1\"><link_ctn id=\"link1\"/></route>\n",
        "    <route src=\"slave1\" dst=\"slave2\"><link_ctn id=\"link2\"/></route>\n",
        "    <route src=\"slave2\" dst=\"slave3\"><link_ctn id=\"link3\"/></route>\n",
        "    <route src=\"slave3\" dst=\"slave4\"><link_ctn id=\"link4\"/></route>\n",
        "    <route src=\"slave4\" dst=\"slave5\"><link_ctn id=\"link5\"/></route>\n",
        "    <route src=\"slave5\" dst=\"slave6\"><link_ctn id=\"link6\"/></route>\n",
        "    <route src=\"slave6\" dst=\"slave7\"><link_ctn id=\"link7\"/></route>\n",
        "    <route src=\"slave7\" dst=\"slave8\"><link_ctn id=\"link8\"/></route>\n",
        "    <route src=\"slave8\" dst=\"master\"><link_ctn id=\"link9\"/></route>\n",
        "\n",
        "  </zone>\n",
        "</platform>"
      ],
      "metadata": {
        "colab": {
          "base_uri": "https://localhost:8080/"
        },
        "id": "HMZY1pzZnd6I",
        "outputId": "ec0dc11a-1a11-44e6-9703-98d986d34ae9"
      },
      "execution_count": null,
      "outputs": [
        {
          "output_type": "stream",
          "name": "stdout",
          "text": [
            "Overwriting cluster2.xml\n"
          ]
        }
      ]
    },
    {
      "cell_type": "code",
      "source": [
        "%%writefile cluster2.xml\n",
        "\n",
        "<?xml version='1.0'?>\n",
        "<!DOCTYPE platform SYSTEM \"https://simgrid.org/simgrid.dtd\">\n",
        "<platform version=\"4.1\">\n",
        "  <zone id=\"AS0\" routing=\"Full\">\n",
        "    <host id=\"host0\" speed=\"40Gf\"/>\n",
        "    <host id=\"host1\" speed=\"20Gf\"/>\n",
        "    <host id=\"host2\" speed=\"20Gf\"/>\n",
        "    <host id=\"host3\" speed=\"20Gf\"/>\n",
        "    <host id=\"host4\" speed=\"20Gf\"/>\n",
        "    <host id=\"host5\" speed=\"20Gf\"/>\n",
        "    <host id=\"host6\" speed=\"20Gf\"/>\n",
        "    <host id=\"host7\" speed=\"20Gf\"/>\n",
        "    <host id=\"host8\" speed=\"20Gf\"/>\n",
        "    <link id=\"link0\" bandwidth=\"250MBps\" latency=\"50us\"/>\n",
        "    <route src=\"host0\" dst=\"host1\"><link_ctn id=\"link0\"/></route>\n",
        "    <route src=\"host1\" dst=\"host2\"><link_ctn id=\"link0\"/></route>\n",
        "    <route src=\"host2\" dst=\"host3\"><link_ctn id=\"link0\"/></route>\n",
        "    <route src=\"host3\" dst=\"host4\"><link_ctn id=\"link0\"/></route>\n",
        "    <route src=\"host4\" dst=\"host5\"><link_ctn id=\"link0\"/></route>\n",
        "    <route src=\"host5\" dst=\"host6\"><link_ctn id=\"link0\"/></route>\n",
        "    <route src=\"host7\" dst=\"host8\"><link_ctn id=\"link0\"/></route>\n",
        "    <route src=\"host8\" dst=\"host0\"><link_ctn id=\"link0\"/></route>\n",
        "  </zone>\n",
        "</platform>"
      ],
      "metadata": {
        "colab": {
          "base_uri": "https://localhost:8080/"
        },
        "id": "BYicnRg8opNq",
        "outputId": "c13d294b-382a-4282-931d-d0286fe9eda6"
      },
      "execution_count": null,
      "outputs": [
        {
          "output_type": "stream",
          "name": "stdout",
          "text": [
            "Overwriting cluster2.xml\n"
          ]
        }
      ]
    },
    {
      "cell_type": "markdown",
      "source": [
        "Existem diversos modelos de clusters pre-definidos em SIMGRID. Para instalá-los no nosso ambiente, vamos executar os seguintes comandos\n"
      ],
      "metadata": {
        "id": "YbNMzB6fpg_N"
      }
    },
    {
      "cell_type": "code",
      "source": [
        "!apt install simgrid"
      ],
      "metadata": {
        "colab": {
          "base_uri": "https://localhost:8080/"
        },
        "id": "D7f-Zze3phey",
        "outputId": "da8c1bb2-d5e7-4cba-96c5-ed7eaabdaac4"
      },
      "execution_count": null,
      "outputs": [
        {
          "output_type": "stream",
          "name": "stdout",
          "text": [
            "Reading package lists... Done\n",
            "Building dependency tree       \n",
            "Reading state information... Done\n",
            "Note, selecting 'libsimgrid-dev' instead of 'simgrid'\n",
            "The following additional packages will be installed:\n",
            "  libsimgrid3.24 lua5.1 simgrid-java\n",
            "Suggested packages:\n",
            "  java-virtual-machine\n",
            "The following NEW packages will be installed:\n",
            "  libsimgrid-dev libsimgrid3.24 lua5.1 simgrid-java\n",
            "0 upgraded, 4 newly installed, 0 to remove and 34 not upgraded.\n",
            "Need to get 1,644 kB of archives.\n",
            "After this operation, 5,797 kB of additional disk space will be used.\n",
            "Get:1 http://archive.ubuntu.com/ubuntu focal/universe amd64 libsimgrid3.24 amd64 3.24+dfsg-3 [1,328 kB]\n",
            "Get:2 http://archive.ubuntu.com/ubuntu focal/universe amd64 lua5.1 amd64 5.1.5-8.1build4 [94.6 kB]\n",
            "Get:3 http://archive.ubuntu.com/ubuntu focal/universe amd64 simgrid-java amd64 3.24+dfsg-3 [76.5 kB]\n",
            "Get:4 http://archive.ubuntu.com/ubuntu focal/universe amd64 libsimgrid-dev amd64 3.24+dfsg-3 [145 kB]\n",
            "Fetched 1,644 kB in 2s (681 kB/s)\n",
            "Selecting previously unselected package libsimgrid3.24.\n",
            "(Reading database ... 122545 files and directories currently installed.)\n",
            "Preparing to unpack .../libsimgrid3.24_3.24+dfsg-3_amd64.deb ...\n",
            "Unpacking libsimgrid3.24 (3.24+dfsg-3) ...\n",
            "Selecting previously unselected package lua5.1.\n",
            "Preparing to unpack .../lua5.1_5.1.5-8.1build4_amd64.deb ...\n",
            "Unpacking lua5.1 (5.1.5-8.1build4) ...\n",
            "Selecting previously unselected package simgrid-java.\n",
            "Preparing to unpack .../simgrid-java_3.24+dfsg-3_amd64.deb ...\n",
            "Unpacking simgrid-java (3.24+dfsg-3) ...\n",
            "Selecting previously unselected package libsimgrid-dev.\n",
            "Preparing to unpack .../libsimgrid-dev_3.24+dfsg-3_amd64.deb ...\n",
            "Unpacking libsimgrid-dev (3.24+dfsg-3) ...\n",
            "Setting up libsimgrid3.24 (3.24+dfsg-3) ...\n",
            "Setting up lua5.1 (5.1.5-8.1build4) ...\n",
            "update-alternatives: using /usr/bin/lua5.1 to provide /usr/bin/lua (lua-interpreter) in auto mode\n",
            "update-alternatives: using /usr/bin/luac5.1 to provide /usr/bin/luac (lua-compiler) in auto mode\n",
            "Setting up simgrid-java (3.24+dfsg-3) ...\n",
            "Setting up libsimgrid-dev (3.24+dfsg-3) ...\n",
            "Processing triggers for man-db (2.9.1-1) ...\n",
            "Processing triggers for libc-bin (2.31-0ubuntu9.9) ...\n"
          ]
        }
      ]
    },
    {
      "cell_type": "code",
      "source": [
        "!git clone https://framagit.org/simgrid/simgrid-template-smpi.git"
      ],
      "metadata": {
        "colab": {
          "base_uri": "https://localhost:8080/"
        },
        "id": "moI8otJspj2L",
        "outputId": "6f6fd1ab-d881-4141-d374-8e312b58cf9b"
      },
      "execution_count": null,
      "outputs": [
        {
          "output_type": "stream",
          "name": "stdout",
          "text": [
            "Cloning into 'simgrid-template-smpi'...\n",
            "remote: Enumerating objects: 482, done.\u001b[K\n",
            "remote: Counting objects: 100% (482/482), done.\u001b[K\n",
            "remote: Compressing objects: 100% (338/338), done.\u001b[K\n",
            "remote: Total 482 (delta 181), reused 434 (delta 139), pack-reused 0\u001b[K\n",
            "Receiving objects: 100% (482/482), 967.28 KiB | 1.84 MiB/s, done.\n",
            "Resolving deltas: 100% (181/181), done.\n"
          ]
        }
      ]
    },
    {
      "cell_type": "markdown",
      "source": [
        "IMPORTANTE:\n",
        "\n",
        "Os modelos de clusters estarão instalados no diretório simgrid-template-smpi. SEMPRE QUE FOR USÁ-LOS COPIAR os modelos cluster1.xml e cluster2.xml para este diretório."
      ],
      "metadata": {
        "id": "t3Ucgz3ypwcN"
      }
    },
    {
      "cell_type": "markdown",
      "source": [
        "**APLICAÇÕES MPI**\n",
        "\n",
        "Aplicações MPI fazem uso do header mpi.h, que disponibiliza uma série de funções para estrutura o ambiente de comunicação sob o cluster e realizar as comunicações entre os processos executando nos nodos.\n",
        "\n",
        "Vamos considerar este primeiro exemplo, que faz uma comunicação em anel sob um cluster:"
      ],
      "metadata": {
        "id": "BbPMxltFp7du"
      }
    },
    {
      "cell_type": "code",
      "source": [
        "%%writefile round.c\n",
        "\n",
        "#include <mpi.h>\n",
        "#include <stdio.h>\n",
        "#include <stdlib.h>\n",
        "\n",
        "#define N (1024 * 1024 * 1)\n",
        "\n",
        "int main(int argc, char* argv[])\n",
        "{\n",
        "  int size, rank;\n",
        "  struct timeval start, end;\n",
        "  char hostname[256];\n",
        "  int hostname_len;\n",
        "\n",
        "  MPI_Init(&argc, &argv);\n",
        "\n",
        "  MPI_Comm_rank(MPI_COMM_WORLD, &rank);  \n",
        "  MPI_Comm_size(MPI_COMM_WORLD, &size);\n",
        "  MPI_Get_processor_name(hostname, &hostname_len); // aqui pegamos o nome da máquina\n",
        "  printf(\"%s\", hostname);\n",
        "\n",
        "  // Allocate a 1 MiB buffer\n",
        "  char* buffer = malloc(sizeof(char) * N);\n",
        "\n",
        "  // Communicate along the ring\n",
        "  if (rank == 0) { // sou o nó 0, o master?\n",
        "    gettimeofday(&start, NULL); // medindo o tempo de execução\n",
        "    printf(\"Rank %d (running on '%s'): sending the message rank %d\\n\", rank, hostname, 1);\n",
        "    MPI_Send(buffer, N, MPI_BYTE, 1, 1, MPI_COMM_WORLD);\n",
        "    MPI_Recv(buffer, N, MPI_BYTE, size - 1, 1, MPI_COMM_WORLD, MPI_STATUS_IGNORE);\n",
        "    printf(\"Rank %d (running on '%s'): received the message from rank %d\\n\", rank, hostname, size - 1);\n",
        "    gettimeofday(&end, NULL);\n",
        "    printf(\"%f\\n\", (end.tv_sec * 1000000.0 + end.tv_usec - start.tv_sec * 1000000.0 - start.tv_usec) / 1000000.0);\n",
        "\n",
        "  } else {\n",
        "    MPI_Recv(buffer, N, MPI_BYTE, rank - 1, 1, MPI_COMM_WORLD, MPI_STATUS_IGNORE);\n",
        "    printf(\"Rank %d (running on '%s'): receive the message and sending it to rank %d\\n\", rank, hostname,\n",
        "           (rank + 1) % size);\n",
        "    MPI_Send(buffer, N, MPI_BYTE, (rank + 1) % size, 1, MPI_COMM_WORLD);\n",
        "  }\n",
        "\n",
        "  MPI_Finalize();\n",
        "  return 0;\n",
        "}"
      ],
      "metadata": {
        "colab": {
          "base_uri": "https://localhost:8080/"
        },
        "id": "CF32NGfCp-6o",
        "outputId": "733b8fd0-7355-48f1-e111-87d4a375b83e"
      },
      "execution_count": null,
      "outputs": [
        {
          "output_type": "stream",
          "name": "stdout",
          "text": [
            "Overwriting round.c\n"
          ]
        }
      ]
    },
    {
      "cell_type": "code",
      "source": [
        "!smpicc round.c -o round"
      ],
      "metadata": {
        "id": "R-gIJLznq9YD"
      },
      "execution_count": null,
      "outputs": []
    },
    {
      "cell_type": "code",
      "source": [
        "!smpirun -np 16 -platform simgrid-template-smpi/cluster_crossbar.xml -hostfile simgrid-template-smpi/cluster_hostfile ./round"
      ],
      "metadata": {
        "colab": {
          "base_uri": "https://localhost:8080/"
        },
        "id": "tfsBaGq1rE0y",
        "outputId": "cda29630-7a68-447b-908a-b2aeab9c3f9c"
      },
      "execution_count": null,
      "outputs": [
        {
          "output_type": "stream",
          "name": "stdout",
          "text": [
            "[0.000000] [xbt_cfg/INFO] Configuration change: Set 'smpi/privatization' to '1'\n",
            "[0.000000] [xbt_cfg/INFO] Configuration change: Set 'surf/precision' to '1e-9'\n",
            "[0.000000] [xbt_cfg/INFO] Configuration change: Set 'network/model' to 'SMPI'\n",
            "[0.000000] [smpi_kernel/INFO] You did not set the power of the host running the simulation.  The timings will certainly not be accurate.  Use the option \"--cfg=smpi/host-speed:<flops>\" to set its value.  Check https://simgrid.org/doc/latest/Configuring_SimGrid.html#automatic-benchmarking-of-smpi-code for more information.\n",
            "node-0.simgrid.orgnode-1.simgrid.orgnode-2.simgrid.orgnode-3.simgrid.orgnode-4.simgrid.orgnode-5.simgrid.orgnode-6.simgrid.orgnode-7.simgrid.orgnode-8.simgrid.orgnode-9.simgrid.orgnode-10.simgrid.orgnode-11.simgrid.orgnode-12.simgrid.orgnode-13.simgrid.orgnode-14.simgrid.orgnode-15.simgrid.orgRank 0 (running on 'node-0.simgrid.org'): sending the message rank 1\n",
            "Rank 1 (running on 'node-1.simgrid.org'): receive the message and sending it to rank 2\n",
            "Rank 2 (running on 'node-2.simgrid.org'): receive the message and sending it to rank 3\n",
            "Rank 3 (running on 'node-3.simgrid.org'): receive the message and sending it to rank 4\n",
            "Rank 4 (running on 'node-4.simgrid.org'): receive the message and sending it to rank 5\n",
            "Rank 5 (running on 'node-5.simgrid.org'): receive the message and sending it to rank 6\n",
            "Rank 6 (running on 'node-6.simgrid.org'): receive the message and sending it to rank 7\n",
            "Rank 7 (running on 'node-7.simgrid.org'): receive the message and sending it to rank 8\n",
            "Rank 8 (running on 'node-8.simgrid.org'): receive the message and sending it to rank 9\n",
            "Rank 9 (running on 'node-9.simgrid.org'): receive the message and sending it to rank 10\n",
            "Rank 10 (running on 'node-10.simgrid.org'): receive the message and sending it to rank 11\n",
            "Rank 11 (running on 'node-11.simgrid.org'): receive the message and sending it to rank 12\n",
            "Rank 12 (running on 'node-12.simgrid.org'): receive the message and sending it to rank 13\n",
            "Rank 13 (running on 'node-13.simgrid.org'): receive the message and sending it to rank 14\n",
            "Rank 14 (running on 'node-14.simgrid.org'): receive the message and sending it to rank 15\n",
            "Rank 15 (running on 'node-15.simgrid.org'): receive the message and sending it to rank 0\n",
            "Rank 0 (running on 'node-0.simgrid.org'): received the message from rank 15\n",
            "0.161309\n"
          ]
        }
      ]
    },
    {
      "cell_type": "markdown",
      "source": [
        "**EXERCÍCIO 3** \n",
        "\n",
        "Execute o código anterior nas arquiteturas cluster1.xml e cluster2.xml. Há alguma diferença no tempo de execução em função da arquitetura ?"
      ],
      "metadata": {
        "id": "TBYuNxPvraif"
      }
    },
    {
      "cell_type": "code",
      "source": [
        "!smpirun -np 3 -platform simgrid-template-smpi/cluster1.xml -hostfile simgrid-template-smpi/cluster_hostfile ./round"
      ],
      "metadata": {
        "colab": {
          "base_uri": "https://localhost:8080/"
        },
        "id": "AdeaF_48ra4G",
        "outputId": "b39953e2-16c6-4ded-b39a-6347a4852a33"
      },
      "execution_count": null,
      "outputs": [
        {
          "output_type": "stream",
          "name": "stdout",
          "text": [
            "[0.000000] [xbt_cfg/INFO] Configuration change: Set 'smpi/privatization' to '1'\n",
            "[0.000000] [xbt_cfg/INFO] Configuration change: Set 'surf/precision' to '1e-9'\n",
            "[0.000000] [xbt_cfg/INFO] Configuration change: Set 'network/model' to 'SMPI'\n",
            "[0.000000] [smpi_kernel/INFO] You did not set the power of the host running the simulation.  The timings will certainly not be accurate.  Use the option \"--cfg=smpi/host-speed:<flops>\" to set its value.  Check https://simgrid.org/doc/latest/Configuring_SimGrid.html#automatic-benchmarking-of-smpi-code for more information.\n",
            "[0.000000] ../src/surf/sg_platf.cpp:447: [xbt/CRITICAL] Cannot create actor '0': host 'node-0.simgrid.org' does not exist\n",
            "Existing hosts: 'host0', 'host1', 'host2', '\n",
            "./round --cfg=smpi/privatization:1 --cfg=surf/precision:1e-9 --cfg=network/model:SMPI simgrid-template-smpi/cluster1.xml smpitmp-appH7azB1\n",
            "Execution failed with code 134.\n"
          ]
        }
      ]
    },
    {
      "cell_type": "code",
      "source": [
        "!smpirun -np 9 -platform simgrid-template-smpi/cluster2.xml -hostfile simgrid-template-smpi/cluster_hostfile ./round"
      ],
      "metadata": {
        "colab": {
          "base_uri": "https://localhost:8080/"
        },
        "id": "wf7Mxe37rtqw",
        "outputId": "d7c2a7af-1c06-45af-ef7b-22674ae3a8d5"
      },
      "execution_count": null,
      "outputs": [
        {
          "output_type": "stream",
          "name": "stdout",
          "text": [
            "[0.000000] [xbt_cfg/INFO] Configuration change: Set 'smpi/privatization' to '1'\n",
            "[0.000000] [xbt_cfg/INFO] Configuration change: Set 'surf/precision' to '1e-9'\n",
            "[0.000000] [xbt_cfg/INFO] Configuration change: Set 'network/model' to 'SMPI'\n",
            "[0.000000] [smpi_kernel/INFO] You did not set the power of the host running the simulation.  The timings will certainly not be accurate.  Use the option \"--cfg=smpi/host-speed:<flops>\" to set its value.  Check https://simgrid.org/doc/latest/Configuring_SimGrid.html#automatic-benchmarking-of-smpi-code for more information.\n",
            "[0.000000] ../src/surf/sg_platf.cpp:447: [xbt/CRITICAL] Cannot create actor '0': host 'node-0.simgrid.org' does not exist\n",
            "Existing hosts: 'host0', 'host1', 'host2', 'host3', 'host4', 'host5', 'host6', 'host7', 'host8', '\n",
            "./round --cfg=smpi/privatization:1 --cfg=surf/precision:1e-9 --cfg=network/model:SMPI simgrid-template-smpi/cluster2.xml smpitmp-appEMrDj8\n",
            "Execution failed with code 134.\n"
          ]
        }
      ]
    },
    {
      "cell_type": "code",
      "source": [],
      "metadata": {
        "id": "kQCb9jIar0zG"
      },
      "execution_count": null,
      "outputs": []
    },
    {
      "cell_type": "markdown",
      "source": [
        "#**AULA 17 - OPERAÇÕES DE REDUÇÃO EM MPI**"
      ],
      "metadata": {
        "id": "a5QORM3xuqFx"
      }
    },
    {
      "cell_type": "markdown",
      "source": [
        "Na aula passada, implementamos um código para aproximação de PI usando MPI com 8 e 16 nodos de um cluster, utilizando as primitivas de comunicação MPI_Send e MPI_Recv.\n",
        "\n",
        "rand de 2 a 3:\n",
        "\n",
        "```cpp\n",
        "\n",
        "#include <stdio.h>\n",
        "#include <stdlib.h>\n",
        "#include <time.h>\n",
        "\n",
        "int main() {\n",
        "    int min = 2;\n",
        "    int max = 3;\n",
        "\n",
        "    srand(time(NULL));  // Inicializar a semente da função rand com base no tempo atual\n",
        "\n",
        "    // Gerar um número pseudoaleatório no intervalo de 0 a RAND_MAX\n",
        "    int random_num = rand();\n",
        "\n",
        "    // Ajustar o número gerado para o intervalo de min a max\n",
        "    double adjusted_num = (double)random_num / RAND_MAX * (max - min) + min;\n",
        "\n",
        "    printf(\"Número aleatório no intervalo de %d a %d: %.2f\\n\", min, max, adjusted_num);\n",
        "\n",
        "    return 0;\n",
        "}\n",
        "\n",
        "```"
      ],
      "metadata": {
        "id": "TtS8WQlguy27"
      }
    },
    {
      "cell_type": "code",
      "source": [
        "%%writefile exemplo.c\n",
        "\n",
        "#include <stdio.h>\n",
        "#include <stdlib.h>\n",
        "#include <math.h>\n",
        "# include <time.h>\n",
        "int main() {\n",
        "    // Gerar um número pseudoaleatório no intervalo de 0 a RAND_MAX\n",
        "    srand(time(NULL));  // Inicializar a semente da função rand com base no tempo atual\n",
        "    double random_num = (((double)(rand()%2))) + 2;\n",
        "\n",
        "    printf(\"Número aleatório  %.2f \\n\", random_num);\n",
        "\n",
        "}\n"
      ],
      "metadata": {
        "colab": {
          "base_uri": "https://localhost:8080/"
        },
        "id": "L9QfXbTSyZF8",
        "outputId": "c705b960-9f7b-482b-c710-e57ae86f7f25"
      },
      "execution_count": null,
      "outputs": [
        {
          "output_type": "stream",
          "name": "stdout",
          "text": [
            "Overwriting exemplo.c\n"
          ]
        }
      ]
    },
    {
      "cell_type": "code",
      "source": [
        "!gcc -Wall -O3 exemplo.c -o exemplo"
      ],
      "metadata": {
        "id": "RSZusEDOyqlB"
      },
      "execution_count": null,
      "outputs": []
    },
    {
      "cell_type": "code",
      "source": [
        "!./exemplo"
      ],
      "metadata": {
        "colab": {
          "base_uri": "https://localhost:8080/"
        },
        "id": "XHQCSAj3ywv3",
        "outputId": "ec9b87c4-b019-4dd9-930a-a0b12089fdbd"
      },
      "execution_count": null,
      "outputs": [
        {
          "output_type": "stream",
          "name": "stdout",
          "text": [
            "Número aleatório  3.00 \n"
          ]
        }
      ]
    },
    {
      "cell_type": "code",
      "source": [
        "%%writefile pi_send_receive.c\n",
        "\n",
        "#include <mpi.h>\n",
        "#include <stdio.h>\n",
        "#include <stdlib.h>\n",
        "#include <math.h>\n",
        "#define SEED_MPI 35791246\n",
        "\n",
        "int main(int argc, char* argv[])\n",
        "{\n",
        "  long niter = 10000000; // número de iterações para fazer o calculo do pi\n",
        "  int myid; // o id do processo\n",
        "  int nodenum; // o número do node\n",
        "  double x,y;  //x,y valor da coordenada aleatória para sortear e ver se está no círculo \n",
        "  double z;    //usado para checar se x^2+y^2<=1\n",
        "  double pi;    //guarda o valor do pi calculado\n",
        "  int count = 0;\n",
        "\n",
        "  MPI_Init(&argc, &argv);                 //Start MPI\n",
        "  MPI_Comm_rank(MPI_COMM_WORLD, &myid);           //get rank of node's process\n",
        "  MPI_Comm_size(MPI_COMM_WORLD, &nodenum);\n",
        "\n",
        "  int recieved[nodenum];  // declarando um array para receber os counts\n",
        "  long recvniter[nodenum];  // declarando um array para receber o numero de iterações \n",
        "  srand(SEED_MPI+myid);                       //Give rand() a seed value. Needs to be different on each node\n",
        "  \n",
        "  if(myid != 0)\n",
        "    {\n",
        "      for (int i = 0; i < niter; i++){\n",
        "          x= ((double)rand())/RAND_MAX;           //gets a random x coordinate\n",
        "          y =((double)rand())/RAND_MAX;           //gets a random y coordinate\n",
        "          z = sqrt(x*x+y*y);                  //Checks to see if number in inside unit circle\n",
        "          if (z<=1)\n",
        "          {\n",
        "              count++;                //if it is, consider it a valid random point\n",
        "          }\n",
        "      }\n",
        "      for(int i=0; i<nodenum; ++i)\n",
        "      {\n",
        "           MPI_Send(&count,1,MPI_INT,0,1,MPI_COMM_WORLD);  // tamanho do que tá mandando para o master, tipo, master, o numero da mensagem e para o mundo\n",
        "           MPI_Send(&niter,1,MPI_LONG,0,2,MPI_COMM_WORLD);\n",
        "      }\n",
        "    }\n",
        "  else if (myid == 0) // se a rede cair pode devolver -1, então é bom especificar para quando é 0\n",
        "  {\n",
        "        \n",
        "      for(int i=0; i<nodenum; ++i)\n",
        "      {\n",
        "          MPI_Recv(&recieved[i],nodenum,MPI_INT,MPI_ANY_SOURCE,1,MPI_COMM_WORLD,MPI_STATUS_IGNORE); // não importa de quem vou receber - MPI_ANY_SOURCE\n",
        "          MPI_Recv(&recvniter[i],nodenum,MPI_LONG,MPI_ANY_SOURCE,2,MPI_COMM_WORLD,MPI_STATUS_IGNORE);\n",
        "      }\n",
        "  }\n",
        " \n",
        "   if (myid == 0)                      //if root process\n",
        "    {\n",
        "        int finalcount = 0;\n",
        "        long finalniter = 0;\n",
        "        for(int i = 0; i<nodenum; ++i)\n",
        "        {\n",
        "            finalcount += recieved[i];\n",
        "            finalniter += recvniter[i];\n",
        "        }\n",
        " \n",
        "        pi = ((double)finalcount/(double)finalniter)*4.0;               //p = 4(m/n)\n",
        "        printf(\"Pi: %f\\n\", pi);             //Print the calculated value of pi\n",
        " \n",
        "    }\n",
        "\n",
        "  MPI_Finalize();\n",
        "  return 0;\n",
        "}"
      ],
      "metadata": {
        "id": "2TNJDqnxuzLW",
        "colab": {
          "base_uri": "https://localhost:8080/"
        },
        "outputId": "7cb7b7b0-0097-4a3c-bb17-fa4e3c098d36"
      },
      "execution_count": null,
      "outputs": [
        {
          "output_type": "stream",
          "name": "stdout",
          "text": [
            "Overwriting pi_send_receive.c\n"
          ]
        }
      ]
    },
    {
      "cell_type": "code",
      "source": [
        "!smpicc pi_send_receive.c -o pi_send_receive -lm"
      ],
      "metadata": {
        "id": "e_Jax-LzCM0f"
      },
      "execution_count": null,
      "outputs": []
    },
    {
      "cell_type": "code",
      "source": [
        "!smpirun -np 16 -platform simgrid-template-smpi/cluster_crossbar.xml -hostfile simgrid-template-smpi/cluster_hostfile ./pi_send_receive"
      ],
      "metadata": {
        "colab": {
          "base_uri": "https://localhost:8080/"
        },
        "id": "KjBfS-s6Cugt",
        "outputId": "e46c4035-e885-47a9-9f3a-ec7a20ff8cca"
      },
      "execution_count": null,
      "outputs": [
        {
          "output_type": "stream",
          "name": "stdout",
          "text": [
            "[0.000000] [xbt_cfg/INFO] Configuration change: Set 'smpi/privatization' to '1'\n",
            "[0.000000] [xbt_cfg/INFO] Configuration change: Set 'surf/precision' to '1e-9'\n",
            "[0.000000] [xbt_cfg/INFO] Configuration change: Set 'network/model' to 'SMPI'\n",
            "[0.000000] [smpi_kernel/INFO] You did not set the power of the host running the simulation.  The timings will certainly not be accurate.  Use the option \"--cfg=smpi/host-speed:<flops>\" to set its value.  Check https://simgrid.org/doc/latest/Configuring_SimGrid.html#automatic-benchmarking-of-smpi-code for more information.\n",
            "Pi: 3.141914\n"
          ]
        }
      ]
    },
    {
      "cell_type": "markdown",
      "source": [
        "Nesse trecho de código, duas chamadas à função `MPI_Send()` são feitas para enviar dados de um processo MPI para o processo mestre (rank 0) usando a comunicação ponto a ponto.\n",
        "\n",
        "A função `MPI_Send()` é usada para enviar uma mensagem a partir de um processo específico para um destino específico. Ela possui a seguinte assinatura:\n",
        "\n",
        "```c\n",
        "int MPI_Send(const void* buf, int count, MPI_Datatype datatype, int dest, int tag, MPI_Comm comm)\n",
        "```\n",
        "\n",
        "- `buf`: O endereço do buffer que contém os dados a serem enviados.\n",
        "- `count`: O número de elementos no buffer a serem enviados.\n",
        "- `datatype`: O tipo de dado que está sendo enviado. Nesse caso, é utilizado `MPI_INT` para enviar um inteiro e `MPI_LONG` para enviar um longo.\n",
        "- `dest`: O rank do processo de destino.\n",
        "- `tag`: Uma tag que identifica a mensagem. É um valor inteiro usado para diferenciar diferentes tipos de mensagens entre os processos.\n",
        "- `comm`: O comunicador MPI que define o grupo de processos envolvidos na comunicação. Nesse caso, é usado `MPI_COMM_WORLD`, que representa todos os processos do comunicador padrão do MPI.\n",
        "\n",
        "No primeiro `MPI_Send()`, o valor da variável `count` (que provavelmente é um inteiro) é enviado para o processo mestre (rank 0) com a tag 1. Essa mensagem pode ser interpretada como o número da mensagem.\n",
        "\n",
        "No segundo `MPI_Send()`, o valor da variável `niter` (que provavelmente é um longo) é enviado para o processo mestre (rank 0) com a tag 2. Essa mensagem pode ser interpretada como o número de iterações.\n",
        "\n",
        "Essas chamadas `MPI_Send()` enviam os dados para o processo mestre, permitindo que ele receba e processe as informações enviadas pelos outros processos. O processo mestre pode usar a função `MPI_Recv()` para receber essas mensagens e extrair os dados enviados pelos outros processos."
      ],
      "metadata": {
        "id": "6A2gaBsc_2N_"
      }
    },
    {
      "cell_type": "markdown",
      "source": [
        "Nesse trecho de código, existem chamadas `MPI_Send()` e `MPI_Recv()` sendo usadas para enviar e receber mensagens entre os processos MPI.\n",
        "\n",
        "1. No trecho `if(myid != 0)`, os processos com `myid` diferente de 0 executam um loop onde geram pontos aleatórios e contam quantos desses pontos estão dentro de um círculo unitário. A contagem é armazenada na variável `count`.\n",
        "\n",
        "2. Em seguida, os processos enviam o valor de `count` para o processo mestre (com `myid` igual a 0) usando `MPI_Send()`. Eles também enviam o valor de `niter` (provavelmente o número de iterações) para o processo mestre.\n",
        "\n",
        "   ```c\n",
        "   MPI_Send(&count, 1, MPI_INT, 0, 1, MPI_COMM_WORLD);\n",
        "   MPI_Send(&niter, 1, MPI_LONG, 0, 2, MPI_COMM_WORLD);\n",
        "   ```\n",
        "\n",
        "   Essas chamadas enviam os valores de `count` e `niter` para o processo mestre com as tags 1 e 2, respectivamente.\n",
        "\n",
        "3. No trecho `else if (myid == 0)`, o processo mestre (com `myid` igual a 0) recebe as mensagens dos outros processos usando `MPI_Recv()`. Ele recebe os valores de `count` e `niter` de cada processo e armazena-os nos arrays `recieved` e `recvniter`.\n",
        "\n",
        "   ```c\n",
        "   MPI_Recv(&recieved[i], nodenum, MPI_INT, MPI_ANY_SOURCE, 1, MPI_COMM_WORLD, MPI_STATUS_IGNORE);\n",
        "   MPI_Recv(&recvniter[i], nodenum, MPI_LONG, MPI_ANY_SOURCE, 2, MPI_COMM_WORLD, MPI_STATUS_IGNORE);\n",
        "   ```\n",
        "\n",
        "   A chamada `MPI_Recv()` recebe mensagens de qualquer origem (`MPI_ANY_SOURCE`) com as tags 1 e 2. Os valores recebidos são armazenados nos arrays `recieved` e `recvniter`, respectivamente.\n",
        "\n",
        "4. A declaração `int recieved[nodenum];` declara um array de inteiros chamado `recieved` com tamanho `nodenum`. Essa declaração reserva espaço para armazenar os valores recebidos de `count` de cada processo.\n",
        "\n",
        "5. Da mesma forma, a declaração `long recvniter[nodenum];` declara um array de longos chamado `recvniter` com tamanho `nodenum`. Essa declaração reserva espaço para armazenar os valores recebidos de `niter` de cada processo.\n",
        "\n",
        "Essas operações de envio e recebimento (`MPI_Send()` e `MPI_Recv()`) permitem a troca de mensagens entre os processos MPI, permitindo a comunicação e sincronização entre eles. Nesse caso específico, os processos enviam seus resultados de contagem de pontos para o processo mestre, que os recebe e armazena para posterior processamento."
      ],
      "metadata": {
        "id": "6ZlqfXx7AHh_"
      }
    },
    {
      "cell_type": "markdown",
      "source": [
        "### **MPI_REDUCE e MPI_ALLREDUCE**\n",
        "\n",
        "**MPI_Reduce** é uma primitiva de comunicação MPI que coleta valores calculados por cada processo-escravo e os repassa para o processo-mestre para que possam ser reduzidos. A sintaxe de MPI_Reduce é mostrada abaixo:\n",
        "\n",
        "**MPI_Reduce(\n",
        "    void* send_data,\n",
        "    void* recv_data,\n",
        "    int count,\n",
        "    MPI_Datatype datatype,\n",
        "    MPI_Op op,\n",
        "    int root,\n",
        "    MPI_Comm communicator)**\n",
        "\n",
        "\n",
        "O parâmetro send_data é um array de elementos do tipo datatype que cada processo deseja reduzir. O recv_data só é relevante no processo com rank root. A matriz recv_data contém o resultado reduzido e tem um tamanho de sizeof(datatype) * count. O parâmetro op é a operação que você deseja aplicar aos seus dados. O MPI contém um conjunto de operações de redução comuns que podem ser usadas. Embora as operações de redução personalizadas possam ser definidas, isso está além do escopo desta aula. As operações de redução definidas pela MPI incluem:\n",
        "\n",
        "* **MPI_MAX** - Retorna o elemento máximo.\n",
        "* **MPI_MIN** - Retorna o elemento mínimo.\n",
        "* **MPI_SUM** - Soma os elementos.\n",
        "* **MPI_PROD** - Multiplica todos os elementos.\n",
        "* **MPI_LAND** - AND lógico entre os elementos.\n",
        "* **MPI_LOR** - OR lógico entre os elementos.\n",
        "* **MPI_BAND** - AND bit-a-bit dos elementos.\n",
        "* **MPI_BOR** - OR bit-a-bit dos elementos.\n",
        "* **MPI_MAXLOC** - Retorna o valor máximo e o rank do processo que o possui.\n",
        "* **MPI_MINLOC** - Retorna o valor mínimo e o rank do processo que o possui.\n",
        "\n",
        "Abaixo está uma ilustração do padrão de comunicação do MPI_Reduce para o operador de soma:\n",
        "\n",
        "![mpi_reduce_1.png](data:image/png;base64,iVBORw0KGgoAAAANSUhEUgAAAfkAAADeCAMAAAAJtonsAAABYlBMVEX///////////////////9tbnH///9YWFqYyJjK4cdjsm7tHCT7yLTyZUgmJifR0tSTlZianJ+nqaxiY2UhISLw8PG1t7lmZ2nf4OHHyMrz8/Tv8PCNj5J0dXefoaSBgoWAgYRJSUvh4uP19fVFRUd8fX+8vcB1dnltbnBUVVesrrGys7aOkJPU1dZ3eHvDxcfn5+jExcfW19l+gIP2lnmxs7VvcHLc3d7q6+yHiYyGiIu5u72dn6K7vL/uMSuXmZzNztCJi4794tXwVj2oqq381cT+8Or5r5VBqVn6u6R+vYP0f2Gw06/i7+HvRzP1im0nnU6WopmBl4NXXVn3ooe5y7hGlFXzclQ6l1BQYVQLoUtMj1fCUDngXkNidmXFUTpVfVxERUZSTk1aX1yRt5PkX0TpMCpCPj7hak/UoI1RiVtdYF9nbGpDREVfaGI9Qj8pKirnYUVqpnForXAAAABUaFc+gksiAAAABXRSTlNAwIAgYNXW7oQAABAfSURBVHhe7MABDQAAAIIwNvt3Ngic4ZSzXwcrc8JQHMVLF//srsRFIkSRPIEvd9+fEhNwytePka7s9ByYcTHX2fyIiT/1X0aPkCfkCXlCnpAn5Al5Qp6QJ+QJeUKekEeekE/uh84W91Xa/KzOkoLpKnovT/qaBf17Ib8P2iHfZEv2+Yt8lKQSbPkMeeTr8K31klex+md5Hb5+hjzyq89D9JJv6t/IT759hjzyqWZJ2m26JZ/Oa6zueZE0ZfeQLAx9bSZpDu416pp7ZMhHbzS2TXee9lOtRdpt1hJq0eG5KNXf5aOv/euae2LIL8109jS9OeGNinR4bEO2K9T+J6/yxbIkZXuZe2LIK1e1z/Tmra6v+Qa8+nLa1sU7qr3Kpz6plzk9MuRnPxZfda351jfy2v3Q5qN2Syu8ykdPOrvmip4Y8rI9+nRTfvZZ66BU+bLmg50TknZf1oeTI79bCLopnzz2m6QaFKyMfV61yRczFdvGr9fcM0P+cI935Y92zTafz/1+tp9q3/yTSrZ+tu+/XnPPDHlVK3flFw+SornnNN7n62yh7+o2bzbe4kPSNfeMkH8bIR98lPSXEWuekCfkCXlCnpAn5Al5Qp6QJ+QJeUKekEeekCfkCXlCnpD/xc7Z/CZuRAG8qjR+2x5mzJhgGxNjQhbImoQvkbBZ0LISh6pqpe3uqVupatWeeuhp+v83MSRPsR2P8fgjK/kdDcqP8PN7nhlm3nzm38Vs3i9FABvwuxiwdk2r1Pxqc0se43ZnFethuryCx7ha39S0qszPxyQU43mBGeFBKDxW06owvzp4X4z9uxgvDu6tgnLiYGLk8bvwRgcbNzWtdPObYVDhZ6sHQH+2LwF+ESqWRlAFB9MHWnuwl8NrWsnm3bjivgquvs9/rKfHFcBpcPVDu6aVaL5/n97DeRQwX9wXgpzVtz0AMFiUxkYAcNWuaWWYx4wfx/rtu/fqEfDTq+fj5yOywov129bvZWg1rSzzO0KIm3RX4Ivff3k+vktHWwOAnuRJr2klmZ+j2+fUz9DFj6/i44eULhiqeE7GoKaVYr6/kDzKx4QM+w8u4vziK/JojySPOw/AaNe0Msz7hAxXSYD+EGuCsgsOYEwTZRkAek0r1Dx69ZMBM0LIStUFeuXJtAEATGta8eY3hCz6EsCCkF0+LpYAo7aENgJY17TizS8w5ZOSfpiPixGmRVJiGGGa0xVCdJ0yaBgl0rholW3eIoQ8TfngOw4BhoTMQy4m2FslvYsbAAinBadhGQYAC9F6tIVtdTPTmCkEbUho2P6VqtFaUtpjOL3yzW8IGT8BmLSltagZmdn5IRcNmiEvlgBe+BrQmNkPf0rjorFv06ZEYwIs/N/iaRiMnirSTEfjopuGZkL55t+Hiv2htblohcv9OOS3CxnMf4gURMsUNKYkek9pnX13ZnGqROsKFmT0JImGaQiaIs0KEkmT0zidlG9+TMg8+nkt0Q0/E4Yhv9DNYN7b1zoMGhTVaN004vxORFeJBhTvbSnNpJamRDMp3rPJNIs2WPnmgwlb5PNq1Iy8LeSCmlQIkx1nHic1GKc07m1xfk3BVWlBznMJDZ8v6jSTOlKaCVo15uOeuhQk5ifCtDQGYnKsCy2reccUoCnQcDBlpaD1epqmRMN+ojJaQ7CvxTyGJcyyzHMqTEfdBeuJroSGxlRpp0IAk9Es2tG+PvMa0JLMm0J0cnDRESg+yTxQJ5ecZyCYhGb2tKrM97M853kjo/l2JvOmAKzRmWkWCMolNKxlCjQMJroSGohDOOWav80wtscZknPknPcKgEXNy8f2LTShQHN6KDSBhuM7FZqzV+4gMkrDYJXM5zdZ5vNMANMsk1rHznmXEfPy+Tx2ZFeidYIHRhIN3zlRouEYkSETaS/C/IaQ96EnN9NYzBre7tEFrk2KrnX0Gt4HuXkdYP2U1hP76GSmoQsJLQgTx/+ZaY37dacW9BwJDc2/0HX7rcRv+rVtqXkDwC6AZmEf9yJpqB7wVyYJrarf6mal/lY3KPPXMznNrohWvXmfkEWKJV43HxccYJRiGVSvacWbXxFp0m/z25MzBWli2AAwrWlFmsfR27Av2aKZ3z48HcBoy7Yx6jWtWPO4EW8suzVW6i5ws5onkzWtaQWbxw2WbuK8j/j57RIfJO9JXwIAr2nFm8djNEn3xTjNyZBff0l/AElPMuXF0z7+9zF0DqVI2m9/fCmUdvL7P9WfsdH6t8+r3+GRSslpsE9/Gnaqmnj1vIw1HjuM0j7/Gzp7ViTt86dXRdIuz//6u+Jzdaj+1oprp4Di5aE3r8/Syri6iW05gCqicXIRMVgYzW6eICB/mt50qz9Li8eoibsKXfVJKvHo5q14e5LyqDHo09BVDpKDxpfNdxFkQTQDEzd/2uXFxeXL6ZmxI4H7LQK27jC41D+GeXad6m5eQ2DDRpqtG8GldhLgXVPyjSnT5CmvTtOF/qL65MwfOuPs/M3G98eBdrLYHku1L85TZCZ76B6z5ssl514gAka2BKBfSIyo0eQpr047w4Sv2DzGbEFCsdhk4b45TzPUG4wgFKOlHHB9Leer0y4x5fOmuU39pfXGwgJ/iKG7zQg+0ZuvJUM9LIKHMHQ71Z++eCvFq9Neo518aWfGuf1Se2BaW993Xd+fWSrok9dCT5M2Nzbnus754EYGwHR8I2Gr085CKa9K+5+982lx3AiieMih+lCSPLYk20LSGhnpYIPZizAMBh0kJGMM9mVhLwmBQP4dA/39CT3ybodx8ISaVtYd14O5zMxB8OOVn6jCT585BM/h/77ZYOkP9OISBRsYWEUBQyjc5tFDNBtEq2Em24d8YN8s5RIG0E4Z/kGaDdaBP4Q/C99Cy4fbYGdpswE96hmTTnnWWX4XbMPHajZYFsFTaJxNsLbL8mER7B6v2WDjm+cUyeFSXhgYt3yUb8OH7LSI8jwyniAGm51Ppi0fPqv1jO3k6VHPsJGKlS2Wj3J/+cA9NuGTLMy6dFUMZHkfTEnvYy0gb0/UC4P1MJaPjIac1WrJ3VWRn5uEtZGb+7a83sdya9kuX0Umw8Pyri2vDzCYPMAHk1GvWIXGn8+Q5fU+lsnrqPcc3m/KyyNzG6t8A0z+1b2WKS+EueHcvDZheb2PZfKDRb2N2SQOpp4r1AcYTP7qXusOU946H3Ify+T1ab4BPa/Ce7N8uNWTiMm/dZpPl18YtPzA+1gmr0/zTaS8p6EsTz/AYPL00/z609n9d/rzhx9dI/rlJ5escl/rfSyTp0e9fYPWyXXUPnYNwOTJ91qt4v65dOzRoXQR8fef/SUwefpp/qHCquzAMtVHxF9bYPL00/wDYlODhWobrFomTz7Nrys8gp3qGmw6Jk89zXexAVvVVXhm8sSo52BVg7VyEGsmT7vXcrEEi+XimckTtPF/o5tGyJmuWoxhJHul8VVblWoQlGLcfwW5bkWL5dd/y6QAkg54YvIk/YENkMl/aSbyevJp334jNHldUQNxKtNr8tnX+k0BNFXYMnmKSvqwF9mF70RmmjwkcvJ38rqGQ8j5a/LZpc9g4XmCPO4d+I/F5MUsuzQCpZq8oq5+rusOp8noNfnE6//kLcjkz98gpzD5yYtl53J8k/xIf5xfkV94/dD4SCZffgPyTB68Rd/7l96a9pCqfJdM/on8Rznpa8TsIs/kXyybCUhvJjwYC6k0viYP2UwNjcQy8kxeWVY1lac33+qUJkmm0F+RH8u5GhqWkWfyyrILL9ae73VNvoc9u9QIavIqJKihQSfv4oHJU7RHl04elGW9FG6TVxWLSrEUuopyJuMX8jDL1NCgkz/x+zxNNWJHJ69Iyukb5Ccy0ble9E2LsSegJz+RMy+mk2+xAiZPUoOf6OSVdzN4gzyIlw65qRAxwMgTU4CR8OYX8uDJFOjkj3hk8tRxX3V08srQN8nrbJ/1v5onKgYmc/hCfiGndPItosPkiTrhEaxVg5+BKCbv4CCLzqm8SMBwOmJVM3my9mip6ztXz3omT0TfOBY+doXVHpj8e3SoEE+lU4M1ag/nE+KpBSb/PnVlhdapKgGY/LvV7Y+uRfRP7vnwF3tntNo2FoThsjAnJBd2jVv7lHZlUkWIRApGEhSti5Ev8gDdi4TgV2hLy67en3KEq8FHccZgWpjT/7tIaOO7LyOPcqz/Nwbmf1Nq/umNNzdXep6PhXk5Nf/4XsPpjZYH4mF+mJp/Qq/hm6ujEh544GFeQZQq9xoKIy/nFfPAw7yC1Hy/11DuoZQDymFeT2r+h6kxJ/RQ3noB5TCvJjWfG2/kkZcDymFeQWq+0HjDIy/kFcO8rlVP7jXk6lk5oBzmFUSpir2GcvWsUBgN83pS85OpUD17dEA5zOtKzX99nRxbSicURsO8ntR83vLkHko5oBzmFaTmS403SSIURsO87lWPew3lkZcDymFeX2p+ci2PvHweC/MKU/OvE6+HUt95LMzLqflir+HL5ITCaJjXlZp/274RRp4DyhUB87Ysay81/3DjzctpCOexMG+zPKWOqlnX/qrn9xpyD+WwMFoRMB9nFe2xKg5+Xmua8MjrPo+F+ThLqYPSPKcd1YZT8/1eQx75QWG0ImC+rMjRFHb37/WKHHnMqfnDXsNoqvw8FubX3YSvY8OYOnLqU8up+YMtj/9P5wcwYL5znMXGo26c+4JT871ew5up1vNYmGfxK2ueoEhZvVv17s+Zz1++/nvO3HNhtBJgPnPiY/MkNiVKLafmP2x7Pn37vmUe1R3PwHzJ4g+or/qfPm4vmP/+v2C2D0YXMB9XnngPS0T9Yr/dGg/+CcwrvNZbae8vYT444pQoM8+SE+UwH+LIV/IiQBbmQyPt7trEoY9gPjA2RGl8zIv2/V5O+uaq+QzmNXLHizv3lLWL4YWh7P1yBOqy7cKwlzCvkNy/2M9HMzMbzc0eDVHG5s1k5My717qvoznMK4SIarODp3nSzvwbu6Y3P9nVl7gsY/4K87qIici71tuus2rhb/e5Yb9mzDPvOutgXhGsdOVd7E1/BWcsUfWE+WU7d/otzCuDh5k525k/G7wpeOb7bbBd/HG7PczP3bd3rc4ND+Yr2Ty/KbB57iZdtEuY1wcRHXifFzY8vquftDOY10dKZOXdPiOKhubHP2d+DPP6yInW8v18Q7QemjcL923i/MO8OjKixlvxxmY8mg/u+q1v3jG57IqrYF4hlohq6e/2BVGFs7rQqIgy+TV0B/OhUcjHtAUR1SGax6exIvEjmpGB+RCHnjbScxg1zAdITpTa56/1mYH5AKn5WYoD4lfs9yAwr5ANeVPviU9jmA8P1luYIXHEvxRhAfOsnvLaeGyqwMXDvClT5z4qDWOKnPhZS5gPlbghRxUVZWxMXa6blIi3epgPPCnHJ6oNA/PBUjZ72tM79g7zgRNvsnzlpOdNZs0vBeYBzAOYBzAPYB7APIB5APMA5gHMA5gHMA9gHsA8gHkA8wDmYf5HO3BAAgAAwCCMw/tnNojuUwoQtT0ysSTcmQAAAABJRU5ErkJggg==)\n",
        "\n",
        "Também é útil ver o que acontece quando os processos contêm vários elementos. A ilustração abaixo mostra a redução de vários números por processo:\n",
        "\n",
        "![mpi_reduce_2.png](data:image/png;base64,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)\n",
        "\n",
        "Cada um dos processos da ilustração acima tem dois elementos. A soma resultante ocorre por elemento. Em outras palavras, em vez de somar todos os elementos de todas as matrizes em um único elemento, o i-ésimo elemento de cada matriz é somado ao i-ésimo elemento na matriz de resultados do processo 0."
      ],
      "metadata": {
        "id": "ygq14qQyAeAR"
      }
    },
    {
      "cell_type": "markdown",
      "source": [
        "Muitos aplicativos paralelos exigirão o acesso aos resultados reduzidos em todos os processos, em vez do processo-mestre. **MPI_Allreduce** é uma primitiva de comunicação MPI que reduzirá os valores e distribuirá os resultados para todos os processos. O protótipo da função é o seguinte:\n",
        "\n",
        "**MPI_Allreduce(\n",
        "    void* send_data,\n",
        "    void* recv_data,\n",
        "    int count,\n",
        "    MPI_Datatype datatype,\n",
        "    MPI_Op op,\n",
        "    MPI_Comm communicator)**\n",
        "\n",
        "Como você deve ter notado, MPI_Allreduce é idêntico a MPI_Reduce com a exceção de que não precisa de um ID de processo raiz (já que os resultados são distribuídos para todos os processos). A próxima imagem ilustra o padrão de comunicação de MPI_Allreduce:\n",
        "\n",
        "![mpi_allreduce_1.png](data:image/png;base64,iVBORw0KGgoAAAANSUhEUgAAAfkAAADeCAMAAAAJtonsAAABlVBMVEX///////////////////+YyJjtHCT///8LoUtjsm7K4ceanJ8mJifR0tRtbnH7yLTyZUiNj5KTlZinqaxmZ2m1t7nf4OFiY2V1dnn19fV0dXfv8PBJSUshISKOkJOsrrGkzaPw8PGBgoWfoaQmpVLq6+zHyMrW19nExcd+gIPz8/Th4uN8fX+ys7ZFRUeGiIuAgYTDxce7vL/NztCoqq28vcBtbnB3eHvn5+iXmZxUVVfU1db2lnmxs7Xc3d6HiYydn6LuMSuJi45vcHL94tXwVj381cT+8Oqw068Xo0+5u730f2H6u6R+vYNrtXPi7+FBqVn5r5WLwo5xt3n1im3vRzPzclSZrJtXXVknnU73oodrem1UYFZlrG1liWlMj1dVfVznYUVUaFfgXkNYWFpegWFmi2qGsojkX0RfaGI6l1BAllNncmrhUTpSTk3Rd11CPj7FUTrUoI2BWU3qMCrwqZDlRDB+a2Sfx5+Jm4uBl4ORt5OpvaljcWaSpJPCUDlcaV6wxrB6inxhrWtisGwAAABknmvKNBt9AAAABXRSTlNAwIAgYNXW7oQAABLmSURBVHhe7MABDQAAAIIwNvt3Ngic4ZSzZzcrbsNgFIZLN2ehTwsjyVBLK29mKHThxdyRbuXcd63IYZSGJtBF65meFxwE/uIsHvxHvuK/TJ1CXkleSV5JXkleSV5JXkleSV5JXkleSV5JXvJK8onc+momJ2DhpRIAVMNYm0ho1XrZfpNVfIgkv/aVO+Q9gBwZ7uUdbfk88pIvh28p7/LIVu7lS10sfxp5yU8M2Ns4DfKodie/0QW6Ud4mX5k/qLzkU4nYW80/kV85N9VRfjUywxUyzgB8JGuyetVfDECoZHEArnNnSfKOTcMW//hqny223dsob9UDqwXMtWRsjBmp3Mo7TpePYe4kSX6mAwKTf/yE5/rYOsq34Y0OQLYVtfQjjvLZIvaiDXMnSfKIBW3zj9/qar802CjffCfOF9sys6PaKJ8u3hjncJYkH7jNnDCc870bec+jMMgvjZdH7futOso7JrSGuYyTJHnY6uifyE99x8z4i/x0pcx353w1BIbj6XA6H7nkV6sVT+RL6YtIP8ofRwBKRbV8vc+XJp/NkG3pe4e50yT5jXSP5d/v147TrTyiBWDl1p/tfbEKTEzI0azPt73D3GmSPIrlJ/KVc19kK/lWHs7ImI73+RKaPBbSwmLHW3xNw9x50391SvKVRwl/mNI5rySvJK8krySvJK8krySvJK8krySvJK8kryQveSV5JXkleSV5JfmX1x97ry/f8Dfyb2HvzX/Xr/1T+Z/snFuP2kYUx6tKFUnxIGEbG7ChXSjswoasYReW3YgNyr60kXpR+5I89KLqtFUvn6B9nn7umkv4F3vsA8QDLz4PeTCsfjP5+Zxh7JnpjK5Km7i6cfR6mM5uaRO384ecdirz581SJJrnGjMioEgEIqedwnxn7b3XHITR7K3dO5pyYm1iElhhBJO1jYecdnTzo+qywl903gFqF6sSMNChYuYuq+B4+o7WH6/kWDntyObbquLeWV69q2WuwlQVwOny6qt+Tjui+doivauKQf28tygEGavvB0TkijhNTBbJ0s9pxzCPjG8q/dbaC/UAfP5RUnz39NvEz76OZUWg9Ns3FzIYWk7LzvxNaLeddlfgw6dPDomP/0+bE5GZVitNhpbTsjJ/DrdJ6i/g4suEvPjiyVcJn3yz5UJARZKMMUPLadmYr/WYobxZKlVrGxdJ7M+efBoFqP6mP2GGu4DI7TO0nJaJ+UEotpN6a1RRE97bhUXkTtNofZfIzGkazcMrO2e/COt9JxsXfZed146JaJrT9JsflUo9btoWjgc32biYEU36DG1CNM9p+s33kPJpSV/dz4UjhdLFBGmRlhhulOa1pJQtT0Vz6vgoAxrnouhLWXeyplmyEqOh21rMO2El3075JSwCCEeE8wh7iLNVFObLavMPRBRNC8uIynCJRITmGxWcpLtN831RED7tQhO2lEaRpRXlKowtGk6G9dCQNFqFp20M+yrz6Ham5lHsm1sX7BBWMezYzG4QYReNlJxvSbX5GVEQ9UyGYvZjbdMsWVwdvh6nWdJaChnyNCHJQd/UNIQw6goXho2GcDTbW50ezNNsUplHt3WYv0Oxx2l4OMkU5b4ZYbco0XxdygTzr2IF0bGloSiJAWgoIZ5UuChKsWo2T2tJgZskiYY0JIULIcubf1maszoAmqdZxlBlHt3WYb4Z1vF4ex3Zio4J1QibWkrz8KEyH6xqHcJAUUU8ELmgIYayFaWBV+FpZODeZmm24RSUOb9KD55mG5CXTnOMolCZR7d1mMeEDe1ddjD2tQjbsENrttjPPCY1iDrM42ukMm9LS01DCU+hoWkWQ0OhVY/zDhFLg3+PpdlUUJpHtzWZV426BjHmh9J2CoLkcF/zhUPNe7aM1F/ApGGxNPyYchgaDv9V0EiGwdNwo7B9K0oRM6/s9unNIxxpH8u8ZUg7PqvDXVHcjSZ82WJoMBaneb5f2Z1Wl5IER3OMciHZPLp9evOqr+s3b0tZVrlAju5EK0uITzNPhhenYajwjR1zXpAUDM32C2rz6LYu87VDxnmreKD5/kHmbUmOeiZBPhrC0RyShsXRUMvUv7ZXyewxNMztWgyN5Dq8CA3d1mL+6oDf9pgheUZ9L/O3RCJunv9tX4EJ0NDgMHziaZ4PoUk0TKRTc95nad5KuSdtlpaU8+i2pvn86JD5vJChQwdTH8Y85ryzmHl2Po8T2ZUzbNsJGyKHPK2MyplAwzeHalqB/MqiORZP8308AFDRePPotqZneHeRkVsUhOIZ3s2GjWeTsuXsN6ubEb3izZtE822aL1dR3qahIbZgaHCRRkOVdRLMe+UFrbIDrSjrYePI9xJovHl0+6TP7a/f8w0Tnm2z5l2irgaag3PcddKgnvC6haGd6l3dRabv6hDq91njfd5n6ad1j087tXksyent8Ii3nY0Li2jC0QIiM6fpN98psUl/nd2anCmxidElomlO02kev96qNWaJZnbr8EwsQowGljGaOU2veSzEa3K3RicrF32XKFBzIGua0zSbxwLLduq8rzTIbpX4OH1N+oyIrJymf709ttGk3RfNLHeGmGoZMBWoaW9/fntE2o8/6e+bOv74k6FlaL52laz+Blsqmd1g//7y62+77Abr3ybLmGPbYZz25vfI3jOdtDd/A6afhvjnL/nD90fZVwf1V47qOAWI58NsPF6mgyDj9kF15ABUKOLsPmZQG63bOANANw1x+Uw+uzzWXlpsoy61O5GrgxIjPurmpXx5tuNWYzKnkasWMf85LxqvY0hNNBeJq4fGe9dvHlU9dH8NwHW7urxU24d5+dho70Cb09JGF7Su6S4vpWbF68aLGFEDDSmvk8Z7128ehySE0bwZjEaDQXOpvdS73pfavX++Q2aKd6fHzK3ZzLKCpQiadBmAec8YyYaGlNdF473rN4+4WLtH9EaHcD957nZ52nhCkZjMeMDjIwPPhPYCKa+VxnvXbx4FfhNVlP4948xscP1AEVyHi/KYFmf3Lxl4FrRnSPksaP+xdy8vjhtBGMBDDt2H0WBZsi0iSwjZoA1Ya1hCLpZYI9YPGPtisPewtxAdcsn7dcyp/++4V95UWGXG43Irci1Vx9kFDf7N11PD9PjznHN5h9ervWaDwVcvX47HxzfBHMgrJk6V85zYvE5c13Fc9+vXzwXMwugCANzTJpjI45+Whk78CTUbTDxY9YxOEmay4UlTkwwId6rysOolTbiMp3HDGGrSrjv9ZoMo9JrIZ+p9IpFP3oA7JXn8qocf2PLoRz7xwL0FeZLH2SSMqEQe706/2SDzzDslqrktLw4n7brTlwenqfFVLwoby4uTtu9OXx6gPMNBSmd0Io93py8vY0elZlM6ayiajkfBHS9Pf9WLw6iZyCcE3InIwyk3NYmVqYxW5PHu9FvLHqazxOTyMKETeXAnLY+fsclVL50ZD9DYI+BOTB5WvXl8u1veNCHgTk4e7ms5hpzi6dgsUOQR2HAMyNNf9TLDmzgAGXdnebivdXtbXjRt0p3l4Wq+gZnP4luOfATuLF+7mn/deOntRj6agjvLn7maj9jynBuMPLiz/IVX8xfv9vbz5pu/vrWNzHc/2+jJd4vz7ix/ftXbLQW5sTs1d5a/8L7WSru/zTt0Zpvb+lNe19xZ/pKr+dtCFPlaEpvFRohiBe4sf/HV/K0Qy4UkOKulpgd3lr/sav6iEBtJc9ZL8f0P2p3lMVfzbbGUVGddiB+lZHnUqtcRxUKSnY4QC5bH3deyRS4Jjy32LI+YzPsJH5pS9aAsbyjvVTX+sNZWpRsEVXlXtY9BYcFQ/fPfAlXiALbiwPKo+UUsJVr+QzORVcn7VQ1MCfJQUSOHvvLr8sGHdiasvCzEiuUxk4scLR+cfF0VgPzR1P23PNRwlGrwsXxw6jMYWRZW3had/5uZ5ctecGoE8kFeq2v5eu9fv3v/sXzXqv7JGqHl9y3sKSzvvo/sQN09KX8P385r8iOrOjReoeXzFuRZXlqjqkfFf+S0h9bcsuv+l/wr5VY1YrTkWX5kVSVWfn3Dq7WM6OTX5GXQ04dGl5g8y+vI6spu/5Gf6mDcbqDpa/J3aqAPDWLyLK8jO7KGkPlq6vIVdu9UIwjyeknQhwZe3hZblsfMTthXyOvIWr58XB4qFuURuoQqyp4aanldFaoPDbz8gX+ex81CiDVeXkuq/hl5V3Vhry+rpsXhUbqSd1XPGuLlV6KQLI+apXiHl9fZDeQZeVm+75Drl+XwyG+VfV0bbA1O8tJSvsTLb8SG5bHHfbHGy+tAPykPu31QfWjQVcfpDuQH+ZHq4+VXQnRYHjkHSA3FE+stFovlO6KRX3T21WnKBgE2+MsFLJ94vwqiqV/b6LOe5R+8aSR3Qiw7BDeUQvz2u2T5a/4caVsIccg7Czrqq+3+IMQff4ZpxvJYdz3rvBDkpsilnMzDWRSzPM69st9tbEL6B3u/PQFEng4+yyPc231jai+6FgCCz/Ln3fGvt+eYfo9eE2bR7GzwWT52rnnnlAgH1fyXUpY+GXyWj53wCncZhw/ma3IMecUQfJY35A4z9wDgxkIPwWd54+4yg/Xu5kIPwZ9PWB7hjo5n+6GH4HsRy4M7LL8trHf4nkJ88Fke0cKKWu/wk84BgFbwQZ6AO37mb6jUlkHw25en7y6zcEKntwyC36I8fXdYxIiEHh98+vLm27ajKa2yQnzw6csnusOIQO0IhJ5I8PHy5FpYYb2jV1cIwW9Bnr67TBDrHeJIIRB8tDzR1uUZrHcUCwsh+C3IU3aXY1jvqIYegk9AHt3mERNjgdATCL5x+cGLF1802+qAf1qKXu/gacjQm38aBL99+b/ZO7teV4kwChtvUKFvUksRSsVjCQJRbEp70+OFP+NcnHPJj9BEjV/zv2Vg27Vb6Ie+M1MuZl3s7OzV5FnT9U5aKN3kh4R6lcc64/fOp/Hf3o3TuJueT8PGf3rzWRXSmZKC0bsW2tsUhr614a6FmmnY+M9sPjrQi8okOf2aM3pXT0vfwtC5tq/A0UzDxn9a8/tuSsO0yHojr7YkdYwYvTNonBdgPg1L0E/Dxn9K892YlsVZuCzt/hj8p4MVXE7LoDHOqfNp+GjAFA0b33zzMllYD4wskX8PGJdZMWiMy+RYNGx6bTT+xuc3j7jbbMypLwJ/dlVvfvr5w/tfxj01tF9/e0V7A0MH7d3vYGmnQX/8+eH9u4dp/OYPRJRG414engX+5H9JB83S+M3vZdyrbhASbV/l/fSKbjlqaH+ZpP1tdm2P0RQ3H8lA0e3BqJB34D/o8GmWprj5lCjMnBuqiChTldfSJtN8RkS1c1MlUaoor6Wlk2k+xYvPNeUYVW5eS6Ps6c3jtalw7mhLdODlBc3SJtJ8QVQ+/CCw1+7pXlD+Eg4sqcCbw+HRLE1582k/hFDQRvA6JBQRUYZUpxsG7ET376V3JweWlC+Q95IGbVaOKdqiEaJZmKK5a400fvMlUf7aiNdN4Lg9E0qICgds1+tD+Z40PR9OZ51WjkkdpeGGUmZorvDlD9cUbdOOtVjoofGbJ6IzYy5mrbHy4svDkcMprytadaG8Bj9bB5ZU4C2R94IGLRuB5jXT1mtUaorm+Vpo/OZzonIk7+JiVPdEiQO2M8Okyk0Lp7c6NSsHea/QZqIVmtdLi8UKs61/bX3QxlOyNi3NJycDM7rroFA+nncnfBk6GMvrejHyXqHhGdJOg3wRGKJhG3NpupvHvpiJ+SN5nY1otYEDS84Oo3ldNBlsbZDmi50K2uSa92WoufBH8jaNw2heH20hxMIYzRPCjxXQptU87va5EbtBXlfMGM1ro8U+itdIgxbemk/T0nxAFD7wOl8M8+KA0xXLQd65eNESDmjD5s3Qlp5oZiZokCsWqmjqj+qi++/tD0TVMO/s30mdDfJKYVKv0dC8EdpOIJt22rKtHJ0qp/Gb3xLt7x7P41HI2yd1+zMW9/OCNtq8EVrTbSlDtEBssI0ZNG3NHy6uIom9Jh6c58rOzzkilLvubwV1Py9oY82boOGeVmbWturK9HwGTWvze6Iwunfevibacj9hAm3YvBnaQrwoNrO2uafxmeQ37zzy2WJJVPPygmZpU2m+Iiqj23FrTDM3b0WWNpXmo5CoeuARvLygWdrzm8eoUnAr7xGDys9radNp3imRZ0w1LixUkNfSJtR8QLcuEy+I6KjqmyGWNpXv2CDSNrs2pyiKn9fSJtM8Aof7ESM6Sgc1cWVpTClsHoHpOMhVhJhhFbK0aTWPf/SQBg4UFSW1SiJlqSxtYs3jq/1E5aHI24BBXh1JKqzVhbK0STUPFSUNlGbKIlna5JqH9keC5NQqTGtpU2weivZVsiWiMEnrQFUYS/uHvTumAQCAYRg29Rl/xuVR2RQCIN5VDJRHeZRHeZRHeZRHeZRHeZRHeZRHeZRHea7twAEJAAAAgzAO75/ZILpPKQD0vSt/vWO0VAAAAABJRU5ErkJggg==)"
      ],
      "metadata": {
        "id": "66jn4NA9Amdc"
      }
    },
    {
      "cell_type": "markdown",
      "source": [
        "Claro! Vou dar um exemplo para ilustrar a diferença entre MPI_Reduce e MPI_Allreduce.\n",
        "\n",
        "Considere que temos 4 processos MPI (0, 1, 2, 3) e queremos calcular a soma de um conjunto de valores em todos os processos.\n",
        "\n",
        "Com MPI_Reduce:\n",
        "```c\n",
        "int my_value = 5;  // Valor local em cada processo\n",
        "int sum = 0;      // Variável para armazenar o resultado final\n",
        "\n",
        "MPI_Reduce(&my_value, &sum, 1, MPI_INT, MPI_SUM, 0, MPI_COMM_WORLD);\n",
        "\n",
        "if (my_rank == 0) {\n",
        "    // Aqui, apenas o processo de rank 0 possui o resultado final\n",
        "    printf(\"Resultado final da soma: %d\\n\", sum);\n",
        "}\n",
        "```\n",
        "\n",
        "Neste caso, apenas o processo com rank 0 terá acesso ao resultado final da soma. Os demais processos não terão acesso direto ao valor calculado.\n",
        "\n",
        "Com MPI_Allreduce:\n",
        "```c\n",
        "int my_value = 5;  // Valor local em cada processo\n",
        "int sum = 0;      // Variável para armazenar o resultado final\n",
        "\n",
        "MPI_Allreduce(&my_value, &sum, 1, MPI_INT, MPI_SUM, MPI_COMM_WORLD);\n",
        "\n",
        "// Todos os processos têm acesso ao resultado final\n",
        "printf(\"Resultado final da soma: %d\\n\", sum);\n",
        "```\n",
        "\n",
        "Aqui, todos os processos têm acesso ao resultado final da soma diretamente, sem a necessidade de comunicações adicionais. O valor da soma é retornado em `sum` para todos os processos.\n",
        "\n",
        "Em resumo, com MPI_Reduce, o resultado final da operação de redução é armazenado apenas no processo mestre (definido pelo parâmetro `root`). Já com MPI_Allreduce, o resultado final é retornado em todos os processos participantes da comunicação, permitindo que todos tenham acesso ao valor final sem a necessidade de comunicações extras."
      ],
      "metadata": {
        "id": "69S8nZP1Rr5S"
      }
    },
    {
      "cell_type": "markdown",
      "source": [
        "O trecho de código abaixo mostra como aplicar MPI_REDUCE para calcular uma média de valores produzidos por processos-escravos:\n",
        "\n",
        "######**AQUI USAMOS O REDUCE PORQUE APENAS O NÓ MESTRE (ID == 0) VAI TER ACESSO AO VALOR DA SOMA**"
      ],
      "metadata": {
        "id": "HnBs3G-CR-ON"
      }
    },
    {
      "cell_type": "code",
      "source": [
        "%%writefile reduce.c\n",
        "\n",
        "#include <stdio.h>\n",
        "#include <stdlib.h>\n",
        "#include <mpi.h>\n",
        "#include <assert.h>\n",
        "#include <time.h>\n",
        "#define SEED_MPI 35791246\n",
        "\n",
        "int main(int argc, char* argv[]){\n",
        "  int n = atoi(argv[1]);\n",
        "  int nodenum;\n",
        "  int myid;      \n",
        "\n",
        "  MPI_Init(&argc, &argv);                 //Start MPI\n",
        "  MPI_Comm_rank(MPI_COMM_WORLD, &myid);           //get rank of node's process\n",
        "  MPI_Comm_size(MPI_COMM_WORLD, &nodenum);\n",
        "  srand(SEED_MPI+myid);  \n",
        "\n",
        "  float *rand_nums = (float*)malloc(sizeof(float) * n);\n",
        "  assert(rand_nums != NULL);\n",
        "  \n",
        "  for (int i = 0; i < n; i++){\n",
        "    double elemento = ((double)rand())/RAND_MAX;\n",
        "    rand_nums[i] = elemento;\n",
        "  }\n",
        "\n",
        "  float local_sum = 0;\n",
        "  for (int j = 0; j < n; j++){\n",
        "    local_sum+= rand_nums[j];\n",
        "  }\n",
        "\n",
        "    // Print the random numbers on each process\n",
        "  printf(\"Local sum for process %d - %f, avg = %f\\n\", myid, local_sum, local_sum / n);\n",
        "\n",
        "  float global_sum;\n",
        "  MPI_Reduce(&local_sum, &global_sum, 1, MPI_FLOAT, MPI_SUM, 0, MPI_COMM_WORLD);\n",
        "  // MPI_Reduce( void* send_data, void* recv_data, int count, MPI_Datatype datatype, MPI_Op op, int root, MPI_Comm communicator)\n",
        "\n",
        "    // Print the result\n",
        "  if (myid == 0) {\n",
        "    printf(\"Total sum = %f, avg = %f\\n\", global_sum, global_sum / (nodenum * n));\n",
        "  }\n",
        "\n",
        "  // Clean up\n",
        "  free(rand_nums);\n",
        "\n",
        "  MPI_Barrier(MPI_COMM_WORLD);\n",
        "  MPI_Finalize();\n",
        "}\n"
      ],
      "metadata": {
        "colab": {
          "base_uri": "https://localhost:8080/"
        },
        "id": "SBVgIPJqhwZA",
        "outputId": "3253fad1-1708-4d7c-f3e5-88f156317ee8"
      },
      "execution_count": null,
      "outputs": [
        {
          "output_type": "stream",
          "name": "stdout",
          "text": [
            "Writing reduce.c\n"
          ]
        }
      ]
    },
    {
      "cell_type": "code",
      "source": [
        "!smpicc reduce.c -o reduce -lm"
      ],
      "metadata": {
        "id": "azG32kFehyFH"
      },
      "execution_count": null,
      "outputs": []
    },
    {
      "cell_type": "code",
      "source": [
        "!smpirun -np 16 -platform simgrid-template-smpi/cluster_crossbar.xml -hostfile simgrid-template-smpi/cluster_hostfile ./reduce 5\n"
      ],
      "metadata": {
        "colab": {
          "base_uri": "https://localhost:8080/"
        },
        "id": "1iQ3sr73hyN9",
        "outputId": "f9cf398f-6a99-48b7-a2e6-64f3d4753236"
      },
      "execution_count": null,
      "outputs": [
        {
          "output_type": "stream",
          "name": "stdout",
          "text": [
            "[0.000000] [xbt_cfg/INFO] Configuration change: Set 'smpi/privatization' to '1'\n",
            "[0.000000] [xbt_cfg/INFO] Configuration change: Set 'surf/precision' to '1e-9'\n",
            "[0.000000] [xbt_cfg/INFO] Configuration change: Set 'network/model' to 'SMPI'\n",
            "[0.000000] [smpi_kernel/INFO] You did not set the power of the host running the simulation.  The timings will certainly not be accurate.  Use the option \"--cfg=smpi/host-speed:<flops>\" to set its value.  Check https://simgrid.org/doc/latest/Configuring_SimGrid.html#automatic-benchmarking-of-smpi-code for more information.\n",
            "Local sum for process 0 - 3.402148, avg = 0.680430\n",
            "Local sum for process 1 - 2.722395, avg = 0.544479\n",
            "Local sum for process 2 - 1.557424, avg = 0.311485\n",
            "Local sum for process 3 - 2.890257, avg = 0.578051\n",
            "Local sum for process 4 - 2.195877, avg = 0.439175\n",
            "Local sum for process 5 - 2.030373, avg = 0.406075\n",
            "Local sum for process 6 - 1.876693, avg = 0.375339\n",
            "Local sum for process 7 - 2.168331, avg = 0.433666\n",
            "Local sum for process 8 - 1.521119, avg = 0.304224\n",
            "Local sum for process 9 - 3.340721, avg = 0.668144\n",
            "Local sum for process 10 - 3.670840, avg = 0.734168\n",
            "Local sum for process 11 - 2.003556, avg = 0.400711\n",
            "Local sum for process 12 - 2.330901, avg = 0.466180\n",
            "Local sum for process 13 - 2.655860, avg = 0.531172\n",
            "Local sum for process 14 - 2.013639, avg = 0.402728\n",
            "Local sum for process 15 - 2.319482, avg = 0.463896\n",
            "Total sum = 38.699615, avg = 0.483745\n"
          ]
        }
      ]
    },
    {
      "cell_type": "code",
      "source": [
        "%%writefile reduce.c\n",
        "\n",
        "#include <stdio.h>\n",
        "#include <stdlib.h>\n",
        "#include <mpi.h>\n",
        "#include <assert.h>\n",
        "#include <time.h>\n",
        "\n",
        "// Creates an array of random numbers. Each number has a value from 0 - 1\n",
        "float *create_rand_nums(int num_elements) {\n",
        "  float *rand_nums = (float *)malloc(sizeof(float) * num_elements);\n",
        "  assert(rand_nums != NULL);\n",
        "  int i;\n",
        "  for (i = 0; i < num_elements; i++) {\n",
        "    rand_nums[i] = (rand() / (float)RAND_MAX);\n",
        "  }\n",
        "  return rand_nums;\n",
        "}\n",
        "\n",
        "int main(int argc, char** argv) {\n",
        "  if (argc != 2) {\n",
        "    fprintf(stderr, \"Usage: avg num_elements_per_proc\\n\");\n",
        "    exit(1);\n",
        "  }\n",
        "\n",
        "  int num_elements_per_proc = atoi(argv[1]);\n",
        "\n",
        "  MPI_Init(NULL, NULL);\n",
        "\n",
        "  int world_rank;\n",
        "  MPI_Comm_rank(MPI_COMM_WORLD, &world_rank);\n",
        "  int world_size;\n",
        "  MPI_Comm_size(MPI_COMM_WORLD, &world_size);\n",
        "\n",
        "  // Create a random array of elements on all processes.\n",
        "  srand(time(NULL)*world_rank);   // Seed the random number generator to get different results each time for each processor\n",
        "  float *rand_nums = NULL;\n",
        "  rand_nums = create_rand_nums(num_elements_per_proc);\n",
        "\n",
        "  // Sum the numbers locally\n",
        "  float local_sum = 0;\n",
        "  int i;\n",
        "  for (i = 0; i < num_elements_per_proc; i++) {\n",
        "    local_sum += rand_nums[i];\n",
        "  }\n",
        "\n",
        "  // Print the random numbers on each process\n",
        "  printf(\"Local sum for process %d - %f, avg = %f\\n\",\n",
        "         world_rank, local_sum, local_sum / num_elements_per_proc);\n",
        "\n",
        "  // Reduce all of the local sums into the global sum\n",
        "  float global_sum;\n",
        "  MPI_Reduce(&local_sum, &global_sum, 1, MPI_FLOAT, MPI_SUM, 0,\n",
        "             MPI_COMM_WORLD);  // sempre cliente mandando para o servidor\n",
        "\n",
        "  // Print the result\n",
        "  if (world_rank == 0) {\n",
        "    printf(\"Total sum = %f, avg = %f\\n\", global_sum,\n",
        "           global_sum / (world_size * num_elements_per_proc));\n",
        "  }\n",
        "\n",
        "  // Clean up\n",
        "  free(rand_nums);\n",
        "\n",
        "  MPI_Barrier(MPI_COMM_WORLD);\n",
        "  MPI_Finalize();\n",
        "}"
      ],
      "metadata": {
        "colab": {
          "base_uri": "https://localhost:8080/"
        },
        "id": "z5LG64YZRsbt",
        "outputId": "755d6dc2-352b-497a-90ce-5be29ce41bb8"
      },
      "execution_count": null,
      "outputs": [
        {
          "output_type": "stream",
          "name": "stdout",
          "text": [
            "Writing reduce.c\n"
          ]
        }
      ]
    },
    {
      "cell_type": "code",
      "source": [
        "!smpicc reduce.c -o reduce -lm #para incluir uma nova biblioteca. Quando for gerar o código ligue o código a libm.so. Lá no /usr/lib"
      ],
      "metadata": {
        "id": "t6MLggH3SdxO"
      },
      "execution_count": null,
      "outputs": []
    },
    {
      "cell_type": "code",
      "source": [
        "!smpirun -np 16 -platform simgrid-template-smpi/cluster_crossbar.xml -hostfile simgrid-template-smpi/cluster_hostfile ./reduce 1000000\n"
      ],
      "metadata": {
        "colab": {
          "base_uri": "https://localhost:8080/"
        },
        "id": "HNvtbgaISkwM",
        "outputId": "5ab9efe8-6cea-4fe2-8d9d-7b68f932155c"
      },
      "execution_count": null,
      "outputs": [
        {
          "output_type": "stream",
          "name": "stdout",
          "text": [
            "[0.000000] [xbt_cfg/INFO] Configuration change: Set 'smpi/privatization' to '1'\n",
            "[0.000000] [xbt_cfg/INFO] Configuration change: Set 'surf/precision' to '1e-9'\n",
            "[0.000000] [xbt_cfg/INFO] Configuration change: Set 'network/model' to 'SMPI'\n",
            "[0.000000] [smpi_kernel/INFO] You did not set the power of the host running the simulation.  The timings will certainly not be accurate.  Use the option \"--cfg=smpi/host-speed:<flops>\" to set its value.  Check https://simgrid.org/doc/latest/Configuring_SimGrid.html#automatic-benchmarking-of-smpi-code for more information.\n",
            "Local sum for process 0 - 500003.750000, avg = 0.500004\n",
            "Local sum for process 1 - 499448.750000, avg = 0.499449\n",
            "Local sum for process 2 - 499727.656250, avg = 0.499728\n",
            "Local sum for process 3 - 500087.812500, avg = 0.500088\n",
            "Local sum for process 4 - 500329.500000, avg = 0.500329\n",
            "Local sum for process 5 - 500265.656250, avg = 0.500266\n",
            "Local sum for process 6 - 500040.125000, avg = 0.500040\n",
            "Local sum for process 7 - 500141.125000, avg = 0.500141\n",
            "Local sum for process 8 - 499952.156250, avg = 0.499952\n",
            "Local sum for process 9 - 500313.343750, avg = 0.500313\n",
            "Local sum for process 10 - 500169.843750, avg = 0.500170\n",
            "Local sum for process 11 - 499960.718750, avg = 0.499961\n",
            "Local sum for process 12 - 500402.468750, avg = 0.500402\n",
            "Local sum for process 13 - 499639.937500, avg = 0.499640\n",
            "Local sum for process 14 - 500034.562500, avg = 0.500035\n",
            "Local sum for process 15 - 499912.718750, avg = 0.499913\n",
            "Total sum = 8000430.000000, avg = 0.500027\n"
          ]
        }
      ]
    },
    {
      "cell_type": "markdown",
      "source": [
        "###### **AQUI USAMOS O ALL_REDUCE PARA QUE TODOS OS NÓS TENHAM ACESSO AO VALOR DA SOMA.**\n",
        "\n",
        "PARA CALCULAR A VARIÂNCIA PRECISA SER ASSIM NÉ,PORQUE TODOS PRECISAM DO VALOR DA MÉDIA PARA CONSEGUIR COMPUTAR A (XI - MU)^2\n",
        "\n",
        "No código abaixo:\n",
        "\n",
        "O world_size representa o número total de processos que estão executando o programa MPI. Cada processo é atribuído um identificador exclusivo chamado rank que varia de 0 a world_size - 1. O rank é usado para identificar um processo específico em uma comunicação coletiva ou ponto a ponto."
      ],
      "metadata": {
        "id": "tNHvAIswTMI9"
      }
    },
    {
      "cell_type": "code",
      "source": [
        "%%writefile all_reduce.c\n",
        "#include <stdio.h>\n",
        "#include <stdlib.h>\n",
        "#include <mpi.h>\n",
        "#include <math.h>\n",
        "#include <assert.h>\n",
        "\n",
        "// Creates an array of random numbers. Each number has a value from 0 - 1\n",
        "\n",
        "float *create_rand_nums(int num_elements) {\n",
        "  float *rand_nums = (float *)malloc(sizeof(float) * num_elements);\n",
        "  assert(rand_nums != NULL);\n",
        "  int i;\n",
        "  for (i = 0; i < num_elements; i++) {\n",
        "    rand_nums[i] = (rand() / (float)RAND_MAX);\n",
        "  }\n",
        "  return rand_nums;\n",
        "}\n",
        "\n",
        "int main(int argc, char** argv) {\n",
        "  if (argc != 2) {\n",
        "    fprintf(stderr, \"Usage: avg num_elements_per_proc\\n\");\n",
        "    exit(1);\n",
        "  }\n",
        "\n",
        "  int num_elements_per_proc = atoi(argv[1]);\n",
        "\n",
        "  MPI_Init(NULL, NULL);\n",
        "\n",
        "  int world_rank;\n",
        "  MPI_Comm_rank(MPI_COMM_WORLD, &world_rank);\n",
        "  int world_size;\n",
        "  MPI_Comm_size(MPI_COMM_WORLD, &world_size);\n",
        "\n",
        "  // Create a random array of elements on all processes.\n",
        "  srand(time(NULL)*world_rank); // Seed the random number generator of processes uniquely\n",
        "  float *rand_nums = NULL;\n",
        "  rand_nums = create_rand_nums(num_elements_per_proc);\n",
        "\n",
        "  // Sum the numbers locally\n",
        "  float local_sum = 0;\n",
        "  int i;\n",
        "  for (i = 0; i < num_elements_per_proc; i++) {\n",
        "    local_sum += rand_nums[i];\n",
        "  }\n",
        "\n",
        "  // Reduce all of the local sums into the global sum in order to\n",
        "  // calculate the mean\n",
        "  float global_sum;\n",
        "  MPI_Allreduce(&local_sum, &global_sum, 1, MPI_FLOAT, MPI_SUM,\n",
        "                MPI_COMM_WORLD);\n",
        "  float mean = global_sum / (num_elements_per_proc * world_size);\n",
        "\n",
        "  // Compute the local sum of the squared differences from the mean\n",
        "  float local_sq_diff = 0;\n",
        "  for (i = 0; i < num_elements_per_proc; i++) {\n",
        "    local_sq_diff += (rand_nums[i] - mean) * (rand_nums[i] - mean);\n",
        "  }\n",
        "\n",
        "  // Reduce the global sum of the squared differences to the root process\n",
        "  // and print off the answer\n",
        "  float global_sq_diff;\n",
        "  MPI_Reduce(&local_sq_diff, &global_sq_diff, 1, MPI_FLOAT, MPI_SUM, 0,\n",
        "             MPI_COMM_WORLD);\n",
        "\n",
        "  // The standard deviation is the square root of the mean of the squared\n",
        "  // differences.\n",
        "  if (world_rank == 0) {\n",
        "    float stddev = sqrt(global_sq_diff /\n",
        "                        (num_elements_per_proc * world_size));\n",
        "    printf(\"Mean - %f, Standard deviation = %f\\n\", mean, stddev);\n",
        "  }\n",
        "\n",
        "  // Clean up\n",
        "  free(rand_nums);\n",
        "\n",
        "  MPI_Barrier(MPI_COMM_WORLD);\n",
        "  MPI_Finalize();\n",
        "}"
      ],
      "metadata": {
        "colab": {
          "base_uri": "https://localhost:8080/"
        },
        "id": "t2bB1llCTS0X",
        "outputId": "17be2fe9-726e-4518-86f8-e83b81ffa0d9"
      },
      "execution_count": null,
      "outputs": [
        {
          "output_type": "stream",
          "name": "stdout",
          "text": [
            "Writing all_reduce.c\n"
          ]
        }
      ]
    },
    {
      "cell_type": "code",
      "source": [
        "!smpicc all_reduce.c -o all_reduce -lm #para incluir uma nova biblioteca. Quando for gerar o código ligue o código a libm.so. Lá no /usr/lib"
      ],
      "metadata": {
        "id": "Gjf9tX1WUGIR"
      },
      "execution_count": null,
      "outputs": []
    },
    {
      "cell_type": "code",
      "source": [
        "!smpirun -np 16 -platform simgrid-template-smpi/cluster_crossbar.xml -hostfile simgrid-template-smpi/cluster_hostfile ./all_reduce 1000000\n"
      ],
      "metadata": {
        "colab": {
          "base_uri": "https://localhost:8080/"
        },
        "id": "NMohLPDnUT5E",
        "outputId": "4e66e996-0d18-47b6-f974-43b49bdaf530"
      },
      "execution_count": null,
      "outputs": [
        {
          "output_type": "stream",
          "name": "stdout",
          "text": [
            "[0.000000] [xbt_cfg/INFO] Configuration change: Set 'smpi/privatization' to '1'\n",
            "[0.000000] [xbt_cfg/INFO] Configuration change: Set 'surf/precision' to '1e-9'\n",
            "[0.000000] [xbt_cfg/INFO] Configuration change: Set 'network/model' to 'SMPI'\n",
            "[0.000000] [smpi_kernel/INFO] You did not set the power of the host running the simulation.  The timings will certainly not be accurate.  Use the option \"--cfg=smpi/host-speed:<flops>\" to set its value.  Check https://simgrid.org/doc/latest/Configuring_SimGrid.html#automatic-benchmarking-of-smpi-code for more information.\n",
            "Mean - 0.500123, Standard deviation = 0.288558\n"
          ]
        }
      ]
    },
    {
      "cell_type": "markdown",
      "source": [
        "**EXERCÍCIO 3**\n",
        "\n",
        "Refatore o código pi_send_receive.c para utilizar a primitiva MPI_Reduce ao invés de MPI_Send e MPI_Recv."
      ],
      "metadata": {
        "id": "OSesMDM7UfBH"
      }
    },
    {
      "cell_type": "code",
      "source": [
        "%%writefile pi_send_receive_allreduce.c\n",
        "\n",
        "#include <mpi.h>\n",
        "#include <stdio.h>\n",
        "#include <stdlib.h>\n",
        "#include <math.h>\n",
        "#define SEED_MPI 35791246\n",
        "\n",
        "int main(int argc, char* argv[])\n",
        "{\n",
        "  long niter = 10000000; // número de iterações para fazer o calculo do pi\n",
        "  int myid; // o id do processo\n",
        "  int nodenum; // o número do node\n",
        "  double x,y;  //x,y valor da coordenada aleatória para sortear e ver se está no círculo \n",
        "  double z;    //usado para checar se x^2+y^2<=1\n",
        "  double pi;    //guarda o valor do pi calculado\n",
        "  int count = 0;\n",
        "\n",
        "  MPI_Init(&argc, &argv);                 //Start MPI\n",
        "  MPI_Comm_rank(MPI_COMM_WORLD, &myid);           //get rank of node's process\n",
        "  MPI_Comm_size(MPI_COMM_WORLD, &nodenum);\n",
        "\n",
        "  int global_count;  // declarando um array para receber os counts\n",
        "  srand(SEED_MPI+myid);                       //Give rand() a seed value. Needs to be different on each node\n",
        "  \n",
        "  //if(myid != 0)\n",
        "  {\n",
        "    for (int i = 0; i < niter; i++){\n",
        "        x= ((double)rand())/RAND_MAX;           //gets a random x coordinate\n",
        "        y =((double)rand())/RAND_MAX;           //gets a random y coordinate\n",
        "        z = sqrt(x*x+y*y);                  //Checks to see if number in inside unit circle\n",
        "        if (z<=1)\n",
        "        {\n",
        "            count++;                //if it is, consider it a valid random point\n",
        "        }\n",
        "    }\n",
        "  }\n",
        "\n",
        "  MPI_Allreduce(&count, &global_count, 1, MPI_INT, MPI_SUM, MPI_COMM_WORLD);  // Perform reduction on count\n",
        "\n",
        "  pi = ((double)global_count/(double)(niter*nodenum))*4.0;               //p = 4(m/n)\n",
        "  printf(\"Pi: %f\\n\", pi);             //Print the calculated value of pi\n",
        "\n",
        "\n",
        "  MPI_Finalize();\n",
        "  return 0;\n",
        "}"
      ],
      "metadata": {
        "colab": {
          "base_uri": "https://localhost:8080/"
        },
        "id": "2hnXbvznUfSd",
        "outputId": "6d4d925b-351c-40b0-9eec-00179fe2b2c7"
      },
      "execution_count": null,
      "outputs": [
        {
          "output_type": "stream",
          "name": "stdout",
          "text": [
            "Writing pi_send_receive_allreduce.c\n"
          ]
        }
      ]
    },
    {
      "cell_type": "code",
      "source": [
        "!smpicc pi_send_receive_allreduce.c -o pi_send_receive_allreduce -lm"
      ],
      "metadata": {
        "id": "bZLjdlgFWDaD"
      },
      "execution_count": null,
      "outputs": []
    },
    {
      "cell_type": "code",
      "source": [
        "!smpirun -np 20 -platform simgrid-template-smpi/cluster_crossbar.xml -hostfile simgrid-template-smpi/cluster_hostfile ./pi_send_receive_allreduce \n"
      ],
      "metadata": {
        "colab": {
          "base_uri": "https://localhost:8080/"
        },
        "id": "7RcWKyfFWN-q",
        "outputId": "b62dba3b-d8bb-45db-c9ec-a49c00570801"
      },
      "execution_count": null,
      "outputs": [
        {
          "output_type": "stream",
          "name": "stdout",
          "text": [
            "[0.000000] [xbt_cfg/INFO] Configuration change: Set 'smpi/privatization' to '1'\n",
            "[0.000000] [xbt_cfg/INFO] Configuration change: Set 'surf/precision' to '1e-9'\n",
            "[0.000000] [xbt_cfg/INFO] Configuration change: Set 'network/model' to 'SMPI'\n",
            "[0.000000] [smpi_kernel/INFO] You did not set the power of the host running the simulation.  The timings will certainly not be accurate.  Use the option \"--cfg=smpi/host-speed:<flops>\" to set its value.  Check https://simgrid.org/doc/latest/Configuring_SimGrid.html#automatic-benchmarking-of-smpi-code for more information.\n",
            "Pi: 3.141592\n",
            "Pi: 3.141592\n",
            "Pi: 3.141592\n",
            "Pi: 3.141592\n",
            "Pi: 3.141592\n",
            "Pi: 3.141592\n",
            "Pi: 3.141592\n",
            "Pi: 3.141592\n",
            "Pi: 3.141592\n",
            "Pi: 3.141592\n",
            "Pi: 3.141592\n",
            "Pi: 3.141592\n",
            "Pi: 3.141592\n",
            "Pi: 3.141592\n",
            "Pi: 3.141592\n",
            "Pi: 3.141592\n",
            "Pi: 3.141592\n",
            "Pi: 3.141592\n",
            "Pi: 3.141592\n",
            "Pi: 3.141592\n"
          ]
        }
      ]
    },
    {
      "cell_type": "code",
      "source": [
        "#OUTRO JEITO\n",
        "\n",
        "\n",
        "%%writefile pi_send_receive_reduce.c\n",
        "\n",
        "#include <stdio.h>\n",
        "#include <stdlib.h>\n",
        "#include \"mpi.h\"\n",
        "#include <math.h>\n",
        "#define SEED_MPI 35791246\n",
        " \n",
        "int main(int argc, char* argv[])\n",
        "{\n",
        "    long niter = 10000000;\n",
        "    int myid;                       //holds process's rank id\n",
        "    double x,y;                     //x,y value for the random coordinate\n",
        "    int i, count=0;                 //Count holds all the number of how many good coordinates\n",
        "    int global_sum_count;\n",
        "    int global_sum_niter;\n",
        "    double z;                       //Used to check if x^2+y^2<=1\n",
        "    double pi;                      //holds approx value of pi\n",
        "    int reducedcount;\n",
        "    int reducedniter;\n",
        "    int nodenum;\n",
        " \n",
        "    MPI_Init(&argc, &argv);                 //Start MPI\n",
        "    MPI_Comm_rank(MPI_COMM_WORLD, &myid);           //get rank of node's process\n",
        "    MPI_Comm_size(MPI_COMM_WORLD, &nodenum);\n",
        "    srand(SEED_MPI+myid);                       //Give rand() a seed value. Needs to be different on each node\n",
        " \n",
        "\n",
        "    \n",
        "    for (i=0; i<niter; ++i)                  //main loop\n",
        "    {\n",
        "        x= ((double)rand())/RAND_MAX;           //gets a random x coordinate\n",
        "        y =((double)rand())/RAND_MAX;           //gets a random y coordinate\n",
        "        z = sqrt(x*x+y*y);                  //Checks to see if number in inside unit circle\n",
        "        if (z<=1)\n",
        "        {\n",
        "            count++;                //if it is, consider it a valid random point\n",
        "        }\n",
        "    }\n",
        "\n",
        "    MPI_Reduce(&count, &reducedcount, 1, MPI_INT, MPI_SUM, 0, MPI_COMM_WORLD);  // Perform reduction on count\n",
        "    MPI_Reduce(&niter, &reducedniter, 1, MPI_INT, MPI_SUM, 0, MPI_COMM_WORLD);\n",
        "\n",
        "    if (myid == 0)                      //if root process\n",
        "    {\n",
        "        pi = ((double)reducedcount / (double)(reducedniter)) * 4.0;    //p = 4(m/n)\n",
        "        printf(\"Pi: %f\\n\", pi);             //Print the calculated value of pi\n",
        "    }\n",
        "    \n",
        " \n",
        "    MPI_Finalize();                     //Close the MPI instance\n",
        "    return 0;\n",
        "}"
      ],
      "metadata": {
        "colab": {
          "base_uri": "https://localhost:8080/"
        },
        "id": "PxVz9cFJWPpF",
        "outputId": "910e0d4d-4c6c-4a04-a812-6300db41bbc3"
      },
      "execution_count": null,
      "outputs": [
        {
          "output_type": "stream",
          "name": "stdout",
          "text": [
            "Overwriting pi_send_receive_reduce.c\n"
          ]
        }
      ]
    },
    {
      "cell_type": "code",
      "source": [
        "!smpicc pi_send_receive_reduce.c -o pi_send_receive_reduce -lm"
      ],
      "metadata": {
        "id": "K6aAskTEYXdb"
      },
      "execution_count": null,
      "outputs": []
    },
    {
      "cell_type": "code",
      "source": [
        "!smpirun -np 16 -platform simgrid-template-smpi/cluster_crossbar.xml -hostfile simgrid-template-smpi/cluster_hostfile ./pi_send_receive_reduce \n"
      ],
      "metadata": {
        "colab": {
          "base_uri": "https://localhost:8080/"
        },
        "id": "x3kjfO2VYdIs",
        "outputId": "ff304295-2ea9-4e18-b293-0605d3079ef6"
      },
      "execution_count": null,
      "outputs": [
        {
          "output_type": "stream",
          "name": "stdout",
          "text": [
            "[0.000000] [xbt_cfg/INFO] Configuration change: Set 'smpi/privatization' to '1'\n",
            "[0.000000] [xbt_cfg/INFO] Configuration change: Set 'surf/precision' to '1e-9'\n",
            "[0.000000] [xbt_cfg/INFO] Configuration change: Set 'network/model' to 'SMPI'\n",
            "[0.000000] [smpi_kernel/INFO] You did not set the power of the host running the simulation.  The timings will certainly not be accurate.  Use the option \"--cfg=smpi/host-speed:<flops>\" to set its value.  Check https://simgrid.org/doc/latest/Configuring_SimGrid.html#automatic-benchmarking-of-smpi-code for more information.\n",
            "Pi: 3.141626\n"
          ]
        }
      ]
    },
    {
      "cell_type": "markdown",
      "source": [
        "**EXERCÍCIO 4**\n",
        "\n",
        "Refatore o código anterior produzindo um código paralelo híbrido:\n",
        "\n",
        "*   O nodo-mestre calculará o números de pontos via OpenMP com 16 threads\n",
        "*   Os resultados dos nodos-escravos serão coletados via MPI_Reduce e reduzidos no nodo-mestre.\n",
        "\n",
        "\n"
      ],
      "metadata": {
        "id": "Ptt6S3YvYkf5"
      }
    },
    {
      "cell_type": "code",
      "source": [
        "%%writefile pi_send_receive_hibrido.c\n",
        "\n",
        "#include <stdio.h>\n",
        "#include <stdlib.h>\n",
        "#include \"mpi.h\"\n",
        "#include <math.h>\n",
        "#include <omp.h>\n",
        "#define SEED_MPI 35791246\n",
        " \n",
        "int main(int argc, char* argv[])\n",
        "{\n",
        "    long niter = 10000000;\n",
        "    int myid;                       //holds process's rank id\n",
        "    double x,y;                     //x,y value for the random coordinate\n",
        "    int i, count=0;                 //Count holds all the number of how many good coordinates\n",
        "    int global_sum_count;\n",
        "    int global_sum_niter;\n",
        "    double z;                       //Used to check if x^2+y^2<=1\n",
        "    double pi;                      //holds approx value of pi\n",
        "    int reducedcount;\n",
        "    int reducedniter;\n",
        "    int nodenum;\n",
        " \n",
        "    MPI_Init(&argc, &argv);                 //Start MPI\n",
        "    MPI_Comm_rank(MPI_COMM_WORLD, &myid);           //get rank of node's process\n",
        "    MPI_Comm_size(MPI_COMM_WORLD, &nodenum);\n",
        "    srand(SEED_MPI+myid);                       //Give rand() a seed value. Needs to be different on each node\n",
        " \n",
        "    omp_set_num_threads(16);\n",
        "\n",
        "    #pragma omp parallel for reduction(+ : count)   // ou faz assim\n",
        "    //#pragma omp parallel for shared(count)   // ou faz isso\n",
        "    for (i=0; i<niter; ++i)                  //main loop\n",
        "    {\n",
        "        x= ((double)rand())/RAND_MAX;           //gets a random x coordinate\n",
        "        y =((double)rand())/RAND_MAX;           //gets a random y coordinate\n",
        "        z = sqrt(x*x+y*y);                  //Checks to see if number in inside unit circle\n",
        "        if (z<=1)\n",
        "        //#pragma omp critical\n",
        "        {\n",
        "            count++;                //if it is, consider it a valid random point\n",
        "        }\n",
        "    }\n",
        "\n",
        "    MPI_Reduce(&count, &reducedcount, 1, MPI_INT, MPI_SUM, 0, MPI_COMM_WORLD);  // Perform reduction on count\n",
        "    MPI_Reduce(&niter, &reducedniter, 1, MPI_INT, MPI_SUM, 0, MPI_COMM_WORLD);\n",
        "\n",
        "    if (myid == 0)                      //if root process\n",
        "    {\n",
        "        pi = ((double)reducedcount / (double)(reducedniter)) * 4.0;    //p = 4(m/n)\n",
        "        printf(\"Pi: %f\\n\", pi);             //Print the calculated value of pi\n",
        "    }\n",
        "    \n",
        " \n",
        "    MPI_Finalize();                     //Close the MPI instance\n",
        "    return 0;\n",
        "}"
      ],
      "metadata": {
        "id": "oadN7TDyYk-u",
        "colab": {
          "base_uri": "https://localhost:8080/"
        },
        "outputId": "55402d07-20a2-4804-890c-af2238bf7f11"
      },
      "execution_count": null,
      "outputs": [
        {
          "output_type": "stream",
          "name": "stdout",
          "text": [
            "Overwriting pi_send_receive_hibrido.c\n"
          ]
        }
      ]
    },
    {
      "cell_type": "code",
      "source": [
        "!smpicc pi_send_receive_hibrido.c -fopenmp -o pi_send_receive_hibrido -lm"
      ],
      "metadata": {
        "id": "mOhHZoPB_3nb"
      },
      "execution_count": null,
      "outputs": []
    },
    {
      "cell_type": "code",
      "source": [
        "!smpirun -np 16 -platform simgrid-template-smpi/cluster_crossbar.xml -hostfile simgrid-template-smpi/cluster_hostfile ./pi_send_receive_hibrido \n"
      ],
      "metadata": {
        "colab": {
          "base_uri": "https://localhost:8080/"
        },
        "id": "5BvLd3V7_6tQ",
        "outputId": "72224dfe-d120-4134-8817-4a10a43782e5"
      },
      "execution_count": null,
      "outputs": [
        {
          "output_type": "stream",
          "name": "stdout",
          "text": [
            "[0.000000] [xbt_cfg/INFO] Configuration change: Set 'smpi/privatization' to '1'\n",
            "[0.000000] [xbt_cfg/INFO] Configuration change: Set 'surf/precision' to '1e-9'\n",
            "[0.000000] [xbt_cfg/INFO] Configuration change: Set 'network/model' to 'SMPI'\n",
            "[0.000000] [smpi_kernel/INFO] You did not set the power of the host running the simulation.  The timings will certainly not be accurate.  Use the option \"--cfg=smpi/host-speed:<flops>\" to set its value.  Check https://simgrid.org/doc/latest/Configuring_SimGrid.html#automatic-benchmarking-of-smpi-code for more information.\n",
            "Pi: 3.140361\n"
          ]
        }
      ]
    },
    {
      "cell_type": "markdown",
      "source": [
        "# **AULA 18 - MPI BROADCASTING**\n",
        "\n",
        "Uma das coisas a lembrar sobre a comunicação coletiva é que ela implica um ponto de sincronização entre os processos. Isso significa que todos os processos devem atingir um ponto em seu código antes que possam começar a executar novamente.\n",
        "\n",
        "Antes de entrar em detalhes sobre as rotinas de comunicação coletiva, vamos examinar a sincronização com mais detalhes. Acontece que o MPI possui uma função especial dedicada à sincronização de processos:\n",
        "\n",
        "**MPI_Barrier(MPI_Comm communicator)**\n",
        "\n",
        "O nome da função é bastante descritivo - a função forma uma barreira e nenhum processo no comunicador pode ultrapassar a barreira até que todos chamem a função. Imagine que o eixo horizontal representa a execução do programa e os círculos representam diferentes processos:\n",
        "\n",
        "![barrier.png](data:image/png;base64,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)"
      ],
      "metadata": {
        "id": "Q4LI2GQOYlgQ"
      }
    },
    {
      "cell_type": "markdown",
      "source": [
        "### **BROADCASTING (TRANSMISSÃO) EM MPI**\n",
        "\n",
        "Uma transmissão é uma das técnicas padrão de comunicação coletiva. Durante uma transmissão, um processo envia os mesmos dados para todos os processos em um comunicador. Um dos principais usos da transmissão é enviar a entrada do usuário para um programa paralelo ou enviar parâmetros de configuração para todos os processos.\n",
        "\n",
        "O padrão de comunicação de uma transmissão é da seguinte forma:\n",
        "\n",
        "![broadcast_pattern.png](data:image/png;base64,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)"
      ],
      "metadata": {
        "id": "frNj1NaCZQdP"
      }
    },
    {
      "cell_type": "markdown",
      "source": [
        "Neste exemplo, o processo zero é o processo-raiz e possui a cópia inicial dos dados. Todos os outros processos recebem a cópia dos dados.\n",
        "\n",
        "Em MPI, a transmissão pode ser realizada usando MPI_Bcast. O protótipo da função é mostrado a seguir:\n",
        "\n",
        "**MPI_Bcast(\n",
        "    void* data,\n",
        "    int count,\n",
        "    MPI_Datatype datatype,\n",
        "    int root,\n",
        "    int tag,\n",
        "    MPI_Comm communicator,\n",
        "    status [opcional, pode ser: MPI_STATUS_IGNORE])**\n",
        "\n",
        "Embora o processo raiz e os processos receptores executem tarefas diferentes, todos eles chamam a mesma função MPI_Bcast. Quando o processo raiz (no nosso exemplo era o processo zero) chamar MPI_Bcast, a variável de dados será enviada para todos os outros processos. Quando todos os processos receptores chamarem MPI_Bcast, a variável data será preenchida com os dados do processo raiz.\n",
        "\n",
        "A transmissão pode ser implementada com as primitivas MPI_Send e MPI_Recv, conforme mostrado no programa abaixo:"
      ],
      "metadata": {
        "id": "JSND44KsZY9N"
      }
    },
    {
      "cell_type": "code",
      "source": [
        "%%writefile mybcast.c\n",
        "\n",
        "#include <stdio.h>\n",
        "#include <stdlib.h>\n",
        "#include <mpi.h>\n",
        "\n",
        "void my_bcast(void* data, int count, MPI_Datatype datatype, int root, MPI_Comm communicator){\n",
        "  int world_rank;\n",
        "  MPI_Comm_rank(communicator, &world_rank); // inicializando as máquinas, todas tem o id em world_rank\n",
        "  int world_size;\n",
        "  MPI_Comm_size(communicator, &world_size); // aqui temos a quantidade de máquinas total\n",
        "\n",
        "  if (world_rank == root){   // root normalmente é o processo 0\n",
        "    // Se somos o processo root, mandamos os dados para todo mundo. \n",
        "    int i;\n",
        "    for (i = 0; i < world_size; i++){\n",
        "      if (i != world_rank){\n",
        "        MPI_Send(data, count, datatype, i, 0, communicator); // evita que o processo raiz envie dados para si mesmo redundante e desnecessariamente.\n",
        "      }\n",
        "    }\n",
        "  } else {\n",
        "    // Se somos o processo que recebe, recebe então os dados do rooot\n",
        "    MPI_Recv(data, count, datatype, root, 0, communicator, MPI_STATUS_IGNORE);\n",
        "  }\n",
        "}\n",
        "\n",
        "int main(int argc, char** argv){\n",
        "  MPI_Init(NULL, NULL);\n",
        "\n",
        "  int world_rank;\n",
        "  MPI_Comm_rank(MPI_COMM_WORLD, &world_rank);\n",
        "\n",
        "  int data;\n",
        "  if (world_rank == 0){\n",
        "    data = 100;\n",
        "    printf(\"Process 0 broadcasting data %d\\n\", data);\n",
        "    my_bcast(&data, 1, MPI_INT, 0, MPI_COMM_WORLD);\n",
        "  } else {\n",
        "    my_bcast(&data, 1, MPI_INT, 0, MPI_COMM_WORLD);\n",
        "    printf(\"Process %d received data %d from root process\\n\", world_rank, data);\n",
        "  }\n",
        "\n",
        "  MPI_Finalize();\n",
        "}"
      ],
      "metadata": {
        "colab": {
          "base_uri": "https://localhost:8080/"
        },
        "id": "MHhmTb3SqeBX",
        "outputId": "e0efddb5-78cf-4b9c-a96b-883f9ff61f14"
      },
      "execution_count": null,
      "outputs": [
        {
          "output_type": "stream",
          "name": "stdout",
          "text": [
            "Overwriting mybcast.c\n"
          ]
        }
      ]
    },
    {
      "cell_type": "code",
      "source": [
        "!smpicc mybcast.c -o mybcast"
      ],
      "metadata": {
        "id": "OBvWHefgtXKC"
      },
      "execution_count": null,
      "outputs": []
    },
    {
      "cell_type": "code",
      "source": [
        "!smpirun -np 16 -platform simgrid-template-smpi/cluster_crossbar.xml -hostfile simgrid-template-smpi/cluster_hostfile ./mybcast"
      ],
      "metadata": {
        "colab": {
          "base_uri": "https://localhost:8080/"
        },
        "id": "Cd9lyUxwtacY",
        "outputId": "71b7f457-f49d-42db-ac3a-63e7e3e83394"
      },
      "execution_count": null,
      "outputs": [
        {
          "output_type": "stream",
          "name": "stdout",
          "text": [
            "[0.000000] [xbt_cfg/INFO] Configuration change: Set 'smpi/privatization' to '1'\n",
            "[0.000000] [xbt_cfg/INFO] Configuration change: Set 'surf/precision' to '1e-9'\n",
            "[0.000000] [xbt_cfg/INFO] Configuration change: Set 'network/model' to 'SMPI'\n",
            "[0.000000] [smpi_kernel/INFO] You did not set the power of the host running the simulation.  The timings will certainly not be accurate.  Use the option \"--cfg=smpi/host-speed:<flops>\" to set its value.  Check https://simgrid.org/doc/latest/Configuring_SimGrid.html#automatic-benchmarking-of-smpi-code for more information.\n",
            "Process 0 broadcasting data 100\n",
            "Process 15 received data 100 from root process\n",
            "Process 14 received data 100 from root process\n",
            "Process 13 received data 100 from root process\n",
            "Process 12 received data 100 from root process\n",
            "Process 11 received data 100 from root process\n",
            "Process 10 received data 100 from root process\n",
            "Process 9 received data 100 from root process\n",
            "Process 8 received data 100 from root process\n",
            "Process 7 received data 100 from root process\n",
            "Process 6 received data 100 from root process\n",
            "Process 5 received data 100 from root process\n",
            "Process 4 received data 100 from root process\n",
            "Process 3 received data 100 from root process\n",
            "Process 2 received data 100 from root process\n",
            "Process 1 received data 100 from root process\n"
          ]
        }
      ]
    },
    {
      "cell_type": "markdown",
      "source": [
        "A função anterior é realmente muito ineficiente! Imagine que cada processo tenha apenas um link de rede de entrada/saída. Nossa função é usar apenas um link de rede do processo zero para enviar todos os dados. Uma implementação mais inteligente é um algoritmo de comunicação baseado em árvore que pode usar mais links de rede disponíveis de uma só vez.\n",
        "\n",
        "O processo zero começa com os dados e os envia para o processo um. Semelhante ao nosso exemplo anterior, o processo zero também envia os dados para o processo dois no segundo estágio. A diferença com este exemplo é que o processo um agora está ajudando o processo raiz encaminhando os dados para o processo três. Durante o segundo estágio, duas conexões de rede estão sendo utilizadas por vez. A utilização da rede dobra em cada estágio subseqüente da árvore de comunicação até que todos os processos tenham recebido os dados.\n",
        "\n",
        "A implementação do MPI_Bcast utiliza um algoritmo de transmissão em árvore semelhante para uma boa utilização da rede. Abaixo temos o código anterior comparado com a chamada de MPI_Bcast:\n",
        "\n"
      ],
      "metadata": {
        "id": "tDtg8lePwWjo"
      }
    },
    {
      "cell_type": "code",
      "source": [
        "%%writefile mpibcast.c\n",
        "\n",
        "#include <stdio.h>\n",
        "#include <stdlib.h>\n",
        "#include <mpi.h>\n",
        "#include <assert.h>\n",
        "\n",
        "void my_bcast(void* data, int count , MPI_Datatype datatype, int root, MPI_Comm communicator){\n",
        "  int world_rank;\n",
        "  MPI_Comm_rank(communicator, &world_rank); // inicializando as máquinas, todas tem o id em world_rank\n",
        "  int world_size;\n",
        "  MPI_Comm_size(communicator, &world_size); // aqui temos a quantidade de máquinas total\n",
        "\n",
        "  if (world_rank == root){\n",
        "    // Se somos o processo root, mandamos os dados para todo mundo. \n",
        "    int i;\n",
        "    for (i = 0; i < world_size; i++){\n",
        "      if (i != world_rank){\n",
        "        MPI_Send(data, count, datatype, i, 0, communicator); // dado, tamanho dele, tipo, destino, tag, communicator\n",
        "      }\n",
        "    }\n",
        "  } else {\n",
        "    MPI_Recv(data, count, datatype, root, 0 , communicator, MPI_STATUS_IGNORE);\n",
        "  }\n",
        "}\n",
        "\n",
        "\n",
        "int main(int argc, char** argv){\n",
        "  if (argc != 3){\n",
        "    fprintf(stderr, \"Usage: compare_bcast num_elements num_trials\\n\");\n",
        "    exit(1);\n",
        "  }\n",
        "\n",
        "  int num_elements = atoi(argv[1]);\n",
        "  int num_trials = atoi(argv[2]);\n",
        "\n",
        "  MPI_Init(NULL, NULL);\n",
        "\n",
        "  int world_rank;\n",
        "  MPI_Comm_rank(MPI_COMM_WORLD, &world_rank);\n",
        "\n",
        "  double total_my_bcast_time = 0.0;\n",
        "  double total_mpi_bcast_time = 0.0;\n",
        "  int i;\n",
        "  int* data = (int*)malloc(sizeof(int) * num_elements);\n",
        "  assert(data != NULL);\n",
        "\n",
        "  for (i = 0; i < num_trials; i++){\n",
        "    // Time my_bcast\n",
        "    // Synchronize before starting timing\n",
        "    MPI_Barrier(MPI_COMM_WORLD);\n",
        "    total_my_bcast_time -= MPI_Wtime();\n",
        "    my_bcast(data, num_elements, MPI_INT, 0, MPI_COMM_WORLD);\n",
        "    // Synchronize again before obtaining final time\n",
        "    MPI_Barrier(MPI_COMM_WORLD);\n",
        "    total_my_bcast_time += MPI_Wtime();\n",
        "\n",
        "    // Time MPI_Bcast\n",
        "    MPI_Barrier(MPI_COMM_WORLD);\n",
        "    total_mpi_bcast_time -= MPI_Wtime();\n",
        "    MPI_Bcast(data, num_elements, MPI_INT, 0, MPI_COMM_WORLD);\n",
        "    MPI_Barrier(MPI_COMM_WORLD);\n",
        "    total_mpi_bcast_time += MPI_Wtime();\n",
        "  }\n",
        "\n",
        "  // Print off timing information\n",
        "  if (world_rank == 0) {\n",
        "    printf(\"Data size = %d, Trials = %d\\n\", num_elements * (int)sizeof(int),\n",
        "           num_trials);\n",
        "    printf(\"Avg my_bcast time = %lf\\n\", total_my_bcast_time / num_trials);\n",
        "    printf(\"Avg MPI_Bcast time = %lf\\n\", total_mpi_bcast_time / num_trials);\n",
        "  }\n",
        "\n",
        "  free(data);\n",
        "  MPI_Finalize();\n",
        "}"
      ],
      "metadata": {
        "colab": {
          "base_uri": "https://localhost:8080/"
        },
        "id": "0O7jFdQHwpVO",
        "outputId": "f494a0cb-625a-4d90-8214-90c6bc803216"
      },
      "execution_count": null,
      "outputs": [
        {
          "output_type": "stream",
          "name": "stdout",
          "text": [
            "Writing mpibcast.c\n"
          ]
        }
      ]
    },
    {
      "cell_type": "code",
      "source": [
        "!smpicc mpibcast.c -o mpibcast"
      ],
      "metadata": {
        "id": "_byGTiXCye54"
      },
      "execution_count": null,
      "outputs": []
    },
    {
      "cell_type": "markdown",
      "source": [
        "Vamos, agora, rodar um experimento comparativo entre a nossa implementação de transmissão e a do MPI, enviando 10 vezes um vetor de 100000 números do processo-mestre para os processos-escravos:"
      ],
      "metadata": {
        "id": "p1s7lyEbymxN"
      }
    },
    {
      "cell_type": "code",
      "source": [
        "!smpirun -np 16 -platform simgrid-template-smpi/cluster_crossbar.xml -hostfile simgrid-template-smpi/cluster_hostfile ./mpibcast 100000 10"
      ],
      "metadata": {
        "colab": {
          "base_uri": "https://localhost:8080/"
        },
        "id": "ePSld0_7yfB7",
        "outputId": "f4c1198e-6847-45a6-d14d-690160856fae"
      },
      "execution_count": null,
      "outputs": [
        {
          "output_type": "stream",
          "name": "stdout",
          "text": [
            "[0.000000] [xbt_cfg/INFO] Configuration change: Set 'smpi/privatization' to '1'\n",
            "[0.000000] [xbt_cfg/INFO] Configuration change: Set 'surf/precision' to '1e-9'\n",
            "[0.000000] [xbt_cfg/INFO] Configuration change: Set 'network/model' to 'SMPI'\n",
            "[0.000000] [smpi_kernel/INFO] You did not set the power of the host running the simulation.  The timings will certainly not be accurate.  Use the option \"--cfg=smpi/host-speed:<flops>\" to set its value.  Check https://simgrid.org/doc/latest/Configuring_SimGrid.html#automatic-benchmarking-of-smpi-code for more information.\n",
            "Data size = 400000, Trials = 10\n",
            "Avg my_bcast time = 0.068692\n",
            "Avg MPI_Bcast time = 0.018464\n"
          ]
        }
      ]
    },
    {
      "cell_type": "markdown",
      "source": [
        "As funções MPI_Barrier foram utilizadas para sincronizar todos os processos antes e depois da execução das operações de broadcast, tanto na função my_bcast quanto na função MPI_Bcast.\n",
        "\n",
        "O objetivo do MPI_Barrier é garantir que todos os processos atinjam um ponto de sincronização antes de prosseguir para a próxima etapa. No contexto desse código, o MPI_Barrier foi colocado antes e depois da chamada das funções de broadcast para medir o tempo gasto exclusivamente nas operações de transmissão de dados, eliminando o tempo gasto em outras partes do código.\n",
        "\n",
        "Ao colocar um MPI_Barrier antes das operações de broadcast, todos os processos aguardam até que todos tenham alcançado esse ponto, garantindo que todos estejam prontos para iniciar a transmissão ao mesmo tempo. Isso evita que alguns processos comecem a receber dados antes que outros tenham concluído o envio."
      ],
      "metadata": {
        "id": "sdrEbyiszaoM"
      }
    },
    {
      "cell_type": "markdown",
      "source": [
        "### **EXERCÍCIO 2**\n",
        "\n",
        "Considere o código abaixo, que produz uma aproximação de PI usando as primitivas MPI_Bcast e MPI_Reduce. Neste código:\n",
        "\n",
        "*   o mestre lê o número de intervalos e o envia a todos os escravos\n",
        "*   os escravos calculam as suas aproximações para PI usando a Fórmula de Leibiniz (subtotal)\n",
        "*   o mestre reduz o resultado usando uma soma dos subtotais\n",
        "\n",
        "Com base nesta descrição, complete (em ****) o código fornecido:\n",
        "\n"
      ],
      "metadata": {
        "id": "NZ-gXTTszBME"
      }
    },
    {
      "cell_type": "code",
      "source": [
        "%%writefile pi.c\n",
        "\n",
        "#include <stdio.h>\n",
        "#include <math.h>\n",
        "#include <mpi.h>\n",
        "\n",
        "/* We define pi here so we can check and see how accurate our computation is. */\n",
        "#define PI 3.141592653589793238462643\n",
        "\n",
        "int main(int argc, char **argv){\n",
        "  MPI_Init(&argc, &argv);\n",
        "  int processes;\n",
        "  int myid;\n",
        "\n",
        "  MPI_Comm_size(MPI_COMM_WORLD, &processes);\n",
        "  MPI_Comm_rank(MPI_COMM_WORLD, &myid);\n",
        "\n",
        "  int intervals;\n",
        "  if (myid == 0){   // se sou o processo mestre\n",
        "    printf(\"Number of intervals: \");\n",
        "    fflush(stdout);\n",
        "    scanf(\"%d\", &intervals);\n",
        "  }\n",
        "\n",
        "  double time1 = MPI_Wtime();\n",
        "\n",
        "  MPI_Bcast(&intervals, 1, MPI_INT, 0, MPI_COMM_WORLD);\n",
        "\n",
        "  int count = intervals/ processes;\n",
        "  int start = count*myid;\n",
        "  int end = count*myid + count;\n",
        "\n",
        "  int i;\n",
        "  double subtotal, total = 0;\n",
        "  for (i = start; i < end; ++i) {\n",
        "      subtotal += pow(-1, i) / (2.0f * i + 1.0f);\n",
        "  }\n",
        "\n",
        "  MPI_Reduce(&subtotal, &total, 1, MPI_DOUBLE, MPI_SUM, 0, MPI_COMM_WORLD);  // sempre cliente mandando para o servidor\n",
        "\n",
        "  double time2 = MPI_Wtime();\n",
        "\n",
        "  if (myid == 0) {\n",
        "        total = total * 4;\n",
        "        printf(\"Result:   %.10lf\\n\", total);\n",
        "        printf(\"Accuracy: %.10lf\\n\", PI - total);\n",
        "        printf(\"Time:     %.10lf\\n\", time2 - time1);\n",
        "  }\n",
        "\n",
        "  MPI_Finalize();\n",
        "}"
      ],
      "metadata": {
        "id": "FQv_3bn9ZZQP",
        "colab": {
          "base_uri": "https://localhost:8080/"
        },
        "outputId": "f19136f0-e1fc-4bbb-a5d6-74f8131fc5c2"
      },
      "execution_count": null,
      "outputs": [
        {
          "output_type": "stream",
          "name": "stdout",
          "text": [
            "Overwriting pi.c\n"
          ]
        }
      ]
    },
    {
      "cell_type": "code",
      "source": [
        "!smpicc pi.c -o pi -lm"
      ],
      "metadata": {
        "colab": {
          "base_uri": "https://localhost:8080/"
        },
        "id": "q6hM6B8j1lgg",
        "outputId": "0dd3bc3a-d118-4537-cb5e-d0809f8c555e"
      },
      "execution_count": null,
      "outputs": [
        {
          "output_type": "stream",
          "name": "stdout",
          "text": [
            "\u001b[01m\u001b[K/content/pi.c:\u001b[m\u001b[K In function ‘\u001b[01m\u001b[Kmain\u001b[m\u001b[K’:\n",
            "\u001b[01m\u001b[K/content/pi.c:21:5:\u001b[m\u001b[K \u001b[01;35m\u001b[Kwarning: \u001b[m\u001b[Kignoring return value of ‘\u001b[01m\u001b[Kscanf\u001b[m\u001b[K’, declared with attribute warn_unused_result [\u001b[01;35m\u001b[K-Wunused-result\u001b[m\u001b[K]\n",
            "   21 |     \u001b[01;35m\u001b[Kscanf(\"%d\", &intervals)\u001b[m\u001b[K;\n",
            "      |     \u001b[01;35m\u001b[K^~~~~~~~~~~~~~~~~~~~~~~\u001b[m\u001b[K\n"
          ]
        }
      ]
    },
    {
      "cell_type": "code",
      "source": [
        "!smpirun -np 256 -platform simgrid-template-smpi/cluster_crossbar.xml -hostfile simgrid-template-smpi/cluster_hostfile ./pi 10000"
      ],
      "metadata": {
        "colab": {
          "base_uri": "https://localhost:8080/"
        },
        "id": "RW_NeHc31nYx",
        "outputId": "36609516-4822-41f0-f00a-f80585465647"
      },
      "execution_count": null,
      "outputs": [
        {
          "output_type": "stream",
          "name": "stdout",
          "text": [
            "[0.000000] [xbt_cfg/INFO] Configuration change: Set 'smpi/privatization' to '1'\n",
            "[0.000000] [xbt_cfg/INFO] Configuration change: Set 'surf/precision' to '1e-9'\n",
            "[0.000000] [xbt_cfg/INFO] Configuration change: Set 'network/model' to 'SMPI'\n",
            "[0.000000] [smpi_kernel/INFO] You did not set the power of the host running the simulation.  The timings will certainly not be accurate.  Use the option \"--cfg=smpi/host-speed:<flops>\" to set its value.  Check https://simgrid.org/doc/latest/Configuring_SimGrid.html#automatic-benchmarking-of-smpi-code for more information.\n",
            "Number of intervals: 10000\n",
            "Result:   3.1414924933\n",
            "Accuracy: 0.0001001603\n",
            "Time:     0.0018145342\n"
          ]
        }
      ]
    },
    {
      "cell_type": "markdown",
      "source": [
        "O código é uma implementação paralela usando MPI para calcular uma aproximação do valor de π (pi) usando a fórmula da série de Leibniz. O objetivo é distribuir o cálculo entre vários processos para acelerar a computação.\n",
        "\n",
        "A parte dos `intervals` é responsável por receber a quantidade de intervalos a serem usados no cálculo da série de Leibniz. No código, é solicitado ao processo com `myid` igual a 0 que insira esse valor a partir do teclado. Em seguida, o valor de `intervals` é transmitido para todos os outros processos usando a função `MPI_Bcast`. Dessa forma, todos os processos terão o mesmo valor de `intervals` para calcular sua parte da série de Leibniz.\n",
        "\n",
        "A variável `count` é calculada dividindo o número total de intervalos (`intervals`) pela quantidade de processos (`processes`). Isso define quantos intervalos cada processo será responsável por calcular.\n",
        "\n",
        "A variável `start` representa o ponto de partida dos intervalos para cada processo. É calculada como `count * myid`, ou seja, o número de intervalos por processo multiplicado pelo ID do processo.\n",
        "\n",
        "A variável `end` representa o ponto final dos intervalos para cada processo. É calculada como `count * myid + count`, ou seja, o ponto de partida mais o número de intervalos que cada processo calculará.\n",
        "\n",
        "Em seguida, é realizado um loop de iteração de `start` até `end` para calcular a soma parcial da série de Leibniz. Cada processo realiza seu cálculo atribuído nessa parte da série.\n",
        "\n",
        "Após o loop, a função `MPI_Reduce` é usada para reduzir todas as somas parciais (`subtotal`) em uma única soma total (`total`) usando a operação de soma (`MPI_SUM`). O resultado final é armazenado no processo de rank 0.\n",
        "\n",
        "Por fim, o processo de rank 0 imprime o resultado aproximado de π, a diferença entre o valor calculado e o valor real de π e o tempo de execução.\n",
        "\n",
        "Essa implementação paralela permite que a computação seja distribuída entre vários processos, acelerando o cálculo da aproximação de π usando a série de Leibniz."
      ],
      "metadata": {
        "id": "uDv4VbW_2m4-"
      }
    },
    {
      "cell_type": "markdown",
      "source": [
        "### **EXERCÍCIO 3**\n",
        "\n",
        "Após o estudo de todas as primitivas de MPI realizadas até aqui, proponha o esquema de uma implementação para resolver o problema da mochila.\n",
        "\n",
        "**DESAFIO:** implemente o esquema em MPI."
      ],
      "metadata": {
        "id": "mB1dYK0x2z36"
      }
    },
    {
      "cell_type": "code",
      "source": [],
      "metadata": {
        "id": "m-Iuv6LE2A4k"
      },
      "execution_count": null,
      "outputs": []
    }
  ]
}