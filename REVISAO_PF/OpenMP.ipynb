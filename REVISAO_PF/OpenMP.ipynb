{
 "cells": [
  {
   "attachments": {},
   "cell_type": "markdown",
   "metadata": {},
   "source": [
    "# Revisão OPENMP"
   ]
  },
  {
   "attachments": {},
   "cell_type": "markdown",
   "metadata": {},
   "source": [
    "### COMO COMPILAR CÓDIGO\n",
    "\n",
    "```\n",
    "g++ -O3 -fopenmp <file_name> -o <file_name>\n",
    "```"
   ]
  },
  {
   "attachments": {},
   "cell_type": "markdown",
   "metadata": {},
   "source": [
    "### Comandos de configuração e identificação.\n",
    "\n",
    "``` C++\n",
    "omp_set_num_threads(int num_threads)    // Set num of available threads\n",
    "omp_get_num_threads()                   // Get num of threads currently executing\n",
    "omp_get_max_threads()                   // Get num of threads available for the program\n",
    "\n",
    "omp_get_thread_num()                    // Get num of thread that is executing \n",
    "omp_get_num_procs()                     // Get num of processors available\n",
    "\n",
    "omp_get_wtime()                         // return wall clock\n",
    "omp_get_wtick()                         // resolution of clock\n",
    "```\n",
    "\n",
    "### Configuração de variáveis compartilhadas\n",
    "\n",
    "``` C++\n",
    "#pragma omp parallel private(...)       // Váriavel é única para cada thread\n",
    "#pragma omp parallel shared(...)        // Váriavle é compartilhada com cada thread \n",
    "```\n",
    "\n",
    "### Configuração de semáforos\n",
    "``` C++ \n",
    "#pragma omp critical                    // Apenas uma thread pode processar esse bloco por vez\n",
    "```\n",
    "\n",
    "### Configurações de paralelização\n",
    "``` C++\n",
    "#pragma omp parallel                    // Bloco de operação paralela padrão\n",
    "#pragma omp parallel for                // Paralelização otimizada para for loops\n",
    "```\n",
    "\n",
    "### Configurações de tasks e master\n",
    "``` C++\n",
    "#pragma omp task                        // Tarefas são agendadas para rodar em cada thread de um bloco\n",
    "#pragma omp master                      // Tarefas \"mestre\" rodam apenas uma vez em na thread de índice 0\n",
    "``` "
   ]
  },
  {
   "attachments": {},
   "cell_type": "markdown",
   "metadata": {},
   "source": [
    "### Cálculo do PI com openMP"
   ]
  },
  {
   "cell_type": "code",
   "execution_count": null,
   "metadata": {},
   "outputs": [],
   "source": [
    "%%writefile pi_omp_task.cpp\n",
    "#include <omp.h>\n",
    "#include <iostream>\n",
    "#include <iomanip>\n",
    "static long num_steps = 1024l*1024*1024*2;\n",
    "\n",
    "#define MIN_BLK  1024*1024*256\n",
    "\n",
    "double sum = 0;\n",
    "\n",
    "void pi_r(long Nstart, long Nfinish, double step) {\n",
    "    long i,iblk;\n",
    "    #pragma omp parallel reduction(+ : sum)\n",
    "    {\n",
    "    if (Nfinish-Nstart < MIN_BLK){\n",
    "        for (i = Nstart; i < Nfinish; i++){\n",
    "            double x = (i+0.5)*step;\n",
    "            sum += 4.0/(1.0+x*x); \n",
    "        }\n",
    "    } else {\n",
    "            #pragma omp master\n",
    "            {\n",
    "                iblk = Nfinish-Nstart;\n",
    "                #pragma omp task\n",
    "                pi_r(Nstart,         Nfinish-iblk/2,step);\n",
    "                #pragma omp task\n",
    "                pi_r(Nfinish-iblk/2, Nfinish,       step);\n",
    "            }\n",
    "        }\n",
    "    }\n",
    "}\n",
    "\n",
    "int main () {\n",
    "    double step, pi;\n",
    "    double init_time, final_time;\n",
    "    step = 1.0/(double) num_steps;\n",
    "    init_time = omp_get_wtime();\n",
    "    pi_r(0, num_steps, step);\n",
    "    pi = step * sum;\n",
    "    final_time = omp_get_wtime() - init_time;\n",
    "\n",
    "    std::cout << \"for \" << num_steps << \" steps pi = \" << std::setprecision(15) << pi << \" in \" << final_time << \" secs\\n\";\n",
    "}\n"
   ]
  }
 ],
 "metadata": {
  "language_info": {
   "name": "python"
  },
  "orig_nbformat": 4
 },
 "nbformat": 4,
 "nbformat_minor": 2
}
