{
 "cells": [
  {
   "cell_type": "markdown",
   "metadata": {},
   "source": [
    "# 01 - Introdução a SuperComputação\n",
    "\n",
    "Como vimos na expositiva, uma solução de alto desempenho depende de três partes:\n",
    "\n",
    "1. algoritmos eficientes\n",
    "2. implementações eficientes\n",
    "3. paralelismo\n",
    "\n",
    "Na atividade de hoje vamos estudar o primeiro ponto e quantificar o efeito de algoritmos eficientes na resolução de um problema complexo. \n",
    "\n",
    "## Problemas estudados em SuperComputação\n",
    "\n",
    "Em Desafios de Programação conhecemos a classe dos problemas NP-completo, que são aqueles que acreditamos não existir nenhum algoritmo determinístico que os resolvem em tempo polinomial. Ou seja, são problemas importantes cuja solução é difícil. Em geral temos classes de algoritmos para resolvê-los:\n",
    "\n",
    "1. ótimos globais: algoritmo que encontra a solução \"correta\" do problema. \n",
    "2. ótimos locais: algoritmo que encontra uma solução \"boa\" e que não pode ser melhorada por pequenas modificações. \n",
    "3. aproximação: algoritmos que garantem estar \"perto o suficiente\" da solução ótima. Este tipo de algoritmo não nos interessa em SuperComputação.\n",
    "\n",
    "Iremos analisar hoje 4 executáveis que resolvem o problema do [Caixeiro Viajante](https://en.wikipedia.org/wiki/Travelling_salesman_problem). \n",
    "\n",
    "1. `busca-local-1` - implementação de um método de busca rápida, porém não ótima.\n",
    "1. `busca-local-1-par` - implementação paralela do programa acima.\n",
    "2. `busca-local-2` - implementação alternativa do mesmo método acima. Os resultados de ambos são idênticos.\n",
    "2. `busca-local-2-par` - implementação paralela do programa acima.\n",
    "\n",
    "!!! important \n",
    "    Não estamos interessados no Caixeiro Viajante em si hoje. Queremos é comparar diferentes maneiras de resolvê-lo para entendermos o papel de técnicas de SuperComputação na velocidade de processamento e nos resultados obtidos. \n",
    "\n",
    "\n",
    "## Ferramental\n",
    "\n",
    "Realizar testes de maneira automatizada é muito importante para quantificar os efeitos de diferentes algoritmos e técnicas de paralelismo. O snippet abaixo executa "
   ]
  },
  {
   "cell_type": "code",
   "execution_count": 14,
   "metadata": {
    "tags": []
   },
   "outputs": [
    {
     "name": "stdout",
     "output_type": "stream",
     "text": [
      "Saída: 232.234 0\n",
      "3 0 4 1 2 \n",
      "\n",
      "Stderr: \n",
      "Tempo total(s): 0.001811317999909079\n"
     ]
    }
   ],
   "source": [
    "import subprocess\n",
    "import time\n",
    "\n",
    "with open('entradas-busca-local/in-0.txt') as f:\n",
    "    start = time.perf_counter()\n",
    "    proc = subprocess.run(['./busca-local-1'], input=f.read(), text=True, capture_output=True)\n",
    "    end = time.perf_counter()\n",
    "\n",
    "    print('Saída:', proc.stdout)\n",
    "    print('Stderr:', proc.stderr)\n",
    "    print('Tempo total(s):', end - start)"
   ]
  },
  {
   "cell_type": "markdown",
   "metadata": {},
   "source": [
    "Vamos agora praticar usar este snippet para executar nossos testes automaticamente. \n",
    "\n",
    "!!! example\n",
    "\n",
    "    Crie uma função `roda_com_entrada(executavel, arquivo_in)` que roda o primeiro argumento usando como entrada o conteúdo do segundo argumento. Teste seu código com o executável `busca-local-1` e com o arquivo de entrada `in-0.txt` usado no exemplo acima.\n",
    "\n",
    "    Sua função deverá devolver uma tupla `(stdout,time)` com `stdout` sendo a saída do programa e `time` seu tempo de execução em segundos. "
   ]
  },
  {
   "cell_type": "code",
   "execution_count": 15,
   "metadata": {},
   "outputs": [],
   "source": [
    "# TODO: exercício aqui\n",
    "\n",
    "def roda_com_entrada(executavel, arquivo_in):\n",
    "    with open(f'entradas-busca-local/{arquivo_in}') as f:\n",
    "        start = time.perf_counter()\n",
    "        proc = subprocess.run([f'./{executavel}'], input=f.read(), text=True, capture_output=True)\n",
    "        end = time.perf_counter()\n",
    "        prog_stdout = proc.stdout\n",
    "        exec_time = end - start\n",
    "    return (prog_stdout, exec_time)"
   ]
  },
  {
   "cell_type": "code",
   "execution_count": 16,
   "metadata": {},
   "outputs": [
    {
     "name": "stdout",
     "output_type": "stream",
     "text": [
      "232.234 0\n",
      "3 0 4 1 2 \n",
      "\n",
      "Time to run:0.001897170999654918\n"
     ]
    }
   ],
   "source": [
    "output, run_time = roda_com_entrada('busca-local-1', 'in-0.txt')\n",
    "print(output)\n",
    "print(f'Time to run:{run_time}')"
   ]
  },
  {
   "cell_type": "markdown",
   "metadata": {},
   "source": [
    "## Algoritmos sequenciais\n",
    "\n",
    "Com esse código, vamos criar um relatório interativo que roda nossos testes automaticamente e já plota informações prontas para nossas análises. Vamos começar examinando o desempenho do executável `busca-local-1`.\n",
    "\n",
    "!!! example\n",
    "\n",
    "    Rode o `busca-local` com os arquivos de entrada na pasta `entradas-busca-local`. Guarde os tempos em uma lista.\n",
    "\n",
    "!!! example\n",
    "\n",
    "    Leia o tamanho das entradas dos arquivos  na pasta `entradas-busca-local` e guarde em uma segunda lista.\n",
    "\n",
    "!!! example \n",
    "\n",
    "    Plote o tempo de execução pelo tamanho da entrada usando `matplotlib`"
   ]
  },
  {
   "cell_type": "code",
   "execution_count": 18,
   "metadata": {},
   "outputs": [
    {
     "name": "stdout",
     "output_type": "stream",
     "text": [
      "[0.0033568600001672166, 0.0038018819996068487, 0.006399240999598987, 0.011889557000358764, 0.05936604199996509, 0.22535794599980363, 0.7439122549999411, 1.9415919019998, 4.4384302590001425, 9.430115401000421]\n"
     ]
    }
   ],
   "source": [
    "time_list_1 = []\n",
    "for i in range(10):\n",
    "    file_name = f'in-{i}.txt'\n",
    "    out, run_time = roda_com_entrada('busca-local-1', file_name)\n",
    "    time_list_1.append(run_time)\n",
    "\n",
    "print(time_list_1)"
   ]
  },
  {
   "cell_type": "code",
   "execution_count": 22,
   "metadata": {},
   "outputs": [
    {
     "name": "stdout",
     "output_type": "stream",
     "text": [
      "[5, 10, 15, 20, 30, 40, 50, 60, 70, 80]\n"
     ]
    }
   ],
   "source": [
    "list_num_cities = []\n",
    "for i in range(10):\n",
    "    file_name = f'in-{i}.txt'\n",
    "    with open(f'entradas-busca-local/{file_name}') as f:\n",
    "        first_line = f.readline()\n",
    "        list_num_cities.append(int(first_line))\n",
    "\n",
    "print(list_num_cities)"
   ]
  },
  {
   "cell_type": "code",
   "execution_count": 41,
   "metadata": {},
   "outputs": [
    {
     "ename": "ImportError",
     "evalue": "cannot import name '_path' from 'matplotlib' (/usr/lib/python3/dist-packages/matplotlib/__init__.py)",
     "output_type": "error",
     "traceback": [
      "\u001b[0;31m---------------------------------------------------------------------------\u001b[0m",
      "\u001b[0;31mImportError\u001b[0m                               Traceback (most recent call last)",
      "Cell \u001b[0;32mIn [41], line 1\u001b[0m\n\u001b[0;32m----> 1\u001b[0m \u001b[39mimport\u001b[39;00m \u001b[39mmatplotlib\u001b[39;00m\u001b[39m.\u001b[39;00m\u001b[39mpyplot\u001b[39;00m \u001b[39mas\u001b[39;00m \u001b[39mplt\u001b[39;00m\n\u001b[1;32m      3\u001b[0m plt\u001b[39m.\u001b[39mplot(list_num_cities, time_list_1)\n\u001b[1;32m      4\u001b[0m plt\u001b[39m.\u001b[39mshow()\n",
      "File \u001b[0;32m/usr/lib/python3/dist-packages/matplotlib/pyplot.py:32\u001b[0m\n\u001b[1;32m     30\u001b[0m \u001b[39mfrom\u001b[39;00m \u001b[39mcycler\u001b[39;00m \u001b[39mimport\u001b[39;00m cycler\n\u001b[1;32m     31\u001b[0m \u001b[39mimport\u001b[39;00m \u001b[39mmatplotlib\u001b[39;00m\n\u001b[0;32m---> 32\u001b[0m \u001b[39mimport\u001b[39;00m \u001b[39mmatplotlib\u001b[39;00m\u001b[39m.\u001b[39;00m\u001b[39mcolorbar\u001b[39;00m\n\u001b[1;32m     33\u001b[0m \u001b[39mimport\u001b[39;00m \u001b[39mmatplotlib\u001b[39;00m\u001b[39m.\u001b[39;00m\u001b[39mimage\u001b[39;00m\n\u001b[1;32m     34\u001b[0m \u001b[39mfrom\u001b[39;00m \u001b[39mmatplotlib\u001b[39;00m \u001b[39mimport\u001b[39;00m rcsetup, style\n",
      "File \u001b[0;32m/usr/lib/python3/dist-packages/matplotlib/colorbar.py:27\u001b[0m\n\u001b[1;32m     24\u001b[0m \u001b[39mimport\u001b[39;00m \u001b[39mnumpy\u001b[39;00m \u001b[39mas\u001b[39;00m \u001b[39mnp\u001b[39;00m\n\u001b[1;32m     26\u001b[0m \u001b[39mimport\u001b[39;00m \u001b[39mmatplotlib\u001b[39;00m \u001b[39mas\u001b[39;00m \u001b[39mmpl\u001b[39;00m\n\u001b[0;32m---> 27\u001b[0m \u001b[39mimport\u001b[39;00m \u001b[39mmatplotlib\u001b[39;00m\u001b[39m.\u001b[39;00m\u001b[39martist\u001b[39;00m \u001b[39mas\u001b[39;00m \u001b[39mmartist\u001b[39;00m\n\u001b[1;32m     28\u001b[0m \u001b[39mimport\u001b[39;00m \u001b[39mmatplotlib\u001b[39;00m\u001b[39m.\u001b[39;00m\u001b[39mcbook\u001b[39;00m \u001b[39mas\u001b[39;00m \u001b[39mcbook\u001b[39;00m\n\u001b[1;32m     29\u001b[0m \u001b[39mimport\u001b[39;00m \u001b[39mmatplotlib\u001b[39;00m\u001b[39m.\u001b[39;00m\u001b[39mcollections\u001b[39;00m \u001b[39mas\u001b[39;00m \u001b[39mcollections\u001b[39;00m\n",
      "File \u001b[0;32m/usr/lib/python3/dist-packages/matplotlib/artist.py:13\u001b[0m\n\u001b[1;32m     11\u001b[0m \u001b[39mimport\u001b[39;00m \u001b[39mmatplotlib\u001b[39;00m\n\u001b[1;32m     12\u001b[0m \u001b[39mfrom\u001b[39;00m \u001b[39m.\u001b[39;00m \u001b[39mimport\u001b[39;00m cbook, docstring, rcParams\n\u001b[0;32m---> 13\u001b[0m \u001b[39mfrom\u001b[39;00m \u001b[39m.\u001b[39;00m\u001b[39mpath\u001b[39;00m \u001b[39mimport\u001b[39;00m Path\n\u001b[1;32m     14\u001b[0m \u001b[39mfrom\u001b[39;00m \u001b[39m.\u001b[39;00m\u001b[39mtransforms\u001b[39;00m \u001b[39mimport\u001b[39;00m (Bbox, IdentityTransform, Transform, TransformedBbox,\n\u001b[1;32m     15\u001b[0m                          TransformedPatchPath, TransformedPath)\n\u001b[1;32m     17\u001b[0m _log \u001b[39m=\u001b[39m logging\u001b[39m.\u001b[39mgetLogger(\u001b[39m__name__\u001b[39m)\n",
      "File \u001b[0;32m/usr/lib/python3/dist-packages/matplotlib/path.py:17\u001b[0m\n\u001b[1;32m     13\u001b[0m \u001b[39mfrom\u001b[39;00m \u001b[39mweakref\u001b[39;00m \u001b[39mimport\u001b[39;00m WeakValueDictionary\n\u001b[1;32m     15\u001b[0m \u001b[39mimport\u001b[39;00m \u001b[39mnumpy\u001b[39;00m \u001b[39mas\u001b[39;00m \u001b[39mnp\u001b[39;00m\n\u001b[0;32m---> 17\u001b[0m \u001b[39mfrom\u001b[39;00m \u001b[39m.\u001b[39;00m \u001b[39mimport\u001b[39;00m _path, cbook, rcParams\n\u001b[1;32m     18\u001b[0m \u001b[39mfrom\u001b[39;00m \u001b[39m.\u001b[39;00m\u001b[39mcbook\u001b[39;00m \u001b[39mimport\u001b[39;00m _to_unmasked_float_array, simple_linear_interpolation\n\u001b[1;32m     21\u001b[0m \u001b[39mclass\u001b[39;00m \u001b[39mPath\u001b[39;00m(\u001b[39mobject\u001b[39m):\n",
      "\u001b[0;31mImportError\u001b[0m: cannot import name '_path' from 'matplotlib' (/usr/lib/python3/dist-packages/matplotlib/__init__.py)"
     ]
    }
   ],
   "source": [
    "import matplotlib.pyplot as plt\n",
    "\n",
    "plt.plot(list_num_cities, time_list_1)\n",
    "plt.show()"
   ]
  },
  {
   "cell_type": "markdown",
   "metadata": {},
   "source": [
    "!!! example\n",
    "    Repita os três passos acima para o executável `busca-local-2`. Finalize plotando os tempos de execução de ambos os executáveis no mesmo gráfico."
   ]
  },
  {
   "cell_type": "code",
   "execution_count": 20,
   "metadata": {},
   "outputs": [
    {
     "name": "stdout",
     "output_type": "stream",
     "text": [
      "[0.0019393679999666347, 0.001651413999752549, 0.002018992999637703, 0.004893113999969501, 0.022746963999907166, 0.06735751699989123, 0.17014843200013274, 0.35931483900003514, 0.764851696000278, 1.2623297170002843]\n"
     ]
    }
   ],
   "source": [
    "time_list_2 = []\n",
    "for i in range(10):\n",
    "    file_name = f'in-{i}.txt'\n",
    "    out, run_time = roda_com_entrada('busca-local-2', file_name)\n",
    "    time_list_2.append(run_time)\n",
    "\n",
    "print(time_list_2)\n"
   ]
  },
  {
   "cell_type": "markdown",
   "metadata": {},
   "source": [
    "!!! example\n",
    "    Segundo uma coleta de dados informal e altamente confiável, 93,17% dos alunos não colocam legendas nem títulos nos gráficos gerados. Faça isso agora. "
   ]
  },
  {
   "cell_type": "code",
   "execution_count": null,
   "metadata": {},
   "outputs": [],
   "source": []
  },
  {
   "cell_type": "markdown",
   "metadata": {},
   "source": [
    "!!! question medium\n",
    "\n",
    "    Interprete o gráfico que você gerou na linha de cima. \n",
    "\n",
    "!!! question medium\n",
    "    Compare manualmente a saída dos programas. Existe diferença em seus resultados?\n",
    "\n",
    "!!! question medium \n",
    "    Resgate seus conhecimentos de Desafios de Programação e explique a diferença entre os algoritmos.\n",
    "\n",
    "\n",
    "## Algoritmos paralelos\n",
    "\n",
    "Na discussão inicial da expositiva chegamos à conclusão de que se conseguimos realizar *N* operações em paralelo teremos um ganho de no máximo *N* vezes no desempenho de nosso programa. Nesta parte iremos estudar esta afirmação usando implementações paralelas dos algoritmos da seção anterior. \n",
    "\n",
    "!!! example\n",
    "    Execute os algoritmos paralelos com as mesmas entradas e compare com suas versões paralelas. Use um gráfico para facilitar as comparações"
   ]
  },
  {
   "cell_type": "code",
   "execution_count": null,
   "metadata": {},
   "outputs": [],
   "source": []
  },
  {
   "cell_type": "markdown",
   "metadata": {},
   "source": [
    "!!! question medium\n",
    "    Compare os tempos obtidos. Qual foi o ganho médio? Quantos *núcleos* a máquina que você está usando possui? Responda comparando cada algoritmo sequencial com sua versão paralela.\n",
    "\n",
    "Já estabelecemos que `busca-local-2` é melhor que `busca-local-1` por ser utilizar um algoritmo mais eficiente e vimos na prática a diferença entre um algoritmo $O(n^3)$ e um algoritmo $O(n^2)$. Vamos agora examinar a seguinte questão.\n",
    "\n",
    "!!! cite \"É possível usar paralelismo para tornar `busca-local-1-par` melhor que `busca-local-2`?\"\n",
    "\n",
    "!!! example\n",
    "    Compare o desempenho de `busca-local-1-par` com `busca-local-2`. Faça um gráfico"
   ]
  },
  {
   "cell_type": "code",
   "execution_count": null,
   "metadata": {},
   "outputs": [],
   "source": []
  },
  {
   "cell_type": "markdown",
   "metadata": {},
   "source": [
    "!!! question medium\n",
    "    Com base em seu gráfico acima, responda a pergunta: \"É possível usar paralelismo para tornar busca-local-1-par melhor que busca-local-2?\"\n",
    "\n",
    "Vamos agora generalizar a pergunta:\n",
    "\n",
    "!!! question medium\n",
    "    Dados dois algoritmos com complexidades computacionais diferentes, sendo que o primeiro é inferior ao segundo. É possível usar paralelismo para tornar o primeiro mais rápido que o segundo para todos tamanhos de entrada? Assuma que você possui um número fixo de *núcleos*. \n"
   ]
  }
 ],
 "metadata": {
  "kernelspec": {
   "display_name": "Python 3.10.8 64-bit",
   "language": "python",
   "name": "python3"
  },
  "language_info": {
   "codemirror_mode": {
    "name": "ipython",
    "version": 3
   },
   "file_extension": ".py",
   "mimetype": "text/x-python",
   "name": "python",
   "nbconvert_exporter": "python",
   "pygments_lexer": "ipython3",
   "version": "3.10.8"
  },
  "vscode": {
   "interpreter": {
    "hash": "916dbcbb3f70747c44a77c7bcd40155683ae19c65e1c03b4aa3499c5328201f1"
   }
  }
 },
 "nbformat": 4,
 "nbformat_minor": 4
}
